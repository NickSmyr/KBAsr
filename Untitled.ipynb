{
 "cells": [
  {
   "cell_type": "code",
   "execution_count": 27,
   "id": "73adfe4f-7856-4894-afe9-82d693b34c2c",
   "metadata": {},
   "outputs": [],
   "source": [
    "from loadfile import *\n",
    "from phonemes import *\n",
    "from preprocess import *\n",
    "from evaluate import *\n",
    "from google_kb_z_speaker.main import *\n",
    "from tqdm.auto import tqdm\n",
    "from experiment_helpers import *"
   ]
  },
  {
   "cell_type": "markdown",
   "id": "c79ecb93-1a0f-4157-b531-a3bcd91bf4f0",
   "metadata": {
    "tags": []
   },
   "source": [
    "# Text processing"
   ]
  },
  {
   "cell_type": "code",
   "execution_count": 28,
   "id": "b076c8c5-bd8e-4b95-af47-781ba8bcb63b",
   "metadata": {},
   "outputs": [],
   "source": [
    "# Speaker\n",
    "speakers = [\"z21\", \"z20\", \"z28\", \"z29\" ]\n",
    "google_fnames = [ f\"transcriptions_new/{s}.googleasr\"  for s in speakers]\n",
    "correct_fnames = [f\"transcriptions_new/{s}.correct\" for s in speakers]\n",
    "kb_fnames = [f\"transcriptions_new/{s}.kb\" for s in speakers]\n",
    "\n",
    "google_lines = [get_fname_lines(fname) for fname in google_fnames]\n",
    "correct_lines = [get_fname_lines(fname) for fname in correct_fnames]\n",
    "kb_lines = [get_fname_lines(fname) for fname in kb_fnames]\n",
    "\n",
    "[fix_lines(*model) for model in zip(correct_lines, google_lines, kb_lines)]\n",
    "\n",
    "google_lines = reduce(lambda x,y : x + y, google_lines)\n",
    "correct_lines = reduce(lambda x,y : x + y, correct_lines )\n",
    "kb_lines = reduce(lambda x,y : x + y, kb_lines)\n",
    "\n",
    "google_lines = transcriptions(google_lines)\n",
    "correct_lines = transcriptions(correct_lines)\n",
    "kb_lines = transcriptions(kb_lines)\n",
    "\n",
    "google_lines = [preprocess_text(x) for x in google_lines]\n",
    "correct_lines = [preprocess_text(x) for x in correct_lines]\n",
    "kb_lines = [preprocess_text(x) for x in kb_lines]\n",
    "\n",
    "text_data_bunch = [google_lines, correct_lines, kb_lines]\n",
    "phonemizer= init_phonemizer(\"cuda\", \"./models/deep-phonemizer-se.pt\")"
   ]
  },
  {
   "cell_type": "code",
   "execution_count": 29,
   "id": "74c0d417-abd3-4d0d-9a37-b418b7e2ee60",
   "metadata": {},
   "outputs": [],
   "source": [
    "#for x in idxs:\n",
    "#    print(\"=====\")\n",
    "#    print(google_lines[x])\n",
    "#    print(correct_lines[x])\n",
    "#    print(kb_lines[x])"
   ]
  },
  {
   "cell_type": "code",
   "execution_count": 30,
   "id": "13d7db5b-091b-49dd-977d-3c53302205dc",
   "metadata": {},
   "outputs": [],
   "source": [
    "def singular_phonemes(txt : str):\n",
    "    \"\"\"\n",
    "    Creates a list of singular phonemes from the\n",
    "    output of get_swedish_phonemes\n",
    "    \"\"\"\n",
    "    return txt.replace(\"_\", \" \").split()\n",
    "def set_of_all_phonemes(google_lines, correct_lines, kb_lines):\n",
    "    phonemes_set = set()\n",
    "    for g,c,kb in zip(google_lines, correct_lines, kb_lines):\n",
    "        phonemes_set.update(singular_phonemes(g))\n",
    "        phonemes_set.update(singular_phonemes(c))\n",
    "        phonemes_set.update(singular_phonemes(kb))\n",
    "    return phonemes_set\n",
    "def singular_phonemes_preprocess(google_lines, correct_lines, kb_lines):\n",
    "    st = set_of_all_phonemes(google_lines, correct_lines, kb_lines)\n",
    "    mapping = w2id(\" \".join(st))\n",
    "    \n",
    "    def line2singular_phonemes_str(x):\n",
    "        sp = singular_phonemes(x)\n",
    "        #enc = encode_txt(\" \".join(sp), mapping)\n",
    "        #return enc\n",
    "        return \" \".join(sp)\n",
    "    \n",
    "    id2w = {v :k for k,v in mapping.items()}\n",
    "    return [\n",
    "        [line2singular_phonemes_str(x) for x in google_lines],\n",
    "        [line2singular_phonemes_str(x) for x in correct_lines],\n",
    "        [line2singular_phonemes_str(x) for x in kb_lines],\n",
    "        mapping,id2w\n",
    "    ]"
   ]
  },
  {
   "cell_type": "markdown",
   "id": "e14fe72b-af55-497e-85cd-596096dd32a3",
   "metadata": {},
   "source": [
    "# Experiments"
   ]
  },
  {
   "cell_type": "code",
   "execution_count": 31,
   "id": "eda92834-b258-4bcc-b249-aa01f6fd4255",
   "metadata": {},
   "outputs": [],
   "source": [
    "def evaluate_lines(google_lines,correct_lines,kb_lines, _filter=None, phoneme_words=False, singular_phonemes=False, preprocess_hook=None): \n",
    "    if phoneme_words:\n",
    "        google_lines = [preprocess_phonemes(get_swedish_phonemes(x, phonemizer))\n",
    "                for x in tqdm(google_lines)]\n",
    "        correct_lines = [preprocess_phonemes(get_swedish_phonemes(x, phonemizer))\n",
    "                         for x in tqdm(correct_lines)]\n",
    "        kb_lines = [preprocess_phonemes(get_swedish_phonemes(x, phonemizer))\n",
    "                    for x in tqdm(kb_lines)]\n",
    "    if singular_phonemes:\n",
    "        google_lines = [get_swedish_phonemes(x, phonemizer)\n",
    "                    for x in tqdm(google_lines)]\n",
    "        correct_lines = [get_swedish_phonemes(x, phonemizer)\n",
    "                         for x in tqdm(correct_lines)]\n",
    "        kb_lines = [get_swedish_phonemes(x, phonemizer)\n",
    "                    for x in tqdm(kb_lines)]\n",
    "        google_lines, correct_lines, kb_lines, mapping,id2w = singular_phonemes_preprocess(google_lines, correct_lines, kb_lines)\n",
    "\n",
    "    if _filter is not None:\n",
    "        if len(_filter) == 1 and \"agreement\" in _filter:\n",
    "            correct_lines, google_lines, kb_lines = filter_lines_only_on_agreement(correct_lines, google_lines,\n",
    "                                                                                kb_lines, _filter[\"agreement\"])\n",
    "        else:\n",
    "            correct_lines, google_lines, kb_lines = filter_lines(correct_lines,google_lines,\n",
    "                                                               kb_lines,**_filter)\n",
    "\n",
    "    filter_bunch = [google_lines, correct_lines, kb_lines]\n",
    "    \n",
    "    kei = 0\n",
    "    oei = 0\n",
    "    gei = 0\n",
    "    tei = 0\n",
    "\n",
    "    for c_l, g_l, kb_l in zip(correct_lines, google_lines, kb_lines):\n",
    "        g_s = set(error_idxs(c_l, g_l))\n",
    "        k_s = set(error_idxs(c_l, kb_l))\n",
    "\n",
    "        gei += len(g_s)\n",
    "        kei += len(k_s)\n",
    "        oei += len(g_s & k_s)\n",
    "        tei += len(g_s | k_s)\n",
    "\n",
    "    error_index_overlap = oei / tei\n",
    "   \n",
    "    agreement, g_correct_kb_not, kb_correct_g_not, agreement_not_correct, agreement_correct,\\\n",
    "    both_incorrect_disagreement =\\\n",
    "        percentage_of_agreement(correct_lines, google_lines, kb_lines)\n",
    "\n",
    "    if preprocess_hook is not None:\n",
    "        preprocess_hook(**locals())\n",
    "    return {\n",
    "        \"google_wer\" : wer(correct_lines, google_lines),\n",
    "        \"kb_wer\" : wer(correct_lines, kb_lines),\n",
    "        \"agreement\" : agreement,\n",
    "        \"g_correct_kb_not \" : g_correct_kb_not,\n",
    "        \"kb_correct_g_not \" : kb_correct_g_not,\n",
    "        \"agreement_not_correct\" :  agreement_not_correct,\n",
    "        \"both_incorrect_disagreement\" : both_incorrect_disagreement,\n",
    "        \"error_index_overlap\": error_index_overlap\n",
    "    }"
   ]
  },
  {
   "cell_type": "code",
   "execution_count": 32,
   "id": "44703536-62e8-4a08-b378-c3bc4ece4b63",
   "metadata": {},
   "outputs": [],
   "source": [
    "lines = []\n",
    "def locate_empty_lines(**kwargs):\n",
    "    g = kwargs[\"google_lines\"]\n",
    "    c = kwargs[\"correct_lines\"]\n",
    "    k = kwargs[\"kb_lines\"]\n",
    "    for i, (gi, ci, ki) in enumerate(zip(g,c,k)):\n",
    "        #print([id2w[x] for x in ci])\n",
    "        #print(type(c), type(ci))\n",
    "        if ci == \"\":\n",
    "            lines.append((i,(gi,ci,ki)))\n",
    "    print(\"lines \", lines)\n",
    "    return lines\n",
    "        "
   ]
  },
  {
   "cell_type": "code",
   "execution_count": 33,
   "id": "0cfc0648-9b03-47c6-981f-80981c88c486",
   "metadata": {},
   "outputs": [
    {
     "data": {
      "text/plain": [
       "'ja det har jag också startat'"
      ]
     },
     "execution_count": 33,
     "metadata": {},
     "output_type": "execute_result"
    }
   ],
   "source": [
    "google_lines[0]"
   ]
  },
  {
   "cell_type": "code",
   "execution_count": 38,
   "id": "191a6738-3c8e-4694-a138-b2108ae42a25",
   "metadata": {},
   "outputs": [
    {
     "data": {
      "text/plain": [
       "['transcriptions_new/z21.googleasr',\n",
       " 'transcriptions_new/z20.googleasr',\n",
       " 'transcriptions_new/z28.googleasr',\n",
       " 'transcriptions_new/z29.googleasr']"
      ]
     },
     "execution_count": 38,
     "metadata": {},
     "output_type": "execute_result"
    }
   ],
   "source": [
    "google_fnames"
   ]
  },
  {
   "cell_type": "code",
   "execution_count": 34,
   "id": "0542fef7-6bf4-440c-898d-7ec329e32aab",
   "metadata": {},
   "outputs": [
    {
     "data": {
      "application/vnd.jupyter.widget-view+json": {
       "model_id": "93b3c28b89664407bafb92039b40ea50",
       "version_major": 2,
       "version_minor": 0
      },
      "text/plain": [
       "  0%|          | 0/5 [00:00<?, ?it/s]"
      ]
     },
     "metadata": {},
     "output_type": "display_data"
    },
    {
     "name": "stdout",
     "output_type": "stream",
     "text": [
      "google_wer: 0.1983669548511047±0.0\n",
      "kb_wer: 0.19132244636567403±0.0\n",
      "agreement: 0.36553238199780463±0.0\n",
      "g_correct_kb_not : 0.2768166089965398±0.0\n",
      "kb_correct_g_not : 0.15051903114186851±0.0\n",
      "agreement_not_correct: 0.0990990990990991±0.0\n",
      "both_incorrect_disagreement: 0.5726643598615917±0.0\n",
      "error_index_overlap: 0.30330982094411285±0.0\n"
     ]
    }
   ],
   "source": [
    "experiment = evaluate_lines\n",
    "kwargs = {\n",
    "    \"_filter\": None, \n",
    "    \"phoneme_words\" : False,\n",
    "    \"singular_phonemes\" : False,\n",
    "    \"preprocess_hook\" : None\n",
    "}\n",
    "res = experiment_repeats(experiment, 5, google_lines,correct_lines, kb_lines, **kwargs)\n",
    "print_experiment_report(res)"
   ]
  },
  {
   "cell_type": "code",
   "execution_count": null,
   "id": "cc4b62eb-b0c5-432c-96f0-41ba1b3077e7",
   "metadata": {},
   "outputs": [],
   "source": [
    "idx = 43\n",
    "size = 10\n",
    "def get_triad(idx, bunch):\n",
    "    #### Google, correct, Kb\n",
    "    return bunch[0][idx], bunch[1][idx], bunch[2][idx]\n",
    "\n",
    "def plot_triad(triad,ax):\n",
    "    ax.text(0.0, 0.0, triad[0], size=size, rotation=0,\n",
    "             ha=\"center\", va=\"center\",\n",
    "             bbox=dict(boxstyle=\"round\",\n",
    "                       ec=(1., 0.5, 0.5),\n",
    "                       fc=(1., 0.8, 0.8),\n",
    "                       )\n",
    "             )\n",
    "\n",
    "    ax.text(0, -2.5,  triad[2], size=size, rotation=0,\n",
    "             ha=\"center\", va=\"center\",\n",
    "             bbox=dict(boxstyle=\"round\",\n",
    "                       ec=(153/255, 51/255, 0/255),\n",
    "                       fc=(255/255, 153/255, 102/255),\n",
    "                       )\n",
    "             )\n",
    "    ax.text(0, -5,  triad[1], size=size, rotation=0,\n",
    "             ha=\"center\", va=\"center\",\n",
    "             bbox=dict(boxstyle=\"round\",\n",
    "                       ec=(42 / 255, 162 / 255, 42 / 255),\n",
    "                       fc=(133 / 255, 224 / 255, 133 / 255),\n",
    "                       )\n",
    "             )\n",
    "    \n",
    "    ax.set_ylim(-10, 10)\n",
    "    ax.set_xlim(-10, 10)"
   ]
  },
  {
   "cell_type": "code",
   "execution_count": null,
   "id": "90647867-c260-4671-b7d0-b1bebda24381",
   "metadata": {},
   "outputs": [],
   "source": [
    "fig, axs = plt.subplots(1,2, figsize=(15, 5))\n",
    "idx = 0\n",
    "plot_triad(get_triad(idx, text_data_bunch) ,axs[0])\n",
    "plot_triad(get_triad(idx, phoneme_data_bunch) ,axs[1])"
   ]
  },
  {
   "cell_type": "code",
   "execution_count": null,
   "id": "1fd64d48-f7c6-422f-bc1e-21f8924c3cd3",
   "metadata": {},
   "outputs": [],
   "source": [
    "\n",
    "def print_triad_correctness(triad):\n",
    "    #### Google, correct, Kb\n",
    "    print(\"Google correct \", triad[1] == triad[0])\n",
    "    print(\"KB correct \", triad[1] == triad[2])\n",
    "    print(\"Agreement \", triad[0] == triad[2])\n",
    "    \n",
    "    print(\"Google WER \", wer(triad[1], triad[0]))\n",
    "    print(\"KB WER \", wer(triad[1], triad[2]))"
   ]
  }
 ],
 "metadata": {
  "kernelspec": {
   "display_name": "Python 3 (ipykernel)",
   "language": "python",
   "name": "python3"
  },
  "language_info": {
   "codemirror_mode": {
    "name": "ipython",
    "version": 3
   },
   "file_extension": ".py",
   "mimetype": "text/x-python",
   "name": "python",
   "nbconvert_exporter": "python",
   "pygments_lexer": "ipython3",
   "version": "3.8.12"
  }
 },
 "nbformat": 4,
 "nbformat_minor": 5
}
