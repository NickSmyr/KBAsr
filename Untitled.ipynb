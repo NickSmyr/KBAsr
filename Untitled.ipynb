{
 "cells": [
  {
   "cell_type": "code",
   "execution_count": 13,
   "id": "3d09a77a-3354-49d7-bc51-8e42fd41e1bc",
   "metadata": {},
   "outputs": [],
   "source": [
    "from loadfile import *\n",
    "from phonemes import *\n",
    "from preprocess import *\n",
    "from evaluate import *\n",
    "from google_kb_z_speaker.main import *\n",
    "from tqdm.auto import tqdm\n",
    "\n",
    "# Speaker\n",
    "speakers = [\"z21\", \"z20\", \"z28\", \"z29\" ]\n",
    "google_fnames = [ f\"transcriptions/{s}.googleasr\"  for s in speakers]\n",
    "correct_fnames = [f\"transcriptions/{s}.correct\" for s in speakers]\n",
    "kb_fnames = [f\"transcriptions/{s}.kb\" for s in speakers]\n",
    "\n",
    "google_lines = [get_fname_lines(fname) for fname in google_fnames]\n",
    "correct_lines = [get_fname_lines(fname) for fname in correct_fnames]\n",
    "kb_lines = [get_fname_lines(fname) for fname in kb_fnames]\n",
    "\n",
    "[fix_lines(*model) for model in zip(correct_lines, google_lines, kb_lines)]\n",
    "\n",
    "google_lines = reduce(lambda x,y : x + y, google_lines)\n",
    "correct_lines = reduce(lambda x,y : x + y, correct_lines )\n",
    "kb_lines = reduce(lambda x,y : x + y, kb_lines)\n",
    "\n",
    "google_lines = transcriptions(google_lines)\n",
    "correct_lines = transcriptions(correct_lines)\n",
    "kb_lines = transcriptions(kb_lines)\n",
    "\n",
    "google_lines = [preprocess_text(x) for x in google_lines]\n",
    "correct_lines = [preprocess_text(x) for x in correct_lines]\n",
    "kb_lines = [preprocess_text(x) for x in kb_lines]\n",
    "\n",
    "text_data_bunch = [google_lines, correct_lines, kb_lines] "
   ]
  },
  {
   "cell_type": "code",
   "execution_count": 14,
   "id": "c46f6bdd-a0d1-4d80-bcfa-c1914393d3a9",
   "metadata": {},
   "outputs": [
    {
     "data": {
      "application/vnd.jupyter.widget-view+json": {
       "model_id": "4f79e6655f35406aa9b5e7778d05695c",
       "version_major": 2,
       "version_minor": 0
      },
      "text/plain": [
       "  0%|          | 0/911 [00:00<?, ?it/s]"
      ]
     },
     "metadata": {},
     "output_type": "display_data"
    },
    {
     "data": {
      "application/vnd.jupyter.widget-view+json": {
       "model_id": "ef3c586fbebe4d189dbf88e60b7a1b15",
       "version_major": 2,
       "version_minor": 0
      },
      "text/plain": [
       "  0%|          | 0/911 [00:00<?, ?it/s]"
      ]
     },
     "metadata": {},
     "output_type": "display_data"
    },
    {
     "data": {
      "application/vnd.jupyter.widget-view+json": {
       "model_id": "0199e892e35e48d6948d2ef25426fcc6",
       "version_major": 2,
       "version_minor": 0
      },
      "text/plain": [
       "  0%|          | 0/911 [00:00<?, ?it/s]"
      ]
     },
     "metadata": {},
     "output_type": "display_data"
    }
   ],
   "source": [
    "phonemizer = init_phonemizer(\"cuda\", \"./models/deep-phonemizer-se.pt\")\n",
    "\n",
    "google_lines = [preprocess_phonemes(get_swedish_phonemes(x, phonemizer))\n",
    "                for x in tqdm(google_lines)]\n",
    "correct_lines = [preprocess_phonemes(get_swedish_phonemes(x, phonemizer))\n",
    "                 for x in tqdm(correct_lines)]\n",
    "kb_lines = [preprocess_phonemes(get_swedish_phonemes(x, phonemizer))\n",
    "            for x in tqdm(kb_lines)]\n",
    "phoneme_data_bunch = [google_lines, correct_lines, kb_lines] "
   ]
  },
  {
   "cell_type": "code",
   "execution_count": 38,
   "id": "d435a23a-681f-4757-bfbd-17832442ddc6",
   "metadata": {},
   "outputs": [
    {
     "name": "stdout",
     "output_type": "stream",
     "text": [
      "====== Builtin WER =======\n",
      "Google WER :  0.3281985451433462\n",
      "KB WER :  0.29781771501925547\n",
      "====== Agreement =======\n",
      "====== Error indexes =======\n",
      "Error index overlap  0.4910025706940874\n"
     ]
    },
    {
     "ename": "ZeroDivisionError",
     "evalue": "division by zero",
     "output_type": "error",
     "traceback": [
      "\u001b[0;31m---------------------------------------------------------------------------\u001b[0m",
      "\u001b[0;31mZeroDivisionError\u001b[0m                         Traceback (most recent call last)",
      "Input \u001b[0;32mIn [38]\u001b[0m, in \u001b[0;36m<cell line: 38>\u001b[0;34m()\u001b[0m\n\u001b[1;32m     33\u001b[0m error_index_overlap \u001b[38;5;241m=\u001b[39m oei \u001b[38;5;241m/\u001b[39m tei\n\u001b[1;32m     34\u001b[0m \u001b[38;5;28mprint\u001b[39m(\u001b[38;5;124m\"\u001b[39m\u001b[38;5;124mError index overlap \u001b[39m\u001b[38;5;124m\"\u001b[39m, error_index_overlap)\n\u001b[1;32m     36\u001b[0m agreement, g_correct_kb_not, kb_correct_g_not, agreement_not_correct, agreement_correct,\\\n\u001b[1;32m     37\u001b[0m both_incorrect_disagreement \u001b[38;5;241m=\u001b[39m\\\n\u001b[0;32m---> 38\u001b[0m     \u001b[43mpercentage_of_agreement\u001b[49m\u001b[43m(\u001b[49m\u001b[43mcorrect_lines\u001b[49m\u001b[43m,\u001b[49m\u001b[43m \u001b[49m\u001b[43mgoogle_lines\u001b[49m\u001b[43m,\u001b[49m\u001b[43m \u001b[49m\u001b[43mkb_lines\u001b[49m\u001b[43m)\u001b[49m\n\u001b[1;32m     39\u001b[0m \u001b[38;5;28mprint\u001b[39m(\u001b[38;5;124m\"\u001b[39m\u001b[38;5;124mAgreement \u001b[39m\u001b[38;5;124m\"\u001b[39m, agreement)\n\u001b[1;32m     40\u001b[0m \u001b[38;5;28mprint\u001b[39m(\u001b[38;5;124m\"\u001b[39m\u001b[38;5;124mg_correct_kb_not \u001b[39m\u001b[38;5;124m\"\u001b[39m , g_correct_kb_not)\n",
      "File \u001b[0;32m~/PycharmProjects/speechTech/google_kb_z_speaker/main.py:173\u001b[0m, in \u001b[0;36mpercentage_of_agreement\u001b[0;34m(correct_lines, google_lines, kb_lines)\u001b[0m\n\u001b[1;32m    170\u001b[0m         \u001b[38;5;28;01melse\u001b[39;00m:\n\u001b[1;32m    171\u001b[0m             both_incorrect_disagreement \u001b[38;5;241m+\u001b[39m\u001b[38;5;241m=\u001b[39m \u001b[38;5;241m1\u001b[39m\n\u001b[0;32m--> 173\u001b[0m agreement_not_correct \u001b[38;5;241m/\u001b[39m\u001b[38;5;241m=\u001b[39m count_agreement\n\u001b[1;32m    174\u001b[0m agreement_correct \u001b[38;5;241m/\u001b[39m\u001b[38;5;241m=\u001b[39m count_agreement\n\u001b[1;32m    177\u001b[0m g_correct_kb_not \u001b[38;5;241m/\u001b[39m\u001b[38;5;241m=\u001b[39m count_disagreement\n",
      "\u001b[0;31mZeroDivisionError\u001b[0m: division by zero"
     ]
    }
   ],
   "source": [
    "# Get the lines from the words\n",
    "google_lines, correct_lines, kb_lines = phoneme_data_bunch\n",
    "filter = {\n",
    "    \"agreement\" : False,\n",
    "    \"kb_correct\" : False,\n",
    "    \"g_correct\" : False\n",
    "}\n",
    "correct_lines, google_lines, kb_lines = filter_lines(correct_lines,google_lines,\n",
    "                                                   kb_lines,**filter)\n",
    "#correct_lines, google_lines, kb_lines = filter_lines_only_on_agreement(correct_lines, google_lines,\n",
    "#                                                                       kb_lines, filter[\"agreement\"])\n",
    "filter_bunch = [google_lines, correct_lines, kb_lines]\n",
    "print(\"====== Builtin WER =======\")\n",
    "print(\"Google WER : \", wer(correct_lines, google_lines))\n",
    "print(\"KB WER : \", wer(correct_lines, kb_lines))\n",
    "print(\"====== Agreement =======\")\n",
    "\n",
    "print(\"====== Error indexes =======\")\n",
    "kei = 0\n",
    "oei = 0\n",
    "gei = 0\n",
    "tei = 0\n",
    "\n",
    "for c_l, g_l, kb_l in zip(correct_lines, google_lines, kb_lines):\n",
    "    g_s = set(error_idxs(c_l, g_l))\n",
    "    k_s = set(error_idxs(c_l, kb_l))\n",
    "\n",
    "    gei += len(g_s)\n",
    "    kei += len(k_s)\n",
    "    oei += len(g_s & k_s)\n",
    "    tei += len(g_s | k_s)\n",
    "\n",
    "error_index_overlap = oei / tei\n",
    "print(\"Error index overlap \", error_index_overlap)\n",
    "\n",
    "agreement, g_correct_kb_not, kb_correct_g_not, agreement_not_correct, agreement_correct,\\\n",
    "both_incorrect_disagreement =\\\n",
    "    percentage_of_agreement(correct_lines, google_lines, kb_lines)\n",
    "print(\"Agreement \", agreement)\n",
    "print(\"g_correct_kb_not \" , g_correct_kb_not)\n",
    "print(\"kb_correct_g_not \", kb_correct_g_not)\n",
    "print(\"agreement_not_correct \", agreement_not_correct)\n",
    "print(\"agreement_correct \", agreement_correct)\n",
    "print(\"both_incorrect_disagreement \", both_incorrect_disagreement)"
   ]
  },
  {
   "cell_type": "code",
   "execution_count": 16,
   "id": "95863b96-f0a3-4e42-9fff-6cf33032a2cb",
   "metadata": {},
   "outputs": [
    {
     "name": "stdout",
     "output_type": "stream",
     "text": [
      "/home/nsmy/PycharmProjects/speechTech\n"
     ]
    }
   ],
   "source": [
    "!pwd"
   ]
  },
  {
   "cell_type": "code",
   "execution_count": 33,
   "id": "cc4b62eb-b0c5-432c-96f0-41ba1b3077e7",
   "metadata": {},
   "outputs": [],
   "source": [
    "idx = 43\n",
    "size = 10\n",
    "def get_triad(idx, bunch):\n",
    "    #### Google, correct, Kb\n",
    "    return bunch[0][idx], bunch[1][idx], bunch[2][idx]\n",
    "\n",
    "def plot_triad(triad,ax):\n",
    "    ax.text(0.0, 0.0, triad[0], size=size, rotation=0,\n",
    "             ha=\"center\", va=\"center\",\n",
    "             bbox=dict(boxstyle=\"round\",\n",
    "                       ec=(1., 0.5, 0.5),\n",
    "                       fc=(1., 0.8, 0.8),\n",
    "                       )\n",
    "             )\n",
    "\n",
    "    ax.text(0, -2.5,  triad[2], size=size, rotation=0,\n",
    "             ha=\"center\", va=\"center\",\n",
    "             bbox=dict(boxstyle=\"round\",\n",
    "                       ec=(153/255, 51/255, 0/255),\n",
    "                       fc=(255/255, 153/255, 102/255),\n",
    "                       )\n",
    "             )\n",
    "    ax.text(0, -5,  triad[1], size=size, rotation=0,\n",
    "             ha=\"center\", va=\"center\",\n",
    "             bbox=dict(boxstyle=\"round\",\n",
    "                       ec=(42 / 255, 162 / 255, 42 / 255),\n",
    "                       fc=(133 / 255, 224 / 255, 133 / 255),\n",
    "                       )\n",
    "             )\n",
    "    \n",
    "    ax.set_ylim(-10, 10)\n",
    "    ax.set_xlim(-10, 10)"
   ]
  },
  {
   "cell_type": "code",
   "execution_count": 36,
   "id": "90647867-c260-4671-b7d0-b1bebda24381",
   "metadata": {},
   "outputs": [
    {
     "data": {
      "image/png": "[encoded data removed]",
      "text/plain": [
       "<Figure size 1080x360 with 2 Axes>"
      ]
     },
     "metadata": {
      "needs_background": "light"
     },
     "output_type": "display_data"
    }
   ],
   "source": [
    "fig, axs = plt.subplots(1,2, figsize=(15, 5))\n",
    "idx = 69\n",
    "plot_triad(get_triad(idx, text_data_bunch) ,axs[0])\n",
    "plot_triad(get_triad(idx, phoneme_data_bunch) ,axs[1])"
   ]
  },
  {
   "cell_type": "code",
   "execution_count": 35,
   "id": "1fd64d48-f7c6-422f-bc1e-21f8924c3cd3",
   "metadata": {},
   "outputs": [],
   "source": [
    "\n",
    "def print_triad_correctness(triad):\n",
    "    #### Google, correct, Kb\n",
    "    print(\"Google correct \", triad[1] == triad[0])\n",
    "    print(\"KB correct \", triad[1] == triad[2])\n",
    "    print(\"Agreement \", triad[0] == triad[2])\n",
    "    \n",
    "    print(\"Google WER \", wer(triad[1], triad[0]))\n",
    "    print(\"KB WER \", wer(triad[1], triad[2]))"
   ]
  },
  {
   "cell_type": "code",
   "execution_count": 20,
   "id": "7ac5d3f4-9631-4410-9b30-78af2ff656f6",
   "metadata": {},
   "outputs": [
    {
     "data": {
      "text/plain": [
       "\"j'a2: h'e2:tër n'ikås\""
      ]
     },
     "execution_count": 20,
     "metadata": {},
     "output_type": "execute_result"
    }
   ],
   "source": [
    "txt = \"Jag heter Nikos\"\n",
    "preprocess_phonemes(get_swedish_phonemes(txt, phonemizer))"
   ]
  },
  {
   "cell_type": "code",
   "execution_count": 63,
   "id": "f98e19e7-df38-4f03-b65b-ee0fc4566291",
   "metadata": {},
   "outputs": [
    {
     "data": {
      "text/plain": [
       "\"j ' a2: _ h ' e2: t ë r _ n ' i k å s \""
      ]
     },
     "execution_count": 63,
     "metadata": {},
     "output_type": "execute_result"
    }
   ],
   "source": [
    "get_swedish_phonemes(txt, phonemizer)"
   ]
  },
  {
   "cell_type": "code",
   "execution_count": null,
   "id": "fe03eeeb-b6ad-4088-b41f-35f254cb5d55",
   "metadata": {},
   "outputs": [],
   "source": []
  }
 ],
 "metadata": {
  "kernelspec": {
   "display_name": "Python 3 (ipykernel)",
   "language": "python",
   "name": "python3"
  },
  "language_info": {
   "codemirror_mode": {
    "name": "ipython",
    "version": 3
   },
   "file_extension": ".py",
   "mimetype": "text/x-python",
   "name": "python",
   "nbconvert_exporter": "python",
   "pygments_lexer": "ipython3",
   "version": "3.8.12"
  }
 },
 "nbformat": 4,
 "nbformat_minor": 5
}
