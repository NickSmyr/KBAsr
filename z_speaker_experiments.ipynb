{
 "cells": [
  {
   "cell_type": "markdown",
   "id": "3ca0a4cf-d5bb-406c-b4c8-7f2ebee236f8",
   "metadata": {
    "tags": []
   },
   "source": [
    "# Imports"
   ]
  },
  {
   "cell_type": "code",
   "execution_count": 16,
   "id": "73adfe4f-7856-4894-afe9-82d693b34c2c",
   "metadata": {},
   "outputs": [],
   "source": [
    "import matplotlib.pyplot as plt\n",
    "from loadfile import *\n",
    "from phonemes import *\n",
    "from preprocess import *\n",
    "from evaluate import *\n",
    "from google_kb_z_speaker.main import *\n",
    "from tqdm.auto import tqdm\n",
    "from experiment_helpers import *\n",
    "from functools import partial\n",
    "import numpy as np\n",
    "import logging\n",
    "from seqmatch import *\n",
    "from google_kb_z_speaker.experiments import *\n",
    "from google_kb_z_speaker.preprocessing import *\n",
    "import pickle\n",
    "import random"
   ]
  },
  {
   "cell_type": "markdown",
   "id": "c79ecb93-1a0f-4157-b531-a3bcd91bf4f0",
   "metadata": {
    "tags": []
   },
   "source": [
    "# Text processing"
   ]
  },
  {
   "cell_type": "code",
   "execution_count": 4,
   "id": "22e63c15-f363-4929-a662-1512c5b65f3b",
   "metadata": {},
   "outputs": [],
   "source": [
    "bunches = get_bunches(\"transcriptions\")"
   ]
  },
  {
   "cell_type": "markdown",
   "id": "e14fe72b-af55-497e-85cd-596096dd32a3",
   "metadata": {
    "tags": []
   },
   "source": [
    "# Experiments"
   ]
  },
  {
   "cell_type": "markdown",
   "id": "a8ffa7ea-1257-433b-af86-9ee8babcde59",
   "metadata": {},
   "source": [
    "## Ensemble evaluation\n",
    "\n",
    "Here we evaluate the first ensemble created between Google and KB and perform a grid search to find the optimal phonemizer and ratio threshold"
   ]
  },
  {
   "cell_type": "code",
   "execution_count": null,
   "id": "5f42dcbf-78af-4ffa-a0e8-cd61750be46d",
   "metadata": {},
   "outputs": [],
   "source": [
    "phonemizer = init_phonemizer(\"cuda\", \"models/deep-phonemizer-se.pt\")"
   ]
  },
  {
   "cell_type": "code",
   "execution_count": null,
   "id": "5154d40c-041c-49fb-86e6-00c562f9cfde",
   "metadata": {},
   "outputs": [],
   "source": [
    "phonemizer(\"Jag_heter_nikos\", \"se\")"
   ]
  },
  {
   "cell_type": "code",
   "execution_count": 56,
   "id": "749017a0-8508-4997-abd3-bdee5d6f0f62",
   "metadata": {
    "collapsed": true,
    "jupyter": {
     "outputs_hidden": true
    },
    "tags": []
   },
   "outputs": [
    {
     "data": {
      "application/vnd.jupyter.widget-view+json": {
       "model_id": "e9b1444b7e674c0dbde04df64108bc54",
       "version_major": 2,
       "version_minor": 0
      },
      "text/plain": [
       "  0%|          | 0/400 [00:00<?, ?it/s]"
      ]
     },
     "metadata": {},
     "output_type": "display_data"
    },
    {
     "data": {
      "application/vnd.jupyter.widget-view+json": {
       "model_id": "7537857e4a8046d1bdd6158ba0eaccd8",
       "version_major": 2,
       "version_minor": 0
      },
      "text/plain": [
       "  0%|          | 0/1 [00:00<?, ?it/s]"
      ]
     },
     "metadata": {},
     "output_type": "display_data"
    },
    {
     "data": {
      "application/vnd.jupyter.widget-view+json": {
       "model_id": "c98f4df9277945c9a3ec709e24b776e7",
       "version_major": 2,
       "version_minor": 0
      },
      "text/plain": [
       "  0%|          | 0/911 [00:00<?, ?it/s]"
      ]
     },
     "metadata": {},
     "output_type": "display_data"
    },
    {
     "data": {
      "application/vnd.jupyter.widget-view+json": {
       "model_id": "9299d4e2520f498e97034989a371931a",
       "version_major": 2,
       "version_minor": 0
      },
      "text/plain": [
       "  0%|          | 0/1 [00:00<?, ?it/s]"
      ]
     },
     "metadata": {},
     "output_type": "display_data"
    },
    {
     "data": {
      "application/vnd.jupyter.widget-view+json": {
       "model_id": "1fc7cfebff7b4b65a33dd9145654196f",
       "version_major": 2,
       "version_minor": 0
      },
      "text/plain": [
       "  0%|          | 0/911 [00:00<?, ?it/s]"
      ]
     },
     "metadata": {},
     "output_type": "display_data"
    },
    {
     "data": {
      "application/vnd.jupyter.widget-view+json": {
       "model_id": "c11c5b88184845978a2f5b85bd0fcb00",
       "version_major": 2,
       "version_minor": 0
      },
      "text/plain": [
       "  0%|          | 0/1 [00:00<?, ?it/s]"
      ]
     },
     "metadata": {},
     "output_type": "display_data"
    },
    {
     "data": {
      "application/vnd.jupyter.widget-view+json": {
       "model_id": "631e5317f4aa43018b5b6c38d456ddc5",
       "version_major": 2,
       "version_minor": 0
      },
      "text/plain": [
       "  0%|          | 0/911 [00:00<?, ?it/s]"
      ]
     },
     "metadata": {},
     "output_type": "display_data"
    },
    {
     "data": {
      "application/vnd.jupyter.widget-view+json": {
       "model_id": "d800ea05dacf449eab05e79821f067f1",
       "version_major": 2,
       "version_minor": 0
      },
      "text/plain": [
       "  0%|          | 0/1 [00:00<?, ?it/s]"
      ]
     },
     "metadata": {},
     "output_type": "display_data"
    },
    {
     "data": {
      "application/vnd.jupyter.widget-view+json": {
       "model_id": "e678ff22c8834c0395c672f6f63de3a4",
       "version_major": 2,
       "version_minor": 0
      },
      "text/plain": [
       "  0%|          | 0/911 [00:00<?, ?it/s]"
      ]
     },
     "metadata": {},
     "output_type": "display_data"
    },
    {
     "data": {
      "application/vnd.jupyter.widget-view+json": {
       "model_id": "79b9d128fa8845ffa318670971c29931",
       "version_major": 2,
       "version_minor": 0
      },
      "text/plain": [
       "  0%|          | 0/1 [00:00<?, ?it/s]"
      ]
     },
     "metadata": {},
     "output_type": "display_data"
    },
    {
     "data": {
      "application/vnd.jupyter.widget-view+json": {
       "model_id": "db78a73e496f4336ad245d0f94f683b2",
       "version_major": 2,
       "version_minor": 0
      },
      "text/plain": [
       "  0%|          | 0/911 [00:00<?, ?it/s]"
      ]
     },
     "metadata": {},
     "output_type": "display_data"
    },
    {
     "data": {
      "application/vnd.jupyter.widget-view+json": {
       "model_id": "18104f1ecd7447fc9ff61a0b834fdb1d",
       "version_major": 2,
       "version_minor": 0
      },
      "text/plain": [
       "  0%|          | 0/1 [00:00<?, ?it/s]"
      ]
     },
     "metadata": {},
     "output_type": "display_data"
    },
    {
     "data": {
      "application/vnd.jupyter.widget-view+json": {
       "model_id": "51aff5d26a9140498c857cdf80d73467",
       "version_major": 2,
       "version_minor": 0
      },
      "text/plain": [
       "  0%|          | 0/911 [00:00<?, ?it/s]"
      ]
     },
     "metadata": {},
     "output_type": "display_data"
    },
    {
     "data": {
      "application/vnd.jupyter.widget-view+json": {
       "model_id": "2cf711dec66440f1bd6ee2fae297e3a0",
       "version_major": 2,
       "version_minor": 0
      },
      "text/plain": [
       "  0%|          | 0/1 [00:00<?, ?it/s]"
      ]
     },
     "metadata": {},
     "output_type": "display_data"
    },
    {
     "data": {
      "application/vnd.jupyter.widget-view+json": {
       "model_id": "fbf71325cbec4c9aadbd3d105055e61d",
       "version_major": 2,
       "version_minor": 0
      },
      "text/plain": [
       "  0%|          | 0/911 [00:00<?, ?it/s]"
      ]
     },
     "metadata": {},
     "output_type": "display_data"
    },
    {
     "data": {
      "application/vnd.jupyter.widget-view+json": {
       "model_id": "5010920b46fa48ae8f3b6efd61e428db",
       "version_major": 2,
       "version_minor": 0
      },
      "text/plain": [
       "  0%|          | 0/1 [00:00<?, ?it/s]"
      ]
     },
     "metadata": {},
     "output_type": "display_data"
    },
    {
     "data": {
      "application/vnd.jupyter.widget-view+json": {
       "model_id": "cea9e176e9334212840465c751ecd893",
       "version_major": 2,
       "version_minor": 0
      },
      "text/plain": [
       "  0%|          | 0/911 [00:00<?, ?it/s]"
      ]
     },
     "metadata": {},
     "output_type": "display_data"
    },
    {
     "data": {
      "application/vnd.jupyter.widget-view+json": {
       "model_id": "cdbcfbfb930045b486f636830724be0d",
       "version_major": 2,
       "version_minor": 0
      },
      "text/plain": [
       "  0%|          | 0/1 [00:00<?, ?it/s]"
      ]
     },
     "metadata": {},
     "output_type": "display_data"
    },
    {
     "data": {
      "application/vnd.jupyter.widget-view+json": {
       "model_id": "055516d05dfa48caa5e5a0e18f1130f7",
       "version_major": 2,
       "version_minor": 0
      },
      "text/plain": [
       "  0%|          | 0/911 [00:00<?, ?it/s]"
      ]
     },
     "metadata": {},
     "output_type": "display_data"
    },
    {
     "data": {
      "application/vnd.jupyter.widget-view+json": {
       "model_id": "88c436392ca94c94b6d9d806ca8ae069",
       "version_major": 2,
       "version_minor": 0
      },
      "text/plain": [
       "  0%|          | 0/1 [00:00<?, ?it/s]"
      ]
     },
     "metadata": {},
     "output_type": "display_data"
    },
    {
     "data": {
      "application/vnd.jupyter.widget-view+json": {
       "model_id": "1c915baffc1c4e8196f22e99235623e4",
       "version_major": 2,
       "version_minor": 0
      },
      "text/plain": [
       "  0%|          | 0/911 [00:00<?, ?it/s]"
      ]
     },
     "metadata": {},
     "output_type": "display_data"
    },
    {
     "data": {
      "application/vnd.jupyter.widget-view+json": {
       "model_id": "a3aee8027750476eba052f3820a0eaf7",
       "version_major": 2,
       "version_minor": 0
      },
      "text/plain": [
       "  0%|          | 0/1 [00:00<?, ?it/s]"
      ]
     },
     "metadata": {},
     "output_type": "display_data"
    },
    {
     "data": {
      "application/vnd.jupyter.widget-view+json": {
       "model_id": "ac35e892cff348bcab0e45e08fc2e2f3",
       "version_major": 2,
       "version_minor": 0
      },
      "text/plain": [
       "  0%|          | 0/911 [00:00<?, ?it/s]"
      ]
     },
     "metadata": {},
     "output_type": "display_data"
    },
    {
     "data": {
      "application/vnd.jupyter.widget-view+json": {
       "model_id": "27a12eb1ecc74e238995deeb7b4def17",
       "version_major": 2,
       "version_minor": 0
      },
      "text/plain": [
       "  0%|          | 0/1 [00:00<?, ?it/s]"
      ]
     },
     "metadata": {},
     "output_type": "display_data"
    },
    {
     "data": {
      "application/vnd.jupyter.widget-view+json": {
       "model_id": "435abc2113b24574960cc96c427bf53c",
       "version_major": 2,
       "version_minor": 0
      },
      "text/plain": [
       "  0%|          | 0/911 [00:00<?, ?it/s]"
      ]
     },
     "metadata": {},
     "output_type": "display_data"
    },
    {
     "data": {
      "application/vnd.jupyter.widget-view+json": {
       "model_id": "a2041231b9954bd58729703fae75d57d",
       "version_major": 2,
       "version_minor": 0
      },
      "text/plain": [
       "  0%|          | 0/1 [00:00<?, ?it/s]"
      ]
     },
     "metadata": {},
     "output_type": "display_data"
    },
    {
     "data": {
      "application/vnd.jupyter.widget-view+json": {
       "model_id": "64c8cb7c6cfd40288632af13a68847d2",
       "version_major": 2,
       "version_minor": 0
      },
      "text/plain": [
       "  0%|          | 0/911 [00:00<?, ?it/s]"
      ]
     },
     "metadata": {},
     "output_type": "display_data"
    },
    {
     "data": {
      "application/vnd.jupyter.widget-view+json": {
       "model_id": "2a5d1da35e4f4eab94d25c2cca564ba7",
       "version_major": 2,
       "version_minor": 0
      },
      "text/plain": [
       "  0%|          | 0/1 [00:00<?, ?it/s]"
      ]
     },
     "metadata": {},
     "output_type": "display_data"
    },
    {
     "data": {
      "application/vnd.jupyter.widget-view+json": {
       "model_id": "3ccd1ab40270431b8a8ba887124e82bb",
       "version_major": 2,
       "version_minor": 0
      },
      "text/plain": [
       "  0%|          | 0/911 [00:00<?, ?it/s]"
      ]
     },
     "metadata": {},
     "output_type": "display_data"
    },
    {
     "data": {
      "application/vnd.jupyter.widget-view+json": {
       "model_id": "c825e308f5e541cd8ed73fcf8e949968",
       "version_major": 2,
       "version_minor": 0
      },
      "text/plain": [
       "  0%|          | 0/1 [00:00<?, ?it/s]"
      ]
     },
     "metadata": {},
     "output_type": "display_data"
    },
    {
     "data": {
      "application/vnd.jupyter.widget-view+json": {
       "model_id": "6a92fe8e94bd40e4939e12ad1f7e8b38",
       "version_major": 2,
       "version_minor": 0
      },
      "text/plain": [
       "  0%|          | 0/911 [00:00<?, ?it/s]"
      ]
     },
     "metadata": {},
     "output_type": "display_data"
    },
    {
     "data": {
      "application/vnd.jupyter.widget-view+json": {
       "model_id": "45489cc5bef44109b37777ba83940097",
       "version_major": 2,
       "version_minor": 0
      },
      "text/plain": [
       "  0%|          | 0/1 [00:00<?, ?it/s]"
      ]
     },
     "metadata": {},
     "output_type": "display_data"
    },
    {
     "data": {
      "application/vnd.jupyter.widget-view+json": {
       "model_id": "dc1a7782c9a6407eb07cc9bb34174316",
       "version_major": 2,
       "version_minor": 0
      },
      "text/plain": [
       "  0%|          | 0/911 [00:00<?, ?it/s]"
      ]
     },
     "metadata": {},
     "output_type": "display_data"
    },
    {
     "data": {
      "application/vnd.jupyter.widget-view+json": {
       "model_id": "7aee119a5a984f47a489c12296e049fd",
       "version_major": 2,
       "version_minor": 0
      },
      "text/plain": [
       "  0%|          | 0/1 [00:00<?, ?it/s]"
      ]
     },
     "metadata": {},
     "output_type": "display_data"
    },
    {
     "data": {
      "application/vnd.jupyter.widget-view+json": {
       "model_id": "d0bc03d68ada4e8a8aee816f3c9f0e3d",
       "version_major": 2,
       "version_minor": 0
      },
      "text/plain": [
       "  0%|          | 0/911 [00:00<?, ?it/s]"
      ]
     },
     "metadata": {},
     "output_type": "display_data"
    },
    {
     "data": {
      "application/vnd.jupyter.widget-view+json": {
       "model_id": "9b62e3c848fd41b590ba4a9a34689ffc",
       "version_major": 2,
       "version_minor": 0
      },
      "text/plain": [
       "  0%|          | 0/1 [00:00<?, ?it/s]"
      ]
     },
     "metadata": {},
     "output_type": "display_data"
    },
    {
     "data": {
      "application/vnd.jupyter.widget-view+json": {
       "model_id": "bb1e9586b1994153b1b6983ba100ba40",
       "version_major": 2,
       "version_minor": 0
      },
      "text/plain": [
       "  0%|          | 0/911 [00:00<?, ?it/s]"
      ]
     },
     "metadata": {},
     "output_type": "display_data"
    },
    {
     "data": {
      "application/vnd.jupyter.widget-view+json": {
       "model_id": "9085735347e949f39713baf79956a981",
       "version_major": 2,
       "version_minor": 0
      },
      "text/plain": [
       "  0%|          | 0/1 [00:00<?, ?it/s]"
      ]
     },
     "metadata": {},
     "output_type": "display_data"
    },
    {
     "data": {
      "application/vnd.jupyter.widget-view+json": {
       "model_id": "0eff5dda16d249158e1e727f22f17107",
       "version_major": 2,
       "version_minor": 0
      },
      "text/plain": [
       "  0%|          | 0/911 [00:00<?, ?it/s]"
      ]
     },
     "metadata": {},
     "output_type": "display_data"
    },
    {
     "data": {
      "application/vnd.jupyter.widget-view+json": {
       "model_id": "13d6988a7e644a909813f60298ed4fa1",
       "version_major": 2,
       "version_minor": 0
      },
      "text/plain": [
       "  0%|          | 0/1 [00:00<?, ?it/s]"
      ]
     },
     "metadata": {},
     "output_type": "display_data"
    },
    {
     "data": {
      "application/vnd.jupyter.widget-view+json": {
       "model_id": "b60afbb48e2f4198b2977589fc59e725",
       "version_major": 2,
       "version_minor": 0
      },
      "text/plain": [
       "  0%|          | 0/911 [00:00<?, ?it/s]"
      ]
     },
     "metadata": {},
     "output_type": "display_data"
    },
    {
     "data": {
      "application/vnd.jupyter.widget-view+json": {
       "model_id": "8bf215df2c1c445a96eaf951f5d1e707",
       "version_major": 2,
       "version_minor": 0
      },
      "text/plain": [
       "  0%|          | 0/1 [00:00<?, ?it/s]"
      ]
     },
     "metadata": {},
     "output_type": "display_data"
    },
    {
     "data": {
      "application/vnd.jupyter.widget-view+json": {
       "model_id": "3817e91fffac42ab863b1cbefc00005c",
       "version_major": 2,
       "version_minor": 0
      },
      "text/plain": [
       "  0%|          | 0/911 [00:00<?, ?it/s]"
      ]
     },
     "metadata": {},
     "output_type": "display_data"
    },
    {
     "data": {
      "application/vnd.jupyter.widget-view+json": {
       "model_id": "348bd42568c6401383f10087d98306c7",
       "version_major": 2,
       "version_minor": 0
      },
      "text/plain": [
       "  0%|          | 0/1 [00:00<?, ?it/s]"
      ]
     },
     "metadata": {},
     "output_type": "display_data"
    },
    {
     "data": {
      "application/vnd.jupyter.widget-view+json": {
       "model_id": "7e08fda0aac3454d828a502ef0b21ad3",
       "version_major": 2,
       "version_minor": 0
      },
      "text/plain": [
       "  0%|          | 0/911 [00:00<?, ?it/s]"
      ]
     },
     "metadata": {},
     "output_type": "display_data"
    },
    {
     "data": {
      "application/vnd.jupyter.widget-view+json": {
       "model_id": "03aaddddcc7b420d8fd8e4bdb53f3c43",
       "version_major": 2,
       "version_minor": 0
      },
      "text/plain": [
       "  0%|          | 0/1 [00:00<?, ?it/s]"
      ]
     },
     "metadata": {},
     "output_type": "display_data"
    },
    {
     "data": {
      "application/vnd.jupyter.widget-view+json": {
       "model_id": "e2ee39094445479e8fd5b3be1dd4f3c1",
       "version_major": 2,
       "version_minor": 0
      },
      "text/plain": [
       "  0%|          | 0/911 [00:00<?, ?it/s]"
      ]
     },
     "metadata": {},
     "output_type": "display_data"
    },
    {
     "data": {
      "application/vnd.jupyter.widget-view+json": {
       "model_id": "77a034a6652347289620d795794ba023",
       "version_major": 2,
       "version_minor": 0
      },
      "text/plain": [
       "  0%|          | 0/1 [00:00<?, ?it/s]"
      ]
     },
     "metadata": {},
     "output_type": "display_data"
    },
    {
     "data": {
      "application/vnd.jupyter.widget-view+json": {
       "model_id": "e558781c4f8043ac84271a76b684442c",
       "version_major": 2,
       "version_minor": 0
      },
      "text/plain": [
       "  0%|          | 0/911 [00:00<?, ?it/s]"
      ]
     },
     "metadata": {},
     "output_type": "display_data"
    },
    {
     "data": {
      "application/vnd.jupyter.widget-view+json": {
       "model_id": "038aa08d81f54e36afc6e86a2d892217",
       "version_major": 2,
       "version_minor": 0
      },
      "text/plain": [
       "  0%|          | 0/1 [00:00<?, ?it/s]"
      ]
     },
     "metadata": {},
     "output_type": "display_data"
    },
    {
     "data": {
      "application/vnd.jupyter.widget-view+json": {
       "model_id": "6c67948ab8eb4f849ba5e04b3e4d0bbb",
       "version_major": 2,
       "version_minor": 0
      },
      "text/plain": [
       "  0%|          | 0/911 [00:00<?, ?it/s]"
      ]
     },
     "metadata": {},
     "output_type": "display_data"
    },
    {
     "data": {
      "application/vnd.jupyter.widget-view+json": {
       "model_id": "2888a7ef94c34f99bfc0726ec81bdaa2",
       "version_major": 2,
       "version_minor": 0
      },
      "text/plain": [
       "  0%|          | 0/1 [00:00<?, ?it/s]"
      ]
     },
     "metadata": {},
     "output_type": "display_data"
    },
    {
     "data": {
      "application/vnd.jupyter.widget-view+json": {
       "model_id": "e657e19bec62461abb723870340deb02",
       "version_major": 2,
       "version_minor": 0
      },
      "text/plain": [
       "  0%|          | 0/911 [00:00<?, ?it/s]"
      ]
     },
     "metadata": {},
     "output_type": "display_data"
    },
    {
     "data": {
      "application/vnd.jupyter.widget-view+json": {
       "model_id": "214adb9f7dc444bf9ffaba2372d3280d",
       "version_major": 2,
       "version_minor": 0
      },
      "text/plain": [
       "  0%|          | 0/1 [00:00<?, ?it/s]"
      ]
     },
     "metadata": {},
     "output_type": "display_data"
    },
    {
     "data": {
      "application/vnd.jupyter.widget-view+json": {
       "model_id": "322a23ec45014ad48425403908053604",
       "version_major": 2,
       "version_minor": 0
      },
      "text/plain": [
       "  0%|          | 0/911 [00:00<?, ?it/s]"
      ]
     },
     "metadata": {},
     "output_type": "display_data"
    },
    {
     "data": {
      "application/vnd.jupyter.widget-view+json": {
       "model_id": "9e90bf16ca1d40d8ae9b16df947ad052",
       "version_major": 2,
       "version_minor": 0
      },
      "text/plain": [
       "  0%|          | 0/1 [00:00<?, ?it/s]"
      ]
     },
     "metadata": {},
     "output_type": "display_data"
    },
    {
     "data": {
      "application/vnd.jupyter.widget-view+json": {
       "model_id": "6195536738004fe189cc34804f32adf1",
       "version_major": 2,
       "version_minor": 0
      },
      "text/plain": [
       "  0%|          | 0/911 [00:00<?, ?it/s]"
      ]
     },
     "metadata": {},
     "output_type": "display_data"
    },
    {
     "data": {
      "application/vnd.jupyter.widget-view+json": {
       "model_id": "3761aa090b25432a93996df0d99e277b",
       "version_major": 2,
       "version_minor": 0
      },
      "text/plain": [
       "  0%|          | 0/1 [00:00<?, ?it/s]"
      ]
     },
     "metadata": {},
     "output_type": "display_data"
    },
    {
     "data": {
      "application/vnd.jupyter.widget-view+json": {
       "model_id": "3e1fa775256746739dc29b87a6a9dac8",
       "version_major": 2,
       "version_minor": 0
      },
      "text/plain": [
       "  0%|          | 0/911 [00:00<?, ?it/s]"
      ]
     },
     "metadata": {},
     "output_type": "display_data"
    },
    {
     "data": {
      "application/vnd.jupyter.widget-view+json": {
       "model_id": "cf089372c99e4e3a80f0504a845e06cf",
       "version_major": 2,
       "version_minor": 0
      },
      "text/plain": [
       "  0%|          | 0/1 [00:00<?, ?it/s]"
      ]
     },
     "metadata": {},
     "output_type": "display_data"
    },
    {
     "data": {
      "application/vnd.jupyter.widget-view+json": {
       "model_id": "c4c4c6a409c84dff8693434548a94f80",
       "version_major": 2,
       "version_minor": 0
      },
      "text/plain": [
       "  0%|          | 0/911 [00:00<?, ?it/s]"
      ]
     },
     "metadata": {},
     "output_type": "display_data"
    },
    {
     "data": {
      "application/vnd.jupyter.widget-view+json": {
       "model_id": "61729f4778cf4dfaa1b5b9a296b1d7d7",
       "version_major": 2,
       "version_minor": 0
      },
      "text/plain": [
       "  0%|          | 0/1 [00:00<?, ?it/s]"
      ]
     },
     "metadata": {},
     "output_type": "display_data"
    },
    {
     "data": {
      "application/vnd.jupyter.widget-view+json": {
       "model_id": "3ca7a4edfe754f3990d74af5741198ca",
       "version_major": 2,
       "version_minor": 0
      },
      "text/plain": [
       "  0%|          | 0/911 [00:00<?, ?it/s]"
      ]
     },
     "metadata": {},
     "output_type": "display_data"
    },
    {
     "data": {
      "application/vnd.jupyter.widget-view+json": {
       "model_id": "702303b1123b4366bf187fc0bc0b0063",
       "version_major": 2,
       "version_minor": 0
      },
      "text/plain": [
       "  0%|          | 0/1 [00:00<?, ?it/s]"
      ]
     },
     "metadata": {},
     "output_type": "display_data"
    },
    {
     "data": {
      "application/vnd.jupyter.widget-view+json": {
       "model_id": "42c5b283c67e4b479dea78d21e8c6b84",
       "version_major": 2,
       "version_minor": 0
      },
      "text/plain": [
       "  0%|          | 0/911 [00:00<?, ?it/s]"
      ]
     },
     "metadata": {},
     "output_type": "display_data"
    },
    {
     "data": {
      "application/vnd.jupyter.widget-view+json": {
       "model_id": "4b8abdfff5434981a82e1a20ff2c53df",
       "version_major": 2,
       "version_minor": 0
      },
      "text/plain": [
       "  0%|          | 0/1 [00:00<?, ?it/s]"
      ]
     },
     "metadata": {},
     "output_type": "display_data"
    },
    {
     "data": {
      "application/vnd.jupyter.widget-view+json": {
       "model_id": "865717c04ede40f7aa8ad2fe373f7e59",
       "version_major": 2,
       "version_minor": 0
      },
      "text/plain": [
       "  0%|          | 0/911 [00:00<?, ?it/s]"
      ]
     },
     "metadata": {},
     "output_type": "display_data"
    },
    {
     "data": {
      "application/vnd.jupyter.widget-view+json": {
       "model_id": "3c48f6a6c03041558dc1ea3b994c6112",
       "version_major": 2,
       "version_minor": 0
      },
      "text/plain": [
       "  0%|          | 0/1 [00:00<?, ?it/s]"
      ]
     },
     "metadata": {},
     "output_type": "display_data"
    },
    {
     "data": {
      "application/vnd.jupyter.widget-view+json": {
       "model_id": "15120aba98c6471f939cbd8f6ba212e7",
       "version_major": 2,
       "version_minor": 0
      },
      "text/plain": [
       "  0%|          | 0/911 [00:00<?, ?it/s]"
      ]
     },
     "metadata": {},
     "output_type": "display_data"
    },
    {
     "data": {
      "application/vnd.jupyter.widget-view+json": {
       "model_id": "e7a05322a8df46dda39967d91dd8d941",
       "version_major": 2,
       "version_minor": 0
      },
      "text/plain": [
       "  0%|          | 0/1 [00:00<?, ?it/s]"
      ]
     },
     "metadata": {},
     "output_type": "display_data"
    },
    {
     "data": {
      "application/vnd.jupyter.widget-view+json": {
       "model_id": "d540905fdc7d495b9009c5a4639c8e05",
       "version_major": 2,
       "version_minor": 0
      },
      "text/plain": [
       "  0%|          | 0/911 [00:00<?, ?it/s]"
      ]
     },
     "metadata": {},
     "output_type": "display_data"
    },
    {
     "data": {
      "application/vnd.jupyter.widget-view+json": {
       "model_id": "73e075019f6a48c1a2369e72d3da4f88",
       "version_major": 2,
       "version_minor": 0
      },
      "text/plain": [
       "  0%|          | 0/1 [00:00<?, ?it/s]"
      ]
     },
     "metadata": {},
     "output_type": "display_data"
    },
    {
     "data": {
      "application/vnd.jupyter.widget-view+json": {
       "model_id": "24e0c217f4674a19a66f98ab939922aa",
       "version_major": 2,
       "version_minor": 0
      },
      "text/plain": [
       "  0%|          | 0/911 [00:00<?, ?it/s]"
      ]
     },
     "metadata": {},
     "output_type": "display_data"
    },
    {
     "data": {
      "application/vnd.jupyter.widget-view+json": {
       "model_id": "541908bcb20541aeb6e44535e8dcce4a",
       "version_major": 2,
       "version_minor": 0
      },
      "text/plain": [
       "  0%|          | 0/1 [00:00<?, ?it/s]"
      ]
     },
     "metadata": {},
     "output_type": "display_data"
    },
    {
     "data": {
      "application/vnd.jupyter.widget-view+json": {
       "model_id": "4829049e3f7f42719e568be6860bae7c",
       "version_major": 2,
       "version_minor": 0
      },
      "text/plain": [
       "  0%|          | 0/911 [00:00<?, ?it/s]"
      ]
     },
     "metadata": {},
     "output_type": "display_data"
    },
    {
     "data": {
      "application/vnd.jupyter.widget-view+json": {
       "model_id": "e536e56c0fff4be9be20342c2618bf20",
       "version_major": 2,
       "version_minor": 0
      },
      "text/plain": [
       "  0%|          | 0/1 [00:00<?, ?it/s]"
      ]
     },
     "metadata": {},
     "output_type": "display_data"
    },
    {
     "data": {
      "application/vnd.jupyter.widget-view+json": {
       "model_id": "d9f35ef5e78c4dbdb1e789bfb44a45f9",
       "version_major": 2,
       "version_minor": 0
      },
      "text/plain": [
       "  0%|          | 0/911 [00:00<?, ?it/s]"
      ]
     },
     "metadata": {},
     "output_type": "display_data"
    },
    {
     "data": {
      "application/vnd.jupyter.widget-view+json": {
       "model_id": "a7b12986637b4714ae3c5f974e9504f9",
       "version_major": 2,
       "version_minor": 0
      },
      "text/plain": [
       "  0%|          | 0/1 [00:00<?, ?it/s]"
      ]
     },
     "metadata": {},
     "output_type": "display_data"
    },
    {
     "data": {
      "application/vnd.jupyter.widget-view+json": {
       "model_id": "67a00de4e87b46dba0bc0586739d00dc",
       "version_major": 2,
       "version_minor": 0
      },
      "text/plain": [
       "  0%|          | 0/911 [00:00<?, ?it/s]"
      ]
     },
     "metadata": {},
     "output_type": "display_data"
    },
    {
     "data": {
      "application/vnd.jupyter.widget-view+json": {
       "model_id": "e2e886d0baaf4f23b4087ad0bfe61684",
       "version_major": 2,
       "version_minor": 0
      },
      "text/plain": [
       "  0%|          | 0/1 [00:00<?, ?it/s]"
      ]
     },
     "metadata": {},
     "output_type": "display_data"
    },
    {
     "data": {
      "application/vnd.jupyter.widget-view+json": {
       "model_id": "b881d0b805e04199910e470c14fb5abe",
       "version_major": 2,
       "version_minor": 0
      },
      "text/plain": [
       "  0%|          | 0/911 [00:00<?, ?it/s]"
      ]
     },
     "metadata": {},
     "output_type": "display_data"
    },
    {
     "data": {
      "application/vnd.jupyter.widget-view+json": {
       "model_id": "847b378750784e12aeab516dafaa5e5c",
       "version_major": 2,
       "version_minor": 0
      },
      "text/plain": [
       "  0%|          | 0/1 [00:00<?, ?it/s]"
      ]
     },
     "metadata": {},
     "output_type": "display_data"
    },
    {
     "data": {
      "application/vnd.jupyter.widget-view+json": {
       "model_id": "e7d378e07a554ec9871c5c60769f0731",
       "version_major": 2,
       "version_minor": 0
      },
      "text/plain": [
       "  0%|          | 0/911 [00:00<?, ?it/s]"
      ]
     },
     "metadata": {},
     "output_type": "display_data"
    },
    {
     "data": {
      "application/vnd.jupyter.widget-view+json": {
       "model_id": "368b58be822d4265895d709054ca1397",
       "version_major": 2,
       "version_minor": 0
      },
      "text/plain": [
       "  0%|          | 0/1 [00:00<?, ?it/s]"
      ]
     },
     "metadata": {},
     "output_type": "display_data"
    },
    {
     "data": {
      "application/vnd.jupyter.widget-view+json": {
       "model_id": "ac2aaa8af33f412498bbd163e8c3064e",
       "version_major": 2,
       "version_minor": 0
      },
      "text/plain": [
       "  0%|          | 0/911 [00:00<?, ?it/s]"
      ]
     },
     "metadata": {},
     "output_type": "display_data"
    },
    {
     "data": {
      "application/vnd.jupyter.widget-view+json": {
       "model_id": "878c4fd16bcf487dbee86f5e049c0518",
       "version_major": 2,
       "version_minor": 0
      },
      "text/plain": [
       "  0%|          | 0/1 [00:00<?, ?it/s]"
      ]
     },
     "metadata": {},
     "output_type": "display_data"
    },
    {
     "data": {
      "application/vnd.jupyter.widget-view+json": {
       "model_id": "9ff4b04b61634ec0afd3278abbac4986",
       "version_major": 2,
       "version_minor": 0
      },
      "text/plain": [
       "  0%|          | 0/911 [00:00<?, ?it/s]"
      ]
     },
     "metadata": {},
     "output_type": "display_data"
    },
    {
     "data": {
      "application/vnd.jupyter.widget-view+json": {
       "model_id": "d6d1a826d411432aa250538a8251c9c1",
       "version_major": 2,
       "version_minor": 0
      },
      "text/plain": [
       "  0%|          | 0/1 [00:00<?, ?it/s]"
      ]
     },
     "metadata": {},
     "output_type": "display_data"
    },
    {
     "data": {
      "application/vnd.jupyter.widget-view+json": {
       "model_id": "25981b953eaa45c2a46fee5b97505928",
       "version_major": 2,
       "version_minor": 0
      },
      "text/plain": [
       "  0%|          | 0/911 [00:00<?, ?it/s]"
      ]
     },
     "metadata": {},
     "output_type": "display_data"
    },
    {
     "data": {
      "application/vnd.jupyter.widget-view+json": {
       "model_id": "f3869ba6671247debaec78f6651c1471",
       "version_major": 2,
       "version_minor": 0
      },
      "text/plain": [
       "  0%|          | 0/1 [00:00<?, ?it/s]"
      ]
     },
     "metadata": {},
     "output_type": "display_data"
    },
    {
     "data": {
      "application/vnd.jupyter.widget-view+json": {
       "model_id": "002301d0e13c49a0a6bea1cfd48d7dcd",
       "version_major": 2,
       "version_minor": 0
      },
      "text/plain": [
       "  0%|          | 0/911 [00:00<?, ?it/s]"
      ]
     },
     "metadata": {},
     "output_type": "display_data"
    },
    {
     "data": {
      "application/vnd.jupyter.widget-view+json": {
       "model_id": "61ac0f5f108141729086e6db90023dba",
       "version_major": 2,
       "version_minor": 0
      },
      "text/plain": [
       "  0%|          | 0/1 [00:00<?, ?it/s]"
      ]
     },
     "metadata": {},
     "output_type": "display_data"
    },
    {
     "data": {
      "application/vnd.jupyter.widget-view+json": {
       "model_id": "3d748d86115e42c08f2f0dc1d7fb9800",
       "version_major": 2,
       "version_minor": 0
      },
      "text/plain": [
       "  0%|          | 0/911 [00:00<?, ?it/s]"
      ]
     },
     "metadata": {},
     "output_type": "display_data"
    },
    {
     "data": {
      "application/vnd.jupyter.widget-view+json": {
       "model_id": "7467d8aa6ad442f8b97db145c588877f",
       "version_major": 2,
       "version_minor": 0
      },
      "text/plain": [
       "  0%|          | 0/1 [00:00<?, ?it/s]"
      ]
     },
     "metadata": {},
     "output_type": "display_data"
    },
    {
     "data": {
      "application/vnd.jupyter.widget-view+json": {
       "model_id": "6161712228b9486dae369e894532d6b7",
       "version_major": 2,
       "version_minor": 0
      },
      "text/plain": [
       "  0%|          | 0/911 [00:00<?, ?it/s]"
      ]
     },
     "metadata": {},
     "output_type": "display_data"
    },
    {
     "data": {
      "application/vnd.jupyter.widget-view+json": {
       "model_id": "83d54d38dbf44ff6a997b0f8d0b50bb5",
       "version_major": 2,
       "version_minor": 0
      },
      "text/plain": [
       "  0%|          | 0/1 [00:00<?, ?it/s]"
      ]
     },
     "metadata": {},
     "output_type": "display_data"
    },
    {
     "data": {
      "application/vnd.jupyter.widget-view+json": {
       "model_id": "ea5c9e5aa78c432eaa95e53a2f5ee005",
       "version_major": 2,
       "version_minor": 0
      },
      "text/plain": [
       "  0%|          | 0/911 [00:00<?, ?it/s]"
      ]
     },
     "metadata": {},
     "output_type": "display_data"
    },
    {
     "data": {
      "application/vnd.jupyter.widget-view+json": {
       "model_id": "b79ae311b65545dba3022a34491a7f06",
       "version_major": 2,
       "version_minor": 0
      },
      "text/plain": [
       "  0%|          | 0/1 [00:00<?, ?it/s]"
      ]
     },
     "metadata": {},
     "output_type": "display_data"
    },
    {
     "data": {
      "application/vnd.jupyter.widget-view+json": {
       "model_id": "1179e5cfd765474d8d9ddb490a893355",
       "version_major": 2,
       "version_minor": 0
      },
      "text/plain": [
       "  0%|          | 0/911 [00:00<?, ?it/s]"
      ]
     },
     "metadata": {},
     "output_type": "display_data"
    },
    {
     "data": {
      "application/vnd.jupyter.widget-view+json": {
       "model_id": "7f92bb40db324dab9d492f82f78ae08a",
       "version_major": 2,
       "version_minor": 0
      },
      "text/plain": [
       "  0%|          | 0/1 [00:00<?, ?it/s]"
      ]
     },
     "metadata": {},
     "output_type": "display_data"
    },
    {
     "data": {
      "application/vnd.jupyter.widget-view+json": {
       "model_id": "22ae86890f084f8b9dc74bbb6b67577d",
       "version_major": 2,
       "version_minor": 0
      },
      "text/plain": [
       "  0%|          | 0/911 [00:00<?, ?it/s]"
      ]
     },
     "metadata": {},
     "output_type": "display_data"
    },
    {
     "data": {
      "application/vnd.jupyter.widget-view+json": {
       "model_id": "f9bf6fd4b59744c9b4e9dc4eec9eee4c",
       "version_major": 2,
       "version_minor": 0
      },
      "text/plain": [
       "  0%|          | 0/1 [00:00<?, ?it/s]"
      ]
     },
     "metadata": {},
     "output_type": "display_data"
    },
    {
     "data": {
      "application/vnd.jupyter.widget-view+json": {
       "model_id": "35685194337f4e239e194da3bab70ddf",
       "version_major": 2,
       "version_minor": 0
      },
      "text/plain": [
       "  0%|          | 0/911 [00:00<?, ?it/s]"
      ]
     },
     "metadata": {},
     "output_type": "display_data"
    },
    {
     "data": {
      "application/vnd.jupyter.widget-view+json": {
       "model_id": "84b4b60ec9f74b4ba873fefbc0b21d2e",
       "version_major": 2,
       "version_minor": 0
      },
      "text/plain": [
       "  0%|          | 0/1 [00:00<?, ?it/s]"
      ]
     },
     "metadata": {},
     "output_type": "display_data"
    },
    {
     "data": {
      "application/vnd.jupyter.widget-view+json": {
       "model_id": "fdfddc94103d454ca2755430ab7e271c",
       "version_major": 2,
       "version_minor": 0
      },
      "text/plain": [
       "  0%|          | 0/911 [00:00<?, ?it/s]"
      ]
     },
     "metadata": {},
     "output_type": "display_data"
    },
    {
     "data": {
      "application/vnd.jupyter.widget-view+json": {
       "model_id": "0b68662c5f084827abf3b3f8bb10e58d",
       "version_major": 2,
       "version_minor": 0
      },
      "text/plain": [
       "  0%|          | 0/1 [00:00<?, ?it/s]"
      ]
     },
     "metadata": {},
     "output_type": "display_data"
    },
    {
     "data": {
      "application/vnd.jupyter.widget-view+json": {
       "model_id": "02aca57e573d4165a6331e111ae9f4d0",
       "version_major": 2,
       "version_minor": 0
      },
      "text/plain": [
       "  0%|          | 0/911 [00:00<?, ?it/s]"
      ]
     },
     "metadata": {},
     "output_type": "display_data"
    },
    {
     "data": {
      "application/vnd.jupyter.widget-view+json": {
       "model_id": "65ad6536ae9c4d38ab3193bd023212b4",
       "version_major": 2,
       "version_minor": 0
      },
      "text/plain": [
       "  0%|          | 0/1 [00:00<?, ?it/s]"
      ]
     },
     "metadata": {},
     "output_type": "display_data"
    },
    {
     "data": {
      "application/vnd.jupyter.widget-view+json": {
       "model_id": "d2069d46fde04136836efbcf40bd39e6",
       "version_major": 2,
       "version_minor": 0
      },
      "text/plain": [
       "  0%|          | 0/911 [00:00<?, ?it/s]"
      ]
     },
     "metadata": {},
     "output_type": "display_data"
    },
    {
     "data": {
      "application/vnd.jupyter.widget-view+json": {
       "model_id": "d3f06548042d425e963596a5692d4db4",
       "version_major": 2,
       "version_minor": 0
      },
      "text/plain": [
       "  0%|          | 0/1 [00:00<?, ?it/s]"
      ]
     },
     "metadata": {},
     "output_type": "display_data"
    },
    {
     "data": {
      "application/vnd.jupyter.widget-view+json": {
       "model_id": "c685759943094fe2a868d7cd44d4a325",
       "version_major": 2,
       "version_minor": 0
      },
      "text/plain": [
       "  0%|          | 0/911 [00:00<?, ?it/s]"
      ]
     },
     "metadata": {},
     "output_type": "display_data"
    },
    {
     "data": {
      "application/vnd.jupyter.widget-view+json": {
       "model_id": "5918d794562345819c4606c52744532c",
       "version_major": 2,
       "version_minor": 0
      },
      "text/plain": [
       "  0%|          | 0/1 [00:00<?, ?it/s]"
      ]
     },
     "metadata": {},
     "output_type": "display_data"
    },
    {
     "data": {
      "application/vnd.jupyter.widget-view+json": {
       "model_id": "f00455d430b743ac85573c85a8353dff",
       "version_major": 2,
       "version_minor": 0
      },
      "text/plain": [
       "  0%|          | 0/911 [00:00<?, ?it/s]"
      ]
     },
     "metadata": {},
     "output_type": "display_data"
    },
    {
     "data": {
      "application/vnd.jupyter.widget-view+json": {
       "model_id": "e9af906f47bb4fe8a3b90e6857402743",
       "version_major": 2,
       "version_minor": 0
      },
      "text/plain": [
       "  0%|          | 0/1 [00:00<?, ?it/s]"
      ]
     },
     "metadata": {},
     "output_type": "display_data"
    },
    {
     "data": {
      "application/vnd.jupyter.widget-view+json": {
       "model_id": "ce78b31ca739414b8b03bf4e62e25130",
       "version_major": 2,
       "version_minor": 0
      },
      "text/plain": [
       "  0%|          | 0/911 [00:00<?, ?it/s]"
      ]
     },
     "metadata": {},
     "output_type": "display_data"
    },
    {
     "data": {
      "application/vnd.jupyter.widget-view+json": {
       "model_id": "a0108ec2bada4973ac270f05bd848202",
       "version_major": 2,
       "version_minor": 0
      },
      "text/plain": [
       "  0%|          | 0/1 [00:00<?, ?it/s]"
      ]
     },
     "metadata": {},
     "output_type": "display_data"
    },
    {
     "data": {
      "application/vnd.jupyter.widget-view+json": {
       "model_id": "a620436cf3124a699915828530a79907",
       "version_major": 2,
       "version_minor": 0
      },
      "text/plain": [
       "  0%|          | 0/911 [00:00<?, ?it/s]"
      ]
     },
     "metadata": {},
     "output_type": "display_data"
    },
    {
     "data": {
      "application/vnd.jupyter.widget-view+json": {
       "model_id": "f09fd3f00dbe4df7b52311f1d4894832",
       "version_major": 2,
       "version_minor": 0
      },
      "text/plain": [
       "  0%|          | 0/1 [00:00<?, ?it/s]"
      ]
     },
     "metadata": {},
     "output_type": "display_data"
    },
    {
     "data": {
      "application/vnd.jupyter.widget-view+json": {
       "model_id": "9854bfa31c054362b5050160179c9783",
       "version_major": 2,
       "version_minor": 0
      },
      "text/plain": [
       "  0%|          | 0/911 [00:00<?, ?it/s]"
      ]
     },
     "metadata": {},
     "output_type": "display_data"
    },
    {
     "data": {
      "application/vnd.jupyter.widget-view+json": {
       "model_id": "6f14abbe42bf4d97904824dd7b9e62e5",
       "version_major": 2,
       "version_minor": 0
      },
      "text/plain": [
       "  0%|          | 0/1 [00:00<?, ?it/s]"
      ]
     },
     "metadata": {},
     "output_type": "display_data"
    },
    {
     "data": {
      "application/vnd.jupyter.widget-view+json": {
       "model_id": "dd41420fc53f4c8689734cead22a8052",
       "version_major": 2,
       "version_minor": 0
      },
      "text/plain": [
       "  0%|          | 0/911 [00:00<?, ?it/s]"
      ]
     },
     "metadata": {},
     "output_type": "display_data"
    },
    {
     "data": {
      "application/vnd.jupyter.widget-view+json": {
       "model_id": "c94de4604e714f2aba66a44cbad22350",
       "version_major": 2,
       "version_minor": 0
      },
      "text/plain": [
       "  0%|          | 0/1 [00:00<?, ?it/s]"
      ]
     },
     "metadata": {},
     "output_type": "display_data"
    },
    {
     "data": {
      "application/vnd.jupyter.widget-view+json": {
       "model_id": "ccc8e6cf1fd34aa3bf34eac873841d15",
       "version_major": 2,
       "version_minor": 0
      },
      "text/plain": [
       "  0%|          | 0/911 [00:00<?, ?it/s]"
      ]
     },
     "metadata": {},
     "output_type": "display_data"
    },
    {
     "data": {
      "application/vnd.jupyter.widget-view+json": {
       "model_id": "da08410d99684378a830352f7b7a6adf",
       "version_major": 2,
       "version_minor": 0
      },
      "text/plain": [
       "  0%|          | 0/1 [00:00<?, ?it/s]"
      ]
     },
     "metadata": {},
     "output_type": "display_data"
    },
    {
     "data": {
      "application/vnd.jupyter.widget-view+json": {
       "model_id": "78a0b784f6be49cf87823dc1005f5af6",
       "version_major": 2,
       "version_minor": 0
      },
      "text/plain": [
       "  0%|          | 0/911 [00:00<?, ?it/s]"
      ]
     },
     "metadata": {},
     "output_type": "display_data"
    },
    {
     "data": {
      "application/vnd.jupyter.widget-view+json": {
       "model_id": "fbf39e06a6734047bda7e85ef6e6009f",
       "version_major": 2,
       "version_minor": 0
      },
      "text/plain": [
       "  0%|          | 0/1 [00:00<?, ?it/s]"
      ]
     },
     "metadata": {},
     "output_type": "display_data"
    },
    {
     "data": {
      "application/vnd.jupyter.widget-view+json": {
       "model_id": "0fab37620bb2493cbbc3af962184f755",
       "version_major": 2,
       "version_minor": 0
      },
      "text/plain": [
       "  0%|          | 0/911 [00:00<?, ?it/s]"
      ]
     },
     "metadata": {},
     "output_type": "display_data"
    },
    {
     "data": {
      "application/vnd.jupyter.widget-view+json": {
       "model_id": "ce7156d02fca45bfa611abf0eff94866",
       "version_major": 2,
       "version_minor": 0
      },
      "text/plain": [
       "  0%|          | 0/1 [00:00<?, ?it/s]"
      ]
     },
     "metadata": {},
     "output_type": "display_data"
    },
    {
     "data": {
      "application/vnd.jupyter.widget-view+json": {
       "model_id": "ccc30ca265bc4e5c8de1470691312b09",
       "version_major": 2,
       "version_minor": 0
      },
      "text/plain": [
       "  0%|          | 0/911 [00:00<?, ?it/s]"
      ]
     },
     "metadata": {},
     "output_type": "display_data"
    },
    {
     "data": {
      "application/vnd.jupyter.widget-view+json": {
       "model_id": "999e2dc8a39144afa4d305bb1acbd89f",
       "version_major": 2,
       "version_minor": 0
      },
      "text/plain": [
       "  0%|          | 0/1 [00:00<?, ?it/s]"
      ]
     },
     "metadata": {},
     "output_type": "display_data"
    },
    {
     "data": {
      "application/vnd.jupyter.widget-view+json": {
       "model_id": "b13ba5a649694c859aae8c7145eea075",
       "version_major": 2,
       "version_minor": 0
      },
      "text/plain": [
       "  0%|          | 0/911 [00:00<?, ?it/s]"
      ]
     },
     "metadata": {},
     "output_type": "display_data"
    },
    {
     "data": {
      "application/vnd.jupyter.widget-view+json": {
       "model_id": "1df24937df4244e1afcecb6a2a54131a",
       "version_major": 2,
       "version_minor": 0
      },
      "text/plain": [
       "  0%|          | 0/1 [00:00<?, ?it/s]"
      ]
     },
     "metadata": {},
     "output_type": "display_data"
    },
    {
     "data": {
      "application/vnd.jupyter.widget-view+json": {
       "model_id": "5154889c9671478699240c0ab456facd",
       "version_major": 2,
       "version_minor": 0
      },
      "text/plain": [
       "  0%|          | 0/911 [00:00<?, ?it/s]"
      ]
     },
     "metadata": {},
     "output_type": "display_data"
    },
    {
     "data": {
      "application/vnd.jupyter.widget-view+json": {
       "model_id": "6e04907c64734e81b7f56218b066f624",
       "version_major": 2,
       "version_minor": 0
      },
      "text/plain": [
       "  0%|          | 0/1 [00:00<?, ?it/s]"
      ]
     },
     "metadata": {},
     "output_type": "display_data"
    },
    {
     "data": {
      "application/vnd.jupyter.widget-view+json": {
       "model_id": "37a25d3000e34b6bafa47c7fc557da5f",
       "version_major": 2,
       "version_minor": 0
      },
      "text/plain": [
       "  0%|          | 0/911 [00:00<?, ?it/s]"
      ]
     },
     "metadata": {},
     "output_type": "display_data"
    },
    {
     "data": {
      "application/vnd.jupyter.widget-view+json": {
       "model_id": "b424fc78bd074159abd2a5ab320ed463",
       "version_major": 2,
       "version_minor": 0
      },
      "text/plain": [
       "  0%|          | 0/1 [00:00<?, ?it/s]"
      ]
     },
     "metadata": {},
     "output_type": "display_data"
    },
    {
     "data": {
      "application/vnd.jupyter.widget-view+json": {
       "model_id": "c40ddf5bb9c04b3eacd00c9ad44e1743",
       "version_major": 2,
       "version_minor": 0
      },
      "text/plain": [
       "  0%|          | 0/911 [00:00<?, ?it/s]"
      ]
     },
     "metadata": {},
     "output_type": "display_data"
    },
    {
     "data": {
      "application/vnd.jupyter.widget-view+json": {
       "model_id": "dac5f2eb2aaf4c958b28f3bd0cac6302",
       "version_major": 2,
       "version_minor": 0
      },
      "text/plain": [
       "  0%|          | 0/1 [00:00<?, ?it/s]"
      ]
     },
     "metadata": {},
     "output_type": "display_data"
    },
    {
     "data": {
      "application/vnd.jupyter.widget-view+json": {
       "model_id": "e918483637a54151be04cd4aec412638",
       "version_major": 2,
       "version_minor": 0
      },
      "text/plain": [
       "  0%|          | 0/911 [00:00<?, ?it/s]"
      ]
     },
     "metadata": {},
     "output_type": "display_data"
    },
    {
     "data": {
      "application/vnd.jupyter.widget-view+json": {
       "model_id": "36c1d9aef93d4b30a969fdba39461578",
       "version_major": 2,
       "version_minor": 0
      },
      "text/plain": [
       "  0%|          | 0/1 [00:00<?, ?it/s]"
      ]
     },
     "metadata": {},
     "output_type": "display_data"
    },
    {
     "data": {
      "application/vnd.jupyter.widget-view+json": {
       "model_id": "15ea0be271db45a2a584385e7786762f",
       "version_major": 2,
       "version_minor": 0
      },
      "text/plain": [
       "  0%|          | 0/911 [00:00<?, ?it/s]"
      ]
     },
     "metadata": {},
     "output_type": "display_data"
    },
    {
     "data": {
      "application/vnd.jupyter.widget-view+json": {
       "model_id": "d558522ef0264a809b6696dec972e836",
       "version_major": 2,
       "version_minor": 0
      },
      "text/plain": [
       "  0%|          | 0/1 [00:00<?, ?it/s]"
      ]
     },
     "metadata": {},
     "output_type": "display_data"
    },
    {
     "data": {
      "application/vnd.jupyter.widget-view+json": {
       "model_id": "12187a8fa21740979d7c9f184925382d",
       "version_major": 2,
       "version_minor": 0
      },
      "text/plain": [
       "  0%|          | 0/911 [00:00<?, ?it/s]"
      ]
     },
     "metadata": {},
     "output_type": "display_data"
    },
    {
     "data": {
      "application/vnd.jupyter.widget-view+json": {
       "model_id": "0cceccbe6dbf46568328c38d0439f5b7",
       "version_major": 2,
       "version_minor": 0
      },
      "text/plain": [
       "  0%|          | 0/1 [00:00<?, ?it/s]"
      ]
     },
     "metadata": {},
     "output_type": "display_data"
    },
    {
     "data": {
      "application/vnd.jupyter.widget-view+json": {
       "model_id": "a303050e652840a6adda0cd9efa34f7f",
       "version_major": 2,
       "version_minor": 0
      },
      "text/plain": [
       "  0%|          | 0/911 [00:00<?, ?it/s]"
      ]
     },
     "metadata": {},
     "output_type": "display_data"
    },
    {
     "data": {
      "application/vnd.jupyter.widget-view+json": {
       "model_id": "a9a176165f4c4c1083f583091301c9f3",
       "version_major": 2,
       "version_minor": 0
      },
      "text/plain": [
       "  0%|          | 0/1 [00:00<?, ?it/s]"
      ]
     },
     "metadata": {},
     "output_type": "display_data"
    },
    {
     "data": {
      "application/vnd.jupyter.widget-view+json": {
       "model_id": "2137921cecd1468ba0ca5ae626901c57",
       "version_major": 2,
       "version_minor": 0
      },
      "text/plain": [
       "  0%|          | 0/911 [00:00<?, ?it/s]"
      ]
     },
     "metadata": {},
     "output_type": "display_data"
    },
    {
     "data": {
      "application/vnd.jupyter.widget-view+json": {
       "model_id": "1e3a75af48f44f92b8413179b992ab7f",
       "version_major": 2,
       "version_minor": 0
      },
      "text/plain": [
       "  0%|          | 0/1 [00:00<?, ?it/s]"
      ]
     },
     "metadata": {},
     "output_type": "display_data"
    },
    {
     "data": {
      "application/vnd.jupyter.widget-view+json": {
       "model_id": "73a76c138f0a4cbcbdf297ab45d65a00",
       "version_major": 2,
       "version_minor": 0
      },
      "text/plain": [
       "  0%|          | 0/911 [00:00<?, ?it/s]"
      ]
     },
     "metadata": {},
     "output_type": "display_data"
    },
    {
     "data": {
      "application/vnd.jupyter.widget-view+json": {
       "model_id": "8cfbfe0d6263472a9f33355ce61cc02a",
       "version_major": 2,
       "version_minor": 0
      },
      "text/plain": [
       "  0%|          | 0/1 [00:00<?, ?it/s]"
      ]
     },
     "metadata": {},
     "output_type": "display_data"
    },
    {
     "data": {
      "application/vnd.jupyter.widget-view+json": {
       "model_id": "479f917713e44580bd2826ce2d1e48ca",
       "version_major": 2,
       "version_minor": 0
      },
      "text/plain": [
       "  0%|          | 0/911 [00:00<?, ?it/s]"
      ]
     },
     "metadata": {},
     "output_type": "display_data"
    },
    {
     "data": {
      "application/vnd.jupyter.widget-view+json": {
       "model_id": "d672d808f4fb439081f31376a3d71f82",
       "version_major": 2,
       "version_minor": 0
      },
      "text/plain": [
       "  0%|          | 0/1 [00:00<?, ?it/s]"
      ]
     },
     "metadata": {},
     "output_type": "display_data"
    },
    {
     "data": {
      "application/vnd.jupyter.widget-view+json": {
       "model_id": "a6708863d14b4025b287bf0562d2405b",
       "version_major": 2,
       "version_minor": 0
      },
      "text/plain": [
       "  0%|          | 0/911 [00:00<?, ?it/s]"
      ]
     },
     "metadata": {},
     "output_type": "display_data"
    },
    {
     "data": {
      "application/vnd.jupyter.widget-view+json": {
       "model_id": "d91c6641773b427aaf9d9ece81d3bfd9",
       "version_major": 2,
       "version_minor": 0
      },
      "text/plain": [
       "  0%|          | 0/1 [00:00<?, ?it/s]"
      ]
     },
     "metadata": {},
     "output_type": "display_data"
    },
    {
     "data": {
      "application/vnd.jupyter.widget-view+json": {
       "model_id": "9245735864934d768cf9082b1ad5c70b",
       "version_major": 2,
       "version_minor": 0
      },
      "text/plain": [
       "  0%|          | 0/911 [00:00<?, ?it/s]"
      ]
     },
     "metadata": {},
     "output_type": "display_data"
    },
    {
     "data": {
      "application/vnd.jupyter.widget-view+json": {
       "model_id": "4cdb44fd3f494240ac2aa8cfff327ce8",
       "version_major": 2,
       "version_minor": 0
      },
      "text/plain": [
       "  0%|          | 0/1 [00:00<?, ?it/s]"
      ]
     },
     "metadata": {},
     "output_type": "display_data"
    },
    {
     "data": {
      "application/vnd.jupyter.widget-view+json": {
       "model_id": "7f3515d910cf4098ad9a2eb2f525ea61",
       "version_major": 2,
       "version_minor": 0
      },
      "text/plain": [
       "  0%|          | 0/911 [00:00<?, ?it/s]"
      ]
     },
     "metadata": {},
     "output_type": "display_data"
    },
    {
     "data": {
      "application/vnd.jupyter.widget-view+json": {
       "model_id": "3f561144f9994abfac76b1e53e1f3d4e",
       "version_major": 2,
       "version_minor": 0
      },
      "text/plain": [
       "  0%|          | 0/1 [00:00<?, ?it/s]"
      ]
     },
     "metadata": {},
     "output_type": "display_data"
    },
    {
     "data": {
      "application/vnd.jupyter.widget-view+json": {
       "model_id": "ad557258677349a19b42cf0bf589dc40",
       "version_major": 2,
       "version_minor": 0
      },
      "text/plain": [
       "  0%|          | 0/911 [00:00<?, ?it/s]"
      ]
     },
     "metadata": {},
     "output_type": "display_data"
    },
    {
     "data": {
      "application/vnd.jupyter.widget-view+json": {
       "model_id": "02de09bf671845dd87d14720c011c474",
       "version_major": 2,
       "version_minor": 0
      },
      "text/plain": [
       "  0%|          | 0/1 [00:00<?, ?it/s]"
      ]
     },
     "metadata": {},
     "output_type": "display_data"
    },
    {
     "data": {
      "application/vnd.jupyter.widget-view+json": {
       "model_id": "37bd41e8949042e1b583deb2816b9f20",
       "version_major": 2,
       "version_minor": 0
      },
      "text/plain": [
       "  0%|          | 0/911 [00:00<?, ?it/s]"
      ]
     },
     "metadata": {},
     "output_type": "display_data"
    },
    {
     "data": {
      "application/vnd.jupyter.widget-view+json": {
       "model_id": "98601ad59fc0425e87446fb86a4667f4",
       "version_major": 2,
       "version_minor": 0
      },
      "text/plain": [
       "  0%|          | 0/1 [00:00<?, ?it/s]"
      ]
     },
     "metadata": {},
     "output_type": "display_data"
    },
    {
     "data": {
      "application/vnd.jupyter.widget-view+json": {
       "model_id": "fa9bae2e52964923bbcafc95e606a894",
       "version_major": 2,
       "version_minor": 0
      },
      "text/plain": [
       "  0%|          | 0/911 [00:00<?, ?it/s]"
      ]
     },
     "metadata": {},
     "output_type": "display_data"
    },
    {
     "data": {
      "application/vnd.jupyter.widget-view+json": {
       "model_id": "ae9af12b9af74597879f1438a11563fb",
       "version_major": 2,
       "version_minor": 0
      },
      "text/plain": [
       "  0%|          | 0/1 [00:00<?, ?it/s]"
      ]
     },
     "metadata": {},
     "output_type": "display_data"
    },
    {
     "data": {
      "application/vnd.jupyter.widget-view+json": {
       "model_id": "0e4b27ff862244978c885c11d535e65d",
       "version_major": 2,
       "version_minor": 0
      },
      "text/plain": [
       "  0%|          | 0/911 [00:00<?, ?it/s]"
      ]
     },
     "metadata": {},
     "output_type": "display_data"
    },
    {
     "data": {
      "application/vnd.jupyter.widget-view+json": {
       "model_id": "68d26603c0634b4b89cbcb55804cdd17",
       "version_major": 2,
       "version_minor": 0
      },
      "text/plain": [
       "  0%|          | 0/1 [00:00<?, ?it/s]"
      ]
     },
     "metadata": {},
     "output_type": "display_data"
    },
    {
     "data": {
      "application/vnd.jupyter.widget-view+json": {
       "model_id": "74ac321920dc40ebad8c43d7e98b0240",
       "version_major": 2,
       "version_minor": 0
      },
      "text/plain": [
       "  0%|          | 0/911 [00:00<?, ?it/s]"
      ]
     },
     "metadata": {},
     "output_type": "display_data"
    },
    {
     "data": {
      "application/vnd.jupyter.widget-view+json": {
       "model_id": "4f4bfaa73d4e4c52872bd5c433a3a08a",
       "version_major": 2,
       "version_minor": 0
      },
      "text/plain": [
       "  0%|          | 0/1 [00:00<?, ?it/s]"
      ]
     },
     "metadata": {},
     "output_type": "display_data"
    },
    {
     "data": {
      "application/vnd.jupyter.widget-view+json": {
       "model_id": "cefdfcfb4e234f06a6420a447f504965",
       "version_major": 2,
       "version_minor": 0
      },
      "text/plain": [
       "  0%|          | 0/911 [00:00<?, ?it/s]"
      ]
     },
     "metadata": {},
     "output_type": "display_data"
    },
    {
     "data": {
      "application/vnd.jupyter.widget-view+json": {
       "model_id": "402fcb2f9ff549d094e2584a6cab23e7",
       "version_major": 2,
       "version_minor": 0
      },
      "text/plain": [
       "  0%|          | 0/1 [00:00<?, ?it/s]"
      ]
     },
     "metadata": {},
     "output_type": "display_data"
    },
    {
     "data": {
      "application/vnd.jupyter.widget-view+json": {
       "model_id": "ed3a583699df4b8986220be1132264b5",
       "version_major": 2,
       "version_minor": 0
      },
      "text/plain": [
       "  0%|          | 0/911 [00:00<?, ?it/s]"
      ]
     },
     "metadata": {},
     "output_type": "display_data"
    },
    {
     "data": {
      "application/vnd.jupyter.widget-view+json": {
       "model_id": "129baa94fab240b48d0b752b6ccdbfea",
       "version_major": 2,
       "version_minor": 0
      },
      "text/plain": [
       "  0%|          | 0/1 [00:00<?, ?it/s]"
      ]
     },
     "metadata": {},
     "output_type": "display_data"
    },
    {
     "data": {
      "application/vnd.jupyter.widget-view+json": {
       "model_id": "df0a6d241e984cbda8aa8468ece8042b",
       "version_major": 2,
       "version_minor": 0
      },
      "text/plain": [
       "  0%|          | 0/911 [00:00<?, ?it/s]"
      ]
     },
     "metadata": {},
     "output_type": "display_data"
    },
    {
     "data": {
      "application/vnd.jupyter.widget-view+json": {
       "model_id": "51142fafe9244eb8a2a1e718b87b08d8",
       "version_major": 2,
       "version_minor": 0
      },
      "text/plain": [
       "  0%|          | 0/1 [00:00<?, ?it/s]"
      ]
     },
     "metadata": {},
     "output_type": "display_data"
    },
    {
     "data": {
      "application/vnd.jupyter.widget-view+json": {
       "model_id": "1d09dbcc139849a48fee4cfa6015191e",
       "version_major": 2,
       "version_minor": 0
      },
      "text/plain": [
       "  0%|          | 0/911 [00:00<?, ?it/s]"
      ]
     },
     "metadata": {},
     "output_type": "display_data"
    },
    {
     "data": {
      "application/vnd.jupyter.widget-view+json": {
       "model_id": "1674169855394bb591a230d1dd3aed27",
       "version_major": 2,
       "version_minor": 0
      },
      "text/plain": [
       "  0%|          | 0/1 [00:00<?, ?it/s]"
      ]
     },
     "metadata": {},
     "output_type": "display_data"
    },
    {
     "data": {
      "application/vnd.jupyter.widget-view+json": {
       "model_id": "6328615065c643159bbca7d486c229b1",
       "version_major": 2,
       "version_minor": 0
      },
      "text/plain": [
       "  0%|          | 0/911 [00:00<?, ?it/s]"
      ]
     },
     "metadata": {},
     "output_type": "display_data"
    },
    {
     "data": {
      "application/vnd.jupyter.widget-view+json": {
       "model_id": "5c7381d8e6c04d55a55cb05df027f957",
       "version_major": 2,
       "version_minor": 0
      },
      "text/plain": [
       "  0%|          | 0/1 [00:00<?, ?it/s]"
      ]
     },
     "metadata": {},
     "output_type": "display_data"
    },
    {
     "data": {
      "application/vnd.jupyter.widget-view+json": {
       "model_id": "a6adfd3c87fb4bd1926769440ab9bd37",
       "version_major": 2,
       "version_minor": 0
      },
      "text/plain": [
       "  0%|          | 0/911 [00:00<?, ?it/s]"
      ]
     },
     "metadata": {},
     "output_type": "display_data"
    },
    {
     "data": {
      "application/vnd.jupyter.widget-view+json": {
       "model_id": "69370ff64daf47c59e0903093eefd423",
       "version_major": 2,
       "version_minor": 0
      },
      "text/plain": [
       "  0%|          | 0/1 [00:00<?, ?it/s]"
      ]
     },
     "metadata": {},
     "output_type": "display_data"
    },
    {
     "data": {
      "application/vnd.jupyter.widget-view+json": {
       "model_id": "310785ba2dcc4cf8bba6e3fa1a85e8a9",
       "version_major": 2,
       "version_minor": 0
      },
      "text/plain": [
       "  0%|          | 0/911 [00:00<?, ?it/s]"
      ]
     },
     "metadata": {},
     "output_type": "display_data"
    },
    {
     "data": {
      "application/vnd.jupyter.widget-view+json": {
       "model_id": "2a5efd8164594be3b476b4fdbfd8a95c",
       "version_major": 2,
       "version_minor": 0
      },
      "text/plain": [
       "  0%|          | 0/1 [00:00<?, ?it/s]"
      ]
     },
     "metadata": {},
     "output_type": "display_data"
    },
    {
     "data": {
      "application/vnd.jupyter.widget-view+json": {
       "model_id": "1ad85c3f951f403bb2ccb479fa30b3d7",
       "version_major": 2,
       "version_minor": 0
      },
      "text/plain": [
       "  0%|          | 0/911 [00:00<?, ?it/s]"
      ]
     },
     "metadata": {},
     "output_type": "display_data"
    },
    {
     "data": {
      "application/vnd.jupyter.widget-view+json": {
       "model_id": "a395fe97b57c4ddf9ffa122c41c4f394",
       "version_major": 2,
       "version_minor": 0
      },
      "text/plain": [
       "  0%|          | 0/1 [00:00<?, ?it/s]"
      ]
     },
     "metadata": {},
     "output_type": "display_data"
    },
    {
     "data": {
      "application/vnd.jupyter.widget-view+json": {
       "model_id": "3ef68cd163e944a8bb4df3060eafbe79",
       "version_major": 2,
       "version_minor": 0
      },
      "text/plain": [
       "  0%|          | 0/911 [00:00<?, ?it/s]"
      ]
     },
     "metadata": {},
     "output_type": "display_data"
    },
    {
     "data": {
      "application/vnd.jupyter.widget-view+json": {
       "model_id": "58ee61e2d89a4ccea8bc98de2678efed",
       "version_major": 2,
       "version_minor": 0
      },
      "text/plain": [
       "  0%|          | 0/1 [00:00<?, ?it/s]"
      ]
     },
     "metadata": {},
     "output_type": "display_data"
    },
    {
     "data": {
      "application/vnd.jupyter.widget-view+json": {
       "model_id": "6406e950593d41219daf5f03532af2dd",
       "version_major": 2,
       "version_minor": 0
      },
      "text/plain": [
       "  0%|          | 0/911 [00:00<?, ?it/s]"
      ]
     },
     "metadata": {},
     "output_type": "display_data"
    },
    {
     "data": {
      "application/vnd.jupyter.widget-view+json": {
       "model_id": "26a80297eb874c999c3d3a9327ba24f5",
       "version_major": 2,
       "version_minor": 0
      },
      "text/plain": [
       "  0%|          | 0/1 [00:00<?, ?it/s]"
      ]
     },
     "metadata": {},
     "output_type": "display_data"
    },
    {
     "data": {
      "application/vnd.jupyter.widget-view+json": {
       "model_id": "b1574a70b24e4ff8bd3ec6ea2ba078f4",
       "version_major": 2,
       "version_minor": 0
      },
      "text/plain": [
       "  0%|          | 0/911 [00:00<?, ?it/s]"
      ]
     },
     "metadata": {},
     "output_type": "display_data"
    },
    {
     "data": {
      "application/vnd.jupyter.widget-view+json": {
       "model_id": "fb443b4c587c490bae590841399a6890",
       "version_major": 2,
       "version_minor": 0
      },
      "text/plain": [
       "  0%|          | 0/1 [00:00<?, ?it/s]"
      ]
     },
     "metadata": {},
     "output_type": "display_data"
    },
    {
     "data": {
      "application/vnd.jupyter.widget-view+json": {
       "model_id": "ccb4bc3dd94a4a1794220bc132b9abb2",
       "version_major": 2,
       "version_minor": 0
      },
      "text/plain": [
       "  0%|          | 0/911 [00:00<?, ?it/s]"
      ]
     },
     "metadata": {},
     "output_type": "display_data"
    },
    {
     "data": {
      "application/vnd.jupyter.widget-view+json": {
       "model_id": "aec99f72452042559362d2ce865bc239",
       "version_major": 2,
       "version_minor": 0
      },
      "text/plain": [
       "  0%|          | 0/1 [00:00<?, ?it/s]"
      ]
     },
     "metadata": {},
     "output_type": "display_data"
    },
    {
     "data": {
      "application/vnd.jupyter.widget-view+json": {
       "model_id": "dfda1f36ec574b90a3ecb68b059b2955",
       "version_major": 2,
       "version_minor": 0
      },
      "text/plain": [
       "  0%|          | 0/911 [00:00<?, ?it/s]"
      ]
     },
     "metadata": {},
     "output_type": "display_data"
    },
    {
     "data": {
      "application/vnd.jupyter.widget-view+json": {
       "model_id": "a70261b21fb64ecba4665656c9aaebfc",
       "version_major": 2,
       "version_minor": 0
      },
      "text/plain": [
       "  0%|          | 0/1 [00:00<?, ?it/s]"
      ]
     },
     "metadata": {},
     "output_type": "display_data"
    },
    {
     "data": {
      "application/vnd.jupyter.widget-view+json": {
       "model_id": "ab1bfff00d964d9ebc09cd4bd044c965",
       "version_major": 2,
       "version_minor": 0
      },
      "text/plain": [
       "  0%|          | 0/911 [00:00<?, ?it/s]"
      ]
     },
     "metadata": {},
     "output_type": "display_data"
    },
    {
     "data": {
      "application/vnd.jupyter.widget-view+json": {
       "model_id": "173069430ab04795bc6a1eb07af689b0",
       "version_major": 2,
       "version_minor": 0
      },
      "text/plain": [
       "  0%|          | 0/1 [00:00<?, ?it/s]"
      ]
     },
     "metadata": {},
     "output_type": "display_data"
    },
    {
     "data": {
      "application/vnd.jupyter.widget-view+json": {
       "model_id": "620aa1ef0f0c4dbb9f62a392cd8c3320",
       "version_major": 2,
       "version_minor": 0
      },
      "text/plain": [
       "  0%|          | 0/911 [00:00<?, ?it/s]"
      ]
     },
     "metadata": {},
     "output_type": "display_data"
    },
    {
     "data": {
      "application/vnd.jupyter.widget-view+json": {
       "model_id": "755ef7007f55495cbffca18a5a38206e",
       "version_major": 2,
       "version_minor": 0
      },
      "text/plain": [
       "  0%|          | 0/1 [00:00<?, ?it/s]"
      ]
     },
     "metadata": {},
     "output_type": "display_data"
    },
    {
     "data": {
      "application/vnd.jupyter.widget-view+json": {
       "model_id": "d441ebc5d6a540029220075d7749563f",
       "version_major": 2,
       "version_minor": 0
      },
      "text/plain": [
       "  0%|          | 0/911 [00:00<?, ?it/s]"
      ]
     },
     "metadata": {},
     "output_type": "display_data"
    },
    {
     "data": {
      "application/vnd.jupyter.widget-view+json": {
       "model_id": "d7cc731b899d41df96aa07a468cedc2a",
       "version_major": 2,
       "version_minor": 0
      },
      "text/plain": [
       "  0%|          | 0/1 [00:00<?, ?it/s]"
      ]
     },
     "metadata": {},
     "output_type": "display_data"
    },
    {
     "data": {
      "application/vnd.jupyter.widget-view+json": {
       "model_id": "3c193979cd1b425bbc19066b9882edc7",
       "version_major": 2,
       "version_minor": 0
      },
      "text/plain": [
       "  0%|          | 0/911 [00:00<?, ?it/s]"
      ]
     },
     "metadata": {},
     "output_type": "display_data"
    },
    {
     "data": {
      "application/vnd.jupyter.widget-view+json": {
       "model_id": "b484162ef75a49fc88c665c6524f9af0",
       "version_major": 2,
       "version_minor": 0
      },
      "text/plain": [
       "  0%|          | 0/1 [00:00<?, ?it/s]"
      ]
     },
     "metadata": {},
     "output_type": "display_data"
    },
    {
     "data": {
      "application/vnd.jupyter.widget-view+json": {
       "model_id": "c7932a9e696d43ca933a4e69ce7ad169",
       "version_major": 2,
       "version_minor": 0
      },
      "text/plain": [
       "  0%|          | 0/911 [00:00<?, ?it/s]"
      ]
     },
     "metadata": {},
     "output_type": "display_data"
    },
    {
     "data": {
      "application/vnd.jupyter.widget-view+json": {
       "model_id": "84ba543f93a142c0b00eb2e914d2cbb1",
       "version_major": 2,
       "version_minor": 0
      },
      "text/plain": [
       "  0%|          | 0/1 [00:00<?, ?it/s]"
      ]
     },
     "metadata": {},
     "output_type": "display_data"
    },
    {
     "data": {
      "application/vnd.jupyter.widget-view+json": {
       "model_id": "bdb08c3033084777884252113d7d475e",
       "version_major": 2,
       "version_minor": 0
      },
      "text/plain": [
       "  0%|          | 0/911 [00:00<?, ?it/s]"
      ]
     },
     "metadata": {},
     "output_type": "display_data"
    },
    {
     "data": {
      "application/vnd.jupyter.widget-view+json": {
       "model_id": "5a5ef66b6b9b4cc8a67c9c7a2336bf18",
       "version_major": 2,
       "version_minor": 0
      },
      "text/plain": [
       "  0%|          | 0/1 [00:00<?, ?it/s]"
      ]
     },
     "metadata": {},
     "output_type": "display_data"
    },
    {
     "data": {
      "application/vnd.jupyter.widget-view+json": {
       "model_id": "85953ddea24d4e9281123a1d0b84da9d",
       "version_major": 2,
       "version_minor": 0
      },
      "text/plain": [
       "  0%|          | 0/911 [00:00<?, ?it/s]"
      ]
     },
     "metadata": {},
     "output_type": "display_data"
    },
    {
     "data": {
      "application/vnd.jupyter.widget-view+json": {
       "model_id": "1961096aee6647abb2669692d3cb6163",
       "version_major": 2,
       "version_minor": 0
      },
      "text/plain": [
       "  0%|          | 0/1 [00:00<?, ?it/s]"
      ]
     },
     "metadata": {},
     "output_type": "display_data"
    },
    {
     "data": {
      "application/vnd.jupyter.widget-view+json": {
       "model_id": "a203b7c0206e48fe9926d868db239c4b",
       "version_major": 2,
       "version_minor": 0
      },
      "text/plain": [
       "  0%|          | 0/911 [00:00<?, ?it/s]"
      ]
     },
     "metadata": {},
     "output_type": "display_data"
    },
    {
     "data": {
      "application/vnd.jupyter.widget-view+json": {
       "model_id": "bfeba42373254ce2b8bdc950f3eb1d4c",
       "version_major": 2,
       "version_minor": 0
      },
      "text/plain": [
       "  0%|          | 0/1 [00:00<?, ?it/s]"
      ]
     },
     "metadata": {},
     "output_type": "display_data"
    },
    {
     "data": {
      "application/vnd.jupyter.widget-view+json": {
       "model_id": "81daf588a59349b8a729207f472d783b",
       "version_major": 2,
       "version_minor": 0
      },
      "text/plain": [
       "  0%|          | 0/911 [00:00<?, ?it/s]"
      ]
     },
     "metadata": {},
     "output_type": "display_data"
    },
    {
     "data": {
      "application/vnd.jupyter.widget-view+json": {
       "model_id": "b245feb75a774de7a6dd59bcecff09eb",
       "version_major": 2,
       "version_minor": 0
      },
      "text/plain": [
       "  0%|          | 0/1 [00:00<?, ?it/s]"
      ]
     },
     "metadata": {},
     "output_type": "display_data"
    },
    {
     "data": {
      "application/vnd.jupyter.widget-view+json": {
       "model_id": "2daf8683dead4ed4b2f2d960cd07cda9",
       "version_major": 2,
       "version_minor": 0
      },
      "text/plain": [
       "  0%|          | 0/911 [00:00<?, ?it/s]"
      ]
     },
     "metadata": {},
     "output_type": "display_data"
    },
    {
     "data": {
      "application/vnd.jupyter.widget-view+json": {
       "model_id": "67dbd42dfaab4477ba5a4745a680f982",
       "version_major": 2,
       "version_minor": 0
      },
      "text/plain": [
       "  0%|          | 0/1 [00:00<?, ?it/s]"
      ]
     },
     "metadata": {},
     "output_type": "display_data"
    },
    {
     "data": {
      "application/vnd.jupyter.widget-view+json": {
       "model_id": "9dc6f22937094422aafe16b99a757535",
       "version_major": 2,
       "version_minor": 0
      },
      "text/plain": [
       "  0%|          | 0/911 [00:00<?, ?it/s]"
      ]
     },
     "metadata": {},
     "output_type": "display_data"
    },
    {
     "data": {
      "application/vnd.jupyter.widget-view+json": {
       "model_id": "550af924fb354d7ca908ff63b07ad810",
       "version_major": 2,
       "version_minor": 0
      },
      "text/plain": [
       "  0%|          | 0/1 [00:00<?, ?it/s]"
      ]
     },
     "metadata": {},
     "output_type": "display_data"
    },
    {
     "data": {
      "application/vnd.jupyter.widget-view+json": {
       "model_id": "091e803c152d4f72a871ae2160633d71",
       "version_major": 2,
       "version_minor": 0
      },
      "text/plain": [
       "  0%|          | 0/911 [00:00<?, ?it/s]"
      ]
     },
     "metadata": {},
     "output_type": "display_data"
    },
    {
     "data": {
      "application/vnd.jupyter.widget-view+json": {
       "model_id": "f7dc57ac5f604df0a36157017b7a1969",
       "version_major": 2,
       "version_minor": 0
      },
      "text/plain": [
       "  0%|          | 0/1 [00:00<?, ?it/s]"
      ]
     },
     "metadata": {},
     "output_type": "display_data"
    },
    {
     "data": {
      "application/vnd.jupyter.widget-view+json": {
       "model_id": "ab473f9dc5b84900b45c48ee1f4a70f8",
       "version_major": 2,
       "version_minor": 0
      },
      "text/plain": [
       "  0%|          | 0/911 [00:00<?, ?it/s]"
      ]
     },
     "metadata": {},
     "output_type": "display_data"
    },
    {
     "data": {
      "application/vnd.jupyter.widget-view+json": {
       "model_id": "43a75d7b2d3e4d32bbd8095439cb8556",
       "version_major": 2,
       "version_minor": 0
      },
      "text/plain": [
       "  0%|          | 0/1 [00:00<?, ?it/s]"
      ]
     },
     "metadata": {},
     "output_type": "display_data"
    },
    {
     "data": {
      "application/vnd.jupyter.widget-view+json": {
       "model_id": "039fc1d2e428422eaa47bd67748496b5",
       "version_major": 2,
       "version_minor": 0
      },
      "text/plain": [
       "  0%|          | 0/911 [00:00<?, ?it/s]"
      ]
     },
     "metadata": {},
     "output_type": "display_data"
    },
    {
     "data": {
      "application/vnd.jupyter.widget-view+json": {
       "model_id": "9eadf8041aeb4f4492ded9bfe3440433",
       "version_major": 2,
       "version_minor": 0
      },
      "text/plain": [
       "  0%|          | 0/1 [00:00<?, ?it/s]"
      ]
     },
     "metadata": {},
     "output_type": "display_data"
    },
    {
     "data": {
      "application/vnd.jupyter.widget-view+json": {
       "model_id": "dc6f48d2ebf6477c9f1e856b8549e47a",
       "version_major": 2,
       "version_minor": 0
      },
      "text/plain": [
       "  0%|          | 0/911 [00:00<?, ?it/s]"
      ]
     },
     "metadata": {},
     "output_type": "display_data"
    },
    {
     "data": {
      "application/vnd.jupyter.widget-view+json": {
       "model_id": "0d0c05ba74d7449d81073bc65701a2b9",
       "version_major": 2,
       "version_minor": 0
      },
      "text/plain": [
       "  0%|          | 0/1 [00:00<?, ?it/s]"
      ]
     },
     "metadata": {},
     "output_type": "display_data"
    },
    {
     "data": {
      "application/vnd.jupyter.widget-view+json": {
       "model_id": "9e84131f790f49cdad1fe3b092972edd",
       "version_major": 2,
       "version_minor": 0
      },
      "text/plain": [
       "  0%|          | 0/911 [00:00<?, ?it/s]"
      ]
     },
     "metadata": {},
     "output_type": "display_data"
    },
    {
     "data": {
      "application/vnd.jupyter.widget-view+json": {
       "model_id": "8bc07e7f701b4a7e9095bb70869eaedc",
       "version_major": 2,
       "version_minor": 0
      },
      "text/plain": [
       "  0%|          | 0/1 [00:00<?, ?it/s]"
      ]
     },
     "metadata": {},
     "output_type": "display_data"
    },
    {
     "data": {
      "application/vnd.jupyter.widget-view+json": {
       "model_id": "28bbc4d1b36d4e079580b54018ef6a69",
       "version_major": 2,
       "version_minor": 0
      },
      "text/plain": [
       "  0%|          | 0/911 [00:00<?, ?it/s]"
      ]
     },
     "metadata": {},
     "output_type": "display_data"
    },
    {
     "data": {
      "application/vnd.jupyter.widget-view+json": {
       "model_id": "88291771c2ea407da8ecc360b1055887",
       "version_major": 2,
       "version_minor": 0
      },
      "text/plain": [
       "  0%|          | 0/1 [00:00<?, ?it/s]"
      ]
     },
     "metadata": {},
     "output_type": "display_data"
    },
    {
     "data": {
      "application/vnd.jupyter.widget-view+json": {
       "model_id": "790cad5b449c4070a9ec523ada783139",
       "version_major": 2,
       "version_minor": 0
      },
      "text/plain": [
       "  0%|          | 0/911 [00:00<?, ?it/s]"
      ]
     },
     "metadata": {},
     "output_type": "display_data"
    },
    {
     "data": {
      "application/vnd.jupyter.widget-view+json": {
       "model_id": "1468703557684260bcb2d6f711e6beb7",
       "version_major": 2,
       "version_minor": 0
      },
      "text/plain": [
       "  0%|          | 0/1 [00:00<?, ?it/s]"
      ]
     },
     "metadata": {},
     "output_type": "display_data"
    },
    {
     "data": {
      "application/vnd.jupyter.widget-view+json": {
       "model_id": "34e9682611624c838d78403f2e156acf",
       "version_major": 2,
       "version_minor": 0
      },
      "text/plain": [
       "  0%|          | 0/911 [00:00<?, ?it/s]"
      ]
     },
     "metadata": {},
     "output_type": "display_data"
    },
    {
     "data": {
      "application/vnd.jupyter.widget-view+json": {
       "model_id": "ade368b2ad1f488aaf591324487cd8a9",
       "version_major": 2,
       "version_minor": 0
      },
      "text/plain": [
       "  0%|          | 0/1 [00:00<?, ?it/s]"
      ]
     },
     "metadata": {},
     "output_type": "display_data"
    },
    {
     "data": {
      "application/vnd.jupyter.widget-view+json": {
       "model_id": "55e1cce5852b4e34b3a0bd28998d426f",
       "version_major": 2,
       "version_minor": 0
      },
      "text/plain": [
       "  0%|          | 0/911 [00:00<?, ?it/s]"
      ]
     },
     "metadata": {},
     "output_type": "display_data"
    },
    {
     "data": {
      "application/vnd.jupyter.widget-view+json": {
       "model_id": "c7f37e8203c94e69999a6ba159d13169",
       "version_major": 2,
       "version_minor": 0
      },
      "text/plain": [
       "  0%|          | 0/1 [00:00<?, ?it/s]"
      ]
     },
     "metadata": {},
     "output_type": "display_data"
    },
    {
     "data": {
      "application/vnd.jupyter.widget-view+json": {
       "model_id": "d4f5a11f3c534ef88fef0e5da5d42bdb",
       "version_major": 2,
       "version_minor": 0
      },
      "text/plain": [
       "  0%|          | 0/911 [00:00<?, ?it/s]"
      ]
     },
     "metadata": {},
     "output_type": "display_data"
    },
    {
     "data": {
      "application/vnd.jupyter.widget-view+json": {
       "model_id": "6e15bfd18b18416fbfdbccfc4ab8889e",
       "version_major": 2,
       "version_minor": 0
      },
      "text/plain": [
       "  0%|          | 0/1 [00:00<?, ?it/s]"
      ]
     },
     "metadata": {},
     "output_type": "display_data"
    },
    {
     "data": {
      "application/vnd.jupyter.widget-view+json": {
       "model_id": "5467dcb147dd4ce0b471998717b78f0a",
       "version_major": 2,
       "version_minor": 0
      },
      "text/plain": [
       "  0%|          | 0/911 [00:00<?, ?it/s]"
      ]
     },
     "metadata": {},
     "output_type": "display_data"
    },
    {
     "data": {
      "application/vnd.jupyter.widget-view+json": {
       "model_id": "6fa032c48b7c4d7d846c8ab73be47321",
       "version_major": 2,
       "version_minor": 0
      },
      "text/plain": [
       "  0%|          | 0/1 [00:00<?, ?it/s]"
      ]
     },
     "metadata": {},
     "output_type": "display_data"
    },
    {
     "data": {
      "application/vnd.jupyter.widget-view+json": {
       "model_id": "1282dcb829c14317b9bae0c82a7eee43",
       "version_major": 2,
       "version_minor": 0
      },
      "text/plain": [
       "  0%|          | 0/911 [00:00<?, ?it/s]"
      ]
     },
     "metadata": {},
     "output_type": "display_data"
    },
    {
     "data": {
      "application/vnd.jupyter.widget-view+json": {
       "model_id": "45070988760c43fa9bbdffc459fe4582",
       "version_major": 2,
       "version_minor": 0
      },
      "text/plain": [
       "  0%|          | 0/1 [00:00<?, ?it/s]"
      ]
     },
     "metadata": {},
     "output_type": "display_data"
    },
    {
     "data": {
      "application/vnd.jupyter.widget-view+json": {
       "model_id": "184122df03c648968ec174fdc2d1eddc",
       "version_major": 2,
       "version_minor": 0
      },
      "text/plain": [
       "  0%|          | 0/911 [00:00<?, ?it/s]"
      ]
     },
     "metadata": {},
     "output_type": "display_data"
    },
    {
     "data": {
      "application/vnd.jupyter.widget-view+json": {
       "model_id": "9a4676434e0248e889ccf1511a17fa70",
       "version_major": 2,
       "version_minor": 0
      },
      "text/plain": [
       "  0%|          | 0/1 [00:00<?, ?it/s]"
      ]
     },
     "metadata": {},
     "output_type": "display_data"
    },
    {
     "data": {
      "application/vnd.jupyter.widget-view+json": {
       "model_id": "5636bbe631b24f5cbd4197eeb4cbb70c",
       "version_major": 2,
       "version_minor": 0
      },
      "text/plain": [
       "  0%|          | 0/911 [00:00<?, ?it/s]"
      ]
     },
     "metadata": {},
     "output_type": "display_data"
    },
    {
     "data": {
      "application/vnd.jupyter.widget-view+json": {
       "model_id": "385638aef54745f1aca39e0a122b7b18",
       "version_major": 2,
       "version_minor": 0
      },
      "text/plain": [
       "  0%|          | 0/1 [00:00<?, ?it/s]"
      ]
     },
     "metadata": {},
     "output_type": "display_data"
    },
    {
     "data": {
      "application/vnd.jupyter.widget-view+json": {
       "model_id": "aef3bf84fb314163813e087aa09d2ba0",
       "version_major": 2,
       "version_minor": 0
      },
      "text/plain": [
       "  0%|          | 0/911 [00:00<?, ?it/s]"
      ]
     },
     "metadata": {},
     "output_type": "display_data"
    },
    {
     "data": {
      "application/vnd.jupyter.widget-view+json": {
       "model_id": "55a55e68a6274146b2eb17d356e0d0b2",
       "version_major": 2,
       "version_minor": 0
      },
      "text/plain": [
       "  0%|          | 0/1 [00:00<?, ?it/s]"
      ]
     },
     "metadata": {},
     "output_type": "display_data"
    },
    {
     "data": {
      "application/vnd.jupyter.widget-view+json": {
       "model_id": "dc8b9e2c3e0f4d21b9fd08347dbba247",
       "version_major": 2,
       "version_minor": 0
      },
      "text/plain": [
       "  0%|          | 0/911 [00:00<?, ?it/s]"
      ]
     },
     "metadata": {},
     "output_type": "display_data"
    },
    {
     "data": {
      "application/vnd.jupyter.widget-view+json": {
       "model_id": "ccd1a13d60524202b9165ad78d90cdc5",
       "version_major": 2,
       "version_minor": 0
      },
      "text/plain": [
       "  0%|          | 0/1 [00:00<?, ?it/s]"
      ]
     },
     "metadata": {},
     "output_type": "display_data"
    },
    {
     "data": {
      "application/vnd.jupyter.widget-view+json": {
       "model_id": "85378bb0c3f5451c9a68a62b20b7b31b",
       "version_major": 2,
       "version_minor": 0
      },
      "text/plain": [
       "  0%|          | 0/911 [00:00<?, ?it/s]"
      ]
     },
     "metadata": {},
     "output_type": "display_data"
    },
    {
     "data": {
      "application/vnd.jupyter.widget-view+json": {
       "model_id": "55826a0a7a0a45e1b83b0766e245e52e",
       "version_major": 2,
       "version_minor": 0
      },
      "text/plain": [
       "  0%|          | 0/1 [00:00<?, ?it/s]"
      ]
     },
     "metadata": {},
     "output_type": "display_data"
    },
    {
     "data": {
      "application/vnd.jupyter.widget-view+json": {
       "model_id": "c3dda4789dac43a0be95111bcc2aa3ae",
       "version_major": 2,
       "version_minor": 0
      },
      "text/plain": [
       "  0%|          | 0/911 [00:00<?, ?it/s]"
      ]
     },
     "metadata": {},
     "output_type": "display_data"
    },
    {
     "data": {
      "application/vnd.jupyter.widget-view+json": {
       "model_id": "26bf43f264d848f0b366488e7db36b9d",
       "version_major": 2,
       "version_minor": 0
      },
      "text/plain": [
       "  0%|          | 0/1 [00:00<?, ?it/s]"
      ]
     },
     "metadata": {},
     "output_type": "display_data"
    },
    {
     "data": {
      "application/vnd.jupyter.widget-view+json": {
       "model_id": "5a9341790c9c4294a6942f668b644b07",
       "version_major": 2,
       "version_minor": 0
      },
      "text/plain": [
       "  0%|          | 0/911 [00:00<?, ?it/s]"
      ]
     },
     "metadata": {},
     "output_type": "display_data"
    },
    {
     "data": {
      "application/vnd.jupyter.widget-view+json": {
       "model_id": "c7da7d8bc59c413793a1ff41ccdac5c6",
       "version_major": 2,
       "version_minor": 0
      },
      "text/plain": [
       "  0%|          | 0/1 [00:00<?, ?it/s]"
      ]
     },
     "metadata": {},
     "output_type": "display_data"
    },
    {
     "data": {
      "application/vnd.jupyter.widget-view+json": {
       "model_id": "b0a3144ef69e4220b05856cf6f0c1582",
       "version_major": 2,
       "version_minor": 0
      },
      "text/plain": [
       "  0%|          | 0/911 [00:00<?, ?it/s]"
      ]
     },
     "metadata": {},
     "output_type": "display_data"
    },
    {
     "data": {
      "application/vnd.jupyter.widget-view+json": {
       "model_id": "8254d17f4fdd46a1869919560e726e40",
       "version_major": 2,
       "version_minor": 0
      },
      "text/plain": [
       "  0%|          | 0/1 [00:00<?, ?it/s]"
      ]
     },
     "metadata": {},
     "output_type": "display_data"
    },
    {
     "data": {
      "application/vnd.jupyter.widget-view+json": {
       "model_id": "208987b5797a464a91859203f38b01c9",
       "version_major": 2,
       "version_minor": 0
      },
      "text/plain": [
       "  0%|          | 0/911 [00:00<?, ?it/s]"
      ]
     },
     "metadata": {},
     "output_type": "display_data"
    },
    {
     "data": {
      "application/vnd.jupyter.widget-view+json": {
       "model_id": "19a9891a56c749648da32de1905cb16a",
       "version_major": 2,
       "version_minor": 0
      },
      "text/plain": [
       "  0%|          | 0/1 [00:00<?, ?it/s]"
      ]
     },
     "metadata": {},
     "output_type": "display_data"
    },
    {
     "data": {
      "application/vnd.jupyter.widget-view+json": {
       "model_id": "d257bd0eac794f278095db13c101fdf2",
       "version_major": 2,
       "version_minor": 0
      },
      "text/plain": [
       "  0%|          | 0/911 [00:00<?, ?it/s]"
      ]
     },
     "metadata": {},
     "output_type": "display_data"
    },
    {
     "data": {
      "application/vnd.jupyter.widget-view+json": {
       "model_id": "1bd9b08630304bb3a651888d74c2d281",
       "version_major": 2,
       "version_minor": 0
      },
      "text/plain": [
       "  0%|          | 0/1 [00:00<?, ?it/s]"
      ]
     },
     "metadata": {},
     "output_type": "display_data"
    },
    {
     "data": {
      "application/vnd.jupyter.widget-view+json": {
       "model_id": "889a3564ae8e4e6ea6f0d6bb97a76f34",
       "version_major": 2,
       "version_minor": 0
      },
      "text/plain": [
       "  0%|          | 0/911 [00:00<?, ?it/s]"
      ]
     },
     "metadata": {},
     "output_type": "display_data"
    },
    {
     "data": {
      "application/vnd.jupyter.widget-view+json": {
       "model_id": "873694c88ba64f63a39b5e7cf936948c",
       "version_major": 2,
       "version_minor": 0
      },
      "text/plain": [
       "  0%|          | 0/1 [00:00<?, ?it/s]"
      ]
     },
     "metadata": {},
     "output_type": "display_data"
    },
    {
     "data": {
      "application/vnd.jupyter.widget-view+json": {
       "model_id": "6febfb5d093b4883a1efde8dba845997",
       "version_major": 2,
       "version_minor": 0
      },
      "text/plain": [
       "  0%|          | 0/911 [00:00<?, ?it/s]"
      ]
     },
     "metadata": {},
     "output_type": "display_data"
    },
    {
     "data": {
      "application/vnd.jupyter.widget-view+json": {
       "model_id": "9492b92b3f3d4a15be3fdf93432c5f9b",
       "version_major": 2,
       "version_minor": 0
      },
      "text/plain": [
       "  0%|          | 0/1 [00:00<?, ?it/s]"
      ]
     },
     "metadata": {},
     "output_type": "display_data"
    },
    {
     "data": {
      "application/vnd.jupyter.widget-view+json": {
       "model_id": "271514bfbb494fd38f3a52b82099ba46",
       "version_major": 2,
       "version_minor": 0
      },
      "text/plain": [
       "  0%|          | 0/911 [00:00<?, ?it/s]"
      ]
     },
     "metadata": {},
     "output_type": "display_data"
    },
    {
     "data": {
      "application/vnd.jupyter.widget-view+json": {
       "model_id": "3e9f9edb7fe946a480f57864f2786b9a",
       "version_major": 2,
       "version_minor": 0
      },
      "text/plain": [
       "  0%|          | 0/1 [00:00<?, ?it/s]"
      ]
     },
     "metadata": {},
     "output_type": "display_data"
    },
    {
     "data": {
      "application/vnd.jupyter.widget-view+json": {
       "model_id": "6b6a1e72a91a4aa386bc9c1412f0ca90",
       "version_major": 2,
       "version_minor": 0
      },
      "text/plain": [
       "  0%|          | 0/911 [00:00<?, ?it/s]"
      ]
     },
     "metadata": {},
     "output_type": "display_data"
    },
    {
     "data": {
      "application/vnd.jupyter.widget-view+json": {
       "model_id": "002821e745a14971920349d8f2da4025",
       "version_major": 2,
       "version_minor": 0
      },
      "text/plain": [
       "  0%|          | 0/1 [00:00<?, ?it/s]"
      ]
     },
     "metadata": {},
     "output_type": "display_data"
    },
    {
     "data": {
      "application/vnd.jupyter.widget-view+json": {
       "model_id": "100a4efe075141d8969eb57154016f31",
       "version_major": 2,
       "version_minor": 0
      },
      "text/plain": [
       "  0%|          | 0/911 [00:00<?, ?it/s]"
      ]
     },
     "metadata": {},
     "output_type": "display_data"
    },
    {
     "data": {
      "application/vnd.jupyter.widget-view+json": {
       "model_id": "2dcd5c9ee24f4b888b63a8a781062e78",
       "version_major": 2,
       "version_minor": 0
      },
      "text/plain": [
       "  0%|          | 0/1 [00:00<?, ?it/s]"
      ]
     },
     "metadata": {},
     "output_type": "display_data"
    },
    {
     "data": {
      "application/vnd.jupyter.widget-view+json": {
       "model_id": "fe3d329845f141ebab18f5d4b1c7cb01",
       "version_major": 2,
       "version_minor": 0
      },
      "text/plain": [
       "  0%|          | 0/911 [00:00<?, ?it/s]"
      ]
     },
     "metadata": {},
     "output_type": "display_data"
    },
    {
     "data": {
      "application/vnd.jupyter.widget-view+json": {
       "model_id": "e012be7c73b24d4e9d02785170244508",
       "version_major": 2,
       "version_minor": 0
      },
      "text/plain": [
       "  0%|          | 0/1 [00:00<?, ?it/s]"
      ]
     },
     "metadata": {},
     "output_type": "display_data"
    },
    {
     "data": {
      "application/vnd.jupyter.widget-view+json": {
       "model_id": "7f87e0c038bc4862bd589ba422bb7a14",
       "version_major": 2,
       "version_minor": 0
      },
      "text/plain": [
       "  0%|          | 0/911 [00:00<?, ?it/s]"
      ]
     },
     "metadata": {},
     "output_type": "display_data"
    },
    {
     "data": {
      "application/vnd.jupyter.widget-view+json": {
       "model_id": "fb8adde8edae4840ad6beffe77382a4a",
       "version_major": 2,
       "version_minor": 0
      },
      "text/plain": [
       "  0%|          | 0/1 [00:00<?, ?it/s]"
      ]
     },
     "metadata": {},
     "output_type": "display_data"
    },
    {
     "data": {
      "application/vnd.jupyter.widget-view+json": {
       "model_id": "d09eaf89ca7d41d393b3ff2fa88f69a1",
       "version_major": 2,
       "version_minor": 0
      },
      "text/plain": [
       "  0%|          | 0/911 [00:00<?, ?it/s]"
      ]
     },
     "metadata": {},
     "output_type": "display_data"
    },
    {
     "data": {
      "application/vnd.jupyter.widget-view+json": {
       "model_id": "5580310254f34736bfb5ea0c3dfe8d9b",
       "version_major": 2,
       "version_minor": 0
      },
      "text/plain": [
       "  0%|          | 0/1 [00:00<?, ?it/s]"
      ]
     },
     "metadata": {},
     "output_type": "display_data"
    },
    {
     "data": {
      "application/vnd.jupyter.widget-view+json": {
       "model_id": "6e143deb1a574d0584098f563f813af6",
       "version_major": 2,
       "version_minor": 0
      },
      "text/plain": [
       "  0%|          | 0/911 [00:00<?, ?it/s]"
      ]
     },
     "metadata": {},
     "output_type": "display_data"
    },
    {
     "data": {
      "application/vnd.jupyter.widget-view+json": {
       "model_id": "76d768a449dd4cdcae3e019d3e45c944",
       "version_major": 2,
       "version_minor": 0
      },
      "text/plain": [
       "  0%|          | 0/1 [00:00<?, ?it/s]"
      ]
     },
     "metadata": {},
     "output_type": "display_data"
    },
    {
     "data": {
      "application/vnd.jupyter.widget-view+json": {
       "model_id": "36d8c51ab68b479090701a303d2d5adc",
       "version_major": 2,
       "version_minor": 0
      },
      "text/plain": [
       "  0%|          | 0/911 [00:00<?, ?it/s]"
      ]
     },
     "metadata": {},
     "output_type": "display_data"
    },
    {
     "data": {
      "application/vnd.jupyter.widget-view+json": {
       "model_id": "d4cee47309c241e5b0a0d70f5d9d2364",
       "version_major": 2,
       "version_minor": 0
      },
      "text/plain": [
       "  0%|          | 0/1 [00:00<?, ?it/s]"
      ]
     },
     "metadata": {},
     "output_type": "display_data"
    },
    {
     "data": {
      "application/vnd.jupyter.widget-view+json": {
       "model_id": "99dbb720149e4ae88477970ec11d7de2",
       "version_major": 2,
       "version_minor": 0
      },
      "text/plain": [
       "  0%|          | 0/911 [00:00<?, ?it/s]"
      ]
     },
     "metadata": {},
     "output_type": "display_data"
    },
    {
     "data": {
      "application/vnd.jupyter.widget-view+json": {
       "model_id": "7c18cd99e4d04169a74e52de7bed8e2e",
       "version_major": 2,
       "version_minor": 0
      },
      "text/plain": [
       "  0%|          | 0/1 [00:00<?, ?it/s]"
      ]
     },
     "metadata": {},
     "output_type": "display_data"
    },
    {
     "data": {
      "application/vnd.jupyter.widget-view+json": {
       "model_id": "cf21e85970b24957a3f5d62a7ffbf8bf",
       "version_major": 2,
       "version_minor": 0
      },
      "text/plain": [
       "  0%|          | 0/911 [00:00<?, ?it/s]"
      ]
     },
     "metadata": {},
     "output_type": "display_data"
    },
    {
     "data": {
      "application/vnd.jupyter.widget-view+json": {
       "model_id": "ea6fd71afa074b18b4425ea6b556f666",
       "version_major": 2,
       "version_minor": 0
      },
      "text/plain": [
       "  0%|          | 0/1 [00:00<?, ?it/s]"
      ]
     },
     "metadata": {},
     "output_type": "display_data"
    },
    {
     "data": {
      "application/vnd.jupyter.widget-view+json": {
       "model_id": "e7d2504c6ed340d6a8e8a083877c244f",
       "version_major": 2,
       "version_minor": 0
      },
      "text/plain": [
       "  0%|          | 0/911 [00:00<?, ?it/s]"
      ]
     },
     "metadata": {},
     "output_type": "display_data"
    },
    {
     "data": {
      "application/vnd.jupyter.widget-view+json": {
       "model_id": "d640492555534e20bc30bce63aaaac9d",
       "version_major": 2,
       "version_minor": 0
      },
      "text/plain": [
       "  0%|          | 0/1 [00:00<?, ?it/s]"
      ]
     },
     "metadata": {},
     "output_type": "display_data"
    },
    {
     "data": {
      "application/vnd.jupyter.widget-view+json": {
       "model_id": "cf51d3b2e9f7412f9d27b83356a18d80",
       "version_major": 2,
       "version_minor": 0
      },
      "text/plain": [
       "  0%|          | 0/911 [00:00<?, ?it/s]"
      ]
     },
     "metadata": {},
     "output_type": "display_data"
    },
    {
     "data": {
      "application/vnd.jupyter.widget-view+json": {
       "model_id": "62628ba1a1ed49c2ab405cc55fa9bc40",
       "version_major": 2,
       "version_minor": 0
      },
      "text/plain": [
       "  0%|          | 0/1 [00:00<?, ?it/s]"
      ]
     },
     "metadata": {},
     "output_type": "display_data"
    },
    {
     "data": {
      "application/vnd.jupyter.widget-view+json": {
       "model_id": "de52275ce7bf4ceab2799c7eae820f40",
       "version_major": 2,
       "version_minor": 0
      },
      "text/plain": [
       "  0%|          | 0/911 [00:00<?, ?it/s]"
      ]
     },
     "metadata": {},
     "output_type": "display_data"
    },
    {
     "data": {
      "application/vnd.jupyter.widget-view+json": {
       "model_id": "c7e17c7e9c9e404f87d6fcfaabc5884f",
       "version_major": 2,
       "version_minor": 0
      },
      "text/plain": [
       "  0%|          | 0/1 [00:00<?, ?it/s]"
      ]
     },
     "metadata": {},
     "output_type": "display_data"
    },
    {
     "data": {
      "application/vnd.jupyter.widget-view+json": {
       "model_id": "2aefc245ba4642909fad9d73f4a5f6a1",
       "version_major": 2,
       "version_minor": 0
      },
      "text/plain": [
       "  0%|          | 0/911 [00:00<?, ?it/s]"
      ]
     },
     "metadata": {},
     "output_type": "display_data"
    },
    {
     "data": {
      "application/vnd.jupyter.widget-view+json": {
       "model_id": "0ecb5d0a8f1b400ba30dc6acd1ad17b7",
       "version_major": 2,
       "version_minor": 0
      },
      "text/plain": [
       "  0%|          | 0/1 [00:00<?, ?it/s]"
      ]
     },
     "metadata": {},
     "output_type": "display_data"
    },
    {
     "data": {
      "application/vnd.jupyter.widget-view+json": {
       "model_id": "de72a7d829fe4be2b43d9be611ac65fa",
       "version_major": 2,
       "version_minor": 0
      },
      "text/plain": [
       "  0%|          | 0/911 [00:00<?, ?it/s]"
      ]
     },
     "metadata": {},
     "output_type": "display_data"
    },
    {
     "data": {
      "application/vnd.jupyter.widget-view+json": {
       "model_id": "a8a0274740bb4a9c9f055e1d00d30ead",
       "version_major": 2,
       "version_minor": 0
      },
      "text/plain": [
       "  0%|          | 0/1 [00:00<?, ?it/s]"
      ]
     },
     "metadata": {},
     "output_type": "display_data"
    },
    {
     "data": {
      "application/vnd.jupyter.widget-view+json": {
       "model_id": "3b1fbbfb7c3e44ceb0a414651176f10b",
       "version_major": 2,
       "version_minor": 0
      },
      "text/plain": [
       "  0%|          | 0/911 [00:00<?, ?it/s]"
      ]
     },
     "metadata": {},
     "output_type": "display_data"
    },
    {
     "data": {
      "application/vnd.jupyter.widget-view+json": {
       "model_id": "47f8736d9c59444a8e7127986ef61f1c",
       "version_major": 2,
       "version_minor": 0
      },
      "text/plain": [
       "  0%|          | 0/1 [00:00<?, ?it/s]"
      ]
     },
     "metadata": {},
     "output_type": "display_data"
    },
    {
     "data": {
      "application/vnd.jupyter.widget-view+json": {
       "model_id": "a12c5d29e43a47e89641f6e86b288fc5",
       "version_major": 2,
       "version_minor": 0
      },
      "text/plain": [
       "  0%|          | 0/911 [00:00<?, ?it/s]"
      ]
     },
     "metadata": {},
     "output_type": "display_data"
    },
    {
     "data": {
      "application/vnd.jupyter.widget-view+json": {
       "model_id": "2bc9345222b242699e43960c2834dccc",
       "version_major": 2,
       "version_minor": 0
      },
      "text/plain": [
       "  0%|          | 0/1 [00:00<?, ?it/s]"
      ]
     },
     "metadata": {},
     "output_type": "display_data"
    },
    {
     "data": {
      "application/vnd.jupyter.widget-view+json": {
       "model_id": "10361cd8af3a4da2a09153acff82f1eb",
       "version_major": 2,
       "version_minor": 0
      },
      "text/plain": [
       "  0%|          | 0/911 [00:00<?, ?it/s]"
      ]
     },
     "metadata": {},
     "output_type": "display_data"
    },
    {
     "data": {
      "application/vnd.jupyter.widget-view+json": {
       "model_id": "d1f47ca2570b46bab6881d4868f7fc63",
       "version_major": 2,
       "version_minor": 0
      },
      "text/plain": [
       "  0%|          | 0/1 [00:00<?, ?it/s]"
      ]
     },
     "metadata": {},
     "output_type": "display_data"
    },
    {
     "data": {
      "application/vnd.jupyter.widget-view+json": {
       "model_id": "d624982bdaca4628aade3f492030febb",
       "version_major": 2,
       "version_minor": 0
      },
      "text/plain": [
       "  0%|          | 0/911 [00:00<?, ?it/s]"
      ]
     },
     "metadata": {},
     "output_type": "display_data"
    },
    {
     "data": {
      "application/vnd.jupyter.widget-view+json": {
       "model_id": "a23d009b447041a8b50b7d32060f6af8",
       "version_major": 2,
       "version_minor": 0
      },
      "text/plain": [
       "  0%|          | 0/1 [00:00<?, ?it/s]"
      ]
     },
     "metadata": {},
     "output_type": "display_data"
    },
    {
     "data": {
      "application/vnd.jupyter.widget-view+json": {
       "model_id": "6d362b36d0fa4437b0d822a6c54a0076",
       "version_major": 2,
       "version_minor": 0
      },
      "text/plain": [
       "  0%|          | 0/911 [00:00<?, ?it/s]"
      ]
     },
     "metadata": {},
     "output_type": "display_data"
    },
    {
     "data": {
      "application/vnd.jupyter.widget-view+json": {
       "model_id": "9ec181d34a334aafa0430b997047b772",
       "version_major": 2,
       "version_minor": 0
      },
      "text/plain": [
       "  0%|          | 0/1 [00:00<?, ?it/s]"
      ]
     },
     "metadata": {},
     "output_type": "display_data"
    },
    {
     "data": {
      "application/vnd.jupyter.widget-view+json": {
       "model_id": "ddd58a51540c4e6db4cf1d3a100dff38",
       "version_major": 2,
       "version_minor": 0
      },
      "text/plain": [
       "  0%|          | 0/911 [00:00<?, ?it/s]"
      ]
     },
     "metadata": {},
     "output_type": "display_data"
    },
    {
     "data": {
      "application/vnd.jupyter.widget-view+json": {
       "model_id": "961b396753d44358a37d0ad9ed1e42ed",
       "version_major": 2,
       "version_minor": 0
      },
      "text/plain": [
       "  0%|          | 0/1 [00:00<?, ?it/s]"
      ]
     },
     "metadata": {},
     "output_type": "display_data"
    },
    {
     "data": {
      "application/vnd.jupyter.widget-view+json": {
       "model_id": "71b69858e87148908e1c88d6874ea44a",
       "version_major": 2,
       "version_minor": 0
      },
      "text/plain": [
       "  0%|          | 0/911 [00:00<?, ?it/s]"
      ]
     },
     "metadata": {},
     "output_type": "display_data"
    },
    {
     "data": {
      "application/vnd.jupyter.widget-view+json": {
       "model_id": "4e8deb4b895d4f1ba490b1ca22e46e1e",
       "version_major": 2,
       "version_minor": 0
      },
      "text/plain": [
       "  0%|          | 0/1 [00:00<?, ?it/s]"
      ]
     },
     "metadata": {},
     "output_type": "display_data"
    },
    {
     "data": {
      "application/vnd.jupyter.widget-view+json": {
       "model_id": "d45e753b4b664734bd9b4d716e41a5a4",
       "version_major": 2,
       "version_minor": 0
      },
      "text/plain": [
       "  0%|          | 0/911 [00:00<?, ?it/s]"
      ]
     },
     "metadata": {},
     "output_type": "display_data"
    },
    {
     "data": {
      "application/vnd.jupyter.widget-view+json": {
       "model_id": "1d74705e41d44a15b9f54e51f5300fda",
       "version_major": 2,
       "version_minor": 0
      },
      "text/plain": [
       "  0%|          | 0/1 [00:00<?, ?it/s]"
      ]
     },
     "metadata": {},
     "output_type": "display_data"
    },
    {
     "data": {
      "application/vnd.jupyter.widget-view+json": {
       "model_id": "25f2984938e641cd8f391d4392cd92af",
       "version_major": 2,
       "version_minor": 0
      },
      "text/plain": [
       "  0%|          | 0/911 [00:00<?, ?it/s]"
      ]
     },
     "metadata": {},
     "output_type": "display_data"
    },
    {
     "data": {
      "application/vnd.jupyter.widget-view+json": {
       "model_id": "f9a2436afd29423fbb1fb5db77cbb71a",
       "version_major": 2,
       "version_minor": 0
      },
      "text/plain": [
       "  0%|          | 0/1 [00:00<?, ?it/s]"
      ]
     },
     "metadata": {},
     "output_type": "display_data"
    },
    {
     "data": {
      "application/vnd.jupyter.widget-view+json": {
       "model_id": "17a4b39c7dca44b1a8e257c8df80ff7c",
       "version_major": 2,
       "version_minor": 0
      },
      "text/plain": [
       "  0%|          | 0/911 [00:00<?, ?it/s]"
      ]
     },
     "metadata": {},
     "output_type": "display_data"
    },
    {
     "data": {
      "application/vnd.jupyter.widget-view+json": {
       "model_id": "ad0e58dd01bb44a7923ed320a9a645cc",
       "version_major": 2,
       "version_minor": 0
      },
      "text/plain": [
       "  0%|          | 0/1 [00:00<?, ?it/s]"
      ]
     },
     "metadata": {},
     "output_type": "display_data"
    },
    {
     "data": {
      "application/vnd.jupyter.widget-view+json": {
       "model_id": "775877912c374fccb2fa11047f8f4b63",
       "version_major": 2,
       "version_minor": 0
      },
      "text/plain": [
       "  0%|          | 0/911 [00:00<?, ?it/s]"
      ]
     },
     "metadata": {},
     "output_type": "display_data"
    },
    {
     "data": {
      "application/vnd.jupyter.widget-view+json": {
       "model_id": "99226826c330451f8962f83df3aeed8b",
       "version_major": 2,
       "version_minor": 0
      },
      "text/plain": [
       "  0%|          | 0/1 [00:00<?, ?it/s]"
      ]
     },
     "metadata": {},
     "output_type": "display_data"
    },
    {
     "data": {
      "application/vnd.jupyter.widget-view+json": {
       "model_id": "06d16f4f5fd14888ab0a8fc39584eddc",
       "version_major": 2,
       "version_minor": 0
      },
      "text/plain": [
       "  0%|          | 0/911 [00:00<?, ?it/s]"
      ]
     },
     "metadata": {},
     "output_type": "display_data"
    },
    {
     "data": {
      "application/vnd.jupyter.widget-view+json": {
       "model_id": "4be8fc61d5cd4f869a9d3f48542db49a",
       "version_major": 2,
       "version_minor": 0
      },
      "text/plain": [
       "  0%|          | 0/1 [00:00<?, ?it/s]"
      ]
     },
     "metadata": {},
     "output_type": "display_data"
    },
    {
     "data": {
      "application/vnd.jupyter.widget-view+json": {
       "model_id": "d0c22d447a634646b4d178736359bf11",
       "version_major": 2,
       "version_minor": 0
      },
      "text/plain": [
       "  0%|          | 0/911 [00:00<?, ?it/s]"
      ]
     },
     "metadata": {},
     "output_type": "display_data"
    },
    {
     "data": {
      "application/vnd.jupyter.widget-view+json": {
       "model_id": "935ca7358c194d46acfe383778f92f3b",
       "version_major": 2,
       "version_minor": 0
      },
      "text/plain": [
       "  0%|          | 0/1 [00:00<?, ?it/s]"
      ]
     },
     "metadata": {},
     "output_type": "display_data"
    },
    {
     "data": {
      "application/vnd.jupyter.widget-view+json": {
       "model_id": "6b63f6fb70d2480d88f799b182a9a1f3",
       "version_major": 2,
       "version_minor": 0
      },
      "text/plain": [
       "  0%|          | 0/911 [00:00<?, ?it/s]"
      ]
     },
     "metadata": {},
     "output_type": "display_data"
    },
    {
     "data": {
      "application/vnd.jupyter.widget-view+json": {
       "model_id": "f4403418d8bf4d85bd549371f8b0812f",
       "version_major": 2,
       "version_minor": 0
      },
      "text/plain": [
       "  0%|          | 0/1 [00:00<?, ?it/s]"
      ]
     },
     "metadata": {},
     "output_type": "display_data"
    },
    {
     "data": {
      "application/vnd.jupyter.widget-view+json": {
       "model_id": "f22fb4ac68d449adb2b818595abf8d1e",
       "version_major": 2,
       "version_minor": 0
      },
      "text/plain": [
       "  0%|          | 0/911 [00:00<?, ?it/s]"
      ]
     },
     "metadata": {},
     "output_type": "display_data"
    },
    {
     "data": {
      "application/vnd.jupyter.widget-view+json": {
       "model_id": "11d43d5498b04376b29c9b73ca7d8125",
       "version_major": 2,
       "version_minor": 0
      },
      "text/plain": [
       "  0%|          | 0/1 [00:00<?, ?it/s]"
      ]
     },
     "metadata": {},
     "output_type": "display_data"
    },
    {
     "data": {
      "application/vnd.jupyter.widget-view+json": {
       "model_id": "60e7fafc16a240969a86f94df5b82a2c",
       "version_major": 2,
       "version_minor": 0
      },
      "text/plain": [
       "  0%|          | 0/911 [00:00<?, ?it/s]"
      ]
     },
     "metadata": {},
     "output_type": "display_data"
    },
    {
     "data": {
      "application/vnd.jupyter.widget-view+json": {
       "model_id": "15d09c7a26f64ce5b0f68fceb7fe0ec8",
       "version_major": 2,
       "version_minor": 0
      },
      "text/plain": [
       "  0%|          | 0/1 [00:00<?, ?it/s]"
      ]
     },
     "metadata": {},
     "output_type": "display_data"
    },
    {
     "data": {
      "application/vnd.jupyter.widget-view+json": {
       "model_id": "161b40957ae94237a07b6e90a5b8155c",
       "version_major": 2,
       "version_minor": 0
      },
      "text/plain": [
       "  0%|          | 0/911 [00:00<?, ?it/s]"
      ]
     },
     "metadata": {},
     "output_type": "display_data"
    },
    {
     "data": {
      "application/vnd.jupyter.widget-view+json": {
       "model_id": "9d9910954f60426186cf8c9111649f85",
       "version_major": 2,
       "version_minor": 0
      },
      "text/plain": [
       "  0%|          | 0/1 [00:00<?, ?it/s]"
      ]
     },
     "metadata": {},
     "output_type": "display_data"
    },
    {
     "data": {
      "application/vnd.jupyter.widget-view+json": {
       "model_id": "e4e531727532438a88d5642d8a672ebf",
       "version_major": 2,
       "version_minor": 0
      },
      "text/plain": [
       "  0%|          | 0/911 [00:00<?, ?it/s]"
      ]
     },
     "metadata": {},
     "output_type": "display_data"
    },
    {
     "data": {
      "application/vnd.jupyter.widget-view+json": {
       "model_id": "b312324a6c3642fabbb7eff4fed01e82",
       "version_major": 2,
       "version_minor": 0
      },
      "text/plain": [
       "  0%|          | 0/1 [00:00<?, ?it/s]"
      ]
     },
     "metadata": {},
     "output_type": "display_data"
    },
    {
     "data": {
      "application/vnd.jupyter.widget-view+json": {
       "model_id": "e6b604e29cac48f48fe1daac77777a0d",
       "version_major": 2,
       "version_minor": 0
      },
      "text/plain": [
       "  0%|          | 0/911 [00:00<?, ?it/s]"
      ]
     },
     "metadata": {},
     "output_type": "display_data"
    },
    {
     "data": {
      "application/vnd.jupyter.widget-view+json": {
       "model_id": "9adf29f343c0471a9468ec2b53c41f65",
       "version_major": 2,
       "version_minor": 0
      },
      "text/plain": [
       "  0%|          | 0/1 [00:00<?, ?it/s]"
      ]
     },
     "metadata": {},
     "output_type": "display_data"
    },
    {
     "data": {
      "application/vnd.jupyter.widget-view+json": {
       "model_id": "ab416994ea41439289b918aa9d4efb49",
       "version_major": 2,
       "version_minor": 0
      },
      "text/plain": [
       "  0%|          | 0/911 [00:00<?, ?it/s]"
      ]
     },
     "metadata": {},
     "output_type": "display_data"
    },
    {
     "data": {
      "application/vnd.jupyter.widget-view+json": {
       "model_id": "d33386b0f005412b84b5d99e8b9e19ff",
       "version_major": 2,
       "version_minor": 0
      },
      "text/plain": [
       "  0%|          | 0/1 [00:00<?, ?it/s]"
      ]
     },
     "metadata": {},
     "output_type": "display_data"
    },
    {
     "data": {
      "application/vnd.jupyter.widget-view+json": {
       "model_id": "edf701bd6df14e07baf3876d45d7b24e",
       "version_major": 2,
       "version_minor": 0
      },
      "text/plain": [
       "  0%|          | 0/911 [00:00<?, ?it/s]"
      ]
     },
     "metadata": {},
     "output_type": "display_data"
    },
    {
     "data": {
      "application/vnd.jupyter.widget-view+json": {
       "model_id": "a8dc0dc9a12d45058f912937d978d74b",
       "version_major": 2,
       "version_minor": 0
      },
      "text/plain": [
       "  0%|          | 0/1 [00:00<?, ?it/s]"
      ]
     },
     "metadata": {},
     "output_type": "display_data"
    },
    {
     "data": {
      "application/vnd.jupyter.widget-view+json": {
       "model_id": "1787b75c9f974e80bfca20f1950a7c91",
       "version_major": 2,
       "version_minor": 0
      },
      "text/plain": [
       "  0%|          | 0/911 [00:00<?, ?it/s]"
      ]
     },
     "metadata": {},
     "output_type": "display_data"
    },
    {
     "data": {
      "application/vnd.jupyter.widget-view+json": {
       "model_id": "7a92ea2124e94e379503cd121c478813",
       "version_major": 2,
       "version_minor": 0
      },
      "text/plain": [
       "  0%|          | 0/1 [00:00<?, ?it/s]"
      ]
     },
     "metadata": {},
     "output_type": "display_data"
    },
    {
     "data": {
      "application/vnd.jupyter.widget-view+json": {
       "model_id": "68dad7d453234a8eb0aeacb51347ba20",
       "version_major": 2,
       "version_minor": 0
      },
      "text/plain": [
       "  0%|          | 0/911 [00:00<?, ?it/s]"
      ]
     },
     "metadata": {},
     "output_type": "display_data"
    },
    {
     "data": {
      "application/vnd.jupyter.widget-view+json": {
       "model_id": "47e356f4a3dd427a9052340cdbcc4e59",
       "version_major": 2,
       "version_minor": 0
      },
      "text/plain": [
       "  0%|          | 0/1 [00:00<?, ?it/s]"
      ]
     },
     "metadata": {},
     "output_type": "display_data"
    },
    {
     "data": {
      "application/vnd.jupyter.widget-view+json": {
       "model_id": "fe6529f1ed3a4bd5be8da8cc5866bd67",
       "version_major": 2,
       "version_minor": 0
      },
      "text/plain": [
       "  0%|          | 0/911 [00:00<?, ?it/s]"
      ]
     },
     "metadata": {},
     "output_type": "display_data"
    },
    {
     "data": {
      "application/vnd.jupyter.widget-view+json": {
       "model_id": "f420f5d6266d47b58d532519e517c49c",
       "version_major": 2,
       "version_minor": 0
      },
      "text/plain": [
       "  0%|          | 0/1 [00:00<?, ?it/s]"
      ]
     },
     "metadata": {},
     "output_type": "display_data"
    },
    {
     "data": {
      "application/vnd.jupyter.widget-view+json": {
       "model_id": "effe72a4aa1a40d48b23d0e39ace49f3",
       "version_major": 2,
       "version_minor": 0
      },
      "text/plain": [
       "  0%|          | 0/911 [00:00<?, ?it/s]"
      ]
     },
     "metadata": {},
     "output_type": "display_data"
    },
    {
     "data": {
      "application/vnd.jupyter.widget-view+json": {
       "model_id": "7d6741bf7e5344aa89a52352c561c75c",
       "version_major": 2,
       "version_minor": 0
      },
      "text/plain": [
       "  0%|          | 0/1 [00:00<?, ?it/s]"
      ]
     },
     "metadata": {},
     "output_type": "display_data"
    },
    {
     "data": {
      "application/vnd.jupyter.widget-view+json": {
       "model_id": "0f8d68e0bd5540e7bd56af57dd77f14a",
       "version_major": 2,
       "version_minor": 0
      },
      "text/plain": [
       "  0%|          | 0/911 [00:00<?, ?it/s]"
      ]
     },
     "metadata": {},
     "output_type": "display_data"
    },
    {
     "data": {
      "application/vnd.jupyter.widget-view+json": {
       "model_id": "2abec911487248f1ae38f15f5d63c009",
       "version_major": 2,
       "version_minor": 0
      },
      "text/plain": [
       "  0%|          | 0/1 [00:00<?, ?it/s]"
      ]
     },
     "metadata": {},
     "output_type": "display_data"
    },
    {
     "data": {
      "application/vnd.jupyter.widget-view+json": {
       "model_id": "9bad965faa584b74bf391c33fe0afd37",
       "version_major": 2,
       "version_minor": 0
      },
      "text/plain": [
       "  0%|          | 0/911 [00:00<?, ?it/s]"
      ]
     },
     "metadata": {},
     "output_type": "display_data"
    },
    {
     "data": {
      "application/vnd.jupyter.widget-view+json": {
       "model_id": "0eb6a6831c5d4716b4ff3dcae293b9d5",
       "version_major": 2,
       "version_minor": 0
      },
      "text/plain": [
       "  0%|          | 0/1 [00:00<?, ?it/s]"
      ]
     },
     "metadata": {},
     "output_type": "display_data"
    },
    {
     "data": {
      "application/vnd.jupyter.widget-view+json": {
       "model_id": "22f4f8757426409cb56359108805a505",
       "version_major": 2,
       "version_minor": 0
      },
      "text/plain": [
       "  0%|          | 0/911 [00:00<?, ?it/s]"
      ]
     },
     "metadata": {},
     "output_type": "display_data"
    },
    {
     "data": {
      "application/vnd.jupyter.widget-view+json": {
       "model_id": "892f09306b2f407881c38ad814acc676",
       "version_major": 2,
       "version_minor": 0
      },
      "text/plain": [
       "  0%|          | 0/1 [00:00<?, ?it/s]"
      ]
     },
     "metadata": {},
     "output_type": "display_data"
    },
    {
     "data": {
      "application/vnd.jupyter.widget-view+json": {
       "model_id": "cd39949b53034ed09ec909553704f159",
       "version_major": 2,
       "version_minor": 0
      },
      "text/plain": [
       "  0%|          | 0/911 [00:00<?, ?it/s]"
      ]
     },
     "metadata": {},
     "output_type": "display_data"
    },
    {
     "data": {
      "application/vnd.jupyter.widget-view+json": {
       "model_id": "f7587e7d4df846f4b28bec9ab5b1b1ac",
       "version_major": 2,
       "version_minor": 0
      },
      "text/plain": [
       "  0%|          | 0/1 [00:00<?, ?it/s]"
      ]
     },
     "metadata": {},
     "output_type": "display_data"
    },
    {
     "data": {
      "application/vnd.jupyter.widget-view+json": {
       "model_id": "10a1f1e054834fd2862552fa5dfb0858",
       "version_major": 2,
       "version_minor": 0
      },
      "text/plain": [
       "  0%|          | 0/911 [00:00<?, ?it/s]"
      ]
     },
     "metadata": {},
     "output_type": "display_data"
    },
    {
     "data": {
      "application/vnd.jupyter.widget-view+json": {
       "model_id": "07ec79d11300400186fb9e91d90bb6c9",
       "version_major": 2,
       "version_minor": 0
      },
      "text/plain": [
       "  0%|          | 0/1 [00:00<?, ?it/s]"
      ]
     },
     "metadata": {},
     "output_type": "display_data"
    },
    {
     "data": {
      "application/vnd.jupyter.widget-view+json": {
       "model_id": "fd5cd8d0ca7e4efb8e26d9f9c64e64ff",
       "version_major": 2,
       "version_minor": 0
      },
      "text/plain": [
       "  0%|          | 0/911 [00:00<?, ?it/s]"
      ]
     },
     "metadata": {},
     "output_type": "display_data"
    },
    {
     "data": {
      "application/vnd.jupyter.widget-view+json": {
       "model_id": "63cd9824319641b29ca54121e59fd375",
       "version_major": 2,
       "version_minor": 0
      },
      "text/plain": [
       "  0%|          | 0/1 [00:00<?, ?it/s]"
      ]
     },
     "metadata": {},
     "output_type": "display_data"
    },
    {
     "data": {
      "application/vnd.jupyter.widget-view+json": {
       "model_id": "a38239051eda4acba8ed202fe00171d4",
       "version_major": 2,
       "version_minor": 0
      },
      "text/plain": [
       "  0%|          | 0/911 [00:00<?, ?it/s]"
      ]
     },
     "metadata": {},
     "output_type": "display_data"
    },
    {
     "data": {
      "application/vnd.jupyter.widget-view+json": {
       "model_id": "e18a9a31d4da475da06c8d6bd403c102",
       "version_major": 2,
       "version_minor": 0
      },
      "text/plain": [
       "  0%|          | 0/1 [00:00<?, ?it/s]"
      ]
     },
     "metadata": {},
     "output_type": "display_data"
    },
    {
     "data": {
      "application/vnd.jupyter.widget-view+json": {
       "model_id": "8140898f3ee445149594e27eb6df3321",
       "version_major": 2,
       "version_minor": 0
      },
      "text/plain": [
       "  0%|          | 0/911 [00:00<?, ?it/s]"
      ]
     },
     "metadata": {},
     "output_type": "display_data"
    },
    {
     "data": {
      "application/vnd.jupyter.widget-view+json": {
       "model_id": "59fd7f5379e5499c84ed145a3d3574db",
       "version_major": 2,
       "version_minor": 0
      },
      "text/plain": [
       "  0%|          | 0/1 [00:00<?, ?it/s]"
      ]
     },
     "metadata": {},
     "output_type": "display_data"
    },
    {
     "data": {
      "application/vnd.jupyter.widget-view+json": {
       "model_id": "7d239c5c04c44bcaa66935140d571c04",
       "version_major": 2,
       "version_minor": 0
      },
      "text/plain": [
       "  0%|          | 0/911 [00:00<?, ?it/s]"
      ]
     },
     "metadata": {},
     "output_type": "display_data"
    },
    {
     "data": {
      "application/vnd.jupyter.widget-view+json": {
       "model_id": "72da1169d39647e6a165e0cb7c3a6f33",
       "version_major": 2,
       "version_minor": 0
      },
      "text/plain": [
       "  0%|          | 0/1 [00:00<?, ?it/s]"
      ]
     },
     "metadata": {},
     "output_type": "display_data"
    },
    {
     "data": {
      "application/vnd.jupyter.widget-view+json": {
       "model_id": "074f884f28cf4e95862d5e035dfcd035",
       "version_major": 2,
       "version_minor": 0
      },
      "text/plain": [
       "  0%|          | 0/911 [00:00<?, ?it/s]"
      ]
     },
     "metadata": {},
     "output_type": "display_data"
    },
    {
     "data": {
      "application/vnd.jupyter.widget-view+json": {
       "model_id": "d73e20a126404f38a8f334871df60430",
       "version_major": 2,
       "version_minor": 0
      },
      "text/plain": [
       "  0%|          | 0/1 [00:00<?, ?it/s]"
      ]
     },
     "metadata": {},
     "output_type": "display_data"
    },
    {
     "data": {
      "application/vnd.jupyter.widget-view+json": {
       "model_id": "3ac2065420974ae9b36d0151d15e59a8",
       "version_major": 2,
       "version_minor": 0
      },
      "text/plain": [
       "  0%|          | 0/911 [00:00<?, ?it/s]"
      ]
     },
     "metadata": {},
     "output_type": "display_data"
    },
    {
     "data": {
      "application/vnd.jupyter.widget-view+json": {
       "model_id": "d912840431494925a64c52c88f8871e1",
       "version_major": 2,
       "version_minor": 0
      },
      "text/plain": [
       "  0%|          | 0/1 [00:00<?, ?it/s]"
      ]
     },
     "metadata": {},
     "output_type": "display_data"
    },
    {
     "data": {
      "application/vnd.jupyter.widget-view+json": {
       "model_id": "84a8fdcf78cc4301a6a48a75575787aa",
       "version_major": 2,
       "version_minor": 0
      },
      "text/plain": [
       "  0%|          | 0/911 [00:00<?, ?it/s]"
      ]
     },
     "metadata": {},
     "output_type": "display_data"
    },
    {
     "data": {
      "application/vnd.jupyter.widget-view+json": {
       "model_id": "2cd84a3adeb5452d92ef10a66ca3db72",
       "version_major": 2,
       "version_minor": 0
      },
      "text/plain": [
       "  0%|          | 0/1 [00:00<?, ?it/s]"
      ]
     },
     "metadata": {},
     "output_type": "display_data"
    },
    {
     "data": {
      "application/vnd.jupyter.widget-view+json": {
       "model_id": "07a1e3d31f8c41c88cee1f6936f6bfe4",
       "version_major": 2,
       "version_minor": 0
      },
      "text/plain": [
       "  0%|          | 0/911 [00:00<?, ?it/s]"
      ]
     },
     "metadata": {},
     "output_type": "display_data"
    },
    {
     "data": {
      "application/vnd.jupyter.widget-view+json": {
       "model_id": "4a53437c541b48a892ea07e5cd3f7bc2",
       "version_major": 2,
       "version_minor": 0
      },
      "text/plain": [
       "  0%|          | 0/1 [00:00<?, ?it/s]"
      ]
     },
     "metadata": {},
     "output_type": "display_data"
    },
    {
     "data": {
      "application/vnd.jupyter.widget-view+json": {
       "model_id": "73e5e67f97a74b5696057a8529627c48",
       "version_major": 2,
       "version_minor": 0
      },
      "text/plain": [
       "  0%|          | 0/911 [00:00<?, ?it/s]"
      ]
     },
     "metadata": {},
     "output_type": "display_data"
    },
    {
     "data": {
      "application/vnd.jupyter.widget-view+json": {
       "model_id": "72c6692ee75049dca46720005ee99e58",
       "version_major": 2,
       "version_minor": 0
      },
      "text/plain": [
       "  0%|          | 0/1 [00:00<?, ?it/s]"
      ]
     },
     "metadata": {},
     "output_type": "display_data"
    },
    {
     "data": {
      "application/vnd.jupyter.widget-view+json": {
       "model_id": "a435380d3ce54a379a71aa4584ef030d",
       "version_major": 2,
       "version_minor": 0
      },
      "text/plain": [
       "  0%|          | 0/911 [00:00<?, ?it/s]"
      ]
     },
     "metadata": {},
     "output_type": "display_data"
    },
    {
     "data": {
      "application/vnd.jupyter.widget-view+json": {
       "model_id": "8a8b14387d904455bed444204d49e58d",
       "version_major": 2,
       "version_minor": 0
      },
      "text/plain": [
       "  0%|          | 0/1 [00:00<?, ?it/s]"
      ]
     },
     "metadata": {},
     "output_type": "display_data"
    },
    {
     "data": {
      "application/vnd.jupyter.widget-view+json": {
       "model_id": "a7abe3ad24054311acbd516ca024b67e",
       "version_major": 2,
       "version_minor": 0
      },
      "text/plain": [
       "  0%|          | 0/911 [00:00<?, ?it/s]"
      ]
     },
     "metadata": {},
     "output_type": "display_data"
    },
    {
     "data": {
      "application/vnd.jupyter.widget-view+json": {
       "model_id": "0ae15758b0554e9298af8fd2e90cc6fc",
       "version_major": 2,
       "version_minor": 0
      },
      "text/plain": [
       "  0%|          | 0/1 [00:00<?, ?it/s]"
      ]
     },
     "metadata": {},
     "output_type": "display_data"
    },
    {
     "data": {
      "application/vnd.jupyter.widget-view+json": {
       "model_id": "a93a2ef1f7574f329373384b375b6b49",
       "version_major": 2,
       "version_minor": 0
      },
      "text/plain": [
       "  0%|          | 0/911 [00:00<?, ?it/s]"
      ]
     },
     "metadata": {},
     "output_type": "display_data"
    },
    {
     "data": {
      "application/vnd.jupyter.widget-view+json": {
       "model_id": "9e1785d6e7cc487fb8d6b0af99878549",
       "version_major": 2,
       "version_minor": 0
      },
      "text/plain": [
       "  0%|          | 0/1 [00:00<?, ?it/s]"
      ]
     },
     "metadata": {},
     "output_type": "display_data"
    },
    {
     "data": {
      "application/vnd.jupyter.widget-view+json": {
       "model_id": "2fa0a3a3244b41ce8ecbc6449eb657f0",
       "version_major": 2,
       "version_minor": 0
      },
      "text/plain": [
       "  0%|          | 0/911 [00:00<?, ?it/s]"
      ]
     },
     "metadata": {},
     "output_type": "display_data"
    },
    {
     "data": {
      "application/vnd.jupyter.widget-view+json": {
       "model_id": "173dde6716184dcfbc639e30568f7699",
       "version_major": 2,
       "version_minor": 0
      },
      "text/plain": [
       "  0%|          | 0/1 [00:00<?, ?it/s]"
      ]
     },
     "metadata": {},
     "output_type": "display_data"
    },
    {
     "data": {
      "application/vnd.jupyter.widget-view+json": {
       "model_id": "9edb0d1bdf0440f0a54142cdaf074660",
       "version_major": 2,
       "version_minor": 0
      },
      "text/plain": [
       "  0%|          | 0/911 [00:00<?, ?it/s]"
      ]
     },
     "metadata": {},
     "output_type": "display_data"
    },
    {
     "data": {
      "application/vnd.jupyter.widget-view+json": {
       "model_id": "f79b7b4f562c4bb18b7cf2b6811bb8c4",
       "version_major": 2,
       "version_minor": 0
      },
      "text/plain": [
       "  0%|          | 0/1 [00:00<?, ?it/s]"
      ]
     },
     "metadata": {},
     "output_type": "display_data"
    },
    {
     "data": {
      "application/vnd.jupyter.widget-view+json": {
       "model_id": "9c95aa2763964bd19f8666e032e9605d",
       "version_major": 2,
       "version_minor": 0
      },
      "text/plain": [
       "  0%|          | 0/911 [00:00<?, ?it/s]"
      ]
     },
     "metadata": {},
     "output_type": "display_data"
    },
    {
     "data": {
      "application/vnd.jupyter.widget-view+json": {
       "model_id": "3a695501d0294046b9c84dca770a08fc",
       "version_major": 2,
       "version_minor": 0
      },
      "text/plain": [
       "  0%|          | 0/1 [00:00<?, ?it/s]"
      ]
     },
     "metadata": {},
     "output_type": "display_data"
    },
    {
     "data": {
      "application/vnd.jupyter.widget-view+json": {
       "model_id": "a985dd9fd2f7478891a919580dbafa38",
       "version_major": 2,
       "version_minor": 0
      },
      "text/plain": [
       "  0%|          | 0/911 [00:00<?, ?it/s]"
      ]
     },
     "metadata": {},
     "output_type": "display_data"
    },
    {
     "data": {
      "application/vnd.jupyter.widget-view+json": {
       "model_id": "22e80e1cb5814d26aeebbffe09552afe",
       "version_major": 2,
       "version_minor": 0
      },
      "text/plain": [
       "  0%|          | 0/1 [00:00<?, ?it/s]"
      ]
     },
     "metadata": {},
     "output_type": "display_data"
    },
    {
     "data": {
      "application/vnd.jupyter.widget-view+json": {
       "model_id": "78b1be3f1f6d4524893c9c7e6de3252e",
       "version_major": 2,
       "version_minor": 0
      },
      "text/plain": [
       "  0%|          | 0/911 [00:00<?, ?it/s]"
      ]
     },
     "metadata": {},
     "output_type": "display_data"
    },
    {
     "data": {
      "application/vnd.jupyter.widget-view+json": {
       "model_id": "0fa6c32cf3a146cba25df9128ddcb6e8",
       "version_major": 2,
       "version_minor": 0
      },
      "text/plain": [
       "  0%|          | 0/1 [00:00<?, ?it/s]"
      ]
     },
     "metadata": {},
     "output_type": "display_data"
    },
    {
     "data": {
      "application/vnd.jupyter.widget-view+json": {
       "model_id": "09ff084388d4487dbaef1db2f3f58bb9",
       "version_major": 2,
       "version_minor": 0
      },
      "text/plain": [
       "  0%|          | 0/911 [00:00<?, ?it/s]"
      ]
     },
     "metadata": {},
     "output_type": "display_data"
    },
    {
     "data": {
      "application/vnd.jupyter.widget-view+json": {
       "model_id": "0b3169cfaa3241018b2cad7c26b32ec0",
       "version_major": 2,
       "version_minor": 0
      },
      "text/plain": [
       "  0%|          | 0/1 [00:00<?, ?it/s]"
      ]
     },
     "metadata": {},
     "output_type": "display_data"
    },
    {
     "data": {
      "application/vnd.jupyter.widget-view+json": {
       "model_id": "b5070b8302be432f9c9f6d7e744bc1e3",
       "version_major": 2,
       "version_minor": 0
      },
      "text/plain": [
       "  0%|          | 0/911 [00:00<?, ?it/s]"
      ]
     },
     "metadata": {},
     "output_type": "display_data"
    },
    {
     "data": {
      "application/vnd.jupyter.widget-view+json": {
       "model_id": "0a0f7a20a6b54baaaf2aba26f2c012de",
       "version_major": 2,
       "version_minor": 0
      },
      "text/plain": [
       "  0%|          | 0/1 [00:00<?, ?it/s]"
      ]
     },
     "metadata": {},
     "output_type": "display_data"
    },
    {
     "data": {
      "application/vnd.jupyter.widget-view+json": {
       "model_id": "fc297945aa3e4c8895450d4462742c67",
       "version_major": 2,
       "version_minor": 0
      },
      "text/plain": [
       "  0%|          | 0/911 [00:00<?, ?it/s]"
      ]
     },
     "metadata": {},
     "output_type": "display_data"
    },
    {
     "data": {
      "application/vnd.jupyter.widget-view+json": {
       "model_id": "28e9f147023748b291c938cee8013ccd",
       "version_major": 2,
       "version_minor": 0
      },
      "text/plain": [
       "  0%|          | 0/1 [00:00<?, ?it/s]"
      ]
     },
     "metadata": {},
     "output_type": "display_data"
    },
    {
     "data": {
      "application/vnd.jupyter.widget-view+json": {
       "model_id": "274e858e6fc14a4fb4e66b6f3c8c281f",
       "version_major": 2,
       "version_minor": 0
      },
      "text/plain": [
       "  0%|          | 0/911 [00:00<?, ?it/s]"
      ]
     },
     "metadata": {},
     "output_type": "display_data"
    },
    {
     "data": {
      "application/vnd.jupyter.widget-view+json": {
       "model_id": "2e0f661d2c414a93b4f26bb98141b209",
       "version_major": 2,
       "version_minor": 0
      },
      "text/plain": [
       "  0%|          | 0/1 [00:00<?, ?it/s]"
      ]
     },
     "metadata": {},
     "output_type": "display_data"
    },
    {
     "data": {
      "application/vnd.jupyter.widget-view+json": {
       "model_id": "2398057ab5624b5e9598cdefd524f6f5",
       "version_major": 2,
       "version_minor": 0
      },
      "text/plain": [
       "  0%|          | 0/911 [00:00<?, ?it/s]"
      ]
     },
     "metadata": {},
     "output_type": "display_data"
    },
    {
     "data": {
      "application/vnd.jupyter.widget-view+json": {
       "model_id": "48a2b578dd4d4f2fa049cfe398f79db0",
       "version_major": 2,
       "version_minor": 0
      },
      "text/plain": [
       "  0%|          | 0/1 [00:00<?, ?it/s]"
      ]
     },
     "metadata": {},
     "output_type": "display_data"
    },
    {
     "data": {
      "application/vnd.jupyter.widget-view+json": {
       "model_id": "f1b117f66cff420b8ab8deaf2aa41fcd",
       "version_major": 2,
       "version_minor": 0
      },
      "text/plain": [
       "  0%|          | 0/911 [00:00<?, ?it/s]"
      ]
     },
     "metadata": {},
     "output_type": "display_data"
    },
    {
     "data": {
      "application/vnd.jupyter.widget-view+json": {
       "model_id": "4d2a21d11e3c4a5891afc774ef695e01",
       "version_major": 2,
       "version_minor": 0
      },
      "text/plain": [
       "  0%|          | 0/1 [00:00<?, ?it/s]"
      ]
     },
     "metadata": {},
     "output_type": "display_data"
    },
    {
     "data": {
      "application/vnd.jupyter.widget-view+json": {
       "model_id": "79784cd4d8ac47b09e2b5e8d471efcc9",
       "version_major": 2,
       "version_minor": 0
      },
      "text/plain": [
       "  0%|          | 0/911 [00:00<?, ?it/s]"
      ]
     },
     "metadata": {},
     "output_type": "display_data"
    },
    {
     "data": {
      "application/vnd.jupyter.widget-view+json": {
       "model_id": "fb152eb3230c461ba6b9833543a20b16",
       "version_major": 2,
       "version_minor": 0
      },
      "text/plain": [
       "  0%|          | 0/1 [00:00<?, ?it/s]"
      ]
     },
     "metadata": {},
     "output_type": "display_data"
    },
    {
     "data": {
      "application/vnd.jupyter.widget-view+json": {
       "model_id": "5d18a95b8e62438a8bcf39e895c54f83",
       "version_major": 2,
       "version_minor": 0
      },
      "text/plain": [
       "  0%|          | 0/911 [00:00<?, ?it/s]"
      ]
     },
     "metadata": {},
     "output_type": "display_data"
    },
    {
     "data": {
      "application/vnd.jupyter.widget-view+json": {
       "model_id": "182c83f921ba4fe5976b4045a6bdc68c",
       "version_major": 2,
       "version_minor": 0
      },
      "text/plain": [
       "  0%|          | 0/1 [00:00<?, ?it/s]"
      ]
     },
     "metadata": {},
     "output_type": "display_data"
    },
    {
     "data": {
      "application/vnd.jupyter.widget-view+json": {
       "model_id": "73b12d8f09004a93bda060001cabb4f7",
       "version_major": 2,
       "version_minor": 0
      },
      "text/plain": [
       "  0%|          | 0/911 [00:00<?, ?it/s]"
      ]
     },
     "metadata": {},
     "output_type": "display_data"
    },
    {
     "data": {
      "application/vnd.jupyter.widget-view+json": {
       "model_id": "205de554b49342138764a80c363a6c5a",
       "version_major": 2,
       "version_minor": 0
      },
      "text/plain": [
       "  0%|          | 0/1 [00:00<?, ?it/s]"
      ]
     },
     "metadata": {},
     "output_type": "display_data"
    },
    {
     "data": {
      "application/vnd.jupyter.widget-view+json": {
       "model_id": "1c24664628114ea9ac824d6f79841b45",
       "version_major": 2,
       "version_minor": 0
      },
      "text/plain": [
       "  0%|          | 0/911 [00:00<?, ?it/s]"
      ]
     },
     "metadata": {},
     "output_type": "display_data"
    },
    {
     "data": {
      "application/vnd.jupyter.widget-view+json": {
       "model_id": "fd446242379741fca5a0806f2ed9aef1",
       "version_major": 2,
       "version_minor": 0
      },
      "text/plain": [
       "  0%|          | 0/1 [00:00<?, ?it/s]"
      ]
     },
     "metadata": {},
     "output_type": "display_data"
    },
    {
     "data": {
      "application/vnd.jupyter.widget-view+json": {
       "model_id": "7a838b42a91745969cb6e2850aa55520",
       "version_major": 2,
       "version_minor": 0
      },
      "text/plain": [
       "  0%|          | 0/911 [00:00<?, ?it/s]"
      ]
     },
     "metadata": {},
     "output_type": "display_data"
    },
    {
     "data": {
      "application/vnd.jupyter.widget-view+json": {
       "model_id": "6e70039e74c249b7a2b15092a881ee08",
       "version_major": 2,
       "version_minor": 0
      },
      "text/plain": [
       "  0%|          | 0/1 [00:00<?, ?it/s]"
      ]
     },
     "metadata": {},
     "output_type": "display_data"
    },
    {
     "data": {
      "application/vnd.jupyter.widget-view+json": {
       "model_id": "2843eede7f8f4165b6f28201c0d1f5cc",
       "version_major": 2,
       "version_minor": 0
      },
      "text/plain": [
       "  0%|          | 0/911 [00:00<?, ?it/s]"
      ]
     },
     "metadata": {},
     "output_type": "display_data"
    },
    {
     "data": {
      "application/vnd.jupyter.widget-view+json": {
       "model_id": "f3711975ad334eb98ed60e65006100e0",
       "version_major": 2,
       "version_minor": 0
      },
      "text/plain": [
       "  0%|          | 0/1 [00:00<?, ?it/s]"
      ]
     },
     "metadata": {},
     "output_type": "display_data"
    },
    {
     "data": {
      "application/vnd.jupyter.widget-view+json": {
       "model_id": "de8a76e22fe8448ba204a9734dffce32",
       "version_major": 2,
       "version_minor": 0
      },
      "text/plain": [
       "  0%|          | 0/911 [00:00<?, ?it/s]"
      ]
     },
     "metadata": {},
     "output_type": "display_data"
    },
    {
     "data": {
      "application/vnd.jupyter.widget-view+json": {
       "model_id": "edb74037e3db4c4f9b3b6ef62aafe308",
       "version_major": 2,
       "version_minor": 0
      },
      "text/plain": [
       "  0%|          | 0/1 [00:00<?, ?it/s]"
      ]
     },
     "metadata": {},
     "output_type": "display_data"
    },
    {
     "data": {
      "application/vnd.jupyter.widget-view+json": {
       "model_id": "a67c23e97c3346b5962f48f6ba201d31",
       "version_major": 2,
       "version_minor": 0
      },
      "text/plain": [
       "  0%|          | 0/911 [00:00<?, ?it/s]"
      ]
     },
     "metadata": {},
     "output_type": "display_data"
    },
    {
     "data": {
      "application/vnd.jupyter.widget-view+json": {
       "model_id": "b9ebee52e3304791bcc8438510e0cadb",
       "version_major": 2,
       "version_minor": 0
      },
      "text/plain": [
       "  0%|          | 0/1 [00:00<?, ?it/s]"
      ]
     },
     "metadata": {},
     "output_type": "display_data"
    },
    {
     "data": {
      "application/vnd.jupyter.widget-view+json": {
       "model_id": "057a3ec87e07470691ac53f29c5322d1",
       "version_major": 2,
       "version_minor": 0
      },
      "text/plain": [
       "  0%|          | 0/911 [00:00<?, ?it/s]"
      ]
     },
     "metadata": {},
     "output_type": "display_data"
    },
    {
     "data": {
      "application/vnd.jupyter.widget-view+json": {
       "model_id": "19fcc9894b9c4ac5b78cdc29dfb7c3a9",
       "version_major": 2,
       "version_minor": 0
      },
      "text/plain": [
       "  0%|          | 0/1 [00:00<?, ?it/s]"
      ]
     },
     "metadata": {},
     "output_type": "display_data"
    },
    {
     "data": {
      "application/vnd.jupyter.widget-view+json": {
       "model_id": "060bf5b1fcef4c72baec2d96f52d2827",
       "version_major": 2,
       "version_minor": 0
      },
      "text/plain": [
       "  0%|          | 0/911 [00:00<?, ?it/s]"
      ]
     },
     "metadata": {},
     "output_type": "display_data"
    },
    {
     "data": {
      "application/vnd.jupyter.widget-view+json": {
       "model_id": "f520f081f5a14b24ac28518cdbc98890",
       "version_major": 2,
       "version_minor": 0
      },
      "text/plain": [
       "  0%|          | 0/1 [00:00<?, ?it/s]"
      ]
     },
     "metadata": {},
     "output_type": "display_data"
    },
    {
     "data": {
      "application/vnd.jupyter.widget-view+json": {
       "model_id": "1b6187f2bd754e9ca31ff0908e0c7c76",
       "version_major": 2,
       "version_minor": 0
      },
      "text/plain": [
       "  0%|          | 0/911 [00:00<?, ?it/s]"
      ]
     },
     "metadata": {},
     "output_type": "display_data"
    },
    {
     "data": {
      "application/vnd.jupyter.widget-view+json": {
       "model_id": "e5264daba74f4e90a25ba13a0db64303",
       "version_major": 2,
       "version_minor": 0
      },
      "text/plain": [
       "  0%|          | 0/1 [00:00<?, ?it/s]"
      ]
     },
     "metadata": {},
     "output_type": "display_data"
    },
    {
     "data": {
      "application/vnd.jupyter.widget-view+json": {
       "model_id": "52489ad39dbc4adb9aac255666fbd036",
       "version_major": 2,
       "version_minor": 0
      },
      "text/plain": [
       "  0%|          | 0/911 [00:00<?, ?it/s]"
      ]
     },
     "metadata": {},
     "output_type": "display_data"
    },
    {
     "data": {
      "application/vnd.jupyter.widget-view+json": {
       "model_id": "96ff266f78a344c78b5f558ede44d180",
       "version_major": 2,
       "version_minor": 0
      },
      "text/plain": [
       "  0%|          | 0/1 [00:00<?, ?it/s]"
      ]
     },
     "metadata": {},
     "output_type": "display_data"
    },
    {
     "data": {
      "application/vnd.jupyter.widget-view+json": {
       "model_id": "e520ec383ddc4ca580f279fbf8778e64",
       "version_major": 2,
       "version_minor": 0
      },
      "text/plain": [
       "  0%|          | 0/911 [00:00<?, ?it/s]"
      ]
     },
     "metadata": {},
     "output_type": "display_data"
    },
    {
     "data": {
      "application/vnd.jupyter.widget-view+json": {
       "model_id": "c41b3f2ff80443f9972ae6d09e2679ca",
       "version_major": 2,
       "version_minor": 0
      },
      "text/plain": [
       "  0%|          | 0/1 [00:00<?, ?it/s]"
      ]
     },
     "metadata": {},
     "output_type": "display_data"
    },
    {
     "data": {
      "application/vnd.jupyter.widget-view+json": {
       "model_id": "603de2a6534a4c5ea8617308e0de35c4",
       "version_major": 2,
       "version_minor": 0
      },
      "text/plain": [
       "  0%|          | 0/911 [00:00<?, ?it/s]"
      ]
     },
     "metadata": {},
     "output_type": "display_data"
    },
    {
     "data": {
      "application/vnd.jupyter.widget-view+json": {
       "model_id": "48afe65bce2b4596af67b5d5b80a45c3",
       "version_major": 2,
       "version_minor": 0
      },
      "text/plain": [
       "  0%|          | 0/1 [00:00<?, ?it/s]"
      ]
     },
     "metadata": {},
     "output_type": "display_data"
    },
    {
     "data": {
      "application/vnd.jupyter.widget-view+json": {
       "model_id": "62966e5ca7d8414d81430ceaa1b687d3",
       "version_major": 2,
       "version_minor": 0
      },
      "text/plain": [
       "  0%|          | 0/911 [00:00<?, ?it/s]"
      ]
     },
     "metadata": {},
     "output_type": "display_data"
    },
    {
     "data": {
      "application/vnd.jupyter.widget-view+json": {
       "model_id": "6cf08a95cae3472996e8b1d112d6e65a",
       "version_major": 2,
       "version_minor": 0
      },
      "text/plain": [
       "  0%|          | 0/1 [00:00<?, ?it/s]"
      ]
     },
     "metadata": {},
     "output_type": "display_data"
    },
    {
     "data": {
      "application/vnd.jupyter.widget-view+json": {
       "model_id": "f382c41c404743aa9e03edde2977eba0",
       "version_major": 2,
       "version_minor": 0
      },
      "text/plain": [
       "  0%|          | 0/911 [00:00<?, ?it/s]"
      ]
     },
     "metadata": {},
     "output_type": "display_data"
    },
    {
     "data": {
      "application/vnd.jupyter.widget-view+json": {
       "model_id": "042704984c4f40c3af6790d891a32635",
       "version_major": 2,
       "version_minor": 0
      },
      "text/plain": [
       "  0%|          | 0/1 [00:00<?, ?it/s]"
      ]
     },
     "metadata": {},
     "output_type": "display_data"
    },
    {
     "data": {
      "application/vnd.jupyter.widget-view+json": {
       "model_id": "d065bf894cf14f28a6e20edeb57294fc",
       "version_major": 2,
       "version_minor": 0
      },
      "text/plain": [
       "  0%|          | 0/911 [00:00<?, ?it/s]"
      ]
     },
     "metadata": {},
     "output_type": "display_data"
    },
    {
     "data": {
      "application/vnd.jupyter.widget-view+json": {
       "model_id": "df3506b63a4849b7ba9296c70f65dd68",
       "version_major": 2,
       "version_minor": 0
      },
      "text/plain": [
       "  0%|          | 0/1 [00:00<?, ?it/s]"
      ]
     },
     "metadata": {},
     "output_type": "display_data"
    },
    {
     "data": {
      "application/vnd.jupyter.widget-view+json": {
       "model_id": "3d320497e5be4d6eb539f1095f358a1b",
       "version_major": 2,
       "version_minor": 0
      },
      "text/plain": [
       "  0%|          | 0/911 [00:00<?, ?it/s]"
      ]
     },
     "metadata": {},
     "output_type": "display_data"
    },
    {
     "data": {
      "application/vnd.jupyter.widget-view+json": {
       "model_id": "ef60361ae77747f3b025103cf7086c6f",
       "version_major": 2,
       "version_minor": 0
      },
      "text/plain": [
       "  0%|          | 0/1 [00:00<?, ?it/s]"
      ]
     },
     "metadata": {},
     "output_type": "display_data"
    },
    {
     "data": {
      "application/vnd.jupyter.widget-view+json": {
       "model_id": "3d10236629954b9eaf421bc3e9473129",
       "version_major": 2,
       "version_minor": 0
      },
      "text/plain": [
       "  0%|          | 0/911 [00:00<?, ?it/s]"
      ]
     },
     "metadata": {},
     "output_type": "display_data"
    },
    {
     "data": {
      "application/vnd.jupyter.widget-view+json": {
       "model_id": "9ee3bc569bab41368c7fbcb2a6c30af6",
       "version_major": 2,
       "version_minor": 0
      },
      "text/plain": [
       "  0%|          | 0/1 [00:00<?, ?it/s]"
      ]
     },
     "metadata": {},
     "output_type": "display_data"
    },
    {
     "data": {
      "application/vnd.jupyter.widget-view+json": {
       "model_id": "5466a1c3a8fa4e92bc8f749803dceff3",
       "version_major": 2,
       "version_minor": 0
      },
      "text/plain": [
       "  0%|          | 0/911 [00:00<?, ?it/s]"
      ]
     },
     "metadata": {},
     "output_type": "display_data"
    },
    {
     "data": {
      "application/vnd.jupyter.widget-view+json": {
       "model_id": "194693eec67b4e5c848c80f5241ed86a",
       "version_major": 2,
       "version_minor": 0
      },
      "text/plain": [
       "  0%|          | 0/1 [00:00<?, ?it/s]"
      ]
     },
     "metadata": {},
     "output_type": "display_data"
    },
    {
     "data": {
      "application/vnd.jupyter.widget-view+json": {
       "model_id": "815c2899489142efb99cb93934ba4bdf",
       "version_major": 2,
       "version_minor": 0
      },
      "text/plain": [
       "  0%|          | 0/911 [00:00<?, ?it/s]"
      ]
     },
     "metadata": {},
     "output_type": "display_data"
    },
    {
     "data": {
      "application/vnd.jupyter.widget-view+json": {
       "model_id": "c2e83fec1f004f989b13ec3c840ed79e",
       "version_major": 2,
       "version_minor": 0
      },
      "text/plain": [
       "  0%|          | 0/1 [00:00<?, ?it/s]"
      ]
     },
     "metadata": {},
     "output_type": "display_data"
    },
    {
     "data": {
      "application/vnd.jupyter.widget-view+json": {
       "model_id": "7c0be2597e78471fb91c78bb07dd8d84",
       "version_major": 2,
       "version_minor": 0
      },
      "text/plain": [
       "  0%|          | 0/911 [00:00<?, ?it/s]"
      ]
     },
     "metadata": {},
     "output_type": "display_data"
    },
    {
     "data": {
      "application/vnd.jupyter.widget-view+json": {
       "model_id": "5b77b54c9fbb4f239f3a5f7481f1e2a6",
       "version_major": 2,
       "version_minor": 0
      },
      "text/plain": [
       "  0%|          | 0/1 [00:00<?, ?it/s]"
      ]
     },
     "metadata": {},
     "output_type": "display_data"
    },
    {
     "data": {
      "application/vnd.jupyter.widget-view+json": {
       "model_id": "6994806572034eb58e55a21084afec61",
       "version_major": 2,
       "version_minor": 0
      },
      "text/plain": [
       "  0%|          | 0/911 [00:00<?, ?it/s]"
      ]
     },
     "metadata": {},
     "output_type": "display_data"
    },
    {
     "data": {
      "application/vnd.jupyter.widget-view+json": {
       "model_id": "108d148125f947df842226ae57bb33bd",
       "version_major": 2,
       "version_minor": 0
      },
      "text/plain": [
       "  0%|          | 0/1 [00:00<?, ?it/s]"
      ]
     },
     "metadata": {},
     "output_type": "display_data"
    },
    {
     "data": {
      "application/vnd.jupyter.widget-view+json": {
       "model_id": "aaf0f80d5c5d49798e259bdb23946f5b",
       "version_major": 2,
       "version_minor": 0
      },
      "text/plain": [
       "  0%|          | 0/911 [00:00<?, ?it/s]"
      ]
     },
     "metadata": {},
     "output_type": "display_data"
    },
    {
     "data": {
      "application/vnd.jupyter.widget-view+json": {
       "model_id": "d10df835c8444453a99e9dbd794ac708",
       "version_major": 2,
       "version_minor": 0
      },
      "text/plain": [
       "  0%|          | 0/1 [00:00<?, ?it/s]"
      ]
     },
     "metadata": {},
     "output_type": "display_data"
    },
    {
     "data": {
      "application/vnd.jupyter.widget-view+json": {
       "model_id": "481ddf8f307544ccb89f2c2d01cb137a",
       "version_major": 2,
       "version_minor": 0
      },
      "text/plain": [
       "  0%|          | 0/911 [00:00<?, ?it/s]"
      ]
     },
     "metadata": {},
     "output_type": "display_data"
    },
    {
     "data": {
      "application/vnd.jupyter.widget-view+json": {
       "model_id": "e7e67ca7bd6a4c478f232bb022d9fd7b",
       "version_major": 2,
       "version_minor": 0
      },
      "text/plain": [
       "  0%|          | 0/1 [00:00<?, ?it/s]"
      ]
     },
     "metadata": {},
     "output_type": "display_data"
    },
    {
     "data": {
      "application/vnd.jupyter.widget-view+json": {
       "model_id": "c15c6f9e460d4533acb63221304deeab",
       "version_major": 2,
       "version_minor": 0
      },
      "text/plain": [
       "  0%|          | 0/911 [00:00<?, ?it/s]"
      ]
     },
     "metadata": {},
     "output_type": "display_data"
    },
    {
     "data": {
      "application/vnd.jupyter.widget-view+json": {
       "model_id": "d12269bbe6004d2396e27fa7eda275ba",
       "version_major": 2,
       "version_minor": 0
      },
      "text/plain": [
       "  0%|          | 0/1 [00:00<?, ?it/s]"
      ]
     },
     "metadata": {},
     "output_type": "display_data"
    },
    {
     "data": {
      "application/vnd.jupyter.widget-view+json": {
       "model_id": "91e84aca0f4643609d742f86a098b1e7",
       "version_major": 2,
       "version_minor": 0
      },
      "text/plain": [
       "  0%|          | 0/911 [00:00<?, ?it/s]"
      ]
     },
     "metadata": {},
     "output_type": "display_data"
    },
    {
     "data": {
      "application/vnd.jupyter.widget-view+json": {
       "model_id": "75e7e251664d4b018ec0b8017f5c8eb0",
       "version_major": 2,
       "version_minor": 0
      },
      "text/plain": [
       "  0%|          | 0/1 [00:00<?, ?it/s]"
      ]
     },
     "metadata": {},
     "output_type": "display_data"
    },
    {
     "data": {
      "application/vnd.jupyter.widget-view+json": {
       "model_id": "a37b621374554f828f4a7189e99b4023",
       "version_major": 2,
       "version_minor": 0
      },
      "text/plain": [
       "  0%|          | 0/911 [00:00<?, ?it/s]"
      ]
     },
     "metadata": {},
     "output_type": "display_data"
    },
    {
     "data": {
      "application/vnd.jupyter.widget-view+json": {
       "model_id": "748b537ebd404cb5a5ac8d60978b2966",
       "version_major": 2,
       "version_minor": 0
      },
      "text/plain": [
       "  0%|          | 0/1 [00:00<?, ?it/s]"
      ]
     },
     "metadata": {},
     "output_type": "display_data"
    },
    {
     "data": {
      "application/vnd.jupyter.widget-view+json": {
       "model_id": "70a749269d19474f862682c9c7176a9d",
       "version_major": 2,
       "version_minor": 0
      },
      "text/plain": [
       "  0%|          | 0/911 [00:00<?, ?it/s]"
      ]
     },
     "metadata": {},
     "output_type": "display_data"
    },
    {
     "data": {
      "application/vnd.jupyter.widget-view+json": {
       "model_id": "ff4d7567cd754b3fbcb890e7010c7c4d",
       "version_major": 2,
       "version_minor": 0
      },
      "text/plain": [
       "  0%|          | 0/1 [00:00<?, ?it/s]"
      ]
     },
     "metadata": {},
     "output_type": "display_data"
    },
    {
     "data": {
      "application/vnd.jupyter.widget-view+json": {
       "model_id": "6940f228d67e44569d769cb22fd433cd",
       "version_major": 2,
       "version_minor": 0
      },
      "text/plain": [
       "  0%|          | 0/911 [00:00<?, ?it/s]"
      ]
     },
     "metadata": {},
     "output_type": "display_data"
    },
    {
     "data": {
      "application/vnd.jupyter.widget-view+json": {
       "model_id": "f65875f1915042c9924b043270ba0fc4",
       "version_major": 2,
       "version_minor": 0
      },
      "text/plain": [
       "  0%|          | 0/1 [00:00<?, ?it/s]"
      ]
     },
     "metadata": {},
     "output_type": "display_data"
    },
    {
     "data": {
      "application/vnd.jupyter.widget-view+json": {
       "model_id": "2c333f21d69441918b8a26253a6888f6",
       "version_major": 2,
       "version_minor": 0
      },
      "text/plain": [
       "  0%|          | 0/911 [00:00<?, ?it/s]"
      ]
     },
     "metadata": {},
     "output_type": "display_data"
    },
    {
     "data": {
      "application/vnd.jupyter.widget-view+json": {
       "model_id": "1b76a510fd064f5fa7f25a8133594a26",
       "version_major": 2,
       "version_minor": 0
      },
      "text/plain": [
       "  0%|          | 0/1 [00:00<?, ?it/s]"
      ]
     },
     "metadata": {},
     "output_type": "display_data"
    },
    {
     "data": {
      "application/vnd.jupyter.widget-view+json": {
       "model_id": "c13630d022ee44a6b7a9d8a2a0cda950",
       "version_major": 2,
       "version_minor": 0
      },
      "text/plain": [
       "  0%|          | 0/911 [00:00<?, ?it/s]"
      ]
     },
     "metadata": {},
     "output_type": "display_data"
    },
    {
     "data": {
      "application/vnd.jupyter.widget-view+json": {
       "model_id": "fd324483602347f39b33fa0d39d2ead1",
       "version_major": 2,
       "version_minor": 0
      },
      "text/plain": [
       "  0%|          | 0/1 [00:00<?, ?it/s]"
      ]
     },
     "metadata": {},
     "output_type": "display_data"
    },
    {
     "data": {
      "application/vnd.jupyter.widget-view+json": {
       "model_id": "1120448ad6774554893dd58074847725",
       "version_major": 2,
       "version_minor": 0
      },
      "text/plain": [
       "  0%|          | 0/911 [00:00<?, ?it/s]"
      ]
     },
     "metadata": {},
     "output_type": "display_data"
    },
    {
     "data": {
      "application/vnd.jupyter.widget-view+json": {
       "model_id": "6709ea1ee66740fe907a23d288101406",
       "version_major": 2,
       "version_minor": 0
      },
      "text/plain": [
       "  0%|          | 0/1 [00:00<?, ?it/s]"
      ]
     },
     "metadata": {},
     "output_type": "display_data"
    },
    {
     "data": {
      "application/vnd.jupyter.widget-view+json": {
       "model_id": "30950dc573c1482e8de91f28c9c29bbb",
       "version_major": 2,
       "version_minor": 0
      },
      "text/plain": [
       "  0%|          | 0/911 [00:00<?, ?it/s]"
      ]
     },
     "metadata": {},
     "output_type": "display_data"
    },
    {
     "data": {
      "application/vnd.jupyter.widget-view+json": {
       "model_id": "8286952348a742c084910a6250e780a5",
       "version_major": 2,
       "version_minor": 0
      },
      "text/plain": [
       "  0%|          | 0/1 [00:00<?, ?it/s]"
      ]
     },
     "metadata": {},
     "output_type": "display_data"
    },
    {
     "data": {
      "application/vnd.jupyter.widget-view+json": {
       "model_id": "49dfa57aa90042c9aaeece1dc3e57994",
       "version_major": 2,
       "version_minor": 0
      },
      "text/plain": [
       "  0%|          | 0/911 [00:00<?, ?it/s]"
      ]
     },
     "metadata": {},
     "output_type": "display_data"
    },
    {
     "data": {
      "application/vnd.jupyter.widget-view+json": {
       "model_id": "819ddedefd11446d85f1fc6988f86719",
       "version_major": 2,
       "version_minor": 0
      },
      "text/plain": [
       "  0%|          | 0/1 [00:00<?, ?it/s]"
      ]
     },
     "metadata": {},
     "output_type": "display_data"
    },
    {
     "data": {
      "application/vnd.jupyter.widget-view+json": {
       "model_id": "96979edbe13241bfbec151ebffe42b21",
       "version_major": 2,
       "version_minor": 0
      },
      "text/plain": [
       "  0%|          | 0/911 [00:00<?, ?it/s]"
      ]
     },
     "metadata": {},
     "output_type": "display_data"
    },
    {
     "data": {
      "application/vnd.jupyter.widget-view+json": {
       "model_id": "7ee1ee32c48f4cfda1ba9ddd616c484a",
       "version_major": 2,
       "version_minor": 0
      },
      "text/plain": [
       "  0%|          | 0/1 [00:00<?, ?it/s]"
      ]
     },
     "metadata": {},
     "output_type": "display_data"
    },
    {
     "data": {
      "application/vnd.jupyter.widget-view+json": {
       "model_id": "d29fc6bbc0574414b223624e63e74ec6",
       "version_major": 2,
       "version_minor": 0
      },
      "text/plain": [
       "  0%|          | 0/911 [00:00<?, ?it/s]"
      ]
     },
     "metadata": {},
     "output_type": "display_data"
    },
    {
     "data": {
      "application/vnd.jupyter.widget-view+json": {
       "model_id": "d56ec6c83c3d41878d95eb61cbc08d17",
       "version_major": 2,
       "version_minor": 0
      },
      "text/plain": [
       "  0%|          | 0/1 [00:00<?, ?it/s]"
      ]
     },
     "metadata": {},
     "output_type": "display_data"
    },
    {
     "data": {
      "application/vnd.jupyter.widget-view+json": {
       "model_id": "d8131d87d219414188af95c9b05ad564",
       "version_major": 2,
       "version_minor": 0
      },
      "text/plain": [
       "  0%|          | 0/911 [00:00<?, ?it/s]"
      ]
     },
     "metadata": {},
     "output_type": "display_data"
    },
    {
     "data": {
      "application/vnd.jupyter.widget-view+json": {
       "model_id": "760f2a681b6242ee85ffc142ef884b41",
       "version_major": 2,
       "version_minor": 0
      },
      "text/plain": [
       "  0%|          | 0/1 [00:00<?, ?it/s]"
      ]
     },
     "metadata": {},
     "output_type": "display_data"
    },
    {
     "data": {
      "application/vnd.jupyter.widget-view+json": {
       "model_id": "9dc092a55b114e4ab429b57a0e234f5d",
       "version_major": 2,
       "version_minor": 0
      },
      "text/plain": [
       "  0%|          | 0/911 [00:00<?, ?it/s]"
      ]
     },
     "metadata": {},
     "output_type": "display_data"
    },
    {
     "data": {
      "application/vnd.jupyter.widget-view+json": {
       "model_id": "34006956e87c4ad3bb1482531fd015c6",
       "version_major": 2,
       "version_minor": 0
      },
      "text/plain": [
       "  0%|          | 0/1 [00:00<?, ?it/s]"
      ]
     },
     "metadata": {},
     "output_type": "display_data"
    },
    {
     "data": {
      "application/vnd.jupyter.widget-view+json": {
       "model_id": "d1832759d3cf41fdaf07a5c559b0c51e",
       "version_major": 2,
       "version_minor": 0
      },
      "text/plain": [
       "  0%|          | 0/911 [00:00<?, ?it/s]"
      ]
     },
     "metadata": {},
     "output_type": "display_data"
    },
    {
     "data": {
      "application/vnd.jupyter.widget-view+json": {
       "model_id": "fa51f72e0374409d917219a1d199c3ab",
       "version_major": 2,
       "version_minor": 0
      },
      "text/plain": [
       "  0%|          | 0/1 [00:00<?, ?it/s]"
      ]
     },
     "metadata": {},
     "output_type": "display_data"
    },
    {
     "data": {
      "application/vnd.jupyter.widget-view+json": {
       "model_id": "f9f05210d1a3426dbb81bb427e00124c",
       "version_major": 2,
       "version_minor": 0
      },
      "text/plain": [
       "  0%|          | 0/911 [00:00<?, ?it/s]"
      ]
     },
     "metadata": {},
     "output_type": "display_data"
    },
    {
     "data": {
      "application/vnd.jupyter.widget-view+json": {
       "model_id": "4daafcef8c974d0f91c3b0e6436dc516",
       "version_major": 2,
       "version_minor": 0
      },
      "text/plain": [
       "  0%|          | 0/1 [00:00<?, ?it/s]"
      ]
     },
     "metadata": {},
     "output_type": "display_data"
    },
    {
     "data": {
      "application/vnd.jupyter.widget-view+json": {
       "model_id": "2e2482a7bbfd43e6b2c6a726fca931e8",
       "version_major": 2,
       "version_minor": 0
      },
      "text/plain": [
       "  0%|          | 0/911 [00:00<?, ?it/s]"
      ]
     },
     "metadata": {},
     "output_type": "display_data"
    },
    {
     "data": {
      "application/vnd.jupyter.widget-view+json": {
       "model_id": "87e26d86b2e646c384bb4ec4c9b9921d",
       "version_major": 2,
       "version_minor": 0
      },
      "text/plain": [
       "  0%|          | 0/1 [00:00<?, ?it/s]"
      ]
     },
     "metadata": {},
     "output_type": "display_data"
    },
    {
     "data": {
      "application/vnd.jupyter.widget-view+json": {
       "model_id": "e7d73c3c2f024837864f966a96eda6d4",
       "version_major": 2,
       "version_minor": 0
      },
      "text/plain": [
       "  0%|          | 0/911 [00:00<?, ?it/s]"
      ]
     },
     "metadata": {},
     "output_type": "display_data"
    },
    {
     "data": {
      "application/vnd.jupyter.widget-view+json": {
       "model_id": "d6901a7bfac749978a44085f736ba138",
       "version_major": 2,
       "version_minor": 0
      },
      "text/plain": [
       "  0%|          | 0/1 [00:00<?, ?it/s]"
      ]
     },
     "metadata": {},
     "output_type": "display_data"
    },
    {
     "data": {
      "application/vnd.jupyter.widget-view+json": {
       "model_id": "1d01f02423304b4c86fa618365f57ac2",
       "version_major": 2,
       "version_minor": 0
      },
      "text/plain": [
       "  0%|          | 0/911 [00:00<?, ?it/s]"
      ]
     },
     "metadata": {},
     "output_type": "display_data"
    },
    {
     "data": {
      "application/vnd.jupyter.widget-view+json": {
       "model_id": "3b0f3b912b424b45989d414aba572683",
       "version_major": 2,
       "version_minor": 0
      },
      "text/plain": [
       "  0%|          | 0/1 [00:00<?, ?it/s]"
      ]
     },
     "metadata": {},
     "output_type": "display_data"
    },
    {
     "data": {
      "application/vnd.jupyter.widget-view+json": {
       "model_id": "810ef92881dc421cb0f3ae838cb970bd",
       "version_major": 2,
       "version_minor": 0
      },
      "text/plain": [
       "  0%|          | 0/911 [00:00<?, ?it/s]"
      ]
     },
     "metadata": {},
     "output_type": "display_data"
    },
    {
     "data": {
      "application/vnd.jupyter.widget-view+json": {
       "model_id": "6616c1a3d62f4ae4a08e3650a9f401e7",
       "version_major": 2,
       "version_minor": 0
      },
      "text/plain": [
       "  0%|          | 0/1 [00:00<?, ?it/s]"
      ]
     },
     "metadata": {},
     "output_type": "display_data"
    },
    {
     "data": {
      "application/vnd.jupyter.widget-view+json": {
       "model_id": "a89740b036d5427b9b75b17efa76ebcd",
       "version_major": 2,
       "version_minor": 0
      },
      "text/plain": [
       "  0%|          | 0/911 [00:00<?, ?it/s]"
      ]
     },
     "metadata": {},
     "output_type": "display_data"
    },
    {
     "data": {
      "application/vnd.jupyter.widget-view+json": {
       "model_id": "e3707dbcdade482da710b6d58f988bbc",
       "version_major": 2,
       "version_minor": 0
      },
      "text/plain": [
       "  0%|          | 0/1 [00:00<?, ?it/s]"
      ]
     },
     "metadata": {},
     "output_type": "display_data"
    },
    {
     "data": {
      "application/vnd.jupyter.widget-view+json": {
       "model_id": "4fc7844e738c416b936fe797ec9d21c1",
       "version_major": 2,
       "version_minor": 0
      },
      "text/plain": [
       "  0%|          | 0/911 [00:00<?, ?it/s]"
      ]
     },
     "metadata": {},
     "output_type": "display_data"
    },
    {
     "data": {
      "application/vnd.jupyter.widget-view+json": {
       "model_id": "81de64c98db949dd903a952474441318",
       "version_major": 2,
       "version_minor": 0
      },
      "text/plain": [
       "  0%|          | 0/1 [00:00<?, ?it/s]"
      ]
     },
     "metadata": {},
     "output_type": "display_data"
    },
    {
     "data": {
      "application/vnd.jupyter.widget-view+json": {
       "model_id": "70f11398fbe146f79076aadd1d39cc98",
       "version_major": 2,
       "version_minor": 0
      },
      "text/plain": [
       "  0%|          | 0/911 [00:00<?, ?it/s]"
      ]
     },
     "metadata": {},
     "output_type": "display_data"
    },
    {
     "data": {
      "application/vnd.jupyter.widget-view+json": {
       "model_id": "9e0b2e3010f24fa192f219ea98795fed",
       "version_major": 2,
       "version_minor": 0
      },
      "text/plain": [
       "  0%|          | 0/1 [00:00<?, ?it/s]"
      ]
     },
     "metadata": {},
     "output_type": "display_data"
    },
    {
     "data": {
      "application/vnd.jupyter.widget-view+json": {
       "model_id": "963da960fe4049b382a687d591bfeb04",
       "version_major": 2,
       "version_minor": 0
      },
      "text/plain": [
       "  0%|          | 0/911 [00:00<?, ?it/s]"
      ]
     },
     "metadata": {},
     "output_type": "display_data"
    },
    {
     "data": {
      "application/vnd.jupyter.widget-view+json": {
       "model_id": "be6181bf622f4021a8ffe980f26a3491",
       "version_major": 2,
       "version_minor": 0
      },
      "text/plain": [
       "  0%|          | 0/1 [00:00<?, ?it/s]"
      ]
     },
     "metadata": {},
     "output_type": "display_data"
    },
    {
     "data": {
      "application/vnd.jupyter.widget-view+json": {
       "model_id": "c8c89a639a8a4270bc3fb7e2dffd8046",
       "version_major": 2,
       "version_minor": 0
      },
      "text/plain": [
       "  0%|          | 0/911 [00:00<?, ?it/s]"
      ]
     },
     "metadata": {},
     "output_type": "display_data"
    },
    {
     "data": {
      "application/vnd.jupyter.widget-view+json": {
       "model_id": "050aeaa41bec451589e73928afd470a8",
       "version_major": 2,
       "version_minor": 0
      },
      "text/plain": [
       "  0%|          | 0/1 [00:00<?, ?it/s]"
      ]
     },
     "metadata": {},
     "output_type": "display_data"
    },
    {
     "data": {
      "application/vnd.jupyter.widget-view+json": {
       "model_id": "00a585b1a09846a0b753d48cf6882507",
       "version_major": 2,
       "version_minor": 0
      },
      "text/plain": [
       "  0%|          | 0/911 [00:00<?, ?it/s]"
      ]
     },
     "metadata": {},
     "output_type": "display_data"
    },
    {
     "data": {
      "application/vnd.jupyter.widget-view+json": {
       "model_id": "70702309c9cf4595bec3020fa60c1583",
       "version_major": 2,
       "version_minor": 0
      },
      "text/plain": [
       "  0%|          | 0/1 [00:00<?, ?it/s]"
      ]
     },
     "metadata": {},
     "output_type": "display_data"
    },
    {
     "data": {
      "application/vnd.jupyter.widget-view+json": {
       "model_id": "8b33139e016445c98fefdca556f5a361",
       "version_major": 2,
       "version_minor": 0
      },
      "text/plain": [
       "  0%|          | 0/911 [00:00<?, ?it/s]"
      ]
     },
     "metadata": {},
     "output_type": "display_data"
    },
    {
     "data": {
      "application/vnd.jupyter.widget-view+json": {
       "model_id": "f6c4d7a6f8314f4381f92cecddf3847c",
       "version_major": 2,
       "version_minor": 0
      },
      "text/plain": [
       "  0%|          | 0/1 [00:00<?, ?it/s]"
      ]
     },
     "metadata": {},
     "output_type": "display_data"
    },
    {
     "data": {
      "application/vnd.jupyter.widget-view+json": {
       "model_id": "ac8a1f3a341f42e885dffc2adcc5abe2",
       "version_major": 2,
       "version_minor": 0
      },
      "text/plain": [
       "  0%|          | 0/911 [00:00<?, ?it/s]"
      ]
     },
     "metadata": {},
     "output_type": "display_data"
    },
    {
     "data": {
      "application/vnd.jupyter.widget-view+json": {
       "model_id": "e72458c7e2b640e2a6a54b029151a026",
       "version_major": 2,
       "version_minor": 0
      },
      "text/plain": [
       "  0%|          | 0/1 [00:00<?, ?it/s]"
      ]
     },
     "metadata": {},
     "output_type": "display_data"
    },
    {
     "data": {
      "application/vnd.jupyter.widget-view+json": {
       "model_id": "a9d2e30da24d4405909f60a75315ab44",
       "version_major": 2,
       "version_minor": 0
      },
      "text/plain": [
       "  0%|          | 0/911 [00:00<?, ?it/s]"
      ]
     },
     "metadata": {},
     "output_type": "display_data"
    },
    {
     "data": {
      "application/vnd.jupyter.widget-view+json": {
       "model_id": "b8ffdf20e17e4e17be4bd72e6b3962bc",
       "version_major": 2,
       "version_minor": 0
      },
      "text/plain": [
       "  0%|          | 0/1 [00:00<?, ?it/s]"
      ]
     },
     "metadata": {},
     "output_type": "display_data"
    },
    {
     "data": {
      "application/vnd.jupyter.widget-view+json": {
       "model_id": "36590a5059c04b4e8eef9beb0f50d582",
       "version_major": 2,
       "version_minor": 0
      },
      "text/plain": [
       "  0%|          | 0/911 [00:00<?, ?it/s]"
      ]
     },
     "metadata": {},
     "output_type": "display_data"
    },
    {
     "data": {
      "application/vnd.jupyter.widget-view+json": {
       "model_id": "1c315ade6df94979a185a5722b84b8ae",
       "version_major": 2,
       "version_minor": 0
      },
      "text/plain": [
       "  0%|          | 0/1 [00:00<?, ?it/s]"
      ]
     },
     "metadata": {},
     "output_type": "display_data"
    },
    {
     "data": {
      "application/vnd.jupyter.widget-view+json": {
       "model_id": "4020fc51c8954e22992abeb7da16585d",
       "version_major": 2,
       "version_minor": 0
      },
      "text/plain": [
       "  0%|          | 0/911 [00:00<?, ?it/s]"
      ]
     },
     "metadata": {},
     "output_type": "display_data"
    },
    {
     "data": {
      "application/vnd.jupyter.widget-view+json": {
       "model_id": "f27b8aa076244e9091dfd1691fca0ce2",
       "version_major": 2,
       "version_minor": 0
      },
      "text/plain": [
       "  0%|          | 0/1 [00:00<?, ?it/s]"
      ]
     },
     "metadata": {},
     "output_type": "display_data"
    },
    {
     "data": {
      "application/vnd.jupyter.widget-view+json": {
       "model_id": "68566f731a6447fc8f32934d4b452fe1",
       "version_major": 2,
       "version_minor": 0
      },
      "text/plain": [
       "  0%|          | 0/911 [00:00<?, ?it/s]"
      ]
     },
     "metadata": {},
     "output_type": "display_data"
    },
    {
     "data": {
      "application/vnd.jupyter.widget-view+json": {
       "model_id": "d6f64f2608e34a41af643fc11a65e297",
       "version_major": 2,
       "version_minor": 0
      },
      "text/plain": [
       "  0%|          | 0/1 [00:00<?, ?it/s]"
      ]
     },
     "metadata": {},
     "output_type": "display_data"
    },
    {
     "data": {
      "application/vnd.jupyter.widget-view+json": {
       "model_id": "8920e04445e64c86bf57b193d747ed00",
       "version_major": 2,
       "version_minor": 0
      },
      "text/plain": [
       "  0%|          | 0/911 [00:00<?, ?it/s]"
      ]
     },
     "metadata": {},
     "output_type": "display_data"
    },
    {
     "data": {
      "application/vnd.jupyter.widget-view+json": {
       "model_id": "66ba684ad5fd4a08a394bb8152fb69de",
       "version_major": 2,
       "version_minor": 0
      },
      "text/plain": [
       "  0%|          | 0/1 [00:00<?, ?it/s]"
      ]
     },
     "metadata": {},
     "output_type": "display_data"
    },
    {
     "data": {
      "application/vnd.jupyter.widget-view+json": {
       "model_id": "9a7eb613ba3e4dfe8c4e6bbec2fdcdf0",
       "version_major": 2,
       "version_minor": 0
      },
      "text/plain": [
       "  0%|          | 0/911 [00:00<?, ?it/s]"
      ]
     },
     "metadata": {},
     "output_type": "display_data"
    },
    {
     "data": {
      "application/vnd.jupyter.widget-view+json": {
       "model_id": "2a2d768890f0443cbe191758ccd6b8bf",
       "version_major": 2,
       "version_minor": 0
      },
      "text/plain": [
       "  0%|          | 0/1 [00:00<?, ?it/s]"
      ]
     },
     "metadata": {},
     "output_type": "display_data"
    },
    {
     "data": {
      "application/vnd.jupyter.widget-view+json": {
       "model_id": "7e040b46ac0046f39b50c3c07d28ce41",
       "version_major": 2,
       "version_minor": 0
      },
      "text/plain": [
       "  0%|          | 0/911 [00:00<?, ?it/s]"
      ]
     },
     "metadata": {},
     "output_type": "display_data"
    },
    {
     "data": {
      "application/vnd.jupyter.widget-view+json": {
       "model_id": "bd42836ba4894b839263f43cd5b58ef0",
       "version_major": 2,
       "version_minor": 0
      },
      "text/plain": [
       "  0%|          | 0/1 [00:00<?, ?it/s]"
      ]
     },
     "metadata": {},
     "output_type": "display_data"
    },
    {
     "data": {
      "application/vnd.jupyter.widget-view+json": {
       "model_id": "283c12ca048a419f83ded8d94f803145",
       "version_major": 2,
       "version_minor": 0
      },
      "text/plain": [
       "  0%|          | 0/911 [00:00<?, ?it/s]"
      ]
     },
     "metadata": {},
     "output_type": "display_data"
    },
    {
     "data": {
      "application/vnd.jupyter.widget-view+json": {
       "model_id": "8ac86be6b19e4181974978fbeb11d03b",
       "version_major": 2,
       "version_minor": 0
      },
      "text/plain": [
       "  0%|          | 0/1 [00:00<?, ?it/s]"
      ]
     },
     "metadata": {},
     "output_type": "display_data"
    },
    {
     "data": {
      "application/vnd.jupyter.widget-view+json": {
       "model_id": "cba8e9a11e2d418f874f6733ffb3d30a",
       "version_major": 2,
       "version_minor": 0
      },
      "text/plain": [
       "  0%|          | 0/911 [00:00<?, ?it/s]"
      ]
     },
     "metadata": {},
     "output_type": "display_data"
    },
    {
     "data": {
      "application/vnd.jupyter.widget-view+json": {
       "model_id": "84b530514e414c51afd29d5b13fef654",
       "version_major": 2,
       "version_minor": 0
      },
      "text/plain": [
       "  0%|          | 0/1 [00:00<?, ?it/s]"
      ]
     },
     "metadata": {},
     "output_type": "display_data"
    },
    {
     "data": {
      "application/vnd.jupyter.widget-view+json": {
       "model_id": "2487dbc9415649668e9acd593310e35d",
       "version_major": 2,
       "version_minor": 0
      },
      "text/plain": [
       "  0%|          | 0/911 [00:00<?, ?it/s]"
      ]
     },
     "metadata": {},
     "output_type": "display_data"
    },
    {
     "data": {
      "application/vnd.jupyter.widget-view+json": {
       "model_id": "41ebeecd6e3745dfaef36fb6e91f09a4",
       "version_major": 2,
       "version_minor": 0
      },
      "text/plain": [
       "  0%|          | 0/1 [00:00<?, ?it/s]"
      ]
     },
     "metadata": {},
     "output_type": "display_data"
    },
    {
     "data": {
      "application/vnd.jupyter.widget-view+json": {
       "model_id": "bf8f07da8ad545a5ae640ca369773484",
       "version_major": 2,
       "version_minor": 0
      },
      "text/plain": [
       "  0%|          | 0/911 [00:00<?, ?it/s]"
      ]
     },
     "metadata": {},
     "output_type": "display_data"
    },
    {
     "data": {
      "application/vnd.jupyter.widget-view+json": {
       "model_id": "110c6364c8564eee80439ca50d027ff1",
       "version_major": 2,
       "version_minor": 0
      },
      "text/plain": [
       "  0%|          | 0/1 [00:00<?, ?it/s]"
      ]
     },
     "metadata": {},
     "output_type": "display_data"
    },
    {
     "data": {
      "application/vnd.jupyter.widget-view+json": {
       "model_id": "8789c7cf6aee458396c68bffcd13d266",
       "version_major": 2,
       "version_minor": 0
      },
      "text/plain": [
       "  0%|          | 0/911 [00:00<?, ?it/s]"
      ]
     },
     "metadata": {},
     "output_type": "display_data"
    },
    {
     "data": {
      "application/vnd.jupyter.widget-view+json": {
       "model_id": "62e6bbccac8a4df19c7452e9d6d7b904",
       "version_major": 2,
       "version_minor": 0
      },
      "text/plain": [
       "  0%|          | 0/1 [00:00<?, ?it/s]"
      ]
     },
     "metadata": {},
     "output_type": "display_data"
    },
    {
     "data": {
      "application/vnd.jupyter.widget-view+json": {
       "model_id": "8ad33091bfd942df9d24237f74da5390",
       "version_major": 2,
       "version_minor": 0
      },
      "text/plain": [
       "  0%|          | 0/911 [00:00<?, ?it/s]"
      ]
     },
     "metadata": {},
     "output_type": "display_data"
    },
    {
     "data": {
      "application/vnd.jupyter.widget-view+json": {
       "model_id": "9c755c3526c4426591f1e1034f583364",
       "version_major": 2,
       "version_minor": 0
      },
      "text/plain": [
       "  0%|          | 0/1 [00:00<?, ?it/s]"
      ]
     },
     "metadata": {},
     "output_type": "display_data"
    },
    {
     "data": {
      "application/vnd.jupyter.widget-view+json": {
       "model_id": "ae973047a4274fc8ac8219de32416651",
       "version_major": 2,
       "version_minor": 0
      },
      "text/plain": [
       "  0%|          | 0/911 [00:00<?, ?it/s]"
      ]
     },
     "metadata": {},
     "output_type": "display_data"
    },
    {
     "data": {
      "application/vnd.jupyter.widget-view+json": {
       "model_id": "e14eadd9f3c64630aa44151b8d0f47dc",
       "version_major": 2,
       "version_minor": 0
      },
      "text/plain": [
       "  0%|          | 0/1 [00:00<?, ?it/s]"
      ]
     },
     "metadata": {},
     "output_type": "display_data"
    },
    {
     "data": {
      "application/vnd.jupyter.widget-view+json": {
       "model_id": "f6d2c8c72f1f47ef860945d4f128be5d",
       "version_major": 2,
       "version_minor": 0
      },
      "text/plain": [
       "  0%|          | 0/911 [00:00<?, ?it/s]"
      ]
     },
     "metadata": {},
     "output_type": "display_data"
    },
    {
     "data": {
      "application/vnd.jupyter.widget-view+json": {
       "model_id": "13b06f04a8f840199be1015669f6c2e3",
       "version_major": 2,
       "version_minor": 0
      },
      "text/plain": [
       "  0%|          | 0/1 [00:00<?, ?it/s]"
      ]
     },
     "metadata": {},
     "output_type": "display_data"
    },
    {
     "data": {
      "application/vnd.jupyter.widget-view+json": {
       "model_id": "7a364aed89a24462ac82e551ec6a08b9",
       "version_major": 2,
       "version_minor": 0
      },
      "text/plain": [
       "  0%|          | 0/911 [00:00<?, ?it/s]"
      ]
     },
     "metadata": {},
     "output_type": "display_data"
    },
    {
     "data": {
      "application/vnd.jupyter.widget-view+json": {
       "model_id": "b56b049477834f2b9f4e408509d710a3",
       "version_major": 2,
       "version_minor": 0
      },
      "text/plain": [
       "  0%|          | 0/1 [00:00<?, ?it/s]"
      ]
     },
     "metadata": {},
     "output_type": "display_data"
    },
    {
     "data": {
      "application/vnd.jupyter.widget-view+json": {
       "model_id": "72481f36418f46dabce276dbd97e8a47",
       "version_major": 2,
       "version_minor": 0
      },
      "text/plain": [
       "  0%|          | 0/911 [00:00<?, ?it/s]"
      ]
     },
     "metadata": {},
     "output_type": "display_data"
    },
    {
     "data": {
      "application/vnd.jupyter.widget-view+json": {
       "model_id": "27bb088dfefb4669ae1ffba48418521d",
       "version_major": 2,
       "version_minor": 0
      },
      "text/plain": [
       "  0%|          | 0/1 [00:00<?, ?it/s]"
      ]
     },
     "metadata": {},
     "output_type": "display_data"
    },
    {
     "data": {
      "application/vnd.jupyter.widget-view+json": {
       "model_id": "64830b73c8854b65bb940949fa1f3cc8",
       "version_major": 2,
       "version_minor": 0
      },
      "text/plain": [
       "  0%|          | 0/911 [00:00<?, ?it/s]"
      ]
     },
     "metadata": {},
     "output_type": "display_data"
    },
    {
     "data": {
      "application/vnd.jupyter.widget-view+json": {
       "model_id": "f94d43d621e3446b8d0211ee865c533a",
       "version_major": 2,
       "version_minor": 0
      },
      "text/plain": [
       "  0%|          | 0/1 [00:00<?, ?it/s]"
      ]
     },
     "metadata": {},
     "output_type": "display_data"
    },
    {
     "data": {
      "application/vnd.jupyter.widget-view+json": {
       "model_id": "10b02b00705f4cc7896d02f1d19ef791",
       "version_major": 2,
       "version_minor": 0
      },
      "text/plain": [
       "  0%|          | 0/911 [00:00<?, ?it/s]"
      ]
     },
     "metadata": {},
     "output_type": "display_data"
    },
    {
     "data": {
      "application/vnd.jupyter.widget-view+json": {
       "model_id": "31d6c24c8ed047c29126d06fb0b9d360",
       "version_major": 2,
       "version_minor": 0
      },
      "text/plain": [
       "  0%|          | 0/1 [00:00<?, ?it/s]"
      ]
     },
     "metadata": {},
     "output_type": "display_data"
    },
    {
     "data": {
      "application/vnd.jupyter.widget-view+json": {
       "model_id": "284e78a44c7b425faa2b083f9ad2202b",
       "version_major": 2,
       "version_minor": 0
      },
      "text/plain": [
       "  0%|          | 0/911 [00:00<?, ?it/s]"
      ]
     },
     "metadata": {},
     "output_type": "display_data"
    },
    {
     "data": {
      "application/vnd.jupyter.widget-view+json": {
       "model_id": "b0c4d43a77cb4859871080128859eb51",
       "version_major": 2,
       "version_minor": 0
      },
      "text/plain": [
       "  0%|          | 0/1 [00:00<?, ?it/s]"
      ]
     },
     "metadata": {},
     "output_type": "display_data"
    },
    {
     "data": {
      "application/vnd.jupyter.widget-view+json": {
       "model_id": "8a6701ee38bb49259159684cbd305c6d",
       "version_major": 2,
       "version_minor": 0
      },
      "text/plain": [
       "  0%|          | 0/911 [00:00<?, ?it/s]"
      ]
     },
     "metadata": {},
     "output_type": "display_data"
    },
    {
     "data": {
      "application/vnd.jupyter.widget-view+json": {
       "model_id": "7a259493a966447fa16a3292f967c027",
       "version_major": 2,
       "version_minor": 0
      },
      "text/plain": [
       "  0%|          | 0/1 [00:00<?, ?it/s]"
      ]
     },
     "metadata": {},
     "output_type": "display_data"
    },
    {
     "data": {
      "application/vnd.jupyter.widget-view+json": {
       "model_id": "e714815e480b4ae99c5f243172f72a0e",
       "version_major": 2,
       "version_minor": 0
      },
      "text/plain": [
       "  0%|          | 0/911 [00:00<?, ?it/s]"
      ]
     },
     "metadata": {},
     "output_type": "display_data"
    },
    {
     "data": {
      "application/vnd.jupyter.widget-view+json": {
       "model_id": "15c4bb7b7e6b41239dbb5ee92021b729",
       "version_major": 2,
       "version_minor": 0
      },
      "text/plain": [
       "  0%|          | 0/1 [00:00<?, ?it/s]"
      ]
     },
     "metadata": {},
     "output_type": "display_data"
    },
    {
     "data": {
      "application/vnd.jupyter.widget-view+json": {
       "model_id": "2562b70bdb574b8284c9fe2d71e8d175",
       "version_major": 2,
       "version_minor": 0
      },
      "text/plain": [
       "  0%|          | 0/911 [00:00<?, ?it/s]"
      ]
     },
     "metadata": {},
     "output_type": "display_data"
    },
    {
     "data": {
      "application/vnd.jupyter.widget-view+json": {
       "model_id": "6eda0c82293945e1b23004c176b85093",
       "version_major": 2,
       "version_minor": 0
      },
      "text/plain": [
       "  0%|          | 0/1 [00:00<?, ?it/s]"
      ]
     },
     "metadata": {},
     "output_type": "display_data"
    },
    {
     "data": {
      "application/vnd.jupyter.widget-view+json": {
       "model_id": "032ac0e937594cb884f8f866c85df62c",
       "version_major": 2,
       "version_minor": 0
      },
      "text/plain": [
       "  0%|          | 0/911 [00:00<?, ?it/s]"
      ]
     },
     "metadata": {},
     "output_type": "display_data"
    },
    {
     "data": {
      "application/vnd.jupyter.widget-view+json": {
       "model_id": "eef566a9e2794fcc90000367cc3d5c94",
       "version_major": 2,
       "version_minor": 0
      },
      "text/plain": [
       "  0%|          | 0/1 [00:00<?, ?it/s]"
      ]
     },
     "metadata": {},
     "output_type": "display_data"
    },
    {
     "data": {
      "application/vnd.jupyter.widget-view+json": {
       "model_id": "05d49223a3914c06bb204c0c3beaffc0",
       "version_major": 2,
       "version_minor": 0
      },
      "text/plain": [
       "  0%|          | 0/911 [00:00<?, ?it/s]"
      ]
     },
     "metadata": {},
     "output_type": "display_data"
    },
    {
     "data": {
      "application/vnd.jupyter.widget-view+json": {
       "model_id": "fed921796e794764bc56e330850d42d9",
       "version_major": 2,
       "version_minor": 0
      },
      "text/plain": [
       "  0%|          | 0/1 [00:00<?, ?it/s]"
      ]
     },
     "metadata": {},
     "output_type": "display_data"
    },
    {
     "data": {
      "application/vnd.jupyter.widget-view+json": {
       "model_id": "23702c08600c4aafb3176c5d6c0a774b",
       "version_major": 2,
       "version_minor": 0
      },
      "text/plain": [
       "  0%|          | 0/911 [00:00<?, ?it/s]"
      ]
     },
     "metadata": {},
     "output_type": "display_data"
    },
    {
     "data": {
      "application/vnd.jupyter.widget-view+json": {
       "model_id": "c981d10112634760a56f659aa3ede836",
       "version_major": 2,
       "version_minor": 0
      },
      "text/plain": [
       "  0%|          | 0/1 [00:00<?, ?it/s]"
      ]
     },
     "metadata": {},
     "output_type": "display_data"
    },
    {
     "data": {
      "application/vnd.jupyter.widget-view+json": {
       "model_id": "65f12f1190dd44bfb9648452a0929be4",
       "version_major": 2,
       "version_minor": 0
      },
      "text/plain": [
       "  0%|          | 0/911 [00:00<?, ?it/s]"
      ]
     },
     "metadata": {},
     "output_type": "display_data"
    },
    {
     "data": {
      "application/vnd.jupyter.widget-view+json": {
       "model_id": "517ae20dcc6b40b08d4391cefa0c0c1c",
       "version_major": 2,
       "version_minor": 0
      },
      "text/plain": [
       "  0%|          | 0/1 [00:00<?, ?it/s]"
      ]
     },
     "metadata": {},
     "output_type": "display_data"
    },
    {
     "data": {
      "application/vnd.jupyter.widget-view+json": {
       "model_id": "54ee348ac95d4a99bdd2f56d7dde99b6",
       "version_major": 2,
       "version_minor": 0
      },
      "text/plain": [
       "  0%|          | 0/911 [00:00<?, ?it/s]"
      ]
     },
     "metadata": {},
     "output_type": "display_data"
    },
    {
     "data": {
      "application/vnd.jupyter.widget-view+json": {
       "model_id": "cfa6113cbca14acfb1468baea6befcb7",
       "version_major": 2,
       "version_minor": 0
      },
      "text/plain": [
       "  0%|          | 0/1 [00:00<?, ?it/s]"
      ]
     },
     "metadata": {},
     "output_type": "display_data"
    },
    {
     "data": {
      "application/vnd.jupyter.widget-view+json": {
       "model_id": "7072e4d12e1f4bb8a729a40347effb2c",
       "version_major": 2,
       "version_minor": 0
      },
      "text/plain": [
       "  0%|          | 0/911 [00:00<?, ?it/s]"
      ]
     },
     "metadata": {},
     "output_type": "display_data"
    },
    {
     "data": {
      "application/vnd.jupyter.widget-view+json": {
       "model_id": "8053f99c4a714560b6143bb13f9f3f72",
       "version_major": 2,
       "version_minor": 0
      },
      "text/plain": [
       "  0%|          | 0/1 [00:00<?, ?it/s]"
      ]
     },
     "metadata": {},
     "output_type": "display_data"
    },
    {
     "data": {
      "application/vnd.jupyter.widget-view+json": {
       "model_id": "5dc278eded20424791eb056e910e84c6",
       "version_major": 2,
       "version_minor": 0
      },
      "text/plain": [
       "  0%|          | 0/911 [00:00<?, ?it/s]"
      ]
     },
     "metadata": {},
     "output_type": "display_data"
    },
    {
     "data": {
      "application/vnd.jupyter.widget-view+json": {
       "model_id": "a6cade0f32c64009bb6775da95470d23",
       "version_major": 2,
       "version_minor": 0
      },
      "text/plain": [
       "  0%|          | 0/1 [00:00<?, ?it/s]"
      ]
     },
     "metadata": {},
     "output_type": "display_data"
    },
    {
     "data": {
      "application/vnd.jupyter.widget-view+json": {
       "model_id": "44095d5066ef4827a57570ed4eacb691",
       "version_major": 2,
       "version_minor": 0
      },
      "text/plain": [
       "  0%|          | 0/911 [00:00<?, ?it/s]"
      ]
     },
     "metadata": {},
     "output_type": "display_data"
    },
    {
     "data": {
      "application/vnd.jupyter.widget-view+json": {
       "model_id": "364a9e00a97f428c88e7b099d2c480d4",
       "version_major": 2,
       "version_minor": 0
      },
      "text/plain": [
       "  0%|          | 0/1 [00:00<?, ?it/s]"
      ]
     },
     "metadata": {},
     "output_type": "display_data"
    },
    {
     "data": {
      "application/vnd.jupyter.widget-view+json": {
       "model_id": "b566f0b2c1804627bc8cacf2f6c2d39c",
       "version_major": 2,
       "version_minor": 0
      },
      "text/plain": [
       "  0%|          | 0/911 [00:00<?, ?it/s]"
      ]
     },
     "metadata": {},
     "output_type": "display_data"
    },
    {
     "data": {
      "application/vnd.jupyter.widget-view+json": {
       "model_id": "a5d11bdedfd74b88beed7d259b141f3f",
       "version_major": 2,
       "version_minor": 0
      },
      "text/plain": [
       "  0%|          | 0/1 [00:00<?, ?it/s]"
      ]
     },
     "metadata": {},
     "output_type": "display_data"
    },
    {
     "data": {
      "application/vnd.jupyter.widget-view+json": {
       "model_id": "a0bd0cff79d4448186cf54fb168b9d64",
       "version_major": 2,
       "version_minor": 0
      },
      "text/plain": [
       "  0%|          | 0/911 [00:00<?, ?it/s]"
      ]
     },
     "metadata": {},
     "output_type": "display_data"
    },
    {
     "data": {
      "application/vnd.jupyter.widget-view+json": {
       "model_id": "d98980c185084371a2c0c76796a9bb25",
       "version_major": 2,
       "version_minor": 0
      },
      "text/plain": [
       "  0%|          | 0/1 [00:00<?, ?it/s]"
      ]
     },
     "metadata": {},
     "output_type": "display_data"
    },
    {
     "data": {
      "application/vnd.jupyter.widget-view+json": {
       "model_id": "c2e5481cb8af4de490c9fbce437dbf9d",
       "version_major": 2,
       "version_minor": 0
      },
      "text/plain": [
       "  0%|          | 0/911 [00:00<?, ?it/s]"
      ]
     },
     "metadata": {},
     "output_type": "display_data"
    },
    {
     "data": {
      "application/vnd.jupyter.widget-view+json": {
       "model_id": "a0a0ec618990433a9ef1d1a75b8e4401",
       "version_major": 2,
       "version_minor": 0
      },
      "text/plain": [
       "  0%|          | 0/1 [00:00<?, ?it/s]"
      ]
     },
     "metadata": {},
     "output_type": "display_data"
    },
    {
     "data": {
      "application/vnd.jupyter.widget-view+json": {
       "model_id": "45e3249fb2f14a5997f6c63f4b67b85e",
       "version_major": 2,
       "version_minor": 0
      },
      "text/plain": [
       "  0%|          | 0/911 [00:00<?, ?it/s]"
      ]
     },
     "metadata": {},
     "output_type": "display_data"
    },
    {
     "data": {
      "application/vnd.jupyter.widget-view+json": {
       "model_id": "361c4e4abd8b4978852d685779ec8d86",
       "version_major": 2,
       "version_minor": 0
      },
      "text/plain": [
       "  0%|          | 0/1 [00:00<?, ?it/s]"
      ]
     },
     "metadata": {},
     "output_type": "display_data"
    },
    {
     "data": {
      "application/vnd.jupyter.widget-view+json": {
       "model_id": "be71f8948d5f4262825e6c0dff8ed8fc",
       "version_major": 2,
       "version_minor": 0
      },
      "text/plain": [
       "  0%|          | 0/911 [00:00<?, ?it/s]"
      ]
     },
     "metadata": {},
     "output_type": "display_data"
    },
    {
     "data": {
      "application/vnd.jupyter.widget-view+json": {
       "model_id": "cadf532289364889bdd4f82a4764985c",
       "version_major": 2,
       "version_minor": 0
      },
      "text/plain": [
       "  0%|          | 0/1 [00:00<?, ?it/s]"
      ]
     },
     "metadata": {},
     "output_type": "display_data"
    },
    {
     "data": {
      "application/vnd.jupyter.widget-view+json": {
       "model_id": "eeb1ab55f79e425d8808d6465749f302",
       "version_major": 2,
       "version_minor": 0
      },
      "text/plain": [
       "  0%|          | 0/911 [00:00<?, ?it/s]"
      ]
     },
     "metadata": {},
     "output_type": "display_data"
    },
    {
     "data": {
      "application/vnd.jupyter.widget-view+json": {
       "model_id": "b5e34d9f31a9441980e7bdcb97c093d3",
       "version_major": 2,
       "version_minor": 0
      },
      "text/plain": [
       "  0%|          | 0/1 [00:00<?, ?it/s]"
      ]
     },
     "metadata": {},
     "output_type": "display_data"
    },
    {
     "data": {
      "application/vnd.jupyter.widget-view+json": {
       "model_id": "c54451c7e8ca4a1aab65a088ba9772da",
       "version_major": 2,
       "version_minor": 0
      },
      "text/plain": [
       "  0%|          | 0/911 [00:00<?, ?it/s]"
      ]
     },
     "metadata": {},
     "output_type": "display_data"
    },
    {
     "data": {
      "application/vnd.jupyter.widget-view+json": {
       "model_id": "950f87c23ef042d797f585230dc68a76",
       "version_major": 2,
       "version_minor": 0
      },
      "text/plain": [
       "  0%|          | 0/1 [00:00<?, ?it/s]"
      ]
     },
     "metadata": {},
     "output_type": "display_data"
    },
    {
     "data": {
      "application/vnd.jupyter.widget-view+json": {
       "model_id": "77ec01e919fa4e9b99aca54fbe0877c9",
       "version_major": 2,
       "version_minor": 0
      },
      "text/plain": [
       "  0%|          | 0/911 [00:00<?, ?it/s]"
      ]
     },
     "metadata": {},
     "output_type": "display_data"
    },
    {
     "data": {
      "application/vnd.jupyter.widget-view+json": {
       "model_id": "1e6d1a27a36f4db5aa2bf234d9b79e67",
       "version_major": 2,
       "version_minor": 0
      },
      "text/plain": [
       "  0%|          | 0/1 [00:00<?, ?it/s]"
      ]
     },
     "metadata": {},
     "output_type": "display_data"
    },
    {
     "data": {
      "application/vnd.jupyter.widget-view+json": {
       "model_id": "1a9785936b684c7994d50dd938dded43",
       "version_major": 2,
       "version_minor": 0
      },
      "text/plain": [
       "  0%|          | 0/911 [00:00<?, ?it/s]"
      ]
     },
     "metadata": {},
     "output_type": "display_data"
    },
    {
     "data": {
      "application/vnd.jupyter.widget-view+json": {
       "model_id": "cf4a1627e2284a878d5f42d86d840c06",
       "version_major": 2,
       "version_minor": 0
      },
      "text/plain": [
       "  0%|          | 0/1 [00:00<?, ?it/s]"
      ]
     },
     "metadata": {},
     "output_type": "display_data"
    },
    {
     "data": {
      "application/vnd.jupyter.widget-view+json": {
       "model_id": "00b2158da59549a38c8c47158d531520",
       "version_major": 2,
       "version_minor": 0
      },
      "text/plain": [
       "  0%|          | 0/911 [00:00<?, ?it/s]"
      ]
     },
     "metadata": {},
     "output_type": "display_data"
    },
    {
     "data": {
      "application/vnd.jupyter.widget-view+json": {
       "model_id": "2b75209d4e7740b882daf95e798505fb",
       "version_major": 2,
       "version_minor": 0
      },
      "text/plain": [
       "  0%|          | 0/1 [00:00<?, ?it/s]"
      ]
     },
     "metadata": {},
     "output_type": "display_data"
    },
    {
     "data": {
      "application/vnd.jupyter.widget-view+json": {
       "model_id": "e67f3a93c20449f0b79519c9502ee75a",
       "version_major": 2,
       "version_minor": 0
      },
      "text/plain": [
       "  0%|          | 0/911 [00:00<?, ?it/s]"
      ]
     },
     "metadata": {},
     "output_type": "display_data"
    },
    {
     "data": {
      "application/vnd.jupyter.widget-view+json": {
       "model_id": "d8c0560ec0fc4e47bb4da9bb1fb305f8",
       "version_major": 2,
       "version_minor": 0
      },
      "text/plain": [
       "  0%|          | 0/1 [00:00<?, ?it/s]"
      ]
     },
     "metadata": {},
     "output_type": "display_data"
    },
    {
     "data": {
      "application/vnd.jupyter.widget-view+json": {
       "model_id": "25e4b76233cb450caf988517b0e94b33",
       "version_major": 2,
       "version_minor": 0
      },
      "text/plain": [
       "  0%|          | 0/911 [00:00<?, ?it/s]"
      ]
     },
     "metadata": {},
     "output_type": "display_data"
    },
    {
     "data": {
      "application/vnd.jupyter.widget-view+json": {
       "model_id": "323902798d1c44888f2191841c7b4860",
       "version_major": 2,
       "version_minor": 0
      },
      "text/plain": [
       "  0%|          | 0/1 [00:00<?, ?it/s]"
      ]
     },
     "metadata": {},
     "output_type": "display_data"
    },
    {
     "data": {
      "application/vnd.jupyter.widget-view+json": {
       "model_id": "9a07997143694cbf949a140eab5a329f",
       "version_major": 2,
       "version_minor": 0
      },
      "text/plain": [
       "  0%|          | 0/911 [00:00<?, ?it/s]"
      ]
     },
     "metadata": {},
     "output_type": "display_data"
    },
    {
     "data": {
      "application/vnd.jupyter.widget-view+json": {
       "model_id": "2757039008e24f6aa916537d473d1138",
       "version_major": 2,
       "version_minor": 0
      },
      "text/plain": [
       "  0%|          | 0/1 [00:00<?, ?it/s]"
      ]
     },
     "metadata": {},
     "output_type": "display_data"
    },
    {
     "data": {
      "application/vnd.jupyter.widget-view+json": {
       "model_id": "e04d09c025ec4833b58fe3aa74c90a97",
       "version_major": 2,
       "version_minor": 0
      },
      "text/plain": [
       "  0%|          | 0/911 [00:00<?, ?it/s]"
      ]
     },
     "metadata": {},
     "output_type": "display_data"
    },
    {
     "data": {
      "application/vnd.jupyter.widget-view+json": {
       "model_id": "d84da26814f24517abd09579869ad7d3",
       "version_major": 2,
       "version_minor": 0
      },
      "text/plain": [
       "  0%|          | 0/1 [00:00<?, ?it/s]"
      ]
     },
     "metadata": {},
     "output_type": "display_data"
    },
    {
     "data": {
      "application/vnd.jupyter.widget-view+json": {
       "model_id": "ced0ce529c834f0497272add3bbd6061",
       "version_major": 2,
       "version_minor": 0
      },
      "text/plain": [
       "  0%|          | 0/911 [00:00<?, ?it/s]"
      ]
     },
     "metadata": {},
     "output_type": "display_data"
    },
    {
     "data": {
      "application/vnd.jupyter.widget-view+json": {
       "model_id": "eeb5ee87dbc8416180aca242b6b0652b",
       "version_major": 2,
       "version_minor": 0
      },
      "text/plain": [
       "  0%|          | 0/1 [00:00<?, ?it/s]"
      ]
     },
     "metadata": {},
     "output_type": "display_data"
    },
    {
     "data": {
      "application/vnd.jupyter.widget-view+json": {
       "model_id": "63a8ffacf3c748dcbfc15453ccc2f2ed",
       "version_major": 2,
       "version_minor": 0
      },
      "text/plain": [
       "  0%|          | 0/911 [00:00<?, ?it/s]"
      ]
     },
     "metadata": {},
     "output_type": "display_data"
    },
    {
     "data": {
      "application/vnd.jupyter.widget-view+json": {
       "model_id": "5c27358233784d2382a5ae225fbcd79e",
       "version_major": 2,
       "version_minor": 0
      },
      "text/plain": [
       "  0%|          | 0/1 [00:00<?, ?it/s]"
      ]
     },
     "metadata": {},
     "output_type": "display_data"
    },
    {
     "data": {
      "application/vnd.jupyter.widget-view+json": {
       "model_id": "c5be3bc13b1046beb4a228d37214c93e",
       "version_major": 2,
       "version_minor": 0
      },
      "text/plain": [
       "  0%|          | 0/911 [00:00<?, ?it/s]"
      ]
     },
     "metadata": {},
     "output_type": "display_data"
    },
    {
     "data": {
      "application/vnd.jupyter.widget-view+json": {
       "model_id": "ac7333ffd6c54c3996a3310c9c1bee42",
       "version_major": 2,
       "version_minor": 0
      },
      "text/plain": [
       "  0%|          | 0/1 [00:00<?, ?it/s]"
      ]
     },
     "metadata": {},
     "output_type": "display_data"
    },
    {
     "data": {
      "application/vnd.jupyter.widget-view+json": {
       "model_id": "992dfb0bd91346d185fc3d4dccc565d6",
       "version_major": 2,
       "version_minor": 0
      },
      "text/plain": [
       "  0%|          | 0/911 [00:00<?, ?it/s]"
      ]
     },
     "metadata": {},
     "output_type": "display_data"
    },
    {
     "data": {
      "application/vnd.jupyter.widget-view+json": {
       "model_id": "c3a370d17cbe417d853978568f432cd7",
       "version_major": 2,
       "version_minor": 0
      },
      "text/plain": [
       "  0%|          | 0/1 [00:00<?, ?it/s]"
      ]
     },
     "metadata": {},
     "output_type": "display_data"
    },
    {
     "data": {
      "application/vnd.jupyter.widget-view+json": {
       "model_id": "5a44780916d94b31a0077699c18af36e",
       "version_major": 2,
       "version_minor": 0
      },
      "text/plain": [
       "  0%|          | 0/911 [00:00<?, ?it/s]"
      ]
     },
     "metadata": {},
     "output_type": "display_data"
    },
    {
     "data": {
      "application/vnd.jupyter.widget-view+json": {
       "model_id": "6c81ebb087f34dacae5acb3c1b5ff300",
       "version_major": 2,
       "version_minor": 0
      },
      "text/plain": [
       "  0%|          | 0/1 [00:00<?, ?it/s]"
      ]
     },
     "metadata": {},
     "output_type": "display_data"
    },
    {
     "data": {
      "application/vnd.jupyter.widget-view+json": {
       "model_id": "542397808fa04562b8b93eb5bca673eb",
       "version_major": 2,
       "version_minor": 0
      },
      "text/plain": [
       "  0%|          | 0/911 [00:00<?, ?it/s]"
      ]
     },
     "metadata": {},
     "output_type": "display_data"
    },
    {
     "data": {
      "application/vnd.jupyter.widget-view+json": {
       "model_id": "c6b141122c9c46019b5809e7d3bdc4bf",
       "version_major": 2,
       "version_minor": 0
      },
      "text/plain": [
       "  0%|          | 0/1 [00:00<?, ?it/s]"
      ]
     },
     "metadata": {},
     "output_type": "display_data"
    },
    {
     "data": {
      "application/vnd.jupyter.widget-view+json": {
       "model_id": "602a42eda33a41e19e57c7b63846ed2a",
       "version_major": 2,
       "version_minor": 0
      },
      "text/plain": [
       "  0%|          | 0/911 [00:00<?, ?it/s]"
      ]
     },
     "metadata": {},
     "output_type": "display_data"
    },
    {
     "data": {
      "application/vnd.jupyter.widget-view+json": {
       "model_id": "4018f4744e3f4c3e8f6002d128b528a9",
       "version_major": 2,
       "version_minor": 0
      },
      "text/plain": [
       "  0%|          | 0/1 [00:00<?, ?it/s]"
      ]
     },
     "metadata": {},
     "output_type": "display_data"
    },
    {
     "data": {
      "application/vnd.jupyter.widget-view+json": {
       "model_id": "5462e2b7682648b6898d1d932fef31eb",
       "version_major": 2,
       "version_minor": 0
      },
      "text/plain": [
       "  0%|          | 0/911 [00:00<?, ?it/s]"
      ]
     },
     "metadata": {},
     "output_type": "display_data"
    },
    {
     "data": {
      "application/vnd.jupyter.widget-view+json": {
       "model_id": "80e5de45a07844919179ec14bf8f74f6",
       "version_major": 2,
       "version_minor": 0
      },
      "text/plain": [
       "  0%|          | 0/1 [00:00<?, ?it/s]"
      ]
     },
     "metadata": {},
     "output_type": "display_data"
    },
    {
     "data": {
      "application/vnd.jupyter.widget-view+json": {
       "model_id": "473c001d4c93435595cd24bcc4354a35",
       "version_major": 2,
       "version_minor": 0
      },
      "text/plain": [
       "  0%|          | 0/911 [00:00<?, ?it/s]"
      ]
     },
     "metadata": {},
     "output_type": "display_data"
    },
    {
     "data": {
      "application/vnd.jupyter.widget-view+json": {
       "model_id": "e06e2373e2fd46eabdebc5dc372b397c",
       "version_major": 2,
       "version_minor": 0
      },
      "text/plain": [
       "  0%|          | 0/1 [00:00<?, ?it/s]"
      ]
     },
     "metadata": {},
     "output_type": "display_data"
    },
    {
     "data": {
      "application/vnd.jupyter.widget-view+json": {
       "model_id": "56b870e50e424c8cab7258f6fb9b5eb4",
       "version_major": 2,
       "version_minor": 0
      },
      "text/plain": [
       "  0%|          | 0/911 [00:00<?, ?it/s]"
      ]
     },
     "metadata": {},
     "output_type": "display_data"
    },
    {
     "data": {
      "application/vnd.jupyter.widget-view+json": {
       "model_id": "48a3b1b40a324581be93e30627d3808e",
       "version_major": 2,
       "version_minor": 0
      },
      "text/plain": [
       "  0%|          | 0/1 [00:00<?, ?it/s]"
      ]
     },
     "metadata": {},
     "output_type": "display_data"
    },
    {
     "data": {
      "application/vnd.jupyter.widget-view+json": {
       "model_id": "85bfb7862d884c60b9a10e2bd46d4e21",
       "version_major": 2,
       "version_minor": 0
      },
      "text/plain": [
       "  0%|          | 0/911 [00:00<?, ?it/s]"
      ]
     },
     "metadata": {},
     "output_type": "display_data"
    },
    {
     "data": {
      "application/vnd.jupyter.widget-view+json": {
       "model_id": "c8842717816b46a99b081a4639dfaaaf",
       "version_major": 2,
       "version_minor": 0
      },
      "text/plain": [
       "  0%|          | 0/1 [00:00<?, ?it/s]"
      ]
     },
     "metadata": {},
     "output_type": "display_data"
    },
    {
     "data": {
      "application/vnd.jupyter.widget-view+json": {
       "model_id": "725d5d7f473443598a4c680ef1fe5df4",
       "version_major": 2,
       "version_minor": 0
      },
      "text/plain": [
       "  0%|          | 0/911 [00:00<?, ?it/s]"
      ]
     },
     "metadata": {},
     "output_type": "display_data"
    },
    {
     "data": {
      "application/vnd.jupyter.widget-view+json": {
       "model_id": "b33a153fadbb4a22aed6e37f5d24456a",
       "version_major": 2,
       "version_minor": 0
      },
      "text/plain": [
       "  0%|          | 0/1 [00:00<?, ?it/s]"
      ]
     },
     "metadata": {},
     "output_type": "display_data"
    },
    {
     "data": {
      "application/vnd.jupyter.widget-view+json": {
       "model_id": "9685a2134c824163b073e944011f68e6",
       "version_major": 2,
       "version_minor": 0
      },
      "text/plain": [
       "  0%|          | 0/911 [00:00<?, ?it/s]"
      ]
     },
     "metadata": {},
     "output_type": "display_data"
    },
    {
     "data": {
      "application/vnd.jupyter.widget-view+json": {
       "model_id": "846d420afc154e699f1db6a68214d1f8",
       "version_major": 2,
       "version_minor": 0
      },
      "text/plain": [
       "  0%|          | 0/1 [00:00<?, ?it/s]"
      ]
     },
     "metadata": {},
     "output_type": "display_data"
    },
    {
     "data": {
      "application/vnd.jupyter.widget-view+json": {
       "model_id": "afcb81a123784902a1d5009ce7b1f0c7",
       "version_major": 2,
       "version_minor": 0
      },
      "text/plain": [
       "  0%|          | 0/911 [00:00<?, ?it/s]"
      ]
     },
     "metadata": {},
     "output_type": "display_data"
    },
    {
     "data": {
      "application/vnd.jupyter.widget-view+json": {
       "model_id": "74b9f38da0f545cf8063ca28b9bdfe50",
       "version_major": 2,
       "version_minor": 0
      },
      "text/plain": [
       "  0%|          | 0/1 [00:00<?, ?it/s]"
      ]
     },
     "metadata": {},
     "output_type": "display_data"
    },
    {
     "data": {
      "application/vnd.jupyter.widget-view+json": {
       "model_id": "4c69bb30249341d28288ffbcedecc26e",
       "version_major": 2,
       "version_minor": 0
      },
      "text/plain": [
       "  0%|          | 0/911 [00:00<?, ?it/s]"
      ]
     },
     "metadata": {},
     "output_type": "display_data"
    },
    {
     "data": {
      "application/vnd.jupyter.widget-view+json": {
       "model_id": "abf0f1cda2f44e3ba0dffcd804e52d92",
       "version_major": 2,
       "version_minor": 0
      },
      "text/plain": [
       "  0%|          | 0/1 [00:00<?, ?it/s]"
      ]
     },
     "metadata": {},
     "output_type": "display_data"
    },
    {
     "data": {
      "application/vnd.jupyter.widget-view+json": {
       "model_id": "0d9ba44929754c1b8852dc8d39b80581",
       "version_major": 2,
       "version_minor": 0
      },
      "text/plain": [
       "  0%|          | 0/911 [00:00<?, ?it/s]"
      ]
     },
     "metadata": {},
     "output_type": "display_data"
    },
    {
     "data": {
      "application/vnd.jupyter.widget-view+json": {
       "model_id": "1a82c114c38343e8b19555ecd192e3db",
       "version_major": 2,
       "version_minor": 0
      },
      "text/plain": [
       "  0%|          | 0/1 [00:00<?, ?it/s]"
      ]
     },
     "metadata": {},
     "output_type": "display_data"
    },
    {
     "data": {
      "application/vnd.jupyter.widget-view+json": {
       "model_id": "2ca89fca130a4aa7a3851fb93547f350",
       "version_major": 2,
       "version_minor": 0
      },
      "text/plain": [
       "  0%|          | 0/911 [00:00<?, ?it/s]"
      ]
     },
     "metadata": {},
     "output_type": "display_data"
    },
    {
     "data": {
      "application/vnd.jupyter.widget-view+json": {
       "model_id": "c26cfe2bf82a4982967483844f99d48a",
       "version_major": 2,
       "version_minor": 0
      },
      "text/plain": [
       "  0%|          | 0/1 [00:00<?, ?it/s]"
      ]
     },
     "metadata": {},
     "output_type": "display_data"
    },
    {
     "data": {
      "application/vnd.jupyter.widget-view+json": {
       "model_id": "8ff2d049a7cd4804aab29431d07be4f2",
       "version_major": 2,
       "version_minor": 0
      },
      "text/plain": [
       "  0%|          | 0/911 [00:00<?, ?it/s]"
      ]
     },
     "metadata": {},
     "output_type": "display_data"
    },
    {
     "data": {
      "application/vnd.jupyter.widget-view+json": {
       "model_id": "1475766b2ce94eeb8829b6e1113104da",
       "version_major": 2,
       "version_minor": 0
      },
      "text/plain": [
       "  0%|          | 0/1 [00:00<?, ?it/s]"
      ]
     },
     "metadata": {},
     "output_type": "display_data"
    },
    {
     "data": {
      "application/vnd.jupyter.widget-view+json": {
       "model_id": "dd7082d567444bcf8d3e1f129f7e22df",
       "version_major": 2,
       "version_minor": 0
      },
      "text/plain": [
       "  0%|          | 0/911 [00:00<?, ?it/s]"
      ]
     },
     "metadata": {},
     "output_type": "display_data"
    },
    {
     "data": {
      "application/vnd.jupyter.widget-view+json": {
       "model_id": "2c8ce3e2909f49e985d347912086104d",
       "version_major": 2,
       "version_minor": 0
      },
      "text/plain": [
       "  0%|          | 0/1 [00:00<?, ?it/s]"
      ]
     },
     "metadata": {},
     "output_type": "display_data"
    },
    {
     "data": {
      "application/vnd.jupyter.widget-view+json": {
       "model_id": "a64b1c9482634137a18f47a822384eee",
       "version_major": 2,
       "version_minor": 0
      },
      "text/plain": [
       "  0%|          | 0/911 [00:00<?, ?it/s]"
      ]
     },
     "metadata": {},
     "output_type": "display_data"
    },
    {
     "data": {
      "application/vnd.jupyter.widget-view+json": {
       "model_id": "f10d8e4a9e1c48c5bc9b56d4b9c7f80a",
       "version_major": 2,
       "version_minor": 0
      },
      "text/plain": [
       "  0%|          | 0/1 [00:00<?, ?it/s]"
      ]
     },
     "metadata": {},
     "output_type": "display_data"
    },
    {
     "data": {
      "application/vnd.jupyter.widget-view+json": {
       "model_id": "9b5b06d5981d4b30aea3e1a34afbeaed",
       "version_major": 2,
       "version_minor": 0
      },
      "text/plain": [
       "  0%|          | 0/911 [00:00<?, ?it/s]"
      ]
     },
     "metadata": {},
     "output_type": "display_data"
    },
    {
     "data": {
      "application/vnd.jupyter.widget-view+json": {
       "model_id": "27ed3b28112b43c9a33aaae3c6ad6623",
       "version_major": 2,
       "version_minor": 0
      },
      "text/plain": [
       "  0%|          | 0/1 [00:00<?, ?it/s]"
      ]
     },
     "metadata": {},
     "output_type": "display_data"
    },
    {
     "data": {
      "application/vnd.jupyter.widget-view+json": {
       "model_id": "e0c82435e0164927bda4909731c826ad",
       "version_major": 2,
       "version_minor": 0
      },
      "text/plain": [
       "  0%|          | 0/911 [00:00<?, ?it/s]"
      ]
     },
     "metadata": {},
     "output_type": "display_data"
    },
    {
     "data": {
      "application/vnd.jupyter.widget-view+json": {
       "model_id": "8d8aa53a2dc7424f81ec65d4d96dfddc",
       "version_major": 2,
       "version_minor": 0
      },
      "text/plain": [
       "  0%|          | 0/1 [00:00<?, ?it/s]"
      ]
     },
     "metadata": {},
     "output_type": "display_data"
    },
    {
     "data": {
      "application/vnd.jupyter.widget-view+json": {
       "model_id": "3e282c2c297948558789d7fe0560f18d",
       "version_major": 2,
       "version_minor": 0
      },
      "text/plain": [
       "  0%|          | 0/911 [00:00<?, ?it/s]"
      ]
     },
     "metadata": {},
     "output_type": "display_data"
    },
    {
     "data": {
      "application/vnd.jupyter.widget-view+json": {
       "model_id": "a61358595cfe486498e50a8b4ca02adf",
       "version_major": 2,
       "version_minor": 0
      },
      "text/plain": [
       "  0%|          | 0/1 [00:00<?, ?it/s]"
      ]
     },
     "metadata": {},
     "output_type": "display_data"
    },
    {
     "data": {
      "application/vnd.jupyter.widget-view+json": {
       "model_id": "fa9ca42ba281482d92c6b8f62add781a",
       "version_major": 2,
       "version_minor": 0
      },
      "text/plain": [
       "  0%|          | 0/911 [00:00<?, ?it/s]"
      ]
     },
     "metadata": {},
     "output_type": "display_data"
    },
    {
     "data": {
      "application/vnd.jupyter.widget-view+json": {
       "model_id": "a585bb2439df481094e1804c79bd4c99",
       "version_major": 2,
       "version_minor": 0
      },
      "text/plain": [
       "  0%|          | 0/1 [00:00<?, ?it/s]"
      ]
     },
     "metadata": {},
     "output_type": "display_data"
    },
    {
     "data": {
      "application/vnd.jupyter.widget-view+json": {
       "model_id": "d6d66a1c911a43c2b458f0b8abf69d11",
       "version_major": 2,
       "version_minor": 0
      },
      "text/plain": [
       "  0%|          | 0/911 [00:00<?, ?it/s]"
      ]
     },
     "metadata": {},
     "output_type": "display_data"
    },
    {
     "data": {
      "application/vnd.jupyter.widget-view+json": {
       "model_id": "8e3ba7daed554e53b95fb38ae00adce8",
       "version_major": 2,
       "version_minor": 0
      },
      "text/plain": [
       "  0%|          | 0/1 [00:00<?, ?it/s]"
      ]
     },
     "metadata": {},
     "output_type": "display_data"
    },
    {
     "data": {
      "application/vnd.jupyter.widget-view+json": {
       "model_id": "2df58c0623d842a8b4975a49fe0bc419",
       "version_major": 2,
       "version_minor": 0
      },
      "text/plain": [
       "  0%|          | 0/911 [00:00<?, ?it/s]"
      ]
     },
     "metadata": {},
     "output_type": "display_data"
    },
    {
     "data": {
      "application/vnd.jupyter.widget-view+json": {
       "model_id": "2925f32c14684b229794bea35237e4bc",
       "version_major": 2,
       "version_minor": 0
      },
      "text/plain": [
       "  0%|          | 0/1 [00:00<?, ?it/s]"
      ]
     },
     "metadata": {},
     "output_type": "display_data"
    },
    {
     "data": {
      "application/vnd.jupyter.widget-view+json": {
       "model_id": "abe4efa3e3a94f3da1009f5143f01a71",
       "version_major": 2,
       "version_minor": 0
      },
      "text/plain": [
       "  0%|          | 0/911 [00:00<?, ?it/s]"
      ]
     },
     "metadata": {},
     "output_type": "display_data"
    },
    {
     "data": {
      "application/vnd.jupyter.widget-view+json": {
       "model_id": "1399ebac260241a79bc20672ffc8d223",
       "version_major": 2,
       "version_minor": 0
      },
      "text/plain": [
       "  0%|          | 0/1 [00:00<?, ?it/s]"
      ]
     },
     "metadata": {},
     "output_type": "display_data"
    },
    {
     "data": {
      "application/vnd.jupyter.widget-view+json": {
       "model_id": "6a57489ff02d427aa2d9bceb8293abfc",
       "version_major": 2,
       "version_minor": 0
      },
      "text/plain": [
       "  0%|          | 0/911 [00:00<?, ?it/s]"
      ]
     },
     "metadata": {},
     "output_type": "display_data"
    },
    {
     "data": {
      "application/vnd.jupyter.widget-view+json": {
       "model_id": "f0f2a16f4af84463946e11707a82707a",
       "version_major": 2,
       "version_minor": 0
      },
      "text/plain": [
       "  0%|          | 0/1 [00:00<?, ?it/s]"
      ]
     },
     "metadata": {},
     "output_type": "display_data"
    },
    {
     "data": {
      "application/vnd.jupyter.widget-view+json": {
       "model_id": "8b602c6ee2244b4b847964a9503dd5cd",
       "version_major": 2,
       "version_minor": 0
      },
      "text/plain": [
       "  0%|          | 0/911 [00:00<?, ?it/s]"
      ]
     },
     "metadata": {},
     "output_type": "display_data"
    },
    {
     "data": {
      "application/vnd.jupyter.widget-view+json": {
       "model_id": "18012a64394f40649b0ffada84b2694c",
       "version_major": 2,
       "version_minor": 0
      },
      "text/plain": [
       "  0%|          | 0/1 [00:00<?, ?it/s]"
      ]
     },
     "metadata": {},
     "output_type": "display_data"
    },
    {
     "data": {
      "application/vnd.jupyter.widget-view+json": {
       "model_id": "f9b90ddb9a4c46e2814951b7640a2e72",
       "version_major": 2,
       "version_minor": 0
      },
      "text/plain": [
       "  0%|          | 0/911 [00:00<?, ?it/s]"
      ]
     },
     "metadata": {},
     "output_type": "display_data"
    },
    {
     "data": {
      "application/vnd.jupyter.widget-view+json": {
       "model_id": "942cd74a938f429eaeec3670adcb542a",
       "version_major": 2,
       "version_minor": 0
      },
      "text/plain": [
       "  0%|          | 0/1 [00:00<?, ?it/s]"
      ]
     },
     "metadata": {},
     "output_type": "display_data"
    },
    {
     "data": {
      "application/vnd.jupyter.widget-view+json": {
       "model_id": "f06e03381f3a4703b8dda67627e39963",
       "version_major": 2,
       "version_minor": 0
      },
      "text/plain": [
       "  0%|          | 0/911 [00:00<?, ?it/s]"
      ]
     },
     "metadata": {},
     "output_type": "display_data"
    },
    {
     "data": {
      "application/vnd.jupyter.widget-view+json": {
       "model_id": "89c1659ffd674767bdb15ca893a22c18",
       "version_major": 2,
       "version_minor": 0
      },
      "text/plain": [
       "  0%|          | 0/1 [00:00<?, ?it/s]"
      ]
     },
     "metadata": {},
     "output_type": "display_data"
    },
    {
     "data": {
      "application/vnd.jupyter.widget-view+json": {
       "model_id": "c08086a39ac84046adebb55d3cd313a6",
       "version_major": 2,
       "version_minor": 0
      },
      "text/plain": [
       "  0%|          | 0/911 [00:00<?, ?it/s]"
      ]
     },
     "metadata": {},
     "output_type": "display_data"
    },
    {
     "data": {
      "application/vnd.jupyter.widget-view+json": {
       "model_id": "e850e7b3922d4b58865ff3c22e7adb4d",
       "version_major": 2,
       "version_minor": 0
      },
      "text/plain": [
       "  0%|          | 0/1 [00:00<?, ?it/s]"
      ]
     },
     "metadata": {},
     "output_type": "display_data"
    },
    {
     "data": {
      "application/vnd.jupyter.widget-view+json": {
       "model_id": "2ef8a8952ee94ef88ecac215020528d8",
       "version_major": 2,
       "version_minor": 0
      },
      "text/plain": [
       "  0%|          | 0/911 [00:00<?, ?it/s]"
      ]
     },
     "metadata": {},
     "output_type": "display_data"
    },
    {
     "data": {
      "application/vnd.jupyter.widget-view+json": {
       "model_id": "d9e9a17e3b4c4085ba5a4255cc280098",
       "version_major": 2,
       "version_minor": 0
      },
      "text/plain": [
       "  0%|          | 0/1 [00:00<?, ?it/s]"
      ]
     },
     "metadata": {},
     "output_type": "display_data"
    },
    {
     "data": {
      "application/vnd.jupyter.widget-view+json": {
       "model_id": "4de6382df28c48708652eb1c642a6176",
       "version_major": 2,
       "version_minor": 0
      },
      "text/plain": [
       "  0%|          | 0/911 [00:00<?, ?it/s]"
      ]
     },
     "metadata": {},
     "output_type": "display_data"
    },
    {
     "data": {
      "application/vnd.jupyter.widget-view+json": {
       "model_id": "ae485d99d2c24facb598cfb9c0a9c34e",
       "version_major": 2,
       "version_minor": 0
      },
      "text/plain": [
       "  0%|          | 0/1 [00:00<?, ?it/s]"
      ]
     },
     "metadata": {},
     "output_type": "display_data"
    },
    {
     "data": {
      "application/vnd.jupyter.widget-view+json": {
       "model_id": "0dd0b79468e64dbd8a9ef3276a853452",
       "version_major": 2,
       "version_minor": 0
      },
      "text/plain": [
       "  0%|          | 0/911 [00:00<?, ?it/s]"
      ]
     },
     "metadata": {},
     "output_type": "display_data"
    },
    {
     "data": {
      "application/vnd.jupyter.widget-view+json": {
       "model_id": "87a90a5bae474332b7a7d59fbe8708b7",
       "version_major": 2,
       "version_minor": 0
      },
      "text/plain": [
       "  0%|          | 0/1 [00:00<?, ?it/s]"
      ]
     },
     "metadata": {},
     "output_type": "display_data"
    },
    {
     "data": {
      "application/vnd.jupyter.widget-view+json": {
       "model_id": "132f287dab8b403dbf8ff66c8b1b5563",
       "version_major": 2,
       "version_minor": 0
      },
      "text/plain": [
       "  0%|          | 0/911 [00:00<?, ?it/s]"
      ]
     },
     "metadata": {},
     "output_type": "display_data"
    },
    {
     "data": {
      "application/vnd.jupyter.widget-view+json": {
       "model_id": "0c9c24ee90e34e4aaa58170750741899",
       "version_major": 2,
       "version_minor": 0
      },
      "text/plain": [
       "  0%|          | 0/1 [00:00<?, ?it/s]"
      ]
     },
     "metadata": {},
     "output_type": "display_data"
    },
    {
     "data": {
      "application/vnd.jupyter.widget-view+json": {
       "model_id": "04276fadef3348d0b3906d0c8f321f24",
       "version_major": 2,
       "version_minor": 0
      },
      "text/plain": [
       "  0%|          | 0/911 [00:00<?, ?it/s]"
      ]
     },
     "metadata": {},
     "output_type": "display_data"
    },
    {
     "data": {
      "application/vnd.jupyter.widget-view+json": {
       "model_id": "a9c3b6f54b91470fb80e9550849e662d",
       "version_major": 2,
       "version_minor": 0
      },
      "text/plain": [
       "  0%|          | 0/1 [00:00<?, ?it/s]"
      ]
     },
     "metadata": {},
     "output_type": "display_data"
    },
    {
     "data": {
      "application/vnd.jupyter.widget-view+json": {
       "model_id": "6fba07a42cf24bd685fa599ff219837d",
       "version_major": 2,
       "version_minor": 0
      },
      "text/plain": [
       "  0%|          | 0/911 [00:00<?, ?it/s]"
      ]
     },
     "metadata": {},
     "output_type": "display_data"
    },
    {
     "data": {
      "application/vnd.jupyter.widget-view+json": {
       "model_id": "e45a83a0736c4be9be55e5c6c08513ae",
       "version_major": 2,
       "version_minor": 0
      },
      "text/plain": [
       "  0%|          | 0/1 [00:00<?, ?it/s]"
      ]
     },
     "metadata": {},
     "output_type": "display_data"
    },
    {
     "data": {
      "application/vnd.jupyter.widget-view+json": {
       "model_id": "9b6800a208da4d4abd48f86b598d7ea0",
       "version_major": 2,
       "version_minor": 0
      },
      "text/plain": [
       "  0%|          | 0/911 [00:00<?, ?it/s]"
      ]
     },
     "metadata": {},
     "output_type": "display_data"
    },
    {
     "data": {
      "application/vnd.jupyter.widget-view+json": {
       "model_id": "997ab7ebfded4069803eb43b0f98cbcf",
       "version_major": 2,
       "version_minor": 0
      },
      "text/plain": [
       "  0%|          | 0/1 [00:00<?, ?it/s]"
      ]
     },
     "metadata": {},
     "output_type": "display_data"
    },
    {
     "data": {
      "application/vnd.jupyter.widget-view+json": {
       "model_id": "fd9c10ae8f6c4ad582bbfe9e863aaee4",
       "version_major": 2,
       "version_minor": 0
      },
      "text/plain": [
       "  0%|          | 0/911 [00:00<?, ?it/s]"
      ]
     },
     "metadata": {},
     "output_type": "display_data"
    },
    {
     "data": {
      "application/vnd.jupyter.widget-view+json": {
       "model_id": "099233cd3a9842859608b915b9cf4300",
       "version_major": 2,
       "version_minor": 0
      },
      "text/plain": [
       "  0%|          | 0/1 [00:00<?, ?it/s]"
      ]
     },
     "metadata": {},
     "output_type": "display_data"
    },
    {
     "data": {
      "application/vnd.jupyter.widget-view+json": {
       "model_id": "214d743c72b04145abfcae3b6a7751c3",
       "version_major": 2,
       "version_minor": 0
      },
      "text/plain": [
       "  0%|          | 0/911 [00:00<?, ?it/s]"
      ]
     },
     "metadata": {},
     "output_type": "display_data"
    },
    {
     "data": {
      "application/vnd.jupyter.widget-view+json": {
       "model_id": "6170a582bf5e4723b0fc0c43e683354e",
       "version_major": 2,
       "version_minor": 0
      },
      "text/plain": [
       "  0%|          | 0/1 [00:00<?, ?it/s]"
      ]
     },
     "metadata": {},
     "output_type": "display_data"
    },
    {
     "data": {
      "application/vnd.jupyter.widget-view+json": {
       "model_id": "e5085b691dc1478484ff32226830fc9b",
       "version_major": 2,
       "version_minor": 0
      },
      "text/plain": [
       "  0%|          | 0/911 [00:00<?, ?it/s]"
      ]
     },
     "metadata": {},
     "output_type": "display_data"
    },
    {
     "data": {
      "application/vnd.jupyter.widget-view+json": {
       "model_id": "679cdd3e89434853a3e9a63b1077f9b6",
       "version_major": 2,
       "version_minor": 0
      },
      "text/plain": [
       "  0%|          | 0/1 [00:00<?, ?it/s]"
      ]
     },
     "metadata": {},
     "output_type": "display_data"
    },
    {
     "data": {
      "application/vnd.jupyter.widget-view+json": {
       "model_id": "2f36eceed0d249afb53be3fdd98ede93",
       "version_major": 2,
       "version_minor": 0
      },
      "text/plain": [
       "  0%|          | 0/911 [00:00<?, ?it/s]"
      ]
     },
     "metadata": {},
     "output_type": "display_data"
    },
    {
     "data": {
      "application/vnd.jupyter.widget-view+json": {
       "model_id": "2448a040847a48b9add6f167e80b540d",
       "version_major": 2,
       "version_minor": 0
      },
      "text/plain": [
       "  0%|          | 0/1 [00:00<?, ?it/s]"
      ]
     },
     "metadata": {},
     "output_type": "display_data"
    },
    {
     "data": {
      "application/vnd.jupyter.widget-view+json": {
       "model_id": "61e8552ab7804acb823307791bb3b16a",
       "version_major": 2,
       "version_minor": 0
      },
      "text/plain": [
       "  0%|          | 0/911 [00:00<?, ?it/s]"
      ]
     },
     "metadata": {},
     "output_type": "display_data"
    },
    {
     "data": {
      "application/vnd.jupyter.widget-view+json": {
       "model_id": "5f7e3ee03a0546408d38193c65701b17",
       "version_major": 2,
       "version_minor": 0
      },
      "text/plain": [
       "  0%|          | 0/1 [00:00<?, ?it/s]"
      ]
     },
     "metadata": {},
     "output_type": "display_data"
    },
    {
     "data": {
      "application/vnd.jupyter.widget-view+json": {
       "model_id": "d75db908aaaa4c04aaafbef3b759f31a",
       "version_major": 2,
       "version_minor": 0
      },
      "text/plain": [
       "  0%|          | 0/911 [00:00<?, ?it/s]"
      ]
     },
     "metadata": {},
     "output_type": "display_data"
    },
    {
     "data": {
      "application/vnd.jupyter.widget-view+json": {
       "model_id": "e48bb9932dad4acb80c7aeb29f412f77",
       "version_major": 2,
       "version_minor": 0
      },
      "text/plain": [
       "  0%|          | 0/1 [00:00<?, ?it/s]"
      ]
     },
     "metadata": {},
     "output_type": "display_data"
    },
    {
     "data": {
      "application/vnd.jupyter.widget-view+json": {
       "model_id": "078a7db699ed41fe909a7655b9cdbe36",
       "version_major": 2,
       "version_minor": 0
      },
      "text/plain": [
       "  0%|          | 0/911 [00:00<?, ?it/s]"
      ]
     },
     "metadata": {},
     "output_type": "display_data"
    },
    {
     "data": {
      "application/vnd.jupyter.widget-view+json": {
       "model_id": "7eafaef9b3d54dd68495d6bb740d89cc",
       "version_major": 2,
       "version_minor": 0
      },
      "text/plain": [
       "  0%|          | 0/1 [00:00<?, ?it/s]"
      ]
     },
     "metadata": {},
     "output_type": "display_data"
    },
    {
     "data": {
      "application/vnd.jupyter.widget-view+json": {
       "model_id": "562177dcd0414a12972ced767c7266ce",
       "version_major": 2,
       "version_minor": 0
      },
      "text/plain": [
       "  0%|          | 0/911 [00:00<?, ?it/s]"
      ]
     },
     "metadata": {},
     "output_type": "display_data"
    },
    {
     "data": {
      "application/vnd.jupyter.widget-view+json": {
       "model_id": "7d83f5cb12dc4d0d9e57bf08b08a9310",
       "version_major": 2,
       "version_minor": 0
      },
      "text/plain": [
       "  0%|          | 0/1 [00:00<?, ?it/s]"
      ]
     },
     "metadata": {},
     "output_type": "display_data"
    },
    {
     "data": {
      "application/vnd.jupyter.widget-view+json": {
       "model_id": "8c0d9bfa68534f2f910c9224d7bddb5d",
       "version_major": 2,
       "version_minor": 0
      },
      "text/plain": [
       "  0%|          | 0/911 [00:00<?, ?it/s]"
      ]
     },
     "metadata": {},
     "output_type": "display_data"
    },
    {
     "data": {
      "application/vnd.jupyter.widget-view+json": {
       "model_id": "9654011db5ba43c8b133f589e634ef6a",
       "version_major": 2,
       "version_minor": 0
      },
      "text/plain": [
       "  0%|          | 0/1 [00:00<?, ?it/s]"
      ]
     },
     "metadata": {},
     "output_type": "display_data"
    },
    {
     "data": {
      "application/vnd.jupyter.widget-view+json": {
       "model_id": "19727c3241a34d93944b9d514770b168",
       "version_major": 2,
       "version_minor": 0
      },
      "text/plain": [
       "  0%|          | 0/911 [00:00<?, ?it/s]"
      ]
     },
     "metadata": {},
     "output_type": "display_data"
    },
    {
     "data": {
      "application/vnd.jupyter.widget-view+json": {
       "model_id": "456d0a8428de42a494791831addddc51",
       "version_major": 2,
       "version_minor": 0
      },
      "text/plain": [
       "  0%|          | 0/1 [00:00<?, ?it/s]"
      ]
     },
     "metadata": {},
     "output_type": "display_data"
    },
    {
     "data": {
      "application/vnd.jupyter.widget-view+json": {
       "model_id": "55a95f12489e462aa146b62b910a659f",
       "version_major": 2,
       "version_minor": 0
      },
      "text/plain": [
       "  0%|          | 0/911 [00:00<?, ?it/s]"
      ]
     },
     "metadata": {},
     "output_type": "display_data"
    },
    {
     "data": {
      "application/vnd.jupyter.widget-view+json": {
       "model_id": "1f82e2749d85421c8deac41e5aca6d29",
       "version_major": 2,
       "version_minor": 0
      },
      "text/plain": [
       "  0%|          | 0/1 [00:00<?, ?it/s]"
      ]
     },
     "metadata": {},
     "output_type": "display_data"
    },
    {
     "data": {
      "application/vnd.jupyter.widget-view+json": {
       "model_id": "c67a236f2ccc41898f6a1b317f536bfa",
       "version_major": 2,
       "version_minor": 0
      },
      "text/plain": [
       "  0%|          | 0/911 [00:00<?, ?it/s]"
      ]
     },
     "metadata": {},
     "output_type": "display_data"
    },
    {
     "data": {
      "application/vnd.jupyter.widget-view+json": {
       "model_id": "eca8e7f5088b4c2da6230e245a4a1897",
       "version_major": 2,
       "version_minor": 0
      },
      "text/plain": [
       "  0%|          | 0/1 [00:00<?, ?it/s]"
      ]
     },
     "metadata": {},
     "output_type": "display_data"
    },
    {
     "data": {
      "application/vnd.jupyter.widget-view+json": {
       "model_id": "793b9c7183a34da7b0409cf020354fee",
       "version_major": 2,
       "version_minor": 0
      },
      "text/plain": [
       "  0%|          | 0/911 [00:00<?, ?it/s]"
      ]
     },
     "metadata": {},
     "output_type": "display_data"
    },
    {
     "data": {
      "application/vnd.jupyter.widget-view+json": {
       "model_id": "0d1f660a103740fbb124c45f6ea0f48f",
       "version_major": 2,
       "version_minor": 0
      },
      "text/plain": [
       "  0%|          | 0/1 [00:00<?, ?it/s]"
      ]
     },
     "metadata": {},
     "output_type": "display_data"
    },
    {
     "data": {
      "application/vnd.jupyter.widget-view+json": {
       "model_id": "a09121a077d646fd9ab964247fccd47b",
       "version_major": 2,
       "version_minor": 0
      },
      "text/plain": [
       "  0%|          | 0/911 [00:00<?, ?it/s]"
      ]
     },
     "metadata": {},
     "output_type": "display_data"
    },
    {
     "data": {
      "application/vnd.jupyter.widget-view+json": {
       "model_id": "826d9fe2deaa487d9642a4709c290ca0",
       "version_major": 2,
       "version_minor": 0
      },
      "text/plain": [
       "  0%|          | 0/1 [00:00<?, ?it/s]"
      ]
     },
     "metadata": {},
     "output_type": "display_data"
    },
    {
     "data": {
      "application/vnd.jupyter.widget-view+json": {
       "model_id": "7e42bb65d8c641feaf5c4a7c42347afa",
       "version_major": 2,
       "version_minor": 0
      },
      "text/plain": [
       "  0%|          | 0/911 [00:00<?, ?it/s]"
      ]
     },
     "metadata": {},
     "output_type": "display_data"
    },
    {
     "data": {
      "application/vnd.jupyter.widget-view+json": {
       "model_id": "f1e146657f014721bda585a0b2daf1cc",
       "version_major": 2,
       "version_minor": 0
      },
      "text/plain": [
       "  0%|          | 0/1 [00:00<?, ?it/s]"
      ]
     },
     "metadata": {},
     "output_type": "display_data"
    },
    {
     "data": {
      "application/vnd.jupyter.widget-view+json": {
       "model_id": "b47a3af2540b4fc5b854902e00b4186d",
       "version_major": 2,
       "version_minor": 0
      },
      "text/plain": [
       "  0%|          | 0/911 [00:00<?, ?it/s]"
      ]
     },
     "metadata": {},
     "output_type": "display_data"
    },
    {
     "data": {
      "application/vnd.jupyter.widget-view+json": {
       "model_id": "f0198832b5b34e9a991f74abad0c55b2",
       "version_major": 2,
       "version_minor": 0
      },
      "text/plain": [
       "  0%|          | 0/1 [00:00<?, ?it/s]"
      ]
     },
     "metadata": {},
     "output_type": "display_data"
    },
    {
     "data": {
      "application/vnd.jupyter.widget-view+json": {
       "model_id": "aa782bf327e84dc881edbe72e1fea0f7",
       "version_major": 2,
       "version_minor": 0
      },
      "text/plain": [
       "  0%|          | 0/911 [00:00<?, ?it/s]"
      ]
     },
     "metadata": {},
     "output_type": "display_data"
    },
    {
     "data": {
      "application/vnd.jupyter.widget-view+json": {
       "model_id": "d4e093cd1de7491685935e9265190b2b",
       "version_major": 2,
       "version_minor": 0
      },
      "text/plain": [
       "  0%|          | 0/1 [00:00<?, ?it/s]"
      ]
     },
     "metadata": {},
     "output_type": "display_data"
    },
    {
     "data": {
      "application/vnd.jupyter.widget-view+json": {
       "model_id": "242c9cc885414d3f9e86efe3c71520eb",
       "version_major": 2,
       "version_minor": 0
      },
      "text/plain": [
       "  0%|          | 0/911 [00:00<?, ?it/s]"
      ]
     },
     "metadata": {},
     "output_type": "display_data"
    },
    {
     "data": {
      "application/vnd.jupyter.widget-view+json": {
       "model_id": "155c781eae924c7c875964a1b10e7ebf",
       "version_major": 2,
       "version_minor": 0
      },
      "text/plain": [
       "  0%|          | 0/1 [00:00<?, ?it/s]"
      ]
     },
     "metadata": {},
     "output_type": "display_data"
    },
    {
     "data": {
      "application/vnd.jupyter.widget-view+json": {
       "model_id": "29a9202ed50447919364c13bf7588220",
       "version_major": 2,
       "version_minor": 0
      },
      "text/plain": [
       "  0%|          | 0/911 [00:00<?, ?it/s]"
      ]
     },
     "metadata": {},
     "output_type": "display_data"
    },
    {
     "data": {
      "application/vnd.jupyter.widget-view+json": {
       "model_id": "d7cdf601e686402f9715cfc61af0cdbe",
       "version_major": 2,
       "version_minor": 0
      },
      "text/plain": [
       "  0%|          | 0/1 [00:00<?, ?it/s]"
      ]
     },
     "metadata": {},
     "output_type": "display_data"
    },
    {
     "data": {
      "application/vnd.jupyter.widget-view+json": {
       "model_id": "547021f1f65f42788ab2cefbe6a370d1",
       "version_major": 2,
       "version_minor": 0
      },
      "text/plain": [
       "  0%|          | 0/911 [00:00<?, ?it/s]"
      ]
     },
     "metadata": {},
     "output_type": "display_data"
    },
    {
     "data": {
      "application/vnd.jupyter.widget-view+json": {
       "model_id": "c2ac07e5c76d4cb19006e895d7dc27e7",
       "version_major": 2,
       "version_minor": 0
      },
      "text/plain": [
       "  0%|          | 0/1 [00:00<?, ?it/s]"
      ]
     },
     "metadata": {},
     "output_type": "display_data"
    },
    {
     "data": {
      "application/vnd.jupyter.widget-view+json": {
       "model_id": "a9b45bbae2334ba1a2048dd3efe74b8e",
       "version_major": 2,
       "version_minor": 0
      },
      "text/plain": [
       "  0%|          | 0/911 [00:00<?, ?it/s]"
      ]
     },
     "metadata": {},
     "output_type": "display_data"
    },
    {
     "data": {
      "application/vnd.jupyter.widget-view+json": {
       "model_id": "73a75efeafa74ee8b200122c20f6855c",
       "version_major": 2,
       "version_minor": 0
      },
      "text/plain": [
       "  0%|          | 0/1 [00:00<?, ?it/s]"
      ]
     },
     "metadata": {},
     "output_type": "display_data"
    },
    {
     "data": {
      "application/vnd.jupyter.widget-view+json": {
       "model_id": "4368aa1f002748a0a6d9df5e11a0e4a6",
       "version_major": 2,
       "version_minor": 0
      },
      "text/plain": [
       "  0%|          | 0/911 [00:00<?, ?it/s]"
      ]
     },
     "metadata": {},
     "output_type": "display_data"
    },
    {
     "data": {
      "application/vnd.jupyter.widget-view+json": {
       "model_id": "cdf9c8f9ae5643d495a8d9282131864f",
       "version_major": 2,
       "version_minor": 0
      },
      "text/plain": [
       "  0%|          | 0/1 [00:00<?, ?it/s]"
      ]
     },
     "metadata": {},
     "output_type": "display_data"
    },
    {
     "data": {
      "application/vnd.jupyter.widget-view+json": {
       "model_id": "f0820bf406804fccb12f8d4b76266f5d",
       "version_major": 2,
       "version_minor": 0
      },
      "text/plain": [
       "  0%|          | 0/911 [00:00<?, ?it/s]"
      ]
     },
     "metadata": {},
     "output_type": "display_data"
    },
    {
     "data": {
      "application/vnd.jupyter.widget-view+json": {
       "model_id": "c52822f8e49843d6a6e240b37e4ddb58",
       "version_major": 2,
       "version_minor": 0
      },
      "text/plain": [
       "  0%|          | 0/1 [00:00<?, ?it/s]"
      ]
     },
     "metadata": {},
     "output_type": "display_data"
    },
    {
     "data": {
      "application/vnd.jupyter.widget-view+json": {
       "model_id": "7c57f8390f1e4bc8bd3f960eabf3001b",
       "version_major": 2,
       "version_minor": 0
      },
      "text/plain": [
       "  0%|          | 0/911 [00:00<?, ?it/s]"
      ]
     },
     "metadata": {},
     "output_type": "display_data"
    },
    {
     "data": {
      "application/vnd.jupyter.widget-view+json": {
       "model_id": "a0bded7b0a824364943bea6ec96d7e8e",
       "version_major": 2,
       "version_minor": 0
      },
      "text/plain": [
       "  0%|          | 0/1 [00:00<?, ?it/s]"
      ]
     },
     "metadata": {},
     "output_type": "display_data"
    },
    {
     "data": {
      "application/vnd.jupyter.widget-view+json": {
       "model_id": "1fa1cbbde96c41c1bf66bc86c084523c",
       "version_major": 2,
       "version_minor": 0
      },
      "text/plain": [
       "  0%|          | 0/911 [00:00<?, ?it/s]"
      ]
     },
     "metadata": {},
     "output_type": "display_data"
    },
    {
     "data": {
      "application/vnd.jupyter.widget-view+json": {
       "model_id": "373590bde7724a56967a86caf6b078b2",
       "version_major": 2,
       "version_minor": 0
      },
      "text/plain": [
       "  0%|          | 0/1 [00:00<?, ?it/s]"
      ]
     },
     "metadata": {},
     "output_type": "display_data"
    },
    {
     "data": {
      "application/vnd.jupyter.widget-view+json": {
       "model_id": "7a2903a89da94a068157961b6185a0ee",
       "version_major": 2,
       "version_minor": 0
      },
      "text/plain": [
       "  0%|          | 0/911 [00:00<?, ?it/s]"
      ]
     },
     "metadata": {},
     "output_type": "display_data"
    },
    {
     "data": {
      "application/vnd.jupyter.widget-view+json": {
       "model_id": "5c17621cef5f4b629593c2a45a3be868",
       "version_major": 2,
       "version_minor": 0
      },
      "text/plain": [
       "  0%|          | 0/1 [00:00<?, ?it/s]"
      ]
     },
     "metadata": {},
     "output_type": "display_data"
    },
    {
     "data": {
      "application/vnd.jupyter.widget-view+json": {
       "model_id": "d3f914ca277e47dd8af9290daf30ba4e",
       "version_major": 2,
       "version_minor": 0
      },
      "text/plain": [
       "  0%|          | 0/911 [00:00<?, ?it/s]"
      ]
     },
     "metadata": {},
     "output_type": "display_data"
    },
    {
     "data": {
      "application/vnd.jupyter.widget-view+json": {
       "model_id": "57344df1e1f94f5d95d20004b9955514",
       "version_major": 2,
       "version_minor": 0
      },
      "text/plain": [
       "  0%|          | 0/1 [00:00<?, ?it/s]"
      ]
     },
     "metadata": {},
     "output_type": "display_data"
    },
    {
     "data": {
      "application/vnd.jupyter.widget-view+json": {
       "model_id": "be33d6a8b32d454bb9c4cc20b5f095f6",
       "version_major": 2,
       "version_minor": 0
      },
      "text/plain": [
       "  0%|          | 0/911 [00:00<?, ?it/s]"
      ]
     },
     "metadata": {},
     "output_type": "display_data"
    },
    {
     "data": {
      "application/vnd.jupyter.widget-view+json": {
       "model_id": "fd42544554084e21bfc29c621f245291",
       "version_major": 2,
       "version_minor": 0
      },
      "text/plain": [
       "  0%|          | 0/1 [00:00<?, ?it/s]"
      ]
     },
     "metadata": {},
     "output_type": "display_data"
    },
    {
     "data": {
      "application/vnd.jupyter.widget-view+json": {
       "model_id": "9a09c604550a4098a8f1f1f3c4bd8250",
       "version_major": 2,
       "version_minor": 0
      },
      "text/plain": [
       "  0%|          | 0/911 [00:00<?, ?it/s]"
      ]
     },
     "metadata": {},
     "output_type": "display_data"
    },
    {
     "data": {
      "application/vnd.jupyter.widget-view+json": {
       "model_id": "96587f8e4ff54d9b999e22661af93e25",
       "version_major": 2,
       "version_minor": 0
      },
      "text/plain": [
       "  0%|          | 0/1 [00:00<?, ?it/s]"
      ]
     },
     "metadata": {},
     "output_type": "display_data"
    },
    {
     "data": {
      "application/vnd.jupyter.widget-view+json": {
       "model_id": "c3084b7ec0674d47b263135a5edb6b6e",
       "version_major": 2,
       "version_minor": 0
      },
      "text/plain": [
       "  0%|          | 0/911 [00:00<?, ?it/s]"
      ]
     },
     "metadata": {},
     "output_type": "display_data"
    },
    {
     "data": {
      "application/vnd.jupyter.widget-view+json": {
       "model_id": "fbb080b5e2f34672b6bbb0bf8fc68535",
       "version_major": 2,
       "version_minor": 0
      },
      "text/plain": [
       "  0%|          | 0/1 [00:00<?, ?it/s]"
      ]
     },
     "metadata": {},
     "output_type": "display_data"
    },
    {
     "data": {
      "application/vnd.jupyter.widget-view+json": {
       "model_id": "4eb908585eec498293f7f8cb3d3e947b",
       "version_major": 2,
       "version_minor": 0
      },
      "text/plain": [
       "  0%|          | 0/911 [00:00<?, ?it/s]"
      ]
     },
     "metadata": {},
     "output_type": "display_data"
    },
    {
     "data": {
      "application/vnd.jupyter.widget-view+json": {
       "model_id": "f531e81b11bb4df9b9f7a86c5dcbc699",
       "version_major": 2,
       "version_minor": 0
      },
      "text/plain": [
       "  0%|          | 0/1 [00:00<?, ?it/s]"
      ]
     },
     "metadata": {},
     "output_type": "display_data"
    },
    {
     "data": {
      "application/vnd.jupyter.widget-view+json": {
       "model_id": "a6a38b1a63024f3e8b74ce75ddce19e1",
       "version_major": 2,
       "version_minor": 0
      },
      "text/plain": [
       "  0%|          | 0/911 [00:00<?, ?it/s]"
      ]
     },
     "metadata": {},
     "output_type": "display_data"
    },
    {
     "data": {
      "application/vnd.jupyter.widget-view+json": {
       "model_id": "56ba1b63c810495d97a7a007f75d0a32",
       "version_major": 2,
       "version_minor": 0
      },
      "text/plain": [
       "  0%|          | 0/1 [00:00<?, ?it/s]"
      ]
     },
     "metadata": {},
     "output_type": "display_data"
    },
    {
     "data": {
      "application/vnd.jupyter.widget-view+json": {
       "model_id": "29f9c2d8f7c4403ea377bc3b7557a6e3",
       "version_major": 2,
       "version_minor": 0
      },
      "text/plain": [
       "  0%|          | 0/911 [00:00<?, ?it/s]"
      ]
     },
     "metadata": {},
     "output_type": "display_data"
    },
    {
     "data": {
      "application/vnd.jupyter.widget-view+json": {
       "model_id": "9ae303c65b444ff48a70dd1827ec450a",
       "version_major": 2,
       "version_minor": 0
      },
      "text/plain": [
       "  0%|          | 0/1 [00:00<?, ?it/s]"
      ]
     },
     "metadata": {},
     "output_type": "display_data"
    },
    {
     "data": {
      "application/vnd.jupyter.widget-view+json": {
       "model_id": "9ad900cafa7143ffad747a44d378cab2",
       "version_major": 2,
       "version_minor": 0
      },
      "text/plain": [
       "  0%|          | 0/911 [00:00<?, ?it/s]"
      ]
     },
     "metadata": {},
     "output_type": "display_data"
    },
    {
     "data": {
      "application/vnd.jupyter.widget-view+json": {
       "model_id": "1e77dacb59954cf782c62ff95aec9426",
       "version_major": 2,
       "version_minor": 0
      },
      "text/plain": [
       "  0%|          | 0/1 [00:00<?, ?it/s]"
      ]
     },
     "metadata": {},
     "output_type": "display_data"
    },
    {
     "data": {
      "application/vnd.jupyter.widget-view+json": {
       "model_id": "83f4559a452543218dde639b90cc533b",
       "version_major": 2,
       "version_minor": 0
      },
      "text/plain": [
       "  0%|          | 0/911 [00:00<?, ?it/s]"
      ]
     },
     "metadata": {},
     "output_type": "display_data"
    },
    {
     "data": {
      "application/vnd.jupyter.widget-view+json": {
       "model_id": "d20e3145f20f43d7a23c22e1b5380a94",
       "version_major": 2,
       "version_minor": 0
      },
      "text/plain": [
       "  0%|          | 0/1 [00:00<?, ?it/s]"
      ]
     },
     "metadata": {},
     "output_type": "display_data"
    },
    {
     "data": {
      "application/vnd.jupyter.widget-view+json": {
       "model_id": "5785ccd56c114f248c69fd6b28f3a154",
       "version_major": 2,
       "version_minor": 0
      },
      "text/plain": [
       "  0%|          | 0/911 [00:00<?, ?it/s]"
      ]
     },
     "metadata": {},
     "output_type": "display_data"
    },
    {
     "data": {
      "application/vnd.jupyter.widget-view+json": {
       "model_id": "ce5e3d2712064153a4f83b060e5d3b98",
       "version_major": 2,
       "version_minor": 0
      },
      "text/plain": [
       "  0%|          | 0/1 [00:00<?, ?it/s]"
      ]
     },
     "metadata": {},
     "output_type": "display_data"
    },
    {
     "data": {
      "application/vnd.jupyter.widget-view+json": {
       "model_id": "9089a9bd694c4aee8c0896b97d2bff70",
       "version_major": 2,
       "version_minor": 0
      },
      "text/plain": [
       "  0%|          | 0/911 [00:00<?, ?it/s]"
      ]
     },
     "metadata": {},
     "output_type": "display_data"
    },
    {
     "data": {
      "application/vnd.jupyter.widget-view+json": {
       "model_id": "cb7ee036a348494d85bb642a46726813",
       "version_major": 2,
       "version_minor": 0
      },
      "text/plain": [
       "  0%|          | 0/1 [00:00<?, ?it/s]"
      ]
     },
     "metadata": {},
     "output_type": "display_data"
    },
    {
     "data": {
      "application/vnd.jupyter.widget-view+json": {
       "model_id": "e7f638fc7d70406787f6b863f5a754d1",
       "version_major": 2,
       "version_minor": 0
      },
      "text/plain": [
       "  0%|          | 0/911 [00:00<?, ?it/s]"
      ]
     },
     "metadata": {},
     "output_type": "display_data"
    },
    {
     "data": {
      "application/vnd.jupyter.widget-view+json": {
       "model_id": "6ef6eada78494954bc92b0878f85757f",
       "version_major": 2,
       "version_minor": 0
      },
      "text/plain": [
       "  0%|          | 0/1 [00:00<?, ?it/s]"
      ]
     },
     "metadata": {},
     "output_type": "display_data"
    },
    {
     "data": {
      "application/vnd.jupyter.widget-view+json": {
       "model_id": "263105f95a0d4aaa8fe9945523fa3f85",
       "version_major": 2,
       "version_minor": 0
      },
      "text/plain": [
       "  0%|          | 0/911 [00:00<?, ?it/s]"
      ]
     },
     "metadata": {},
     "output_type": "display_data"
    },
    {
     "data": {
      "application/vnd.jupyter.widget-view+json": {
       "model_id": "990decee606c49a6b5399f636eb1427a",
       "version_major": 2,
       "version_minor": 0
      },
      "text/plain": [
       "  0%|          | 0/1 [00:00<?, ?it/s]"
      ]
     },
     "metadata": {},
     "output_type": "display_data"
    },
    {
     "data": {
      "application/vnd.jupyter.widget-view+json": {
       "model_id": "a69a9a4899a544b2b4797d172e48ac26",
       "version_major": 2,
       "version_minor": 0
      },
      "text/plain": [
       "  0%|          | 0/911 [00:00<?, ?it/s]"
      ]
     },
     "metadata": {},
     "output_type": "display_data"
    },
    {
     "data": {
      "application/vnd.jupyter.widget-view+json": {
       "model_id": "0d24df96f4b2476ca566bb4b5df5b616",
       "version_major": 2,
       "version_minor": 0
      },
      "text/plain": [
       "  0%|          | 0/1 [00:00<?, ?it/s]"
      ]
     },
     "metadata": {},
     "output_type": "display_data"
    },
    {
     "data": {
      "application/vnd.jupyter.widget-view+json": {
       "model_id": "85d0504dc9954a81bee09eba6930403d",
       "version_major": 2,
       "version_minor": 0
      },
      "text/plain": [
       "  0%|          | 0/911 [00:00<?, ?it/s]"
      ]
     },
     "metadata": {},
     "output_type": "display_data"
    },
    {
     "data": {
      "application/vnd.jupyter.widget-view+json": {
       "model_id": "376d03a46851434f96e80ea38c02b7d2",
       "version_major": 2,
       "version_minor": 0
      },
      "text/plain": [
       "  0%|          | 0/1 [00:00<?, ?it/s]"
      ]
     },
     "metadata": {},
     "output_type": "display_data"
    },
    {
     "data": {
      "application/vnd.jupyter.widget-view+json": {
       "model_id": "8eb2f7c03be64439bb62e3ee034af1fd",
       "version_major": 2,
       "version_minor": 0
      },
      "text/plain": [
       "  0%|          | 0/911 [00:00<?, ?it/s]"
      ]
     },
     "metadata": {},
     "output_type": "display_data"
    },
    {
     "data": {
      "application/vnd.jupyter.widget-view+json": {
       "model_id": "946aff6723114580a4bc8ac9df891352",
       "version_major": 2,
       "version_minor": 0
      },
      "text/plain": [
       "  0%|          | 0/1 [00:00<?, ?it/s]"
      ]
     },
     "metadata": {},
     "output_type": "display_data"
    },
    {
     "data": {
      "application/vnd.jupyter.widget-view+json": {
       "model_id": "1fc18ee95fb3442a81bd92b9ec15e481",
       "version_major": 2,
       "version_minor": 0
      },
      "text/plain": [
       "  0%|          | 0/911 [00:00<?, ?it/s]"
      ]
     },
     "metadata": {},
     "output_type": "display_data"
    },
    {
     "data": {
      "application/vnd.jupyter.widget-view+json": {
       "model_id": "931f3cda0b434f57b0b0603fce33af1e",
       "version_major": 2,
       "version_minor": 0
      },
      "text/plain": [
       "  0%|          | 0/1 [00:00<?, ?it/s]"
      ]
     },
     "metadata": {},
     "output_type": "display_data"
    },
    {
     "data": {
      "application/vnd.jupyter.widget-view+json": {
       "model_id": "069bee175b0f4edb93c41fcdf5714a2f",
       "version_major": 2,
       "version_minor": 0
      },
      "text/plain": [
       "  0%|          | 0/911 [00:00<?, ?it/s]"
      ]
     },
     "metadata": {},
     "output_type": "display_data"
    },
    {
     "data": {
      "application/vnd.jupyter.widget-view+json": {
       "model_id": "3680c645e7bd412bb500421172158c1f",
       "version_major": 2,
       "version_minor": 0
      },
      "text/plain": [
       "  0%|          | 0/1 [00:00<?, ?it/s]"
      ]
     },
     "metadata": {},
     "output_type": "display_data"
    },
    {
     "data": {
      "application/vnd.jupyter.widget-view+json": {
       "model_id": "51f99cb0435b420ebdaff8aa03f248d5",
       "version_major": 2,
       "version_minor": 0
      },
      "text/plain": [
       "  0%|          | 0/911 [00:00<?, ?it/s]"
      ]
     },
     "metadata": {},
     "output_type": "display_data"
    },
    {
     "data": {
      "application/vnd.jupyter.widget-view+json": {
       "model_id": "34cc614e8d66476a8476aa1b984e41aa",
       "version_major": 2,
       "version_minor": 0
      },
      "text/plain": [
       "  0%|          | 0/1 [00:00<?, ?it/s]"
      ]
     },
     "metadata": {},
     "output_type": "display_data"
    },
    {
     "data": {
      "application/vnd.jupyter.widget-view+json": {
       "model_id": "4c1491f2b9834bc6bcd795d373b66666",
       "version_major": 2,
       "version_minor": 0
      },
      "text/plain": [
       "  0%|          | 0/911 [00:00<?, ?it/s]"
      ]
     },
     "metadata": {},
     "output_type": "display_data"
    },
    {
     "data": {
      "application/vnd.jupyter.widget-view+json": {
       "model_id": "1a0f2bef830d406bb51eb38136bc6436",
       "version_major": 2,
       "version_minor": 0
      },
      "text/plain": [
       "  0%|          | 0/1 [00:00<?, ?it/s]"
      ]
     },
     "metadata": {},
     "output_type": "display_data"
    },
    {
     "data": {
      "application/vnd.jupyter.widget-view+json": {
       "model_id": "07a531d0bbfb4cbbb52c62546a819689",
       "version_major": 2,
       "version_minor": 0
      },
      "text/plain": [
       "  0%|          | 0/911 [00:00<?, ?it/s]"
      ]
     },
     "metadata": {},
     "output_type": "display_data"
    },
    {
     "data": {
      "application/vnd.jupyter.widget-view+json": {
       "model_id": "52b509b5fd13423ca915b1425214467e",
       "version_major": 2,
       "version_minor": 0
      },
      "text/plain": [
       "  0%|          | 0/1 [00:00<?, ?it/s]"
      ]
     },
     "metadata": {},
     "output_type": "display_data"
    },
    {
     "data": {
      "application/vnd.jupyter.widget-view+json": {
       "model_id": "84a29a32c9f14d4bab988e958120f710",
       "version_major": 2,
       "version_minor": 0
      },
      "text/plain": [
       "  0%|          | 0/911 [00:00<?, ?it/s]"
      ]
     },
     "metadata": {},
     "output_type": "display_data"
    },
    {
     "data": {
      "application/vnd.jupyter.widget-view+json": {
       "model_id": "f250acfecbc34c8d86308c4c9870266c",
       "version_major": 2,
       "version_minor": 0
      },
      "text/plain": [
       "  0%|          | 0/1 [00:00<?, ?it/s]"
      ]
     },
     "metadata": {},
     "output_type": "display_data"
    },
    {
     "data": {
      "application/vnd.jupyter.widget-view+json": {
       "model_id": "33cb85cd046a4189a2cb7da818821cf7",
       "version_major": 2,
       "version_minor": 0
      },
      "text/plain": [
       "  0%|          | 0/911 [00:00<?, ?it/s]"
      ]
     },
     "metadata": {},
     "output_type": "display_data"
    },
    {
     "data": {
      "application/vnd.jupyter.widget-view+json": {
       "model_id": "7dfe2afb2e824fc49512b3a895bedcc8",
       "version_major": 2,
       "version_minor": 0
      },
      "text/plain": [
       "  0%|          | 0/1 [00:00<?, ?it/s]"
      ]
     },
     "metadata": {},
     "output_type": "display_data"
    },
    {
     "data": {
      "application/vnd.jupyter.widget-view+json": {
       "model_id": "0fea5aaf02524ee5a7c99fba89939e36",
       "version_major": 2,
       "version_minor": 0
      },
      "text/plain": [
       "  0%|          | 0/911 [00:00<?, ?it/s]"
      ]
     },
     "metadata": {},
     "output_type": "display_data"
    },
    {
     "data": {
      "application/vnd.jupyter.widget-view+json": {
       "model_id": "e1f57e963c78440e81615d180da880ce",
       "version_major": 2,
       "version_minor": 0
      },
      "text/plain": [
       "  0%|          | 0/1 [00:00<?, ?it/s]"
      ]
     },
     "metadata": {},
     "output_type": "display_data"
    },
    {
     "data": {
      "application/vnd.jupyter.widget-view+json": {
       "model_id": "9e0eb1ca1ade4fc29ea222c21fc60426",
       "version_major": 2,
       "version_minor": 0
      },
      "text/plain": [
       "  0%|          | 0/911 [00:00<?, ?it/s]"
      ]
     },
     "metadata": {},
     "output_type": "display_data"
    },
    {
     "data": {
      "application/vnd.jupyter.widget-view+json": {
       "model_id": "4e6018151be942579f72bfdeb1b2d393",
       "version_major": 2,
       "version_minor": 0
      },
      "text/plain": [
       "  0%|          | 0/1 [00:00<?, ?it/s]"
      ]
     },
     "metadata": {},
     "output_type": "display_data"
    },
    {
     "data": {
      "application/vnd.jupyter.widget-view+json": {
       "model_id": "a8b45048bca54d339f10769d0f21c89b",
       "version_major": 2,
       "version_minor": 0
      },
      "text/plain": [
       "  0%|          | 0/911 [00:00<?, ?it/s]"
      ]
     },
     "metadata": {},
     "output_type": "display_data"
    },
    {
     "data": {
      "application/vnd.jupyter.widget-view+json": {
       "model_id": "634ba9f99e8441faa27962298b9edf9d",
       "version_major": 2,
       "version_minor": 0
      },
      "text/plain": [
       "  0%|          | 0/1 [00:00<?, ?it/s]"
      ]
     },
     "metadata": {},
     "output_type": "display_data"
    },
    {
     "data": {
      "application/vnd.jupyter.widget-view+json": {
       "model_id": "3b104ea247674cefbb31542b24b6d294",
       "version_major": 2,
       "version_minor": 0
      },
      "text/plain": [
       "  0%|          | 0/911 [00:00<?, ?it/s]"
      ]
     },
     "metadata": {},
     "output_type": "display_data"
    },
    {
     "data": {
      "application/vnd.jupyter.widget-view+json": {
       "model_id": "ead32088969e4f5aa1acfe28bf3c809b",
       "version_major": 2,
       "version_minor": 0
      },
      "text/plain": [
       "  0%|          | 0/1 [00:00<?, ?it/s]"
      ]
     },
     "metadata": {},
     "output_type": "display_data"
    },
    {
     "data": {
      "application/vnd.jupyter.widget-view+json": {
       "model_id": "f0b3349359ce44829c09aa40c5e8808c",
       "version_major": 2,
       "version_minor": 0
      },
      "text/plain": [
       "  0%|          | 0/911 [00:00<?, ?it/s]"
      ]
     },
     "metadata": {},
     "output_type": "display_data"
    },
    {
     "data": {
      "application/vnd.jupyter.widget-view+json": {
       "model_id": "0876df57625744b3824fe57cc5c28f8a",
       "version_major": 2,
       "version_minor": 0
      },
      "text/plain": [
       "  0%|          | 0/1 [00:00<?, ?it/s]"
      ]
     },
     "metadata": {},
     "output_type": "display_data"
    },
    {
     "data": {
      "application/vnd.jupyter.widget-view+json": {
       "model_id": "c7b0c450ff3e4c5da49f5fa1e2e72001",
       "version_major": 2,
       "version_minor": 0
      },
      "text/plain": [
       "  0%|          | 0/911 [00:00<?, ?it/s]"
      ]
     },
     "metadata": {},
     "output_type": "display_data"
    },
    {
     "data": {
      "application/vnd.jupyter.widget-view+json": {
       "model_id": "878802824778432d84c2df651c0f0a42",
       "version_major": 2,
       "version_minor": 0
      },
      "text/plain": [
       "  0%|          | 0/1 [00:00<?, ?it/s]"
      ]
     },
     "metadata": {},
     "output_type": "display_data"
    },
    {
     "data": {
      "application/vnd.jupyter.widget-view+json": {
       "model_id": "4ccddd8ae8af4da18921f7953719f67e",
       "version_major": 2,
       "version_minor": 0
      },
      "text/plain": [
       "  0%|          | 0/911 [00:00<?, ?it/s]"
      ]
     },
     "metadata": {},
     "output_type": "display_data"
    },
    {
     "data": {
      "application/vnd.jupyter.widget-view+json": {
       "model_id": "5e160edfaec54c3caf10a519f08e56cf",
       "version_major": 2,
       "version_minor": 0
      },
      "text/plain": [
       "  0%|          | 0/1 [00:00<?, ?it/s]"
      ]
     },
     "metadata": {},
     "output_type": "display_data"
    },
    {
     "data": {
      "application/vnd.jupyter.widget-view+json": {
       "model_id": "6409018ffb1d493985011f68488c5135",
       "version_major": 2,
       "version_minor": 0
      },
      "text/plain": [
       "  0%|          | 0/911 [00:00<?, ?it/s]"
      ]
     },
     "metadata": {},
     "output_type": "display_data"
    },
    {
     "data": {
      "application/vnd.jupyter.widget-view+json": {
       "model_id": "c976cdd04dda41b78f8293ade37ad8ec",
       "version_major": 2,
       "version_minor": 0
      },
      "text/plain": [
       "  0%|          | 0/1 [00:00<?, ?it/s]"
      ]
     },
     "metadata": {},
     "output_type": "display_data"
    },
    {
     "data": {
      "application/vnd.jupyter.widget-view+json": {
       "model_id": "37735fa6f19949ea9c4a73a458e2b325",
       "version_major": 2,
       "version_minor": 0
      },
      "text/plain": [
       "  0%|          | 0/911 [00:00<?, ?it/s]"
      ]
     },
     "metadata": {},
     "output_type": "display_data"
    },
    {
     "data": {
      "application/vnd.jupyter.widget-view+json": {
       "model_id": "b826c8680ddd4ed6949005cfbcecc3d0",
       "version_major": 2,
       "version_minor": 0
      },
      "text/plain": [
       "  0%|          | 0/1 [00:00<?, ?it/s]"
      ]
     },
     "metadata": {},
     "output_type": "display_data"
    },
    {
     "data": {
      "application/vnd.jupyter.widget-view+json": {
       "model_id": "5b147486b3d04e3fb5f71c3d510b28f4",
       "version_major": 2,
       "version_minor": 0
      },
      "text/plain": [
       "  0%|          | 0/911 [00:00<?, ?it/s]"
      ]
     },
     "metadata": {},
     "output_type": "display_data"
    },
    {
     "data": {
      "application/vnd.jupyter.widget-view+json": {
       "model_id": "ecae30cef2d94d1b979c95085ee3d285",
       "version_major": 2,
       "version_minor": 0
      },
      "text/plain": [
       "  0%|          | 0/1 [00:00<?, ?it/s]"
      ]
     },
     "metadata": {},
     "output_type": "display_data"
    },
    {
     "data": {
      "application/vnd.jupyter.widget-view+json": {
       "model_id": "3484042295f94e82bf9acdaa0764b008",
       "version_major": 2,
       "version_minor": 0
      },
      "text/plain": [
       "  0%|          | 0/911 [00:00<?, ?it/s]"
      ]
     },
     "metadata": {},
     "output_type": "display_data"
    },
    {
     "data": {
      "application/vnd.jupyter.widget-view+json": {
       "model_id": "9f452a8fa6014dae9e946a4eee62172b",
       "version_major": 2,
       "version_minor": 0
      },
      "text/plain": [
       "  0%|          | 0/1 [00:00<?, ?it/s]"
      ]
     },
     "metadata": {},
     "output_type": "display_data"
    },
    {
     "data": {
      "application/vnd.jupyter.widget-view+json": {
       "model_id": "a9159816dadb49d492cbef2156feff72",
       "version_major": 2,
       "version_minor": 0
      },
      "text/plain": [
       "  0%|          | 0/911 [00:00<?, ?it/s]"
      ]
     },
     "metadata": {},
     "output_type": "display_data"
    },
    {
     "data": {
      "application/vnd.jupyter.widget-view+json": {
       "model_id": "d0e1473ae1b64ccdb04bcc97cadf1cc5",
       "version_major": 2,
       "version_minor": 0
      },
      "text/plain": [
       "  0%|          | 0/1 [00:00<?, ?it/s]"
      ]
     },
     "metadata": {},
     "output_type": "display_data"
    },
    {
     "data": {
      "application/vnd.jupyter.widget-view+json": {
       "model_id": "a5e5060703e0493b9641686eaaea7d5a",
       "version_major": 2,
       "version_minor": 0
      },
      "text/plain": [
       "  0%|          | 0/911 [00:00<?, ?it/s]"
      ]
     },
     "metadata": {},
     "output_type": "display_data"
    },
    {
     "data": {
      "application/vnd.jupyter.widget-view+json": {
       "model_id": "800db215e6aa49958b86a33a5d277c06",
       "version_major": 2,
       "version_minor": 0
      },
      "text/plain": [
       "  0%|          | 0/1 [00:00<?, ?it/s]"
      ]
     },
     "metadata": {},
     "output_type": "display_data"
    },
    {
     "data": {
      "application/vnd.jupyter.widget-view+json": {
       "model_id": "35b1479d00064603bfcc0ea412dfdc2e",
       "version_major": 2,
       "version_minor": 0
      },
      "text/plain": [
       "  0%|          | 0/911 [00:00<?, ?it/s]"
      ]
     },
     "metadata": {},
     "output_type": "display_data"
    },
    {
     "data": {
      "application/vnd.jupyter.widget-view+json": {
       "model_id": "ecacc637900b4400b32d786a29c5c72c",
       "version_major": 2,
       "version_minor": 0
      },
      "text/plain": [
       "  0%|          | 0/1 [00:00<?, ?it/s]"
      ]
     },
     "metadata": {},
     "output_type": "display_data"
    },
    {
     "data": {
      "application/vnd.jupyter.widget-view+json": {
       "model_id": "063c06aad22f4ed28ff6b4208fbf11f6",
       "version_major": 2,
       "version_minor": 0
      },
      "text/plain": [
       "  0%|          | 0/911 [00:00<?, ?it/s]"
      ]
     },
     "metadata": {},
     "output_type": "display_data"
    }
   ],
   "source": [
    "experiment = ensemble\n",
    "kwargs = {\n",
    "    \"bunches\" : bunches,\n",
    "    \"device\" : \"cuda\",\n",
    "    \"use_phonemizer\" : False\n",
    "}\n",
    "args = [\n",
    "    [ensemble],\n",
    "    [1],\n",
    "    [\n",
    "        \"./models/deep-phonemizer-se.pt\",\n",
    "        #\"./models/DeepPhon/winhome/Downloads/DeepPhon_to_send/best_model.pt\",\n",
    "        #\"./models/DeepPhon/winhome/Downloads/DeepPhon_to_send/model_step_40k.pt\"\n",
    "    ],\n",
    "    np.linspace(0.6,0.63, num=400)\n",
    "]\n",
    "# Convert phonemizer paths to phonemizers\n",
    "phoneme_dict = read_phoneme_dict(\"models/stress_lex_mtm.txt\")\n",
    "args[2] = [ phonemizer_wrapper(init_phonemizer(kwargs[\"device\"], x), phoneme_dict=phoneme_dict, include_stress_marks=False)\n",
    "           for x in args[2]]\n",
    "experiment = experiment_repeats\n",
    "res = grid(experiment,args,kwargs, stub=False)"
   ]
  },
  {
   "cell_type": "code",
   "execution_count": 30,
   "id": "d4885a1e-7ba3-4898-8bd2-c921e7544c6a",
   "metadata": {},
   "outputs": [
    {
     "data": {
      "text/plain": [
       "(0.19164265129682997, 0)"
      ]
     },
     "execution_count": 30,
     "metadata": {},
     "output_type": "execute_result"
    }
   ],
   "source": [
    "res[0][1][\"kb_wer\"].mean, res[0][1][\"kb_wer\"].std"
   ]
  },
  {
   "cell_type": "code",
   "execution_count": 31,
   "id": "f7dd1948-0901-406b-85a3-9022890a01ed",
   "metadata": {},
   "outputs": [
    {
     "data": {
      "text/plain": [
       "(0.1983669548511047, 0)"
      ]
     },
     "execution_count": 31,
     "metadata": {},
     "output_type": "execute_result"
    }
   ],
   "source": [
    "res[0][1][\"google_wer\"].mean, res[0][1][\"google_wer\"].std"
   ]
  },
  {
   "cell_type": "code",
   "execution_count": 32,
   "id": "e454574f-9631-4bad-bfae-becea59f192a",
   "metadata": {},
   "outputs": [
    {
     "data": {
      "text/plain": [
       "(0.1580211335254563, 0)"
      ]
     },
     "execution_count": 32,
     "metadata": {},
     "output_type": "execute_result"
    }
   ],
   "source": [
    "res[0][1][\"ensemble-wer\"].mean, res[0][1][\"ensemble-wer\"].std"
   ]
  },
  {
   "cell_type": "code",
   "execution_count": 3,
   "id": "822e84f7-be9c-48ac-a07c-6b50d8f04c8f",
   "metadata": {},
   "outputs": [],
   "source": [
    "with open(\"output/ensemble_eval\", \"rb\") as f:\n",
    "    res = pickle.load(f)"
   ]
  },
  {
   "cell_type": "code",
   "execution_count": 35,
   "id": "de1d1372-703e-442e-b4b9-3f48250a32b4",
   "metadata": {},
   "outputs": [
    {
     "data": {
      "text/plain": [
       "((<function google_kb_z_speaker.experiments.ensemble(phonemizer, ratio_threshold, bunches=None, device=None, use_phonemizer=None)>,\n",
       "  1,\n",
       "  <function phonemes.phonemizer_wrapper.<locals>.phonemizer_to_return(texts: Union[str, List[str]], lang)>,\n",
       "  0.5),\n",
       " {'google_wer': <experiment_helpers.ExperimentResult at 0x7f05a4860c40>,\n",
       "  'kb_wer': <experiment_helpers.ExperimentResult at 0x7f05a4860b50>,\n",
       "  'ensemble-wer': <experiment_helpers.ExperimentResult at 0x7f05a4860b20>})"
      ]
     },
     "execution_count": 35,
     "metadata": {},
     "output_type": "execute_result"
    }
   ],
   "source": [
    "res[0]"
   ]
  },
  {
   "cell_type": "code",
   "execution_count": 57,
   "id": "2fa203ed-d693-4615-b971-047e12bf837a",
   "metadata": {},
   "outputs": [
    {
     "name": "stdout",
     "output_type": "stream",
     "text": [
      "0.1520973422990714 ± 0 205\n"
     ]
    },
    {
     "data": {
      "text/plain": [
       "((<function google_kb_z_speaker.experiments.ensemble(phonemizer, ratio_threshold, bunches=None, device=None, use_phonemizer=None)>,\n",
       "  1,\n",
       "  <function phonemes.phonemizer_wrapper.<locals>.phonemizer_to_return(texts: Union[str, List[str]], lang)>,\n",
       "  0.6154135338345864),\n",
       " {'google_wer': <experiment_helpers.ExperimentResult at 0x7f048d61a160>,\n",
       "  'kb_wer': <experiment_helpers.ExperimentResult at 0x7f048d61a100>,\n",
       "  'ensemble-wer': <experiment_helpers.ExperimentResult at 0x7f048d61a130>})"
      ]
     },
     "execution_count": 57,
     "metadata": {},
     "output_type": "execute_result"
    }
   ],
   "source": [
    "#filtered = filter(lambda x : \"deep-phon\" in x[0][2] and x[0][-1] >= 0.6 and x[0][-1] < 0.7, res)\n",
    "filtered = list(filter(None, res))\n",
    "x = min(filtered, key= lambda x: x[1][\"ensemble-wer\"].mean)[1][\"ensemble-wer\"]\n",
    "arg = np.argmin([x[1][\"ensemble-wer\"].mean for x in filtered])\n",
    "print(f\"{x.mean} ± {x.std}\", arg)\n",
    "filtered[arg]"
   ]
  },
  {
   "cell_type": "markdown",
   "id": "5ee08920-545c-4235-9a7d-6fbfa424f850",
   "metadata": {},
   "source": [
    "### Error analysis\n",
    "\n",
    "Research questions\n",
    "- On which examples was WER improved with the ensemble\n",
    "- On which examples is the ensemble WER worse than before?\n",
    "- On which examples is grapheme ensemble WER better than phoneme ensemble WER \n",
    "- On which examples is grapheme ensemble WER worse than phoneme ensemble WER "
   ]
  },
  {
   "cell_type": "code",
   "execution_count": 26,
   "id": "f054d0ae-0017-474a-b757-a4fab2b903b8",
   "metadata": {
    "tags": []
   },
   "outputs": [],
   "source": [
    "def err_anal(bunches):\n",
    "    phonemizer = phonemizer_wrapper(init_phonemizer(\"cuda\", \"models/deep-phonemizer-se.pt\", stress_marks=True), None, include_stress_marks=True)\n",
    "    res_graph = ensemble(phonemizer, 0.6, bunches=bunches, device=\"cuda\", use_phonemizer=False)\n",
    "    res_phoneme = ensemble(phonemizer, 0.6, bunches=bunches, device=\"cuda\", use_phonemizer=True)\n",
    "    # Copy bunches\n",
    "    bunches = {k:v for k,v in bunches.items()}\n",
    "    bunches[\"grapheme\"] = res_graph[\"ensemble_outputs\"]\n",
    "    bunches[\"phoneme\"] = res_phoneme[\"ensemble_outputs\"]\n",
    "    bunch_list = [{k: bunches[k][i] for k in bunches} for i in range(len([x for x in bunches.values()][0]))]\n",
    "    # Subsets for rqs\n",
    "    rq1 = []\n",
    "    rq2 = []\n",
    "    rq3 = []\n",
    "    rq4 = []\n",
    "    rq5 = []\n",
    "    rq6 = []\n",
    "    for bunch in bunch_list:\n",
    "        len_correct = len(bunch[\"correct\"])\n",
    "        kb_wer = wer(bunch[\"correct\"], bunch[\"kb\"])\n",
    "        graph_wer = wer(bunch[\"correct\"], bunch[\"grapheme\"])\n",
    "        phoneme_wer = wer(bunch[\"correct\"], bunch[\"phoneme\"])\n",
    "        if phoneme_wer < kb_wer:\n",
    "            rq1.append(bunch)\n",
    "        if phoneme_wer > kb_wer:\n",
    "            rq2.append(bunch)\n",
    "        if graph_wer < phoneme_wer:\n",
    "            rq3.append(bunch)\n",
    "        if graph_wer > phoneme_wer:\n",
    "            rq4.append(bunch)\n",
    "        if graph_wer < kb_wer:\n",
    "            rq5.append(bunch)\n",
    "        if graph_wer > kb_wer:\n",
    "            rq6.append(bunch)\n",
    "    \n",
    "    return [rq1,rq2,rq3,rq4,rq5,rq6]"
   ]
  },
  {
   "cell_type": "code",
   "execution_count": 22,
   "id": "6d8de35e-86ac-459e-af17-c47813675a2d",
   "metadata": {
    "collapsed": true,
    "jupyter": {
     "outputs_hidden": true
    },
    "tags": []
   },
   "outputs": [
    {
     "data": {
      "application/vnd.jupyter.widget-view+json": {
       "model_id": "e86c04f841e2420fbdf0087abce9f18e",
       "version_major": 2,
       "version_minor": 0
      },
      "text/plain": [
       "  0%|          | 0/911 [00:00<?, ?it/s]"
      ]
     },
     "metadata": {},
     "output_type": "display_data"
    },
    {
     "data": {
      "application/vnd.jupyter.widget-view+json": {
       "model_id": "5a6b95b6edec40bfba63e8a3fc3845e2",
       "version_major": 2,
       "version_minor": 0
      },
      "text/plain": [
       "  0%|          | 0/911 [00:00<?, ?it/s]"
      ]
     },
     "metadata": {},
     "output_type": "display_data"
    },
    {
     "name": "stdout",
     "output_type": "stream",
     "text": [
      "===================\n",
      "Len Rq1 : 161 percentage:  0.17672886937431395\n",
      ":::::::::::::::::::::::\n",
      "Correct  och hur mår du och så där\n",
      "Google  och hur mår du och så där\n",
      "KB  och hur mår du och sådär\n",
      "PhonemeEns  och hur mår du och så där\n",
      "Grapheme  och hur mår du och så där\n",
      ":::::::::::::::::::::::\n",
      "Correct  att jag kanske har fyrtio stycken på min lista som jag är\n",
      "Google  att jag kanske har 40 stycken på min lista som jag är\n",
      "KB  att jag kanske har fyrtio stycken på min lista som jag r\n",
      "PhonemeEns  att jag kanske har fyrtio stycken på min lista som jag är\n",
      "Grapheme  att jag kanske har fyrtio stycken på min lista som jag är\n",
      ":::::::::::::::::::::::\n",
      "Correct  ja\n",
      "Google  ja\n",
      "KB  a\n",
      "PhonemeEns  ja\n",
      "Grapheme  ja\n",
      ":::::::::::::::::::::::\n",
      "Correct  ja jag tänkte häromdagen på också när ni ska komma hit och hälsa på egentligen och var ni ska sova allihopa\n",
      "Google  ja jag tänkte häromdagen på också när ni ska komma hit och hälsa på egentligen att han ska sova\n",
      "KB  ja jag tänkte häromdan på också när ni ska komma hit och hälsa på egentligen och vad ni ska sova allihop\n",
      "PhonemeEns  ja jag tänkte häromdagen på också när ni ska komma hit och hälsa på egentligen och vad ni ska sova allihop\n",
      "Grapheme  ja jag tänkte häromdagen på också när ni ska komma hit och hälsa på egentligen och vad ni ska sova allihop\n",
      ":::::::::::::::::::::::\n",
      "Correct  men\n",
      "Google  men\n",
      "KB  män\n",
      "PhonemeEns  men\n",
      "Grapheme  men\n",
      "===================\n",
      "Len Rq2 : 82 percentage:  0.09001097694840834\n",
      ":::::::::::::::::::::::\n",
      "Correct  och så köpte jag lite sättpotatis också av några olika sorter\n",
      "Google  och så köpte jag lite sättpotatis också har några olika sorter\n",
      "KB  och så köpte jag lite sättpotatis också av några olika sorter\n",
      "PhonemeEns  och så köpte jag lite sättpotatis också har några olika sorter\n",
      "Grapheme  och så köpte jag lite sättpotatis också av några olika sorter\n",
      ":::::::::::::::::::::::\n",
      "Correct  ja men jag tänker också om man skulle ja dels kanske man skulle behöva på pappa ja\n",
      "Google  ja men jag tänker också att man skulle ha det kanske man skulle behöva på pappa ja\n",
      "KB  ja men och jag tänker också om man skulle ja dels kanske man skulle behöva hälsa på pappa jag\n",
      "PhonemeEns  ja men och jag tänker också om man skulle ha det kanske man skulle behöva hälsa på pappa ja\n",
      "Grapheme  ja men och jag tänker också om man skulle ha det kanske man skulle behöva hälsa på pappa ja\n",
      ":::::::::::::::::::::::\n",
      "Correct  jag kanske har en till i en viss kasse i uthuset\n",
      "Google  jag kanske har en till i en whiskas i uthuset\n",
      "KB  jag kanske har en till i en viss kasse i uthuset\n",
      "PhonemeEns  jag kanske har en till i en whiskas i uthuset\n",
      "Grapheme  jag kanske har en till i en viss kasse i uthuset\n",
      ":::::::::::::::::::::::\n",
      "Correct  jag blir lite full i skratt för vi vi var så himla på krigsstigen först då liksom\n",
      "Google  finns det för ditt skratt för vi var så himla på krigsstigen första liksom\n",
      "KB  blir inte full i skratt för vi var så himla på krigsstigen först och liksom\n",
      "PhonemeEns  blir inte full i skratt för vi var så himla på krigsstigen första liksom\n",
      "Grapheme  blir inte full i skratt för vi var så himla på krigsstigen första liksom\n",
      ":::::::::::::::::::::::\n",
      "Correct  jag har faktiskt gott om småkakor för en gångs skull\n",
      "Google  jag har faktiskt gott om småkakor för en gång skull\n",
      "KB  jag har faktiskt gott om småkakor för en gångs skull\n",
      "PhonemeEns  jag har faktiskt gott om småkakor för en gång skull\n",
      "Grapheme  jag har faktiskt gott om småkakor för en gång skull\n",
      "===================\n",
      "Len Rq3 : 66 percentage:  0.07244785949506037\n",
      ":::::::::::::::::::::::\n",
      "Correct  ja\n",
      "Google  ja\n",
      "KB  a\n",
      "PhonemeEns  a\n",
      "Grapheme  ja\n",
      ":::::::::::::::::::::::\n",
      "Correct  ja\n",
      "Google  ja\n",
      "KB  a\n",
      "PhonemeEns  a\n",
      "Grapheme  ja\n",
      ":::::::::::::::::::::::\n",
      "Correct  eller kanske om jag får säger hej hur står det till\n",
      "Google  om jag får säger hej hur står det till\n",
      "KB  eller kanske oom jag förser hej hur står det till\n",
      "PhonemeEns  eller kanske oom jag förser hej hur står det till\n",
      "Grapheme  eller kanske oom jag får säger hej hur står det till\n",
      ":::::::::::::::::::::::\n",
      "Correct  oj\n",
      "Google  oj\n",
      "KB  o\n",
      "PhonemeEns  o\n",
      "Grapheme  oj\n",
      ":::::::::::::::::::::::\n",
      "Correct  helgen var det väl för då då hade vi vänstermöte här hemma hos mig i trädgården\n",
      "Google  helgen var det väl för då hade vi vänster möte hemma hos mig i trädgården\n",
      "KB  helgen var det väl för dådå hade vi vänstermöte härhemma hos mig i trädgården\n",
      "PhonemeEns  helgen var det väl för dådå hade vi vänster möte hemma hos mig i trädgården\n",
      "Grapheme  helgen var det väl för då hade vi vänster möte hemma hos mig i trädgården\n",
      "===================\n",
      "Len Rq4 : 10 percentage:  0.010976948408342482\n",
      ":::::::::::::::::::::::\n",
      "Correct  a men så gjorde jag också\n",
      "Google  ja men så gjorde jag också\n",
      "KB  a men så gjorde jag också\n",
      "PhonemeEns  a men så gjorde jag också\n",
      "Grapheme  ja men så gjorde jag också\n",
      ":::::::::::::::::::::::\n",
      "Correct  så petnoga och så är det ju ganska det är ju rakt längs brädorna och så så det är ju så tydliga kanter så det\n",
      "Google  så petnoga och så är det ganska de ju rakt längs brädorna också så det är ju så tydliga kanter så det\n",
      "KB  så petnoga och så är det ju ganska eu rakt längs brädorna och så så det är ju så tydliga kanter så de\n",
      "PhonemeEns  så petnoga och så är det ju ganska eu rakt längs brädorna och så så det är ju så tydliga kanter så de\n",
      "Grapheme  så petnoga och så är det ju ganska eu rakt längs brädorna också så det är ju så tydliga kanter så det\n",
      ":::::::::::::::::::::::\n",
      "Correct  vi gör så rätt mats håller ordning\n",
      "Google  nya stället mats eller ordning\n",
      "KB  vi gör så rätt mats håller ordning\n",
      "PhonemeEns  vi gör så rätt mats håller ordning\n",
      "Grapheme  vi gör så rätt mats eller ordning\n",
      ":::::::::::::::::::::::\n",
      "Correct  penslade med ägg och strödda med hackade nötter\n",
      "Google  penslade med ägg och strö med hackade nötter\n",
      "KB  penslade med ägg och strödda med hackade nötter\n",
      "PhonemeEns  penslade med ägg och strödda med hackade nötter\n",
      "Grapheme  penslade med ägg och strö med hackade nötter\n",
      ":::::::::::::::::::::::\n",
      "Correct  men tänk det är min också\n",
      "Google  men tänkte min också\n",
      "KB  men tänk det min också\n",
      "PhonemeEns  men tänk det min också\n",
      "Grapheme  men tänkte min också\n"
     ]
    }
   ],
   "source": [
    "        \n",
    "for i,x in enumerate(err_anal(bunches)):\n",
    "    print(\"===================\")\n",
    "    print(f\"Len Rq{i+1} :\", len(x), \"percentage: \", len(x)/ 911)\n",
    "    samples = random.sample(x,k=5)\n",
    "    for xi in samples:\n",
    "        print(\":::::::::::::::::::::::\")\n",
    "        print(\"Correct \", xi[\"correct\"])\n",
    "        print(\"Google \", xi[\"google\"])\n",
    "        print(\"KB \", xi[\"kb\"])\n",
    "        print(\"PhonemeEns \",  xi[\"phoneme\"])\n",
    "        print(\"Grapheme \",  xi[\"grapheme\"])"
   ]
  },
  {
   "cell_type": "code",
   "execution_count": 27,
   "id": "b99965c3-7fa5-46e1-ad51-46a6cf9b5bbb",
   "metadata": {
    "tags": []
   },
   "outputs": [
    {
     "data": {
      "application/vnd.jupyter.widget-view+json": {
       "model_id": "ecd5aaf7a98d463b815d9e024ec722d7",
       "version_major": 2,
       "version_minor": 0
      },
      "text/plain": [
       "  0%|          | 0/911 [00:00<?, ?it/s]"
      ]
     },
     "metadata": {},
     "output_type": "display_data"
    },
    {
     "data": {
      "application/vnd.jupyter.widget-view+json": {
       "model_id": "9505c17cf07c47bd9097eef239c14e21",
       "version_major": 2,
       "version_minor": 0
      },
      "text/plain": [
       "  0%|          | 0/911 [00:00<?, ?it/s]"
      ]
     },
     "metadata": {},
     "output_type": "display_data"
    },
    {
     "name": "stdout",
     "output_type": "stream",
     "text": [
      "===================\n",
      "Len Rq1 : 171 percentage:  0.1877058177826564\n",
      "===================\n",
      "Len Rq2 : 83 percentage:  0.09110867178924259\n",
      "===================\n",
      "Len Rq3 : 93 percentage:  0.10208562019758508\n",
      "===================\n",
      "Len Rq4 : 24 percentage:  0.026344676180021953\n",
      "===================\n",
      "Len Rq5 : 217 percentage:  0.23819978046103182\n",
      "===================\n",
      "Len Rq6 : 70 percentage:  0.07683863885839737\n"
     ]
    }
   ],
   "source": [
    "\n",
    "for i,x in enumerate(err_anal(bunches)):\n",
    "    print(\"===================\")\n",
    "    print(f\"Len Rq{i+1} :\", len(x), \"percentage: \", len(x)/ 911)"
   ]
  },
  {
   "cell_type": "code",
   "execution_count": 125,
   "id": "96c8d302-ae18-40fc-a498-f329122af6b9",
   "metadata": {},
   "outputs": [
    {
     "data": {
      "text/plain": [
       "[<matplotlib.lines.Line2D at 0x7f0468a144f0>]"
      ]
     },
     "execution_count": 125,
     "metadata": {},
     "output_type": "execute_result"
    },
    {
     "data": {
      "image/png": "[encoded data removed]",
      "text/plain": [
       "<Figure size 432x288 with 1 Axes>"
      ]
     },
     "metadata": {
      "needs_background": "light"
     },
     "output_type": "display_data"
    }
   ],
   "source": [
    "plt.plot(thresholds,res)"
   ]
  },
  {
   "cell_type": "markdown",
   "id": "ca95adcd-e4d2-4400-9c11-18179a643f74",
   "metadata": {},
   "source": [
    "## Phonemizer dict evaluation\n",
    "\n",
    "Running the different phonemizers and testing their outputs with the provied stres__lex dictionary"
   ]
  },
  {
   "cell_type": "code",
   "execution_count": 10,
   "id": "eec8f20d-2171-4ec3-97f1-a6657df7b7b5",
   "metadata": {},
   "outputs": [],
   "source": [
    "def phonemizer_eval(model_path, device=None, stub=None):\n",
    "    print(\"Stub is \", stub)\n",
    "    phonemizer = init_phonemizer(device, model_path)\n",
    "    phoneme_dict = read_phoneme_dict(\"./models/stress_lex_mtm.txt\")\n",
    "    print(\"Preprocessing dict\")\n",
    "    keys_order = list(phoneme_dict.keys())\n",
    "    # Downsample\n",
    "    values_order = [phoneme_dict[k] for k in keys_order]\n",
    "    print(\"Running phonemizer\")\n",
    "    count_correct = 0\n",
    "    outputs = []\n",
    "    pbar = tqdm(list(enumerate(keys_order)))\n",
    "    for i,k in pbar:\n",
    "        true_phonemes = \"\".join(phoneme_dict[k])\n",
    "        if not stub:\n",
    "            phon_output = phonemizer(k,\"se\")\n",
    "        else:\n",
    "            phon_output = \"a-form\"\n",
    "        outputs.append(phon_output)\n",
    "        if phon_output==true_phonemes:\n",
    "            count_correct += 1\n",
    "\n",
    "        if i % 2000 == 0:\n",
    "            pbar.set_postfix_str(f\"Accuracy: {count_correct / len(keys_order):.3f}\")\n",
    "    output_dict = {k:v for k,v in zip(keys_order, outputs)}\n",
    "\n",
    "    return {\n",
    "        \"accuracy\" : count_correct / len(keys_order),\n",
    "        \"output_dict\" : output_dict\n",
    "    }"
   ]
  },
  {
   "cell_type": "code",
   "execution_count": 11,
   "id": "5fc364e1-62fb-4f21-ac5a-9bd0e3d530f9",
   "metadata": {
    "collapsed": true,
    "jupyter": {
     "outputs_hidden": true
    },
    "tags": []
   },
   "outputs": [
    {
     "data": {
      "application/vnd.jupyter.widget-view+json": {
       "model_id": "754fe413be7d43b2911f12dd088acc06",
       "version_major": 2,
       "version_minor": 0
      },
      "text/plain": [
       "  0%|          | 0/3 [00:00<?, ?it/s]"
      ]
     },
     "metadata": {},
     "output_type": "display_data"
    },
    {
     "name": "stdout",
     "output_type": "stream",
     "text": [
      "Stub is  True\n",
      "Preprocessing dict\n",
      "Running phonemizer\n"
     ]
    },
    {
     "data": {
      "application/vnd.jupyter.widget-view+json": {
       "model_id": "95dc35893e464d95bd7ee970aac3ebfe",
       "version_major": 2,
       "version_minor": 0
      },
      "text/plain": [
       "  0%|          | 0/349839 [00:00<?, ?it/s]"
      ]
     },
     "metadata": {},
     "output_type": "display_data"
    },
    {
     "name": "stdout",
     "output_type": "stream",
     "text": [
      "Stub is  True\n",
      "Preprocessing dict\n",
      "Running phonemizer\n"
     ]
    },
    {
     "data": {
      "application/vnd.jupyter.widget-view+json": {
       "model_id": "43d6bda309ae43b9add3b9d7f45122d0",
       "version_major": 2,
       "version_minor": 0
      },
      "text/plain": [
       "  0%|          | 0/349839 [00:00<?, ?it/s]"
      ]
     },
     "metadata": {},
     "output_type": "display_data"
    },
    {
     "name": "stdout",
     "output_type": "stream",
     "text": [
      "Stub is  True\n",
      "Preprocessing dict\n",
      "Running phonemizer\n"
     ]
    },
    {
     "data": {
      "application/vnd.jupyter.widget-view+json": {
       "model_id": "a845b1db0b58440888e7e6478d247490",
       "version_major": 2,
       "version_minor": 0
      },
      "text/plain": [
       "  0%|          | 0/349839 [00:00<?, ?it/s]"
      ]
     },
     "metadata": {},
     "output_type": "display_data"
    },
    {
     "data": {
      "text/plain": [
       "[(('models/deep-phonemizer-se.pt',),\n",
       "  {'accuracy': 0.0,\n",
       "   'output_dict': {'a': 'a-form',\n",
       "    'a-aktier': 'a-form',\n",
       "    'a-banan': 'a-form',\n",
       "    'a-ekonomi': 'a-form',\n",
       "    'a-et': 'a-form',\n",
       "    'a-final': 'a-form',\n",
       "    'a-finalen': 'a-form',\n",
       "    'a-flyg': 'a-form',\n",
       "    'a-form': 'a-form',\n",
       "    'a-gruppen': 'a-form',\n",
       "    'a-juniorer': 'a-form',\n",
       "    'a-juniorerna': 'a-form',\n",
       "    'a-juniorlaget': 'a-form',\n",
       "    'a-kamper': 'a-form',\n",
       "    'a-kassa': 'a-form',\n",
       "    'a-kassan': 'a-form',\n",
       "    'a-kassor': 'a-form',\n",
       "    'a-kassorna': 'a-form',\n",
       "    'a-lag': 'a-form',\n",
       "    'a-lagare': 'a-form',\n",
       "    'a-lagarna': 'a-form',\n",
       "    'a-laget': 'a-form',\n",
       "    'a-lagets': 'a-form',\n",
       "    'a-lagsjuniorerna': 'a-form',\n",
       "    'a-lagspelare': 'a-form',\n",
       "    'a-lagsspelare': 'a-form',\n",
       "    'a-landskamper': 'a-form',\n",
       "    'a-landslag': 'a-form',\n",
       "    'a-landslaget': 'a-form',\n",
       "    'a-listan': 'a-form',\n",
       "    'a-ljud': 'a-form',\n",
       "    'a-ljudet': 'a-form',\n",
       "    'a-n': 'a-form',\n",
       "    'a-nummer': 'a-form',\n",
       "    'a-pojke': 'a-form',\n",
       "    'a-pressen': 'a-form',\n",
       "    'a-pressens': 'a-form',\n",
       "    'a-presskoncernens': 'a-form',\n",
       "    'a-presstidningar': 'a-form',\n",
       "    'a-presstidningarna': 'a-form',\n",
       "    'a-provet': 'a-form',\n",
       "    'a-trupp': 'a-form',\n",
       "    'a-truppen': 'a-form',\n",
       "    'a-tur': 'a-form',\n",
       "    'a-vitamin': 'a-form',\n",
       "    'a-vitaminliknande': 'a-form',\n",
       "    'a:son': 'a-form',\n",
       "    'a_a': 'a-form',\n",
       "    'a_b_c_gatan': 'a-form',\n",
       "    'a_bergmans_väg': 'a-form',\n",
       "    'a_c_lindblads_gata': 'a-form',\n",
       "    'a_e_holmbergs_gata': 'a-form',\n",
       "    'a_f_håkanssons_väg': 'a-form',\n",
       "    'a_odhners_gata': 'a-form',\n",
       "    'a_p_sjöbergs_väg': 'a-form',\n",
       "    'aabel': 'a-form',\n",
       "    'aaben': 'a-form',\n",
       "    'aaby': 'a-form',\n",
       "    'aadde': 'a-form',\n",
       "    'aadel': 'a-form',\n",
       "    'aadland': 'a-form',\n",
       "    'aadli': 'a-form',\n",
       "    'aadu': 'a-form',\n",
       "    'aadén': 'a-form',\n",
       "    'aagaard': 'a-form',\n",
       "    'aage': 'a-form',\n",
       "    'aagesen': 'a-form',\n",
       "    'aagesson': 'a-form',\n",
       "    'aagot': 'a-form',\n",
       "    'aagots': 'a-form',\n",
       "    'aahlborg': 'a-form',\n",
       "    'aaker': 'a-form',\n",
       "    'aakerholm': 'a-form',\n",
       "    'aakre': 'a-form',\n",
       "    'aalbers': 'a-form',\n",
       "    'aalborg': 'a-form',\n",
       "    'aalerud': 'a-form',\n",
       "    'aall': 'a-form',\n",
       "    'aalstad': 'a-form',\n",
       "    'aalsö': 'a-form',\n",
       "    'aalto': 'a-form',\n",
       "    'aalto-vasen': 'a-form',\n",
       "    'aaltonen': 'a-form',\n",
       "    'aalvik': 'a-form',\n",
       "    'aaman': 'a-form',\n",
       "    'aamisepp': 'a-form',\n",
       "    'aamlid': 'a-form',\n",
       "    'aamodt': 'a-form',\n",
       "    'aandahl': 'a-form',\n",
       "    'aandstad': 'a-form',\n",
       "    'aanerud': 'a-form',\n",
       "    'aanesen': 'a-form',\n",
       "    'aanstad': 'a-form',\n",
       "    'aapo': 'a-form',\n",
       "    'aardal': 'a-form',\n",
       "    'aare': 'a-form',\n",
       "    'aarea': 'a-form',\n",
       "    'aarenstrup': 'a-form',\n",
       "    'aarflot': 'a-form',\n",
       "    'aarholdt': 'a-form',\n",
       "    'aarhus': 'a-form',\n",
       "    'aarna': 'a-form',\n",
       "    'aarne': 'a-form',\n",
       "    'aarni': 'a-form',\n",
       "    'aarnio': 'a-form',\n",
       "    'aarno': 'a-form',\n",
       "    'aarnseth': 'a-form',\n",
       "    'aaro': 'a-form',\n",
       "    'aaron': 'a-form',\n",
       "    'aarons': 'a-form',\n",
       "    'aarre': 'a-form',\n",
       "    'aarseth': 'a-form',\n",
       "    'aarskog': 'a-form',\n",
       "    'aarsrud': 'a-form',\n",
       "    'aarstad': 'a-form',\n",
       "    'aarto': 'a-form',\n",
       "    'aartola': 'a-form',\n",
       "    'aarvidsson': 'a-form',\n",
       "    'aarås': 'a-form',\n",
       "    'aaröe': 'a-form',\n",
       "    'aas': 'a-form',\n",
       "    'aasa': 'a-form',\n",
       "    'aasberg': 'a-form',\n",
       "    'aase': 'a-form',\n",
       "    'aasen': 'a-form',\n",
       "    'aasgaard': 'a-form',\n",
       "    'aasgård': 'a-form',\n",
       "    'aasheim': 'a-form',\n",
       "    'aasland': 'a-form',\n",
       "    'aaslund': 'a-form',\n",
       "    'aasma': 'a-form',\n",
       "    'aasmundsen': 'a-form',\n",
       "    'aastradsen': 'a-form',\n",
       "    'aastrup': 'a-form',\n",
       "    'aate': 'a-form',\n",
       "    'aatos': 'a-form',\n",
       "    'aatto': 'a-form',\n",
       "    'aava': 'a-form',\n",
       "    'aavik': 'a-form',\n",
       "    'ab': 'a-form',\n",
       "    'abadi': 'a-form',\n",
       "    'abarca': 'a-form',\n",
       "    'abassi': 'a-form',\n",
       "    'abba': 'a-form',\n",
       "    'abbas': 'a-form',\n",
       "    'abbasi': 'a-form',\n",
       "    'abbassi': 'a-form',\n",
       "    'abbe': 'a-form',\n",
       "    'abbedissa': 'a-form',\n",
       "    'abbedissan': 'a-form',\n",
       "    'abbedissans': 'a-form',\n",
       "    'abbedissavägen': 'a-form',\n",
       "    'abbedissgatan': 'a-form',\n",
       "    'abbefalk': 'a-form',\n",
       "    'abbefors': 'a-form',\n",
       "    'abbegren': 'a-form',\n",
       "    'abbegård': 'a-form',\n",
       "    'abbekås': 'a-form',\n",
       "    'abbekåsgatan': 'a-form',\n",
       "    'abbeling': 'a-form',\n",
       "    'abbemalm': 'a-form',\n",
       "    'abbemark': 'a-form',\n",
       "    'abben': 'a-form',\n",
       "    'abberud': 'a-form',\n",
       "    'abberyd': 'a-form',\n",
       "    'abbesjö': 'a-form',\n",
       "    'abbestam': 'a-form',\n",
       "    'abbesten': 'a-form',\n",
       "    'abbetoft': 'a-form',\n",
       "    'abbevik': 'a-form',\n",
       "    'abbhagen': 'a-form',\n",
       "    'abbhammar': 'a-form',\n",
       "    'abbhed': 'a-form',\n",
       "    'abbing': 'a-form',\n",
       "    'abbor': 'a-form',\n",
       "    'abborrar': 'a-form',\n",
       "    'abborrarna': 'a-form',\n",
       "    'abborrart': 'a-form',\n",
       "    'abborrartad': 'a-form',\n",
       "    'abborre': 'a-form',\n",
       "    'abborrebergsvägen': 'a-form',\n",
       "    'abborregatan': 'a-form',\n",
       "    'abborren': 'a-form',\n",
       "    'abborrestigen': 'a-form',\n",
       "    'abborrevägen': 'a-form',\n",
       "    'abborrfisk': 'a-form',\n",
       "    'abborrfiske': 'a-form',\n",
       "    'abborrgatan': 'a-form',\n",
       "    'abborrgrund': 'a-form',\n",
       "    'abborrgränd': 'a-form',\n",
       "    'abborrkroken': 'a-form',\n",
       "    'abborrmunnen': 'a-form',\n",
       "    'abborrpinne': 'a-form',\n",
       "    'abborrstigen': 'a-form',\n",
       "    'abborrtjärnsvägen': 'a-form',\n",
       "    'abborrtorpsvägen': 'a-form',\n",
       "    'abborrträsk': 'a-form',\n",
       "    'abborrvägen': 'a-form',\n",
       "    'abbot': 'a-form',\n",
       "    'abboten': 'a-form',\n",
       "    'abbotens': 'a-form',\n",
       "    'abbotens_väg': 'a-form',\n",
       "    'abbotsdöme': 'a-form',\n",
       "    'abbotsgatan': 'a-form',\n",
       "    'abbotskap': 'a-form',\n",
       "    'abbotvägen': 'a-form',\n",
       "    'abboud': 'a-form',\n",
       "    'abbreviation': 'a-form',\n",
       "    'abbreviatur': 'a-form',\n",
       "    'abbreviera': 'a-form',\n",
       "    'abbreviering': 'a-form',\n",
       "    'abbås': 'a-form',\n",
       "    'abbé': 'a-form',\n",
       "    'abc': 'a-form',\n",
       "    'abc-bok': 'a-form',\n",
       "    'abc-boken': 'a-form',\n",
       "    'abc-nytt': 'a-form',\n",
       "    'abd': 'a-form',\n",
       "    'abda': 'a-form',\n",
       "    'abdalla': 'a-form',\n",
       "    'abdallah': 'a-form',\n",
       "    'abdel': 'a-form',\n",
       "    'abdelahad': 'a-form',\n",
       "    'abdelaziz': 'a-form',\n",
       "    'abdelkader': 'a-form',\n",
       "    'abdellah': 'a-form',\n",
       "    'abdellatif': 'a-form',\n",
       "    'abderit': 'a-form',\n",
       "    'abderitisk': 'a-form',\n",
       "    'abderrahmane': 'a-form',\n",
       "    'abdeslam': 'a-form',\n",
       "    'abdi': 'a-form',\n",
       "    'abdikarim': 'a-form',\n",
       "    'abdikation': 'a-form',\n",
       "    'abdikationsakt': 'a-form',\n",
       "    'abdikera': 'a-form',\n",
       "    'abdikerade': 'a-form',\n",
       "    'abdikerar': 'a-form',\n",
       "    'abdikerat': 'a-form',\n",
       "    'abdikering': 'a-form',\n",
       "    'abdillahi': 'a-form',\n",
       "    'abdirahman': 'a-form',\n",
       "    'abdirizak': 'a-form',\n",
       "    'abdo': 'a-form',\n",
       "    'abdol': 'a-form',\n",
       "    'abdolhossein': 'a-form',\n",
       "    'abdollah': 'a-form',\n",
       "    'abdollahi': 'a-form',\n",
       "    'abdolreza': 'a-form',\n",
       "    'abdomen': 'a-form',\n",
       "    'abdominala': 'a-form',\n",
       "    'abdon': 'a-form',\n",
       "    'abdu': 'a-form',\n",
       "    'abduktiv': 'a-form',\n",
       "    'abdul': 'a-form',\n",
       "    'abdulah': 'a-form',\n",
       "    'abdulahad': 'a-form',\n",
       "    'abdulaziz': 'a-form',\n",
       "    'abdulhadi': 'a-form',\n",
       "    'abdulhamid': 'a-form',\n",
       "    'abdulkader': 'a-form',\n",
       "    'abdulkadir': 'a-form',\n",
       "    'abdulkarim': 'a-form',\n",
       "    'abdulkerim': 'a-form',\n",
       "    'abdulla': 'a-form',\n",
       "    'abdullah': 'a-form',\n",
       "    'abdullahad': 'a-form',\n",
       "    'abdullahi': 'a-form',\n",
       "    'abdulle': 'a-form',\n",
       "    'abdulmasih': 'a-form',\n",
       "    'abdulmesih': 'a-form',\n",
       "    'abdulrahman': 'a-form',\n",
       "    'abdulsalam': 'a-form',\n",
       "    'abdurahman': 'a-form',\n",
       "    'abeba': 'a-form',\n",
       "    'abebe': 'a-form',\n",
       "    'abed': 'a-form',\n",
       "    'abedal': 'a-form',\n",
       "    'abedi': 'a-form',\n",
       "    'abedian': 'a-form',\n",
       "    'abedin': 'a-form',\n",
       "    'abefelt': 'a-form',\n",
       "    'abefors': 'a-form',\n",
       "    'abel': 'a-form',\n",
       "    'abel_beckers_gata': 'a-form',\n",
       "    'abeleen': 'a-form',\n",
       "    'abelin': 'a-form',\n",
       "    'abeling': 'a-form',\n",
       "    'abelius': 'a-form',\n",
       "    'abelli': 'a-form',\n",
       "    'abeln': 'a-form',\n",
       "    'abelson': 'a-form',\n",
       "    'abelsson': 'a-form',\n",
       "    'abelt': 'a-form',\n",
       "    'abeman': 'a-form',\n",
       "    'aben': 'a-form',\n",
       "    'abenius': 'a-form',\n",
       "    'aber': 'a-form',\n",
       "    'abergavägen': 'a-form',\n",
       "    'aberger': 'a-form',\n",
       "    'aberin': 'a-form',\n",
       "    'aberius': 'a-form',\n",
       "    'aberration': 'a-form',\n",
       "    'abersten': 'a-form',\n",
       "    'aberén': 'a-form',\n",
       "    'abessinsk': 'a-form',\n",
       "    'abessinska': 'a-form',\n",
       "    'abi': 'a-form',\n",
       "    'abid': 'a-form',\n",
       "    'abidi': 'a-form',\n",
       "    'abilitet': 'a-form',\n",
       "    'abin': 'a-form',\n",
       "    'abir': 'a-form',\n",
       "    'abisko': 'a-form',\n",
       "    'abiskoområdet': 'a-form',\n",
       "    'abiskovägen': 'a-form',\n",
       "    'abjörnssons_väg': 'a-form',\n",
       "    'abjörnssonsvägen': 'a-form',\n",
       "    'ablahad': 'a-form',\n",
       "    'ablation': 'a-form',\n",
       "    'ablativ': 'a-form',\n",
       "    'ablativform': 'a-form',\n",
       "    'abler': 'a-form',\n",
       "    'abmorvägen': 'a-form',\n",
       "    'abnell': 'a-form',\n",
       "    'abner': 'a-form',\n",
       "    'abnorm': 'a-form',\n",
       "    'abnorma': 'a-form',\n",
       "    'abnormitet': 'a-form',\n",
       "    'abnormitetens': 'a-form',\n",
       "    'abnormiteter': 'a-form',\n",
       "    'abnormt': 'a-form',\n",
       "    'abnormtillstånd': 'a-form',\n",
       "    'abolfazl': 'a-form',\n",
       "    'abolghasem': 'a-form',\n",
       "    'abolins': 'a-form',\n",
       "    'abolition': 'a-form',\n",
       "    'abonius': 'a-form',\n",
       "    'abonnemang': 'a-form',\n",
       "    'abonnemangen': 'a-form',\n",
       "    'abonnemanget': 'a-form',\n",
       "    'abonnemangsavgiften': 'a-form',\n",
       "    'abonnemangsavtal': 'a-form',\n",
       "    'abonnemangsbyte': 'a-form',\n",
       "    'abonnemangserbjudande': 'a-form',\n",
       "    'abonnemangsfritt': 'a-form',\n",
       "    'abonnemangsfråga': 'a-form',\n",
       "    'abonnemangsfrågor': 'a-form',\n",
       "    'abonnemangskonserterna': 'a-form',\n",
       "    'abonnemangsnummer': 'a-form',\n",
       "    'abonnemangspris': 'a-form',\n",
       "    'abonnent': 'a-form',\n",
       "    'abonnenten': 'a-form',\n",
       "    'abonnenter': 'a-form',\n",
       "    'abonnenterna': 'a-form',\n",
       "    'abonnentskaran': 'a-form',\n",
       "    'abonnera': 'a-form',\n",
       "    'abonnerad': 'a-form',\n",
       "    'abonnerade': 'a-form',\n",
       "    'abonnerar': 'a-form',\n",
       "    'abonnerat': 'a-form',\n",
       "    'aboriginer': 'a-form',\n",
       "    'aboriginerna': 'a-form',\n",
       "    'aborrvägen': 'a-form',\n",
       "    'abort': 'a-form',\n",
       "    'aborten': 'a-form',\n",
       "    'aborter': 'a-form',\n",
       "    'abortera': 'a-form',\n",
       "    'aborterade': 'a-form',\n",
       "    'aborterna': 'a-form',\n",
       "    'abortframkallande': 'a-form',\n",
       "    'abortframkallare': 'a-form',\n",
       "    'abortfråga': 'a-form',\n",
       "    'abortfrågan': 'a-form',\n",
       "    'abortförbud': 'a-form',\n",
       "    'abortförebyggande': 'a-form',\n",
       "    'abortingreppet': 'a-form',\n",
       "    'abortiv': 'a-form',\n",
       "    'abortklinik': 'a-form',\n",
       "    'abortkliniker': 'a-form',\n",
       "    'abortlag': 'a-form',\n",
       "    'abortlagen': 'a-form',\n",
       "    'abortlagstiftning': 'a-form',\n",
       "    'abortlagstiftningen': 'a-form',\n",
       "    'abortmotståndare': 'a-form',\n",
       "    'abortmotståndarna': 'a-form',\n",
       "    'abortpiller': 'a-form',\n",
       "    'abortpillret': 'a-form',\n",
       "    'abortresa': 'a-form',\n",
       "    'aborträtten': 'a-form',\n",
       "    'abortrådgivning': 'a-form',\n",
       "    'abortsökande': 'a-form',\n",
       "    'abortör': 'a-form',\n",
       "    'abou': 'a-form',\n",
       "    'aboud': 'a-form',\n",
       "    'abradera': 'a-form',\n",
       "    'abradering': 'a-form',\n",
       "    'abraha': 'a-form',\n",
       "    'abraham': 'a-form',\n",
       "    'abraham_ahléns_väg': 'a-form',\n",
       "    'abraham_bäckgatan': 'a-form',\n",
       "    'abrahams': 'a-form',\n",
       "    'abrahamsberg': 'a-form',\n",
       "    'abrahamsbergsvägen': 'a-form',\n",
       "    'abrahamsbovägen': 'a-form',\n",
       "    'abrahamsen': 'a-form',\n",
       "    'abrahamson': 'a-form',\n",
       "    'abrahamsson': 'a-form',\n",
       "    'abrahamsvägen': 'a-form',\n",
       "    'abrahim': 'a-form',\n",
       "    'abrahmson': 'a-form',\n",
       "    'abrahmsson': 'a-form',\n",
       "    'abrahmsén': 'a-form',\n",
       "    'abrakadabra': 'a-form',\n",
       "    'abram': 'a-form',\n",
       "    'abramsgård': 'a-form',\n",
       "    'abramson': 'a-form',\n",
       "    'abramsson': 'a-form',\n",
       "    'abramsvägen': 'a-form',\n",
       "    'abrasion': 'a-form',\n",
       "    'abrasionsbrant': 'a-form',\n",
       "    'abrehet': 'a-form',\n",
       "    'abrell': 'a-form',\n",
       "    'abresparr': 'a-form',\n",
       "    'abreu': 'a-form',\n",
       "    'abring': 'a-form',\n",
       "    'abrupt': 'a-form',\n",
       "    'abrupta': 'a-form',\n",
       "    'absalons_väg': 'a-form',\n",
       "    'absens': 'a-form',\n",
       "    'abshir': 'a-form',\n",
       "    'absid': 'a-form',\n",
       "    'absidgatan': 'a-form',\n",
       "    'absidkyrka': 'a-form',\n",
       "    'absint': 'a-form',\n",
       "    'absintflaska': 'a-form',\n",
       "    'abskissa': 'a-form',\n",
       "    'absolut': 'a-form',\n",
       "    'absoluta': 'a-form',\n",
       "    'absolute': 'a-form',\n",
       "    'absolutflaskan': 'a-form',\n",
       "    'absolution': 'a-form',\n",
       "    'absolutism': 'a-form',\n",
       "    'absolutist': 'a-form',\n",
       "    'absolutisterna': 'a-form',\n",
       "    'absolutistisk': 'a-form',\n",
       "    'absolvera': 'a-form',\n",
       "    'absolvering': 'a-form',\n",
       "    'absorbera': 'a-form',\n",
       "    'absorberad': 'a-form',\n",
       "    'absorberade': 'a-form',\n",
       "    'absorberar': 'a-form',\n",
       "    'absorberas': 'a-form',\n",
       "    'absorberat': 'a-form',\n",
       "    'absorberats': 'a-form',\n",
       "    'absorption': 'a-form',\n",
       "    'absorptionen': 'a-form',\n",
       "    'absorptionsband': 'a-form',\n",
       "    'absorptionsförmåga': 'a-form',\n",
       "    'abstinens': 'a-form',\n",
       "    'abstinensbesvär': 'a-form',\n",
       "    'abstinenseffekter': 'a-form',\n",
       "    'abstract': 'a-form',\n",
       "    'abstrahera': 'a-form',\n",
       "    'abstraherande': 'a-form',\n",
       "    'abstrahering': 'a-form',\n",
       "    'abstrakt': 'a-form',\n",
       "    'abstrakta': 'a-form',\n",
       "    'abstraktion': 'a-form',\n",
       "    'abstraktionen': 'a-form',\n",
       "    'abstraktionens': 'a-form',\n",
       "    'abstraktioner': 'a-form',\n",
       "    'abstraktionsförmåga': 'a-form',\n",
       "    'abstraktionsnivå': 'a-form',\n",
       "    'abstraktionssynen': 'a-form',\n",
       "    'abstrus': 'a-form',\n",
       "    'absurd': 'a-form',\n",
       "    'absurda': 'a-form',\n",
       "    'absurdhet': 'a-form',\n",
       "    'absurdism': 'a-form',\n",
       "    'absurdismen': 'a-form',\n",
       "    'absurdist': 'a-form',\n",
       "    'absurdisterna': 'a-form',\n",
       "    'absurdistisk': 'a-form',\n",
       "    'absurdistiska': 'a-form',\n",
       "    'absurditet': 'a-form',\n",
       "    'absurditetens': 'a-form',\n",
       "    'absurditeter': 'a-form',\n",
       "    'absurdum': 'a-form',\n",
       "    'absurt': 'a-form',\n",
       "    'abtin': 'a-form',\n",
       "    'abu': 'a-form',\n",
       "    'abul': 'a-form',\n",
       "    'abundans': 'a-form',\n",
       "    'abundant': 'a-form',\n",
       "    'abus': 'a-form',\n",
       "    'abwin': 'a-form',\n",
       "    'abygatan': 'a-form',\n",
       "    'abyssal': 'a-form',\n",
       "    'abäcksvägen': 'a-form',\n",
       "    'acar': 'a-form',\n",
       "    'accedera': 'a-form',\n",
       "    'acceleration': 'a-form',\n",
       "    'accelerationen': 'a-form',\n",
       "    'accelerationssträcka': 'a-form',\n",
       "    'accelerator': 'a-form',\n",
       "    'acceleratorer': 'a-form',\n",
       "    'acceleratorerna': 'a-form',\n",
       "    'acceleratorernas': 'a-form',\n",
       "    'acceleratorn': 'a-form',\n",
       "    'accelerera': 'a-form',\n",
       "    'accelererade': 'a-form',\n",
       "    'accelererades': 'a-form',\n",
       "    'accelererande': 'a-form',\n",
       "    'accelererar': 'a-form',\n",
       "    'accelereras': 'a-form',\n",
       "    'accelererat': 'a-form',\n",
       "    'accelerering': 'a-form',\n",
       "    'accent': 'a-form',\n",
       "    'accenten': 'a-form',\n",
       "    'accenter': 'a-form',\n",
       "    'accentuera': 'a-form',\n",
       "    'accentuerad': 'a-form',\n",
       "    'accentuerade': 'a-form',\n",
       "    'accentuerades': 'a-form',\n",
       "    'accentuerar': 'a-form',\n",
       "    'accentueras': 'a-form',\n",
       "    'accentuerat': 'a-form',\n",
       "    'accentuerats': 'a-form',\n",
       "    'accentuering': 'a-form',\n",
       "    'accept': 'a-form',\n",
       "    'acceptabel': 'a-form',\n",
       "    'acceptabelt': 'a-form',\n",
       "    'acceptabla': 'a-form',\n",
       "    'acceptans': 'a-form',\n",
       "    'acceptansen': 'a-form',\n",
       "    'accepten': 'a-form',\n",
       "    'acceptera': 'a-form',\n",
       "    'accepterad': 'a-form',\n",
       "    'accepterade': 'a-form',\n",
       "    'accepterades': 'a-form',\n",
       "    'accepterande': 'a-form',\n",
       "    'accepterandet': 'a-form',\n",
       "    'accepterar': 'a-form',\n",
       "    'accepteras': 'a-form',\n",
       "    'accepterat': 'a-form',\n",
       "    'accepterats': 'a-form',\n",
       "    'access': 'a-form',\n",
       "    'accessoar': 'a-form',\n",
       "    'accessoarer': 'a-form',\n",
       "    'accesstjänster': 'a-form',\n",
       "    'accis': 'a-form',\n",
       "    'accisfri': 'a-form',\n",
       "    'accismedel': 'a-form',\n",
       "    'accispliktig': 'a-form',\n",
       "    'acetat': 'a-form',\n",
       "    'acetatsilke': 'a-form',\n",
       "    'aceton': 'a-form',\n",
       "    'acetylen': 'a-form',\n",
       "    'acetylengas': 'a-form',\n",
       "    'acetylenlampa': 'a-form',\n",
       "    'acetylsalicylsyra': 'a-form',\n",
       "    'acevedo': 'a-form',\n",
       "    'achilleas': 'a-form',\n",
       "    'achim': 'a-form',\n",
       "    'achmed': 'a-form',\n",
       "    'achour': 'a-form',\n",
       "    'achrén': 'a-form',\n",
       "    'achteenberg': 'a-form',\n",
       "    'achtenberg': 'a-form',\n",
       "    'achtman': 'a-form',\n",
       "    'aciditet': 'a-form',\n",
       "    'ack': 'a-form',\n",
       "    'ackalin': 'a-form',\n",
       "    'ackberger': 'a-form',\n",
       "    'acke': 'a-form',\n",
       "    'ackeberg': 'a-form',\n",
       "    'ackebjer': 'a-form',\n",
       "    'ackebo': 'a-form',\n",
       "    'ackeborn': 'a-form',\n",
       "    'ackebrink': 'a-form',\n",
       "    'ackeby': 'a-form',\n",
       "    'ackedahl': 'a-form',\n",
       "    'ackefelt': 'a-form',\n",
       "    'ackefjord': 'a-form',\n",
       "    'ackefors': 'a-form',\n",
       "    'ackegård': 'a-form',\n",
       "    'ackehed': 'a-form',\n",
       "    'ackelid': 'a-form',\n",
       "    'ackelin': 'a-form',\n",
       "    'ackelind': 'a-form',\n",
       "    'ackell': 'a-form',\n",
       "    'ackelman': 'a-form',\n",
       "    'ackelöv': 'a-form',\n",
       "    'ackemalm': 'a-form',\n",
       "    'ackemar': 'a-form',\n",
       "    'ackemark': 'a-form',\n",
       "    'ackemo': 'a-form',\n",
       "    'ackenäs': 'a-form',\n",
       "    'ackerberg': 'a-form',\n",
       "    'ackerblad': 'a-form',\n",
       "    'ackerborg': 'a-form',\n",
       "    'ackerby': 'a-form',\n",
       "    'ackerdahl': 'a-form',\n",
       "    'ackerdal': 'a-form',\n",
       "    'ackered': 'a-form',\n",
       "    'ackerfeldt': 'a-form',\n",
       "    'ackerfors': 'a-form',\n",
       "    'ackerhans': 'a-form',\n",
       "    'ackerholm': 'a-form',\n",
       "    'ackerholt': 'a-form',\n",
       "    'ackerhus': 'a-form',\n",
       "    'ackerman': 'a-form',\n",
       "    'ackermann': 'a-form',\n",
       "    'ackermark': 'a-form',\n",
       "    'ackerot': 'a-form',\n",
       "    'ackers': 'a-form',\n",
       "    'ackerstedt': 'a-form',\n",
       "    'ackerstierna': 'a-form',\n",
       "    'ackerstig': 'a-form',\n",
       "    'ackerstrand': 'a-form',\n",
       "    'ackerud': 'a-form',\n",
       "    'ackerup': 'a-form',\n",
       "    'ackeryd': 'a-form',\n",
       "    'ackesjö': 'a-form',\n",
       "    'ackeskog': 'a-form',\n",
       "    'ackesten': 'a-form',\n",
       "    'ackestig': 'a-form',\n",
       "    'ackeström': 'a-form',\n",
       "    'ackeståhl': 'a-form',\n",
       "    'ackestål': 'a-form',\n",
       "    'acketoft': 'a-form',\n",
       "    'ackevall': 'a-form',\n",
       "    'ackevik': 'a-form',\n",
       "    'ackewald': 'a-form',\n",
       "    'ackfeldt': 'a-form',\n",
       "    'ackfjäll': 'a-form',\n",
       "    'ackfjärd': 'a-form',\n",
       "    'ackhammar': 'a-form',\n",
       "    'ackheden': 'a-form',\n",
       "    'acki': 'a-form',\n",
       "    'acking': 'a-form',\n",
       "    'ackinger': 'a-form',\n",
       "    'ackja': 'a-form',\n",
       "    'ackjan': 'a-form',\n",
       "    'ackjefärd': 'a-form',\n",
       "    'acklamation': 'a-form',\n",
       "    'acklamationsval': 'a-form',\n",
       "    'ackland': 'a-form',\n",
       "    'acklid': 'a-form',\n",
       "    'acklimatisera': 'a-form',\n",
       "    'acklimatiserat': 'a-form',\n",
       "    'acklimatisering': 'a-form',\n",
       "    'acklin': 'a-form',\n",
       "    'ackling': 'a-form',\n",
       "    'acklingavägen': 'a-form',\n",
       "    'acklund': 'a-form',\n",
       "    'acklén': 'a-form',\n",
       "    'ackman': 'a-form',\n",
       "    'ackmark': 'a-form',\n",
       "    'ackommodation': 'a-form',\n",
       "    'ackommodationsförmåga': 'a-form',\n",
       "    'ackommodera': 'a-form',\n",
       "    'ackommodering': 'a-form',\n",
       "    'ackompanjatris': 'a-form',\n",
       "    'ackompanjatör': 'a-form',\n",
       "    'ackompanjemang': 'a-form',\n",
       "    'ackompanjemanget': 'a-form',\n",
       "    'ackompanjemangsinstrument': 'a-form',\n",
       "    'ackompanjera': 'a-form',\n",
       "    'ackompanjerad': 'a-form',\n",
       "    'ackompanjerade': 'a-form',\n",
       "    'ackompanjerades': 'a-form',\n",
       "    'ackompanjerande': 'a-form',\n",
       "    'ackompanjerar': 'a-form',\n",
       "    'ackompanjeras': 'a-form',\n",
       "    'ackompanjerat': 'a-form',\n",
       "    'ackompanjering': 'a-form',\n",
       "    'ackonius': 'a-form',\n",
       "    'ackord': 'a-form',\n",
       "    'ackordcentralen': 'a-form',\n",
       "    'ackorden': 'a-form',\n",
       "    'ackordet': 'a-form',\n",
       "    'ackordföljd': 'a-form',\n",
       "    'ackordisk': 'a-form',\n",
       "    'ackordsarbete': 'a-form',\n",
       "    'ackordsberäkn.': 'a-form',\n",
       "    'ackordsberäknare': 'a-form',\n",
       "    'ackordscentralen': 'a-form',\n",
       "    'ackordscentralens': 'a-form',\n",
       "    'ackordsförhandling': 'a-form',\n",
       "    'ackordshets': 'a-form',\n",
       "    'ackordsjobb': 'a-form',\n",
       "    'ackordsuppgörelse': 'a-form',\n",
       "    'ackreditera': 'a-form',\n",
       "    'ackrediterad': 'a-form',\n",
       "    'ackrediterade': 'a-form',\n",
       "    'ackreditering': 'a-form',\n",
       "    'ackrell': 'a-form',\n",
       "    'ackring': 'a-form',\n",
       "    'acktjärnsgatan': 'a-form',\n",
       "    'ackumulation': 'a-form',\n",
       "    'ackumulativ': 'a-form',\n",
       "    'ackumulatorer': 'a-form',\n",
       "    'ackumulera': 'a-form',\n",
       "    'ackumulerad': 'a-form',\n",
       "    'ackumulerade': 'a-form',\n",
       "    'ackumuleras': 'a-form',\n",
       "    'ackumulerat': 'a-form',\n",
       "    'ackurat': 'a-form',\n",
       "    'ackuratess': 'a-form',\n",
       "    'ackusativisk': 'a-form',\n",
       "    'ackuschörska': 'a-form',\n",
       "    'ackvirera': 'a-form',\n",
       "    'ackvirering': 'a-form',\n",
       "    'ackvis:r': 'a-form',\n",
       "    'ackvisition': 'a-form',\n",
       "    'ackvisitör': 'a-form',\n",
       "    'ackzell': 'a-form',\n",
       "    'ackzén': 'a-form',\n",
       "    'ackås': 'a-form',\n",
       "    'ackér': 'a-form',\n",
       "    'acne': 'a-form',\n",
       "    'aco': 'a-form',\n",
       "    'acosta': 'a-form',\n",
       "    'acryl': 'a-form',\n",
       "    'acs': 'a-form',\n",
       "    'action': 'a-form',\n",
       "    'actionfilm': 'a-form',\n",
       "    'actionfilmen': 'a-form',\n",
       "    'actionfilmer': 'a-form',\n",
       "    'actionhistoria': 'a-form',\n",
       "    'actionhjälten': 'a-form',\n",
       "    'actionkomedi': 'a-form',\n",
       "    'actionkomedier': 'a-form',\n",
       "    'actionscener': 'a-form',\n",
       "    'actionserie': 'a-form',\n",
       "    'actionsurf': 'a-form',\n",
       "    'acuna': 'a-form',\n",
       "    'ada': 'a-form',\n",
       "    'adagio': 'a-form',\n",
       "    'adak': 'a-form',\n",
       "    'adaktusson': 'a-form',\n",
       "    'adakvägen': 'a-form',\n",
       "    'adalbert': 'a-form',\n",
       "    'adalberth': 'a-form',\n",
       "    'adam': 'a-form',\n",
       "    'adama': 'a-form',\n",
       "    'adamczyk': 'a-form',\n",
       "    'adamek': 'a-form',\n",
       "    'adami': 'a-form',\n",
       "    'adamovic': 'a-form',\n",
       "    'adams': 'a-form',\n",
       "    'adams_väg': 'a-form',\n",
       "    'adamsdräkt': 'a-form',\n",
       "    'adamsen': 'a-form',\n",
       "    'adamsgatan': 'a-form',\n",
       "    'adamson': 'a-form',\n",
       "    'adamsson': 'a-form',\n",
       "    'adamstorpsvägen': 'a-form',\n",
       "    'adamsvägen': 'a-form',\n",
       "    'adamsäpple': 'a-form',\n",
       "    'adamsäpplet': 'a-form',\n",
       "    'adamzon': 'a-form',\n",
       "    'adan': 'a-form',\n",
       "    'adaptation': 'a-form',\n",
       "    'adapter': 'a-form',\n",
       "    'adaptera': 'a-form',\n",
       "    'adaptering': 'a-form',\n",
       "    'adaption': 'a-form',\n",
       "    'adaptiv': 'a-form',\n",
       "    'adaptiva': 'a-form',\n",
       "    'adar': 'a-form',\n",
       "    'adare': 'a-form',\n",
       "    'adauktusson': 'a-form',\n",
       "    'adawi': 'a-form',\n",
       "    'adb': 'a-form',\n",
       "    'adb-avtal': 'a-form',\n",
       "    'adb-chef': 'a-form',\n",
       "    'adb-enhet': 'a-form',\n",
       "    'adb-enheten': 'a-form',\n",
       "    'adb-enhetens': 'a-form',\n",
       "    'adb-funktionen': 'a-form',\n",
       "    'adb-funktionens': 'a-form',\n",
       "    'adb-gruppen': 'a-form',\n",
       "    'adb-kons.': 'a-form',\n",
       "    'adb-konsult': 'a-form',\n",
       "    'adb-kontoret': 'a-form',\n",
       "    'adb-kontorets': 'a-form',\n",
       "    'adb-man': 'a-form',\n",
       "    'adb-samordnarutbildning': 'a-form',\n",
       "    'adb-samordnarutbildningen': 'a-form',\n",
       "    'adb-system': 'a-form',\n",
       "    'adb-tekn.': 'a-form',\n",
       "    'adb-tekniker': 'a-form',\n",
       "    'adb-upptagningar': 'a-form',\n",
       "    'adberg': 'a-form',\n",
       "    'adbo': 'a-form',\n",
       "    'adborn': 'a-form',\n",
       "    'adbring': 'a-form',\n",
       "    'adbro': 'a-form',\n",
       "    'adbåge': 'a-form',\n",
       "    'addberger': 'a-form',\n",
       "    'addby': 'a-form',\n",
       "    'adde': 'a-form',\n",
       "    'addemark': 'a-form',\n",
       "    'addera': 'a-form',\n",
       "    'adderar': 'a-form',\n",
       "    'adderas': 'a-form',\n",
       "    'adderat': 'a-form',\n",
       "    'addering': 'a-form',\n",
       "    'addi': 'a-form',\n",
       "    'addie': 'a-form',\n",
       "    'addiktion': 'a-form',\n",
       "    'addin': 'a-form',\n",
       "    'adding': 'a-form',\n",
       "    'addison': 'a-form',\n",
       "    'addition': 'a-form',\n",
       "    'addukt': 'a-form',\n",
       "    'adduktion': 'a-form',\n",
       "    'addy': 'a-form',\n",
       "    'addén': 'a-form',\n",
       "    'ade': 'a-form',\n",
       "    'adebahr': 'a-form',\n",
       "    'adeberg': 'a-form',\n",
       "    'adebjörk': 'a-form',\n",
       "    'adebo': 'a-form',\n",
       "    'adeborg': 'a-form',\n",
       "    'adeborn': 'a-form',\n",
       "    'adebrant': 'a-form',\n",
       "    'adebratt': 'a-form',\n",
       "    'adebring': 'a-form',\n",
       "    'adebrink': 'a-form',\n",
       "    'adebro': 'a-form',\n",
       "    'adeby': 'a-form',\n",
       "    'adebäck': 'a-form',\n",
       "    'adebåge': 'a-form',\n",
       "    'adeen': 'a-form',\n",
       "    'adefalk': 'a-form',\n",
       "    'adefelt': 'a-form',\n",
       "    'adefjord': 'a-form',\n",
       "    'adefjärd': 'a-form',\n",
       "    'adefors': 'a-form',\n",
       "    'adegren': 'a-form',\n",
       "    'adegård': 'a-form',\n",
       "    'adehed': 'a-form',\n",
       "    'adeheimer': 'a-form',\n",
       "    'adeholm': 'a-form',\n",
       "    'adehorn': 'a-form',\n",
       "    'adehög': 'a-form',\n",
       "    'adeklint': 'a-form',\n",
       "    'adekvans': 'a-form',\n",
       "    'adekvat': 'a-form',\n",
       "    'adekvata': 'a-form',\n",
       "    'adel': 'a-form',\n",
       "    'adela': 'a-form',\n",
       "    'adelaide': 'a-form',\n",
       "    'adeland': 'a-form',\n",
       "    'adelavägen': 'a-form',\n",
       "    'adelback': 'a-form',\n",
       "    'adelbjer': 'a-form',\n",
       "    'adelborg': 'a-form',\n",
       "    'adelborgsvägen': 'a-form',\n",
       "    'adelbrand': 'a-form',\n",
       "    'adelbrant': 'a-form',\n",
       "    'adelbratt': 'a-form',\n",
       "    'adelby': 'a-form',\n",
       "    'adelbäck': 'a-form',\n",
       "    'adeldal': 'a-form',\n",
       "    'adele': 'a-form',\n",
       "    'adelfalk': 'a-form',\n",
       "    'adelgatan': 'a-form',\n",
       "    'adelgren': 'a-form',\n",
       "    'adelgård': 'a-form',\n",
       "    'adelhag': 'a-form',\n",
       "    'adelhammar': 'a-form',\n",
       "    'adelhed': 'a-form',\n",
       "    'adelheid': 'a-form',\n",
       "    'adelia': 'a-form',\n",
       "    'adelin': 'a-form',\n",
       "    'adelina': 'a-form',\n",
       "    'adelind': 'a-form',\n",
       "    'adeline': 'a-form',\n",
       "    'adelius': 'a-form',\n",
       "    'adeljung': 'a-form',\n",
       "    'adell': 'a-form',\n",
       "    'adelman': 'a-form',\n",
       "    'adelmar': 'a-form',\n",
       "    'adelmyr': 'a-form',\n",
       "    'adeln': 'a-form',\n",
       "    'adelns': 'a-form',\n",
       "    'adelros': 'a-form',\n",
       "    'adelrydh': 'a-form',\n",
       "    'adelsberg': 'a-form',\n",
       "    'adelsberger': 'a-form',\n",
       "    'adelsbergsvägen': 'a-form',\n",
       "    'adelsdam': 'a-form',\n",
       "    'adelsdottern': 'a-form',\n",
       "    'adelsfamilj': 'a-form',\n",
       "    'adelsgatan': 'a-form',\n",
       "    'adelsgård': 'a-form',\n",
       "    'adelsjö': 'a-form',\n",
       "    'adelskalendern': 'a-form',\n",
       "    'adelskap': 'a-form',\n",
       "    'adelskapet': 'a-form',\n",
       "    'adelskogh': 'a-form',\n",
       "    'adelsköld': 'a-form',\n",
       "    'adelsköldsgatan': 'a-form',\n",
       "    'adelsman': 'a-form',\n",
       "    'adelsmannen': 'a-form',\n",
       "    'adelsmannens': 'a-form',\n",
       "    'adelsmans': 'a-form',\n",
       "    'adelsmark': 'a-form',\n",
       "    'adelsmän': 'a-form',\n",
       "    'adelsmännen': 'a-form',\n",
       "    'adelsmärke': 'a-form',\n",
       "    'adelsnäs': 'a-form',\n",
       "    'adelsnäsvägen': 'a-form',\n",
       "    'adelsohn': 'a-form',\n",
       "    'adelson': 'a-form',\n",
       "    'adelsson': 'a-form',\n",
       "    'adelstam': 'a-form',\n",
       "    'adelsten': 'a-form',\n",
       "    'adelstitel': 'a-form',\n",
       "    'adelstokige': 'a-form',\n",
       "    'adelstorpsvägen': 'a-form',\n",
       "    'adelstrand': 'a-form',\n",
       "    'adelståhl': 'a-form',\n",
       "    'adelstål': 'a-form',\n",
       "    'adelsund': 'a-form',\n",
       "    'adelsvälde': 'a-form',\n",
       "    'adelsvärd': 'a-form',\n",
       "    'adelswärd': 'a-form',\n",
       "    'adelswärdsgatan': 'a-form',\n",
       "    'adelswärdsvägen': 'a-form',\n",
       "    'adelsö': 'a-form',\n",
       "    'adelsögatan': 'a-form',\n",
       "    'adelé': 'a-form',\n",
       "    'adelöf': 'a-form',\n",
       "    'adelöv': 'a-form',\n",
       "    'adelövägen': 'a-form',\n",
       "    'adelöw': 'a-form',\n",
       "    'adem': 'a-form',\n",
       "    'ademaj': 'a-form',\n",
       "    'ademan': 'a-form',\n",
       "    'ademar': 'a-form',\n",
       "    'ademark': 'a-form',\n",
       "    'ademi': 'a-form',\n",
       "    'ademyr': 'a-form',\n",
       "    'aden': 'a-form',\n",
       "    'adenauer': 'a-form',\n",
       "    'adenberg': 'a-form',\n",
       "    'adenborg': 'a-form',\n",
       "    'adenbrandt': 'a-form',\n",
       "    'adenbrant': 'a-form',\n",
       "    'adenbring': 'a-form',\n",
       "    'adenby': 'a-form',\n",
       "    'adenbäck': 'a-form',\n",
       "    'adenfalk': 'a-form',\n",
       "    'adenfelt': 'a-form',\n",
       "    'adenfors': 'a-form',\n",
       "    'adengård': 'a-form',\n",
       "    'adenholm': 'a-form',\n",
       "    'adenius': 'a-form',\n",
       "    'adenkrans': 'a-form',\n",
       "    'adenkrantz': 'a-form',\n",
       "    'adenling': 'a-form',\n",
       "    'adenlöf': 'a-form',\n",
       "    'adenmark': 'a-form',\n",
       "    'adensjö': 'a-form',\n",
       "    'adenskog': 'a-form',\n",
       "    'adenstam': 'a-form',\n",
       "    'adenstedt': 'a-form',\n",
       "    'adenvall': 'a-form',\n",
       "    'adenwall': 'a-form',\n",
       "    'adenäs': 'a-form',\n",
       "    'adenås': 'a-form',\n",
       "    'adept': 'a-form',\n",
       "    'adepter': 'a-form',\n",
       "    'ader': 'a-form',\n",
       "    'aderby': 'a-form',\n",
       "    'aderfelt': 'a-form',\n",
       "    'aderfors': 'a-form',\n",
       "    'aderheim': 'a-form',\n",
       "    'aderklint': 'a-form',\n",
       "    'aderlind': 'a-form',\n",
       "    'aderling': 'a-form',\n",
       "    'aderlund': 'a-form',\n",
       "    'adermalm': 'a-form',\n",
       "    'aderman': 'a-form',\n",
       "    'adermark': 'a-form',\n",
       "    'aderot': 'a-form',\n",
       "    'aderoth': 'a-form',\n",
       "    'adersjö': 'a-form',\n",
       "    'aderskog': 'a-form',\n",
       "    'aderstedt': 'a-form',\n",
       "    'adersten': 'a-form',\n",
       "    'aderstål': 'a-form',\n",
       "    'aderth': 'a-form',\n",
       "    'aderton': 'a-form',\n",
       "    ...}}),\n",
       " (('models/DeepPhon/winhome/Downloads/DeepPhon_to_send/best_model.pt',),\n",
       "  {'accuracy': 0.0,\n",
       "   'output_dict': {'a': 'a-form',\n",
       "    'a-aktier': 'a-form',\n",
       "    'a-banan': 'a-form',\n",
       "    'a-ekonomi': 'a-form',\n",
       "    'a-et': 'a-form',\n",
       "    'a-final': 'a-form',\n",
       "    'a-finalen': 'a-form',\n",
       "    'a-flyg': 'a-form',\n",
       "    'a-form': 'a-form',\n",
       "    'a-gruppen': 'a-form',\n",
       "    'a-juniorer': 'a-form',\n",
       "    'a-juniorerna': 'a-form',\n",
       "    'a-juniorlaget': 'a-form',\n",
       "    'a-kamper': 'a-form',\n",
       "    'a-kassa': 'a-form',\n",
       "    'a-kassan': 'a-form',\n",
       "    'a-kassor': 'a-form',\n",
       "    'a-kassorna': 'a-form',\n",
       "    'a-lag': 'a-form',\n",
       "    'a-lagare': 'a-form',\n",
       "    'a-lagarna': 'a-form',\n",
       "    'a-laget': 'a-form',\n",
       "    'a-lagets': 'a-form',\n",
       "    'a-lagsjuniorerna': 'a-form',\n",
       "    'a-lagspelare': 'a-form',\n",
       "    'a-lagsspelare': 'a-form',\n",
       "    'a-landskamper': 'a-form',\n",
       "    'a-landslag': 'a-form',\n",
       "    'a-landslaget': 'a-form',\n",
       "    'a-listan': 'a-form',\n",
       "    'a-ljud': 'a-form',\n",
       "    'a-ljudet': 'a-form',\n",
       "    'a-n': 'a-form',\n",
       "    'a-nummer': 'a-form',\n",
       "    'a-pojke': 'a-form',\n",
       "    'a-pressen': 'a-form',\n",
       "    'a-pressens': 'a-form',\n",
       "    'a-presskoncernens': 'a-form',\n",
       "    'a-presstidningar': 'a-form',\n",
       "    'a-presstidningarna': 'a-form',\n",
       "    'a-provet': 'a-form',\n",
       "    'a-trupp': 'a-form',\n",
       "    'a-truppen': 'a-form',\n",
       "    'a-tur': 'a-form',\n",
       "    'a-vitamin': 'a-form',\n",
       "    'a-vitaminliknande': 'a-form',\n",
       "    'a:son': 'a-form',\n",
       "    'a_a': 'a-form',\n",
       "    'a_b_c_gatan': 'a-form',\n",
       "    'a_bergmans_väg': 'a-form',\n",
       "    'a_c_lindblads_gata': 'a-form',\n",
       "    'a_e_holmbergs_gata': 'a-form',\n",
       "    'a_f_håkanssons_väg': 'a-form',\n",
       "    'a_odhners_gata': 'a-form',\n",
       "    'a_p_sjöbergs_väg': 'a-form',\n",
       "    'aabel': 'a-form',\n",
       "    'aaben': 'a-form',\n",
       "    'aaby': 'a-form',\n",
       "    'aadde': 'a-form',\n",
       "    'aadel': 'a-form',\n",
       "    'aadland': 'a-form',\n",
       "    'aadli': 'a-form',\n",
       "    'aadu': 'a-form',\n",
       "    'aadén': 'a-form',\n",
       "    'aagaard': 'a-form',\n",
       "    'aage': 'a-form',\n",
       "    'aagesen': 'a-form',\n",
       "    'aagesson': 'a-form',\n",
       "    'aagot': 'a-form',\n",
       "    'aagots': 'a-form',\n",
       "    'aahlborg': 'a-form',\n",
       "    'aaker': 'a-form',\n",
       "    'aakerholm': 'a-form',\n",
       "    'aakre': 'a-form',\n",
       "    'aalbers': 'a-form',\n",
       "    'aalborg': 'a-form',\n",
       "    'aalerud': 'a-form',\n",
       "    'aall': 'a-form',\n",
       "    'aalstad': 'a-form',\n",
       "    'aalsö': 'a-form',\n",
       "    'aalto': 'a-form',\n",
       "    'aalto-vasen': 'a-form',\n",
       "    'aaltonen': 'a-form',\n",
       "    'aalvik': 'a-form',\n",
       "    'aaman': 'a-form',\n",
       "    'aamisepp': 'a-form',\n",
       "    'aamlid': 'a-form',\n",
       "    'aamodt': 'a-form',\n",
       "    'aandahl': 'a-form',\n",
       "    'aandstad': 'a-form',\n",
       "    'aanerud': 'a-form',\n",
       "    'aanesen': 'a-form',\n",
       "    'aanstad': 'a-form',\n",
       "    'aapo': 'a-form',\n",
       "    'aardal': 'a-form',\n",
       "    'aare': 'a-form',\n",
       "    'aarea': 'a-form',\n",
       "    'aarenstrup': 'a-form',\n",
       "    'aarflot': 'a-form',\n",
       "    'aarholdt': 'a-form',\n",
       "    'aarhus': 'a-form',\n",
       "    'aarna': 'a-form',\n",
       "    'aarne': 'a-form',\n",
       "    'aarni': 'a-form',\n",
       "    'aarnio': 'a-form',\n",
       "    'aarno': 'a-form',\n",
       "    'aarnseth': 'a-form',\n",
       "    'aaro': 'a-form',\n",
       "    'aaron': 'a-form',\n",
       "    'aarons': 'a-form',\n",
       "    'aarre': 'a-form',\n",
       "    'aarseth': 'a-form',\n",
       "    'aarskog': 'a-form',\n",
       "    'aarsrud': 'a-form',\n",
       "    'aarstad': 'a-form',\n",
       "    'aarto': 'a-form',\n",
       "    'aartola': 'a-form',\n",
       "    'aarvidsson': 'a-form',\n",
       "    'aarås': 'a-form',\n",
       "    'aaröe': 'a-form',\n",
       "    'aas': 'a-form',\n",
       "    'aasa': 'a-form',\n",
       "    'aasberg': 'a-form',\n",
       "    'aase': 'a-form',\n",
       "    'aasen': 'a-form',\n",
       "    'aasgaard': 'a-form',\n",
       "    'aasgård': 'a-form',\n",
       "    'aasheim': 'a-form',\n",
       "    'aasland': 'a-form',\n",
       "    'aaslund': 'a-form',\n",
       "    'aasma': 'a-form',\n",
       "    'aasmundsen': 'a-form',\n",
       "    'aastradsen': 'a-form',\n",
       "    'aastrup': 'a-form',\n",
       "    'aate': 'a-form',\n",
       "    'aatos': 'a-form',\n",
       "    'aatto': 'a-form',\n",
       "    'aava': 'a-form',\n",
       "    'aavik': 'a-form',\n",
       "    'ab': 'a-form',\n",
       "    'abadi': 'a-form',\n",
       "    'abarca': 'a-form',\n",
       "    'abassi': 'a-form',\n",
       "    'abba': 'a-form',\n",
       "    'abbas': 'a-form',\n",
       "    'abbasi': 'a-form',\n",
       "    'abbassi': 'a-form',\n",
       "    'abbe': 'a-form',\n",
       "    'abbedissa': 'a-form',\n",
       "    'abbedissan': 'a-form',\n",
       "    'abbedissans': 'a-form',\n",
       "    'abbedissavägen': 'a-form',\n",
       "    'abbedissgatan': 'a-form',\n",
       "    'abbefalk': 'a-form',\n",
       "    'abbefors': 'a-form',\n",
       "    'abbegren': 'a-form',\n",
       "    'abbegård': 'a-form',\n",
       "    'abbekås': 'a-form',\n",
       "    'abbekåsgatan': 'a-form',\n",
       "    'abbeling': 'a-form',\n",
       "    'abbemalm': 'a-form',\n",
       "    'abbemark': 'a-form',\n",
       "    'abben': 'a-form',\n",
       "    'abberud': 'a-form',\n",
       "    'abberyd': 'a-form',\n",
       "    'abbesjö': 'a-form',\n",
       "    'abbestam': 'a-form',\n",
       "    'abbesten': 'a-form',\n",
       "    'abbetoft': 'a-form',\n",
       "    'abbevik': 'a-form',\n",
       "    'abbhagen': 'a-form',\n",
       "    'abbhammar': 'a-form',\n",
       "    'abbhed': 'a-form',\n",
       "    'abbing': 'a-form',\n",
       "    'abbor': 'a-form',\n",
       "    'abborrar': 'a-form',\n",
       "    'abborrarna': 'a-form',\n",
       "    'abborrart': 'a-form',\n",
       "    'abborrartad': 'a-form',\n",
       "    'abborre': 'a-form',\n",
       "    'abborrebergsvägen': 'a-form',\n",
       "    'abborregatan': 'a-form',\n",
       "    'abborren': 'a-form',\n",
       "    'abborrestigen': 'a-form',\n",
       "    'abborrevägen': 'a-form',\n",
       "    'abborrfisk': 'a-form',\n",
       "    'abborrfiske': 'a-form',\n",
       "    'abborrgatan': 'a-form',\n",
       "    'abborrgrund': 'a-form',\n",
       "    'abborrgränd': 'a-form',\n",
       "    'abborrkroken': 'a-form',\n",
       "    'abborrmunnen': 'a-form',\n",
       "    'abborrpinne': 'a-form',\n",
       "    'abborrstigen': 'a-form',\n",
       "    'abborrtjärnsvägen': 'a-form',\n",
       "    'abborrtorpsvägen': 'a-form',\n",
       "    'abborrträsk': 'a-form',\n",
       "    'abborrvägen': 'a-form',\n",
       "    'abbot': 'a-form',\n",
       "    'abboten': 'a-form',\n",
       "    'abbotens': 'a-form',\n",
       "    'abbotens_väg': 'a-form',\n",
       "    'abbotsdöme': 'a-form',\n",
       "    'abbotsgatan': 'a-form',\n",
       "    'abbotskap': 'a-form',\n",
       "    'abbotvägen': 'a-form',\n",
       "    'abboud': 'a-form',\n",
       "    'abbreviation': 'a-form',\n",
       "    'abbreviatur': 'a-form',\n",
       "    'abbreviera': 'a-form',\n",
       "    'abbreviering': 'a-form',\n",
       "    'abbås': 'a-form',\n",
       "    'abbé': 'a-form',\n",
       "    'abc': 'a-form',\n",
       "    'abc-bok': 'a-form',\n",
       "    'abc-boken': 'a-form',\n",
       "    'abc-nytt': 'a-form',\n",
       "    'abd': 'a-form',\n",
       "    'abda': 'a-form',\n",
       "    'abdalla': 'a-form',\n",
       "    'abdallah': 'a-form',\n",
       "    'abdel': 'a-form',\n",
       "    'abdelahad': 'a-form',\n",
       "    'abdelaziz': 'a-form',\n",
       "    'abdelkader': 'a-form',\n",
       "    'abdellah': 'a-form',\n",
       "    'abdellatif': 'a-form',\n",
       "    'abderit': 'a-form',\n",
       "    'abderitisk': 'a-form',\n",
       "    'abderrahmane': 'a-form',\n",
       "    'abdeslam': 'a-form',\n",
       "    'abdi': 'a-form',\n",
       "    'abdikarim': 'a-form',\n",
       "    'abdikation': 'a-form',\n",
       "    'abdikationsakt': 'a-form',\n",
       "    'abdikera': 'a-form',\n",
       "    'abdikerade': 'a-form',\n",
       "    'abdikerar': 'a-form',\n",
       "    'abdikerat': 'a-form',\n",
       "    'abdikering': 'a-form',\n",
       "    'abdillahi': 'a-form',\n",
       "    'abdirahman': 'a-form',\n",
       "    'abdirizak': 'a-form',\n",
       "    'abdo': 'a-form',\n",
       "    'abdol': 'a-form',\n",
       "    'abdolhossein': 'a-form',\n",
       "    'abdollah': 'a-form',\n",
       "    'abdollahi': 'a-form',\n",
       "    'abdolreza': 'a-form',\n",
       "    'abdomen': 'a-form',\n",
       "    'abdominala': 'a-form',\n",
       "    'abdon': 'a-form',\n",
       "    'abdu': 'a-form',\n",
       "    'abduktiv': 'a-form',\n",
       "    'abdul': 'a-form',\n",
       "    'abdulah': 'a-form',\n",
       "    'abdulahad': 'a-form',\n",
       "    'abdulaziz': 'a-form',\n",
       "    'abdulhadi': 'a-form',\n",
       "    'abdulhamid': 'a-form',\n",
       "    'abdulkader': 'a-form',\n",
       "    'abdulkadir': 'a-form',\n",
       "    'abdulkarim': 'a-form',\n",
       "    'abdulkerim': 'a-form',\n",
       "    'abdulla': 'a-form',\n",
       "    'abdullah': 'a-form',\n",
       "    'abdullahad': 'a-form',\n",
       "    'abdullahi': 'a-form',\n",
       "    'abdulle': 'a-form',\n",
       "    'abdulmasih': 'a-form',\n",
       "    'abdulmesih': 'a-form',\n",
       "    'abdulrahman': 'a-form',\n",
       "    'abdulsalam': 'a-form',\n",
       "    'abdurahman': 'a-form',\n",
       "    'abeba': 'a-form',\n",
       "    'abebe': 'a-form',\n",
       "    'abed': 'a-form',\n",
       "    'abedal': 'a-form',\n",
       "    'abedi': 'a-form',\n",
       "    'abedian': 'a-form',\n",
       "    'abedin': 'a-form',\n",
       "    'abefelt': 'a-form',\n",
       "    'abefors': 'a-form',\n",
       "    'abel': 'a-form',\n",
       "    'abel_beckers_gata': 'a-form',\n",
       "    'abeleen': 'a-form',\n",
       "    'abelin': 'a-form',\n",
       "    'abeling': 'a-form',\n",
       "    'abelius': 'a-form',\n",
       "    'abelli': 'a-form',\n",
       "    'abeln': 'a-form',\n",
       "    'abelson': 'a-form',\n",
       "    'abelsson': 'a-form',\n",
       "    'abelt': 'a-form',\n",
       "    'abeman': 'a-form',\n",
       "    'aben': 'a-form',\n",
       "    'abenius': 'a-form',\n",
       "    'aber': 'a-form',\n",
       "    'abergavägen': 'a-form',\n",
       "    'aberger': 'a-form',\n",
       "    'aberin': 'a-form',\n",
       "    'aberius': 'a-form',\n",
       "    'aberration': 'a-form',\n",
       "    'abersten': 'a-form',\n",
       "    'aberén': 'a-form',\n",
       "    'abessinsk': 'a-form',\n",
       "    'abessinska': 'a-form',\n",
       "    'abi': 'a-form',\n",
       "    'abid': 'a-form',\n",
       "    'abidi': 'a-form',\n",
       "    'abilitet': 'a-form',\n",
       "    'abin': 'a-form',\n",
       "    'abir': 'a-form',\n",
       "    'abisko': 'a-form',\n",
       "    'abiskoområdet': 'a-form',\n",
       "    'abiskovägen': 'a-form',\n",
       "    'abjörnssons_väg': 'a-form',\n",
       "    'abjörnssonsvägen': 'a-form',\n",
       "    'ablahad': 'a-form',\n",
       "    'ablation': 'a-form',\n",
       "    'ablativ': 'a-form',\n",
       "    'ablativform': 'a-form',\n",
       "    'abler': 'a-form',\n",
       "    'abmorvägen': 'a-form',\n",
       "    'abnell': 'a-form',\n",
       "    'abner': 'a-form',\n",
       "    'abnorm': 'a-form',\n",
       "    'abnorma': 'a-form',\n",
       "    'abnormitet': 'a-form',\n",
       "    'abnormitetens': 'a-form',\n",
       "    'abnormiteter': 'a-form',\n",
       "    'abnormt': 'a-form',\n",
       "    'abnormtillstånd': 'a-form',\n",
       "    'abolfazl': 'a-form',\n",
       "    'abolghasem': 'a-form',\n",
       "    'abolins': 'a-form',\n",
       "    'abolition': 'a-form',\n",
       "    'abonius': 'a-form',\n",
       "    'abonnemang': 'a-form',\n",
       "    'abonnemangen': 'a-form',\n",
       "    'abonnemanget': 'a-form',\n",
       "    'abonnemangsavgiften': 'a-form',\n",
       "    'abonnemangsavtal': 'a-form',\n",
       "    'abonnemangsbyte': 'a-form',\n",
       "    'abonnemangserbjudande': 'a-form',\n",
       "    'abonnemangsfritt': 'a-form',\n",
       "    'abonnemangsfråga': 'a-form',\n",
       "    'abonnemangsfrågor': 'a-form',\n",
       "    'abonnemangskonserterna': 'a-form',\n",
       "    'abonnemangsnummer': 'a-form',\n",
       "    'abonnemangspris': 'a-form',\n",
       "    'abonnent': 'a-form',\n",
       "    'abonnenten': 'a-form',\n",
       "    'abonnenter': 'a-form',\n",
       "    'abonnenterna': 'a-form',\n",
       "    'abonnentskaran': 'a-form',\n",
       "    'abonnera': 'a-form',\n",
       "    'abonnerad': 'a-form',\n",
       "    'abonnerade': 'a-form',\n",
       "    'abonnerar': 'a-form',\n",
       "    'abonnerat': 'a-form',\n",
       "    'aboriginer': 'a-form',\n",
       "    'aboriginerna': 'a-form',\n",
       "    'aborrvägen': 'a-form',\n",
       "    'abort': 'a-form',\n",
       "    'aborten': 'a-form',\n",
       "    'aborter': 'a-form',\n",
       "    'abortera': 'a-form',\n",
       "    'aborterade': 'a-form',\n",
       "    'aborterna': 'a-form',\n",
       "    'abortframkallande': 'a-form',\n",
       "    'abortframkallare': 'a-form',\n",
       "    'abortfråga': 'a-form',\n",
       "    'abortfrågan': 'a-form',\n",
       "    'abortförbud': 'a-form',\n",
       "    'abortförebyggande': 'a-form',\n",
       "    'abortingreppet': 'a-form',\n",
       "    'abortiv': 'a-form',\n",
       "    'abortklinik': 'a-form',\n",
       "    'abortkliniker': 'a-form',\n",
       "    'abortlag': 'a-form',\n",
       "    'abortlagen': 'a-form',\n",
       "    'abortlagstiftning': 'a-form',\n",
       "    'abortlagstiftningen': 'a-form',\n",
       "    'abortmotståndare': 'a-form',\n",
       "    'abortmotståndarna': 'a-form',\n",
       "    'abortpiller': 'a-form',\n",
       "    'abortpillret': 'a-form',\n",
       "    'abortresa': 'a-form',\n",
       "    'aborträtten': 'a-form',\n",
       "    'abortrådgivning': 'a-form',\n",
       "    'abortsökande': 'a-form',\n",
       "    'abortör': 'a-form',\n",
       "    'abou': 'a-form',\n",
       "    'aboud': 'a-form',\n",
       "    'abradera': 'a-form',\n",
       "    'abradering': 'a-form',\n",
       "    'abraha': 'a-form',\n",
       "    'abraham': 'a-form',\n",
       "    'abraham_ahléns_väg': 'a-form',\n",
       "    'abraham_bäckgatan': 'a-form',\n",
       "    'abrahams': 'a-form',\n",
       "    'abrahamsberg': 'a-form',\n",
       "    'abrahamsbergsvägen': 'a-form',\n",
       "    'abrahamsbovägen': 'a-form',\n",
       "    'abrahamsen': 'a-form',\n",
       "    'abrahamson': 'a-form',\n",
       "    'abrahamsson': 'a-form',\n",
       "    'abrahamsvägen': 'a-form',\n",
       "    'abrahim': 'a-form',\n",
       "    'abrahmson': 'a-form',\n",
       "    'abrahmsson': 'a-form',\n",
       "    'abrahmsén': 'a-form',\n",
       "    'abrakadabra': 'a-form',\n",
       "    'abram': 'a-form',\n",
       "    'abramsgård': 'a-form',\n",
       "    'abramson': 'a-form',\n",
       "    'abramsson': 'a-form',\n",
       "    'abramsvägen': 'a-form',\n",
       "    'abrasion': 'a-form',\n",
       "    'abrasionsbrant': 'a-form',\n",
       "    'abrehet': 'a-form',\n",
       "    'abrell': 'a-form',\n",
       "    'abresparr': 'a-form',\n",
       "    'abreu': 'a-form',\n",
       "    'abring': 'a-form',\n",
       "    'abrupt': 'a-form',\n",
       "    'abrupta': 'a-form',\n",
       "    'absalons_väg': 'a-form',\n",
       "    'absens': 'a-form',\n",
       "    'abshir': 'a-form',\n",
       "    'absid': 'a-form',\n",
       "    'absidgatan': 'a-form',\n",
       "    'absidkyrka': 'a-form',\n",
       "    'absint': 'a-form',\n",
       "    'absintflaska': 'a-form',\n",
       "    'abskissa': 'a-form',\n",
       "    'absolut': 'a-form',\n",
       "    'absoluta': 'a-form',\n",
       "    'absolute': 'a-form',\n",
       "    'absolutflaskan': 'a-form',\n",
       "    'absolution': 'a-form',\n",
       "    'absolutism': 'a-form',\n",
       "    'absolutist': 'a-form',\n",
       "    'absolutisterna': 'a-form',\n",
       "    'absolutistisk': 'a-form',\n",
       "    'absolvera': 'a-form',\n",
       "    'absolvering': 'a-form',\n",
       "    'absorbera': 'a-form',\n",
       "    'absorberad': 'a-form',\n",
       "    'absorberade': 'a-form',\n",
       "    'absorberar': 'a-form',\n",
       "    'absorberas': 'a-form',\n",
       "    'absorberat': 'a-form',\n",
       "    'absorberats': 'a-form',\n",
       "    'absorption': 'a-form',\n",
       "    'absorptionen': 'a-form',\n",
       "    'absorptionsband': 'a-form',\n",
       "    'absorptionsförmåga': 'a-form',\n",
       "    'abstinens': 'a-form',\n",
       "    'abstinensbesvär': 'a-form',\n",
       "    'abstinenseffekter': 'a-form',\n",
       "    'abstract': 'a-form',\n",
       "    'abstrahera': 'a-form',\n",
       "    'abstraherande': 'a-form',\n",
       "    'abstrahering': 'a-form',\n",
       "    'abstrakt': 'a-form',\n",
       "    'abstrakta': 'a-form',\n",
       "    'abstraktion': 'a-form',\n",
       "    'abstraktionen': 'a-form',\n",
       "    'abstraktionens': 'a-form',\n",
       "    'abstraktioner': 'a-form',\n",
       "    'abstraktionsförmåga': 'a-form',\n",
       "    'abstraktionsnivå': 'a-form',\n",
       "    'abstraktionssynen': 'a-form',\n",
       "    'abstrus': 'a-form',\n",
       "    'absurd': 'a-form',\n",
       "    'absurda': 'a-form',\n",
       "    'absurdhet': 'a-form',\n",
       "    'absurdism': 'a-form',\n",
       "    'absurdismen': 'a-form',\n",
       "    'absurdist': 'a-form',\n",
       "    'absurdisterna': 'a-form',\n",
       "    'absurdistisk': 'a-form',\n",
       "    'absurdistiska': 'a-form',\n",
       "    'absurditet': 'a-form',\n",
       "    'absurditetens': 'a-form',\n",
       "    'absurditeter': 'a-form',\n",
       "    'absurdum': 'a-form',\n",
       "    'absurt': 'a-form',\n",
       "    'abtin': 'a-form',\n",
       "    'abu': 'a-form',\n",
       "    'abul': 'a-form',\n",
       "    'abundans': 'a-form',\n",
       "    'abundant': 'a-form',\n",
       "    'abus': 'a-form',\n",
       "    'abwin': 'a-form',\n",
       "    'abygatan': 'a-form',\n",
       "    'abyssal': 'a-form',\n",
       "    'abäcksvägen': 'a-form',\n",
       "    'acar': 'a-form',\n",
       "    'accedera': 'a-form',\n",
       "    'acceleration': 'a-form',\n",
       "    'accelerationen': 'a-form',\n",
       "    'accelerationssträcka': 'a-form',\n",
       "    'accelerator': 'a-form',\n",
       "    'acceleratorer': 'a-form',\n",
       "    'acceleratorerna': 'a-form',\n",
       "    'acceleratorernas': 'a-form',\n",
       "    'acceleratorn': 'a-form',\n",
       "    'accelerera': 'a-form',\n",
       "    'accelererade': 'a-form',\n",
       "    'accelererades': 'a-form',\n",
       "    'accelererande': 'a-form',\n",
       "    'accelererar': 'a-form',\n",
       "    'accelereras': 'a-form',\n",
       "    'accelererat': 'a-form',\n",
       "    'accelerering': 'a-form',\n",
       "    'accent': 'a-form',\n",
       "    'accenten': 'a-form',\n",
       "    'accenter': 'a-form',\n",
       "    'accentuera': 'a-form',\n",
       "    'accentuerad': 'a-form',\n",
       "    'accentuerade': 'a-form',\n",
       "    'accentuerades': 'a-form',\n",
       "    'accentuerar': 'a-form',\n",
       "    'accentueras': 'a-form',\n",
       "    'accentuerat': 'a-form',\n",
       "    'accentuerats': 'a-form',\n",
       "    'accentuering': 'a-form',\n",
       "    'accept': 'a-form',\n",
       "    'acceptabel': 'a-form',\n",
       "    'acceptabelt': 'a-form',\n",
       "    'acceptabla': 'a-form',\n",
       "    'acceptans': 'a-form',\n",
       "    'acceptansen': 'a-form',\n",
       "    'accepten': 'a-form',\n",
       "    'acceptera': 'a-form',\n",
       "    'accepterad': 'a-form',\n",
       "    'accepterade': 'a-form',\n",
       "    'accepterades': 'a-form',\n",
       "    'accepterande': 'a-form',\n",
       "    'accepterandet': 'a-form',\n",
       "    'accepterar': 'a-form',\n",
       "    'accepteras': 'a-form',\n",
       "    'accepterat': 'a-form',\n",
       "    'accepterats': 'a-form',\n",
       "    'access': 'a-form',\n",
       "    'accessoar': 'a-form',\n",
       "    'accessoarer': 'a-form',\n",
       "    'accesstjänster': 'a-form',\n",
       "    'accis': 'a-form',\n",
       "    'accisfri': 'a-form',\n",
       "    'accismedel': 'a-form',\n",
       "    'accispliktig': 'a-form',\n",
       "    'acetat': 'a-form',\n",
       "    'acetatsilke': 'a-form',\n",
       "    'aceton': 'a-form',\n",
       "    'acetylen': 'a-form',\n",
       "    'acetylengas': 'a-form',\n",
       "    'acetylenlampa': 'a-form',\n",
       "    'acetylsalicylsyra': 'a-form',\n",
       "    'acevedo': 'a-form',\n",
       "    'achilleas': 'a-form',\n",
       "    'achim': 'a-form',\n",
       "    'achmed': 'a-form',\n",
       "    'achour': 'a-form',\n",
       "    'achrén': 'a-form',\n",
       "    'achteenberg': 'a-form',\n",
       "    'achtenberg': 'a-form',\n",
       "    'achtman': 'a-form',\n",
       "    'aciditet': 'a-form',\n",
       "    'ack': 'a-form',\n",
       "    'ackalin': 'a-form',\n",
       "    'ackberger': 'a-form',\n",
       "    'acke': 'a-form',\n",
       "    'ackeberg': 'a-form',\n",
       "    'ackebjer': 'a-form',\n",
       "    'ackebo': 'a-form',\n",
       "    'ackeborn': 'a-form',\n",
       "    'ackebrink': 'a-form',\n",
       "    'ackeby': 'a-form',\n",
       "    'ackedahl': 'a-form',\n",
       "    'ackefelt': 'a-form',\n",
       "    'ackefjord': 'a-form',\n",
       "    'ackefors': 'a-form',\n",
       "    'ackegård': 'a-form',\n",
       "    'ackehed': 'a-form',\n",
       "    'ackelid': 'a-form',\n",
       "    'ackelin': 'a-form',\n",
       "    'ackelind': 'a-form',\n",
       "    'ackell': 'a-form',\n",
       "    'ackelman': 'a-form',\n",
       "    'ackelöv': 'a-form',\n",
       "    'ackemalm': 'a-form',\n",
       "    'ackemar': 'a-form',\n",
       "    'ackemark': 'a-form',\n",
       "    'ackemo': 'a-form',\n",
       "    'ackenäs': 'a-form',\n",
       "    'ackerberg': 'a-form',\n",
       "    'ackerblad': 'a-form',\n",
       "    'ackerborg': 'a-form',\n",
       "    'ackerby': 'a-form',\n",
       "    'ackerdahl': 'a-form',\n",
       "    'ackerdal': 'a-form',\n",
       "    'ackered': 'a-form',\n",
       "    'ackerfeldt': 'a-form',\n",
       "    'ackerfors': 'a-form',\n",
       "    'ackerhans': 'a-form',\n",
       "    'ackerholm': 'a-form',\n",
       "    'ackerholt': 'a-form',\n",
       "    'ackerhus': 'a-form',\n",
       "    'ackerman': 'a-form',\n",
       "    'ackermann': 'a-form',\n",
       "    'ackermark': 'a-form',\n",
       "    'ackerot': 'a-form',\n",
       "    'ackers': 'a-form',\n",
       "    'ackerstedt': 'a-form',\n",
       "    'ackerstierna': 'a-form',\n",
       "    'ackerstig': 'a-form',\n",
       "    'ackerstrand': 'a-form',\n",
       "    'ackerud': 'a-form',\n",
       "    'ackerup': 'a-form',\n",
       "    'ackeryd': 'a-form',\n",
       "    'ackesjö': 'a-form',\n",
       "    'ackeskog': 'a-form',\n",
       "    'ackesten': 'a-form',\n",
       "    'ackestig': 'a-form',\n",
       "    'ackeström': 'a-form',\n",
       "    'ackeståhl': 'a-form',\n",
       "    'ackestål': 'a-form',\n",
       "    'acketoft': 'a-form',\n",
       "    'ackevall': 'a-form',\n",
       "    'ackevik': 'a-form',\n",
       "    'ackewald': 'a-form',\n",
       "    'ackfeldt': 'a-form',\n",
       "    'ackfjäll': 'a-form',\n",
       "    'ackfjärd': 'a-form',\n",
       "    'ackhammar': 'a-form',\n",
       "    'ackheden': 'a-form',\n",
       "    'acki': 'a-form',\n",
       "    'acking': 'a-form',\n",
       "    'ackinger': 'a-form',\n",
       "    'ackja': 'a-form',\n",
       "    'ackjan': 'a-form',\n",
       "    'ackjefärd': 'a-form',\n",
       "    'acklamation': 'a-form',\n",
       "    'acklamationsval': 'a-form',\n",
       "    'ackland': 'a-form',\n",
       "    'acklid': 'a-form',\n",
       "    'acklimatisera': 'a-form',\n",
       "    'acklimatiserat': 'a-form',\n",
       "    'acklimatisering': 'a-form',\n",
       "    'acklin': 'a-form',\n",
       "    'ackling': 'a-form',\n",
       "    'acklingavägen': 'a-form',\n",
       "    'acklund': 'a-form',\n",
       "    'acklén': 'a-form',\n",
       "    'ackman': 'a-form',\n",
       "    'ackmark': 'a-form',\n",
       "    'ackommodation': 'a-form',\n",
       "    'ackommodationsförmåga': 'a-form',\n",
       "    'ackommodera': 'a-form',\n",
       "    'ackommodering': 'a-form',\n",
       "    'ackompanjatris': 'a-form',\n",
       "    'ackompanjatör': 'a-form',\n",
       "    'ackompanjemang': 'a-form',\n",
       "    'ackompanjemanget': 'a-form',\n",
       "    'ackompanjemangsinstrument': 'a-form',\n",
       "    'ackompanjera': 'a-form',\n",
       "    'ackompanjerad': 'a-form',\n",
       "    'ackompanjerade': 'a-form',\n",
       "    'ackompanjerades': 'a-form',\n",
       "    'ackompanjerande': 'a-form',\n",
       "    'ackompanjerar': 'a-form',\n",
       "    'ackompanjeras': 'a-form',\n",
       "    'ackompanjerat': 'a-form',\n",
       "    'ackompanjering': 'a-form',\n",
       "    'ackonius': 'a-form',\n",
       "    'ackord': 'a-form',\n",
       "    'ackordcentralen': 'a-form',\n",
       "    'ackorden': 'a-form',\n",
       "    'ackordet': 'a-form',\n",
       "    'ackordföljd': 'a-form',\n",
       "    'ackordisk': 'a-form',\n",
       "    'ackordsarbete': 'a-form',\n",
       "    'ackordsberäkn.': 'a-form',\n",
       "    'ackordsberäknare': 'a-form',\n",
       "    'ackordscentralen': 'a-form',\n",
       "    'ackordscentralens': 'a-form',\n",
       "    'ackordsförhandling': 'a-form',\n",
       "    'ackordshets': 'a-form',\n",
       "    'ackordsjobb': 'a-form',\n",
       "    'ackordsuppgörelse': 'a-form',\n",
       "    'ackreditera': 'a-form',\n",
       "    'ackrediterad': 'a-form',\n",
       "    'ackrediterade': 'a-form',\n",
       "    'ackreditering': 'a-form',\n",
       "    'ackrell': 'a-form',\n",
       "    'ackring': 'a-form',\n",
       "    'acktjärnsgatan': 'a-form',\n",
       "    'ackumulation': 'a-form',\n",
       "    'ackumulativ': 'a-form',\n",
       "    'ackumulatorer': 'a-form',\n",
       "    'ackumulera': 'a-form',\n",
       "    'ackumulerad': 'a-form',\n",
       "    'ackumulerade': 'a-form',\n",
       "    'ackumuleras': 'a-form',\n",
       "    'ackumulerat': 'a-form',\n",
       "    'ackurat': 'a-form',\n",
       "    'ackuratess': 'a-form',\n",
       "    'ackusativisk': 'a-form',\n",
       "    'ackuschörska': 'a-form',\n",
       "    'ackvirera': 'a-form',\n",
       "    'ackvirering': 'a-form',\n",
       "    'ackvis:r': 'a-form',\n",
       "    'ackvisition': 'a-form',\n",
       "    'ackvisitör': 'a-form',\n",
       "    'ackzell': 'a-form',\n",
       "    'ackzén': 'a-form',\n",
       "    'ackås': 'a-form',\n",
       "    'ackér': 'a-form',\n",
       "    'acne': 'a-form',\n",
       "    'aco': 'a-form',\n",
       "    'acosta': 'a-form',\n",
       "    'acryl': 'a-form',\n",
       "    'acs': 'a-form',\n",
       "    'action': 'a-form',\n",
       "    'actionfilm': 'a-form',\n",
       "    'actionfilmen': 'a-form',\n",
       "    'actionfilmer': 'a-form',\n",
       "    'actionhistoria': 'a-form',\n",
       "    'actionhjälten': 'a-form',\n",
       "    'actionkomedi': 'a-form',\n",
       "    'actionkomedier': 'a-form',\n",
       "    'actionscener': 'a-form',\n",
       "    'actionserie': 'a-form',\n",
       "    'actionsurf': 'a-form',\n",
       "    'acuna': 'a-form',\n",
       "    'ada': 'a-form',\n",
       "    'adagio': 'a-form',\n",
       "    'adak': 'a-form',\n",
       "    'adaktusson': 'a-form',\n",
       "    'adakvägen': 'a-form',\n",
       "    'adalbert': 'a-form',\n",
       "    'adalberth': 'a-form',\n",
       "    'adam': 'a-form',\n",
       "    'adama': 'a-form',\n",
       "    'adamczyk': 'a-form',\n",
       "    'adamek': 'a-form',\n",
       "    'adami': 'a-form',\n",
       "    'adamovic': 'a-form',\n",
       "    'adams': 'a-form',\n",
       "    'adams_väg': 'a-form',\n",
       "    'adamsdräkt': 'a-form',\n",
       "    'adamsen': 'a-form',\n",
       "    'adamsgatan': 'a-form',\n",
       "    'adamson': 'a-form',\n",
       "    'adamsson': 'a-form',\n",
       "    'adamstorpsvägen': 'a-form',\n",
       "    'adamsvägen': 'a-form',\n",
       "    'adamsäpple': 'a-form',\n",
       "    'adamsäpplet': 'a-form',\n",
       "    'adamzon': 'a-form',\n",
       "    'adan': 'a-form',\n",
       "    'adaptation': 'a-form',\n",
       "    'adapter': 'a-form',\n",
       "    'adaptera': 'a-form',\n",
       "    'adaptering': 'a-form',\n",
       "    'adaption': 'a-form',\n",
       "    'adaptiv': 'a-form',\n",
       "    'adaptiva': 'a-form',\n",
       "    'adar': 'a-form',\n",
       "    'adare': 'a-form',\n",
       "    'adauktusson': 'a-form',\n",
       "    'adawi': 'a-form',\n",
       "    'adb': 'a-form',\n",
       "    'adb-avtal': 'a-form',\n",
       "    'adb-chef': 'a-form',\n",
       "    'adb-enhet': 'a-form',\n",
       "    'adb-enheten': 'a-form',\n",
       "    'adb-enhetens': 'a-form',\n",
       "    'adb-funktionen': 'a-form',\n",
       "    'adb-funktionens': 'a-form',\n",
       "    'adb-gruppen': 'a-form',\n",
       "    'adb-kons.': 'a-form',\n",
       "    'adb-konsult': 'a-form',\n",
       "    'adb-kontoret': 'a-form',\n",
       "    'adb-kontorets': 'a-form',\n",
       "    'adb-man': 'a-form',\n",
       "    'adb-samordnarutbildning': 'a-form',\n",
       "    'adb-samordnarutbildningen': 'a-form',\n",
       "    'adb-system': 'a-form',\n",
       "    'adb-tekn.': 'a-form',\n",
       "    'adb-tekniker': 'a-form',\n",
       "    'adb-upptagningar': 'a-form',\n",
       "    'adberg': 'a-form',\n",
       "    'adbo': 'a-form',\n",
       "    'adborn': 'a-form',\n",
       "    'adbring': 'a-form',\n",
       "    'adbro': 'a-form',\n",
       "    'adbåge': 'a-form',\n",
       "    'addberger': 'a-form',\n",
       "    'addby': 'a-form',\n",
       "    'adde': 'a-form',\n",
       "    'addemark': 'a-form',\n",
       "    'addera': 'a-form',\n",
       "    'adderar': 'a-form',\n",
       "    'adderas': 'a-form',\n",
       "    'adderat': 'a-form',\n",
       "    'addering': 'a-form',\n",
       "    'addi': 'a-form',\n",
       "    'addie': 'a-form',\n",
       "    'addiktion': 'a-form',\n",
       "    'addin': 'a-form',\n",
       "    'adding': 'a-form',\n",
       "    'addison': 'a-form',\n",
       "    'addition': 'a-form',\n",
       "    'addukt': 'a-form',\n",
       "    'adduktion': 'a-form',\n",
       "    'addy': 'a-form',\n",
       "    'addén': 'a-form',\n",
       "    'ade': 'a-form',\n",
       "    'adebahr': 'a-form',\n",
       "    'adeberg': 'a-form',\n",
       "    'adebjörk': 'a-form',\n",
       "    'adebo': 'a-form',\n",
       "    'adeborg': 'a-form',\n",
       "    'adeborn': 'a-form',\n",
       "    'adebrant': 'a-form',\n",
       "    'adebratt': 'a-form',\n",
       "    'adebring': 'a-form',\n",
       "    'adebrink': 'a-form',\n",
       "    'adebro': 'a-form',\n",
       "    'adeby': 'a-form',\n",
       "    'adebäck': 'a-form',\n",
       "    'adebåge': 'a-form',\n",
       "    'adeen': 'a-form',\n",
       "    'adefalk': 'a-form',\n",
       "    'adefelt': 'a-form',\n",
       "    'adefjord': 'a-form',\n",
       "    'adefjärd': 'a-form',\n",
       "    'adefors': 'a-form',\n",
       "    'adegren': 'a-form',\n",
       "    'adegård': 'a-form',\n",
       "    'adehed': 'a-form',\n",
       "    'adeheimer': 'a-form',\n",
       "    'adeholm': 'a-form',\n",
       "    'adehorn': 'a-form',\n",
       "    'adehög': 'a-form',\n",
       "    'adeklint': 'a-form',\n",
       "    'adekvans': 'a-form',\n",
       "    'adekvat': 'a-form',\n",
       "    'adekvata': 'a-form',\n",
       "    'adel': 'a-form',\n",
       "    'adela': 'a-form',\n",
       "    'adelaide': 'a-form',\n",
       "    'adeland': 'a-form',\n",
       "    'adelavägen': 'a-form',\n",
       "    'adelback': 'a-form',\n",
       "    'adelbjer': 'a-form',\n",
       "    'adelborg': 'a-form',\n",
       "    'adelborgsvägen': 'a-form',\n",
       "    'adelbrand': 'a-form',\n",
       "    'adelbrant': 'a-form',\n",
       "    'adelbratt': 'a-form',\n",
       "    'adelby': 'a-form',\n",
       "    'adelbäck': 'a-form',\n",
       "    'adeldal': 'a-form',\n",
       "    'adele': 'a-form',\n",
       "    'adelfalk': 'a-form',\n",
       "    'adelgatan': 'a-form',\n",
       "    'adelgren': 'a-form',\n",
       "    'adelgård': 'a-form',\n",
       "    'adelhag': 'a-form',\n",
       "    'adelhammar': 'a-form',\n",
       "    'adelhed': 'a-form',\n",
       "    'adelheid': 'a-form',\n",
       "    'adelia': 'a-form',\n",
       "    'adelin': 'a-form',\n",
       "    'adelina': 'a-form',\n",
       "    'adelind': 'a-form',\n",
       "    'adeline': 'a-form',\n",
       "    'adelius': 'a-form',\n",
       "    'adeljung': 'a-form',\n",
       "    'adell': 'a-form',\n",
       "    'adelman': 'a-form',\n",
       "    'adelmar': 'a-form',\n",
       "    'adelmyr': 'a-form',\n",
       "    'adeln': 'a-form',\n",
       "    'adelns': 'a-form',\n",
       "    'adelros': 'a-form',\n",
       "    'adelrydh': 'a-form',\n",
       "    'adelsberg': 'a-form',\n",
       "    'adelsberger': 'a-form',\n",
       "    'adelsbergsvägen': 'a-form',\n",
       "    'adelsdam': 'a-form',\n",
       "    'adelsdottern': 'a-form',\n",
       "    'adelsfamilj': 'a-form',\n",
       "    'adelsgatan': 'a-form',\n",
       "    'adelsgård': 'a-form',\n",
       "    'adelsjö': 'a-form',\n",
       "    'adelskalendern': 'a-form',\n",
       "    'adelskap': 'a-form',\n",
       "    'adelskapet': 'a-form',\n",
       "    'adelskogh': 'a-form',\n",
       "    'adelsköld': 'a-form',\n",
       "    'adelsköldsgatan': 'a-form',\n",
       "    'adelsman': 'a-form',\n",
       "    'adelsmannen': 'a-form',\n",
       "    'adelsmannens': 'a-form',\n",
       "    'adelsmans': 'a-form',\n",
       "    'adelsmark': 'a-form',\n",
       "    'adelsmän': 'a-form',\n",
       "    'adelsmännen': 'a-form',\n",
       "    'adelsmärke': 'a-form',\n",
       "    'adelsnäs': 'a-form',\n",
       "    'adelsnäsvägen': 'a-form',\n",
       "    'adelsohn': 'a-form',\n",
       "    'adelson': 'a-form',\n",
       "    'adelsson': 'a-form',\n",
       "    'adelstam': 'a-form',\n",
       "    'adelsten': 'a-form',\n",
       "    'adelstitel': 'a-form',\n",
       "    'adelstokige': 'a-form',\n",
       "    'adelstorpsvägen': 'a-form',\n",
       "    'adelstrand': 'a-form',\n",
       "    'adelståhl': 'a-form',\n",
       "    'adelstål': 'a-form',\n",
       "    'adelsund': 'a-form',\n",
       "    'adelsvälde': 'a-form',\n",
       "    'adelsvärd': 'a-form',\n",
       "    'adelswärd': 'a-form',\n",
       "    'adelswärdsgatan': 'a-form',\n",
       "    'adelswärdsvägen': 'a-form',\n",
       "    'adelsö': 'a-form',\n",
       "    'adelsögatan': 'a-form',\n",
       "    'adelé': 'a-form',\n",
       "    'adelöf': 'a-form',\n",
       "    'adelöv': 'a-form',\n",
       "    'adelövägen': 'a-form',\n",
       "    'adelöw': 'a-form',\n",
       "    'adem': 'a-form',\n",
       "    'ademaj': 'a-form',\n",
       "    'ademan': 'a-form',\n",
       "    'ademar': 'a-form',\n",
       "    'ademark': 'a-form',\n",
       "    'ademi': 'a-form',\n",
       "    'ademyr': 'a-form',\n",
       "    'aden': 'a-form',\n",
       "    'adenauer': 'a-form',\n",
       "    'adenberg': 'a-form',\n",
       "    'adenborg': 'a-form',\n",
       "    'adenbrandt': 'a-form',\n",
       "    'adenbrant': 'a-form',\n",
       "    'adenbring': 'a-form',\n",
       "    'adenby': 'a-form',\n",
       "    'adenbäck': 'a-form',\n",
       "    'adenfalk': 'a-form',\n",
       "    'adenfelt': 'a-form',\n",
       "    'adenfors': 'a-form',\n",
       "    'adengård': 'a-form',\n",
       "    'adenholm': 'a-form',\n",
       "    'adenius': 'a-form',\n",
       "    'adenkrans': 'a-form',\n",
       "    'adenkrantz': 'a-form',\n",
       "    'adenling': 'a-form',\n",
       "    'adenlöf': 'a-form',\n",
       "    'adenmark': 'a-form',\n",
       "    'adensjö': 'a-form',\n",
       "    'adenskog': 'a-form',\n",
       "    'adenstam': 'a-form',\n",
       "    'adenstedt': 'a-form',\n",
       "    'adenvall': 'a-form',\n",
       "    'adenwall': 'a-form',\n",
       "    'adenäs': 'a-form',\n",
       "    'adenås': 'a-form',\n",
       "    'adept': 'a-form',\n",
       "    'adepter': 'a-form',\n",
       "    'ader': 'a-form',\n",
       "    'aderby': 'a-form',\n",
       "    'aderfelt': 'a-form',\n",
       "    'aderfors': 'a-form',\n",
       "    'aderheim': 'a-form',\n",
       "    'aderklint': 'a-form',\n",
       "    'aderlind': 'a-form',\n",
       "    'aderling': 'a-form',\n",
       "    'aderlund': 'a-form',\n",
       "    'adermalm': 'a-form',\n",
       "    'aderman': 'a-form',\n",
       "    'adermark': 'a-form',\n",
       "    'aderot': 'a-form',\n",
       "    'aderoth': 'a-form',\n",
       "    'adersjö': 'a-form',\n",
       "    'aderskog': 'a-form',\n",
       "    'aderstedt': 'a-form',\n",
       "    'adersten': 'a-form',\n",
       "    'aderstål': 'a-form',\n",
       "    'aderth': 'a-form',\n",
       "    'aderton': 'a-form',\n",
       "    ...}}),\n",
       " (('models/DeepPhon/winhome/Downloads/DeepPhon_to_send/model_step_40k.pt',),\n",
       "  {'accuracy': 0.0,\n",
       "   'output_dict': {'a': 'a-form',\n",
       "    'a-aktier': 'a-form',\n",
       "    'a-banan': 'a-form',\n",
       "    'a-ekonomi': 'a-form',\n",
       "    'a-et': 'a-form',\n",
       "    'a-final': 'a-form',\n",
       "    'a-finalen': 'a-form',\n",
       "    'a-flyg': 'a-form',\n",
       "    'a-form': 'a-form',\n",
       "    'a-gruppen': 'a-form',\n",
       "    'a-juniorer': 'a-form',\n",
       "    'a-juniorerna': 'a-form',\n",
       "    'a-juniorlaget': 'a-form',\n",
       "    'a-kamper': 'a-form',\n",
       "    'a-kassa': 'a-form',\n",
       "    'a-kassan': 'a-form',\n",
       "    'a-kassor': 'a-form',\n",
       "    'a-kassorna': 'a-form',\n",
       "    'a-lag': 'a-form',\n",
       "    'a-lagare': 'a-form',\n",
       "    'a-lagarna': 'a-form',\n",
       "    'a-laget': 'a-form',\n",
       "    'a-lagets': 'a-form',\n",
       "    'a-lagsjuniorerna': 'a-form',\n",
       "    'a-lagspelare': 'a-form',\n",
       "    'a-lagsspelare': 'a-form',\n",
       "    'a-landskamper': 'a-form',\n",
       "    'a-landslag': 'a-form',\n",
       "    'a-landslaget': 'a-form',\n",
       "    'a-listan': 'a-form',\n",
       "    'a-ljud': 'a-form',\n",
       "    'a-ljudet': 'a-form',\n",
       "    'a-n': 'a-form',\n",
       "    'a-nummer': 'a-form',\n",
       "    'a-pojke': 'a-form',\n",
       "    'a-pressen': 'a-form',\n",
       "    'a-pressens': 'a-form',\n",
       "    'a-presskoncernens': 'a-form',\n",
       "    'a-presstidningar': 'a-form',\n",
       "    'a-presstidningarna': 'a-form',\n",
       "    'a-provet': 'a-form',\n",
       "    'a-trupp': 'a-form',\n",
       "    'a-truppen': 'a-form',\n",
       "    'a-tur': 'a-form',\n",
       "    'a-vitamin': 'a-form',\n",
       "    'a-vitaminliknande': 'a-form',\n",
       "    'a:son': 'a-form',\n",
       "    'a_a': 'a-form',\n",
       "    'a_b_c_gatan': 'a-form',\n",
       "    'a_bergmans_väg': 'a-form',\n",
       "    'a_c_lindblads_gata': 'a-form',\n",
       "    'a_e_holmbergs_gata': 'a-form',\n",
       "    'a_f_håkanssons_väg': 'a-form',\n",
       "    'a_odhners_gata': 'a-form',\n",
       "    'a_p_sjöbergs_väg': 'a-form',\n",
       "    'aabel': 'a-form',\n",
       "    'aaben': 'a-form',\n",
       "    'aaby': 'a-form',\n",
       "    'aadde': 'a-form',\n",
       "    'aadel': 'a-form',\n",
       "    'aadland': 'a-form',\n",
       "    'aadli': 'a-form',\n",
       "    'aadu': 'a-form',\n",
       "    'aadén': 'a-form',\n",
       "    'aagaard': 'a-form',\n",
       "    'aage': 'a-form',\n",
       "    'aagesen': 'a-form',\n",
       "    'aagesson': 'a-form',\n",
       "    'aagot': 'a-form',\n",
       "    'aagots': 'a-form',\n",
       "    'aahlborg': 'a-form',\n",
       "    'aaker': 'a-form',\n",
       "    'aakerholm': 'a-form',\n",
       "    'aakre': 'a-form',\n",
       "    'aalbers': 'a-form',\n",
       "    'aalborg': 'a-form',\n",
       "    'aalerud': 'a-form',\n",
       "    'aall': 'a-form',\n",
       "    'aalstad': 'a-form',\n",
       "    'aalsö': 'a-form',\n",
       "    'aalto': 'a-form',\n",
       "    'aalto-vasen': 'a-form',\n",
       "    'aaltonen': 'a-form',\n",
       "    'aalvik': 'a-form',\n",
       "    'aaman': 'a-form',\n",
       "    'aamisepp': 'a-form',\n",
       "    'aamlid': 'a-form',\n",
       "    'aamodt': 'a-form',\n",
       "    'aandahl': 'a-form',\n",
       "    'aandstad': 'a-form',\n",
       "    'aanerud': 'a-form',\n",
       "    'aanesen': 'a-form',\n",
       "    'aanstad': 'a-form',\n",
       "    'aapo': 'a-form',\n",
       "    'aardal': 'a-form',\n",
       "    'aare': 'a-form',\n",
       "    'aarea': 'a-form',\n",
       "    'aarenstrup': 'a-form',\n",
       "    'aarflot': 'a-form',\n",
       "    'aarholdt': 'a-form',\n",
       "    'aarhus': 'a-form',\n",
       "    'aarna': 'a-form',\n",
       "    'aarne': 'a-form',\n",
       "    'aarni': 'a-form',\n",
       "    'aarnio': 'a-form',\n",
       "    'aarno': 'a-form',\n",
       "    'aarnseth': 'a-form',\n",
       "    'aaro': 'a-form',\n",
       "    'aaron': 'a-form',\n",
       "    'aarons': 'a-form',\n",
       "    'aarre': 'a-form',\n",
       "    'aarseth': 'a-form',\n",
       "    'aarskog': 'a-form',\n",
       "    'aarsrud': 'a-form',\n",
       "    'aarstad': 'a-form',\n",
       "    'aarto': 'a-form',\n",
       "    'aartola': 'a-form',\n",
       "    'aarvidsson': 'a-form',\n",
       "    'aarås': 'a-form',\n",
       "    'aaröe': 'a-form',\n",
       "    'aas': 'a-form',\n",
       "    'aasa': 'a-form',\n",
       "    'aasberg': 'a-form',\n",
       "    'aase': 'a-form',\n",
       "    'aasen': 'a-form',\n",
       "    'aasgaard': 'a-form',\n",
       "    'aasgård': 'a-form',\n",
       "    'aasheim': 'a-form',\n",
       "    'aasland': 'a-form',\n",
       "    'aaslund': 'a-form',\n",
       "    'aasma': 'a-form',\n",
       "    'aasmundsen': 'a-form',\n",
       "    'aastradsen': 'a-form',\n",
       "    'aastrup': 'a-form',\n",
       "    'aate': 'a-form',\n",
       "    'aatos': 'a-form',\n",
       "    'aatto': 'a-form',\n",
       "    'aava': 'a-form',\n",
       "    'aavik': 'a-form',\n",
       "    'ab': 'a-form',\n",
       "    'abadi': 'a-form',\n",
       "    'abarca': 'a-form',\n",
       "    'abassi': 'a-form',\n",
       "    'abba': 'a-form',\n",
       "    'abbas': 'a-form',\n",
       "    'abbasi': 'a-form',\n",
       "    'abbassi': 'a-form',\n",
       "    'abbe': 'a-form',\n",
       "    'abbedissa': 'a-form',\n",
       "    'abbedissan': 'a-form',\n",
       "    'abbedissans': 'a-form',\n",
       "    'abbedissavägen': 'a-form',\n",
       "    'abbedissgatan': 'a-form',\n",
       "    'abbefalk': 'a-form',\n",
       "    'abbefors': 'a-form',\n",
       "    'abbegren': 'a-form',\n",
       "    'abbegård': 'a-form',\n",
       "    'abbekås': 'a-form',\n",
       "    'abbekåsgatan': 'a-form',\n",
       "    'abbeling': 'a-form',\n",
       "    'abbemalm': 'a-form',\n",
       "    'abbemark': 'a-form',\n",
       "    'abben': 'a-form',\n",
       "    'abberud': 'a-form',\n",
       "    'abberyd': 'a-form',\n",
       "    'abbesjö': 'a-form',\n",
       "    'abbestam': 'a-form',\n",
       "    'abbesten': 'a-form',\n",
       "    'abbetoft': 'a-form',\n",
       "    'abbevik': 'a-form',\n",
       "    'abbhagen': 'a-form',\n",
       "    'abbhammar': 'a-form',\n",
       "    'abbhed': 'a-form',\n",
       "    'abbing': 'a-form',\n",
       "    'abbor': 'a-form',\n",
       "    'abborrar': 'a-form',\n",
       "    'abborrarna': 'a-form',\n",
       "    'abborrart': 'a-form',\n",
       "    'abborrartad': 'a-form',\n",
       "    'abborre': 'a-form',\n",
       "    'abborrebergsvägen': 'a-form',\n",
       "    'abborregatan': 'a-form',\n",
       "    'abborren': 'a-form',\n",
       "    'abborrestigen': 'a-form',\n",
       "    'abborrevägen': 'a-form',\n",
       "    'abborrfisk': 'a-form',\n",
       "    'abborrfiske': 'a-form',\n",
       "    'abborrgatan': 'a-form',\n",
       "    'abborrgrund': 'a-form',\n",
       "    'abborrgränd': 'a-form',\n",
       "    'abborrkroken': 'a-form',\n",
       "    'abborrmunnen': 'a-form',\n",
       "    'abborrpinne': 'a-form',\n",
       "    'abborrstigen': 'a-form',\n",
       "    'abborrtjärnsvägen': 'a-form',\n",
       "    'abborrtorpsvägen': 'a-form',\n",
       "    'abborrträsk': 'a-form',\n",
       "    'abborrvägen': 'a-form',\n",
       "    'abbot': 'a-form',\n",
       "    'abboten': 'a-form',\n",
       "    'abbotens': 'a-form',\n",
       "    'abbotens_väg': 'a-form',\n",
       "    'abbotsdöme': 'a-form',\n",
       "    'abbotsgatan': 'a-form',\n",
       "    'abbotskap': 'a-form',\n",
       "    'abbotvägen': 'a-form',\n",
       "    'abboud': 'a-form',\n",
       "    'abbreviation': 'a-form',\n",
       "    'abbreviatur': 'a-form',\n",
       "    'abbreviera': 'a-form',\n",
       "    'abbreviering': 'a-form',\n",
       "    'abbås': 'a-form',\n",
       "    'abbé': 'a-form',\n",
       "    'abc': 'a-form',\n",
       "    'abc-bok': 'a-form',\n",
       "    'abc-boken': 'a-form',\n",
       "    'abc-nytt': 'a-form',\n",
       "    'abd': 'a-form',\n",
       "    'abda': 'a-form',\n",
       "    'abdalla': 'a-form',\n",
       "    'abdallah': 'a-form',\n",
       "    'abdel': 'a-form',\n",
       "    'abdelahad': 'a-form',\n",
       "    'abdelaziz': 'a-form',\n",
       "    'abdelkader': 'a-form',\n",
       "    'abdellah': 'a-form',\n",
       "    'abdellatif': 'a-form',\n",
       "    'abderit': 'a-form',\n",
       "    'abderitisk': 'a-form',\n",
       "    'abderrahmane': 'a-form',\n",
       "    'abdeslam': 'a-form',\n",
       "    'abdi': 'a-form',\n",
       "    'abdikarim': 'a-form',\n",
       "    'abdikation': 'a-form',\n",
       "    'abdikationsakt': 'a-form',\n",
       "    'abdikera': 'a-form',\n",
       "    'abdikerade': 'a-form',\n",
       "    'abdikerar': 'a-form',\n",
       "    'abdikerat': 'a-form',\n",
       "    'abdikering': 'a-form',\n",
       "    'abdillahi': 'a-form',\n",
       "    'abdirahman': 'a-form',\n",
       "    'abdirizak': 'a-form',\n",
       "    'abdo': 'a-form',\n",
       "    'abdol': 'a-form',\n",
       "    'abdolhossein': 'a-form',\n",
       "    'abdollah': 'a-form',\n",
       "    'abdollahi': 'a-form',\n",
       "    'abdolreza': 'a-form',\n",
       "    'abdomen': 'a-form',\n",
       "    'abdominala': 'a-form',\n",
       "    'abdon': 'a-form',\n",
       "    'abdu': 'a-form',\n",
       "    'abduktiv': 'a-form',\n",
       "    'abdul': 'a-form',\n",
       "    'abdulah': 'a-form',\n",
       "    'abdulahad': 'a-form',\n",
       "    'abdulaziz': 'a-form',\n",
       "    'abdulhadi': 'a-form',\n",
       "    'abdulhamid': 'a-form',\n",
       "    'abdulkader': 'a-form',\n",
       "    'abdulkadir': 'a-form',\n",
       "    'abdulkarim': 'a-form',\n",
       "    'abdulkerim': 'a-form',\n",
       "    'abdulla': 'a-form',\n",
       "    'abdullah': 'a-form',\n",
       "    'abdullahad': 'a-form',\n",
       "    'abdullahi': 'a-form',\n",
       "    'abdulle': 'a-form',\n",
       "    'abdulmasih': 'a-form',\n",
       "    'abdulmesih': 'a-form',\n",
       "    'abdulrahman': 'a-form',\n",
       "    'abdulsalam': 'a-form',\n",
       "    'abdurahman': 'a-form',\n",
       "    'abeba': 'a-form',\n",
       "    'abebe': 'a-form',\n",
       "    'abed': 'a-form',\n",
       "    'abedal': 'a-form',\n",
       "    'abedi': 'a-form',\n",
       "    'abedian': 'a-form',\n",
       "    'abedin': 'a-form',\n",
       "    'abefelt': 'a-form',\n",
       "    'abefors': 'a-form',\n",
       "    'abel': 'a-form',\n",
       "    'abel_beckers_gata': 'a-form',\n",
       "    'abeleen': 'a-form',\n",
       "    'abelin': 'a-form',\n",
       "    'abeling': 'a-form',\n",
       "    'abelius': 'a-form',\n",
       "    'abelli': 'a-form',\n",
       "    'abeln': 'a-form',\n",
       "    'abelson': 'a-form',\n",
       "    'abelsson': 'a-form',\n",
       "    'abelt': 'a-form',\n",
       "    'abeman': 'a-form',\n",
       "    'aben': 'a-form',\n",
       "    'abenius': 'a-form',\n",
       "    'aber': 'a-form',\n",
       "    'abergavägen': 'a-form',\n",
       "    'aberger': 'a-form',\n",
       "    'aberin': 'a-form',\n",
       "    'aberius': 'a-form',\n",
       "    'aberration': 'a-form',\n",
       "    'abersten': 'a-form',\n",
       "    'aberén': 'a-form',\n",
       "    'abessinsk': 'a-form',\n",
       "    'abessinska': 'a-form',\n",
       "    'abi': 'a-form',\n",
       "    'abid': 'a-form',\n",
       "    'abidi': 'a-form',\n",
       "    'abilitet': 'a-form',\n",
       "    'abin': 'a-form',\n",
       "    'abir': 'a-form',\n",
       "    'abisko': 'a-form',\n",
       "    'abiskoområdet': 'a-form',\n",
       "    'abiskovägen': 'a-form',\n",
       "    'abjörnssons_väg': 'a-form',\n",
       "    'abjörnssonsvägen': 'a-form',\n",
       "    'ablahad': 'a-form',\n",
       "    'ablation': 'a-form',\n",
       "    'ablativ': 'a-form',\n",
       "    'ablativform': 'a-form',\n",
       "    'abler': 'a-form',\n",
       "    'abmorvägen': 'a-form',\n",
       "    'abnell': 'a-form',\n",
       "    'abner': 'a-form',\n",
       "    'abnorm': 'a-form',\n",
       "    'abnorma': 'a-form',\n",
       "    'abnormitet': 'a-form',\n",
       "    'abnormitetens': 'a-form',\n",
       "    'abnormiteter': 'a-form',\n",
       "    'abnormt': 'a-form',\n",
       "    'abnormtillstånd': 'a-form',\n",
       "    'abolfazl': 'a-form',\n",
       "    'abolghasem': 'a-form',\n",
       "    'abolins': 'a-form',\n",
       "    'abolition': 'a-form',\n",
       "    'abonius': 'a-form',\n",
       "    'abonnemang': 'a-form',\n",
       "    'abonnemangen': 'a-form',\n",
       "    'abonnemanget': 'a-form',\n",
       "    'abonnemangsavgiften': 'a-form',\n",
       "    'abonnemangsavtal': 'a-form',\n",
       "    'abonnemangsbyte': 'a-form',\n",
       "    'abonnemangserbjudande': 'a-form',\n",
       "    'abonnemangsfritt': 'a-form',\n",
       "    'abonnemangsfråga': 'a-form',\n",
       "    'abonnemangsfrågor': 'a-form',\n",
       "    'abonnemangskonserterna': 'a-form',\n",
       "    'abonnemangsnummer': 'a-form',\n",
       "    'abonnemangspris': 'a-form',\n",
       "    'abonnent': 'a-form',\n",
       "    'abonnenten': 'a-form',\n",
       "    'abonnenter': 'a-form',\n",
       "    'abonnenterna': 'a-form',\n",
       "    'abonnentskaran': 'a-form',\n",
       "    'abonnera': 'a-form',\n",
       "    'abonnerad': 'a-form',\n",
       "    'abonnerade': 'a-form',\n",
       "    'abonnerar': 'a-form',\n",
       "    'abonnerat': 'a-form',\n",
       "    'aboriginer': 'a-form',\n",
       "    'aboriginerna': 'a-form',\n",
       "    'aborrvägen': 'a-form',\n",
       "    'abort': 'a-form',\n",
       "    'aborten': 'a-form',\n",
       "    'aborter': 'a-form',\n",
       "    'abortera': 'a-form',\n",
       "    'aborterade': 'a-form',\n",
       "    'aborterna': 'a-form',\n",
       "    'abortframkallande': 'a-form',\n",
       "    'abortframkallare': 'a-form',\n",
       "    'abortfråga': 'a-form',\n",
       "    'abortfrågan': 'a-form',\n",
       "    'abortförbud': 'a-form',\n",
       "    'abortförebyggande': 'a-form',\n",
       "    'abortingreppet': 'a-form',\n",
       "    'abortiv': 'a-form',\n",
       "    'abortklinik': 'a-form',\n",
       "    'abortkliniker': 'a-form',\n",
       "    'abortlag': 'a-form',\n",
       "    'abortlagen': 'a-form',\n",
       "    'abortlagstiftning': 'a-form',\n",
       "    'abortlagstiftningen': 'a-form',\n",
       "    'abortmotståndare': 'a-form',\n",
       "    'abortmotståndarna': 'a-form',\n",
       "    'abortpiller': 'a-form',\n",
       "    'abortpillret': 'a-form',\n",
       "    'abortresa': 'a-form',\n",
       "    'aborträtten': 'a-form',\n",
       "    'abortrådgivning': 'a-form',\n",
       "    'abortsökande': 'a-form',\n",
       "    'abortör': 'a-form',\n",
       "    'abou': 'a-form',\n",
       "    'aboud': 'a-form',\n",
       "    'abradera': 'a-form',\n",
       "    'abradering': 'a-form',\n",
       "    'abraha': 'a-form',\n",
       "    'abraham': 'a-form',\n",
       "    'abraham_ahléns_väg': 'a-form',\n",
       "    'abraham_bäckgatan': 'a-form',\n",
       "    'abrahams': 'a-form',\n",
       "    'abrahamsberg': 'a-form',\n",
       "    'abrahamsbergsvägen': 'a-form',\n",
       "    'abrahamsbovägen': 'a-form',\n",
       "    'abrahamsen': 'a-form',\n",
       "    'abrahamson': 'a-form',\n",
       "    'abrahamsson': 'a-form',\n",
       "    'abrahamsvägen': 'a-form',\n",
       "    'abrahim': 'a-form',\n",
       "    'abrahmson': 'a-form',\n",
       "    'abrahmsson': 'a-form',\n",
       "    'abrahmsén': 'a-form',\n",
       "    'abrakadabra': 'a-form',\n",
       "    'abram': 'a-form',\n",
       "    'abramsgård': 'a-form',\n",
       "    'abramson': 'a-form',\n",
       "    'abramsson': 'a-form',\n",
       "    'abramsvägen': 'a-form',\n",
       "    'abrasion': 'a-form',\n",
       "    'abrasionsbrant': 'a-form',\n",
       "    'abrehet': 'a-form',\n",
       "    'abrell': 'a-form',\n",
       "    'abresparr': 'a-form',\n",
       "    'abreu': 'a-form',\n",
       "    'abring': 'a-form',\n",
       "    'abrupt': 'a-form',\n",
       "    'abrupta': 'a-form',\n",
       "    'absalons_väg': 'a-form',\n",
       "    'absens': 'a-form',\n",
       "    'abshir': 'a-form',\n",
       "    'absid': 'a-form',\n",
       "    'absidgatan': 'a-form',\n",
       "    'absidkyrka': 'a-form',\n",
       "    'absint': 'a-form',\n",
       "    'absintflaska': 'a-form',\n",
       "    'abskissa': 'a-form',\n",
       "    'absolut': 'a-form',\n",
       "    'absoluta': 'a-form',\n",
       "    'absolute': 'a-form',\n",
       "    'absolutflaskan': 'a-form',\n",
       "    'absolution': 'a-form',\n",
       "    'absolutism': 'a-form',\n",
       "    'absolutist': 'a-form',\n",
       "    'absolutisterna': 'a-form',\n",
       "    'absolutistisk': 'a-form',\n",
       "    'absolvera': 'a-form',\n",
       "    'absolvering': 'a-form',\n",
       "    'absorbera': 'a-form',\n",
       "    'absorberad': 'a-form',\n",
       "    'absorberade': 'a-form',\n",
       "    'absorberar': 'a-form',\n",
       "    'absorberas': 'a-form',\n",
       "    'absorberat': 'a-form',\n",
       "    'absorberats': 'a-form',\n",
       "    'absorption': 'a-form',\n",
       "    'absorptionen': 'a-form',\n",
       "    'absorptionsband': 'a-form',\n",
       "    'absorptionsförmåga': 'a-form',\n",
       "    'abstinens': 'a-form',\n",
       "    'abstinensbesvär': 'a-form',\n",
       "    'abstinenseffekter': 'a-form',\n",
       "    'abstract': 'a-form',\n",
       "    'abstrahera': 'a-form',\n",
       "    'abstraherande': 'a-form',\n",
       "    'abstrahering': 'a-form',\n",
       "    'abstrakt': 'a-form',\n",
       "    'abstrakta': 'a-form',\n",
       "    'abstraktion': 'a-form',\n",
       "    'abstraktionen': 'a-form',\n",
       "    'abstraktionens': 'a-form',\n",
       "    'abstraktioner': 'a-form',\n",
       "    'abstraktionsförmåga': 'a-form',\n",
       "    'abstraktionsnivå': 'a-form',\n",
       "    'abstraktionssynen': 'a-form',\n",
       "    'abstrus': 'a-form',\n",
       "    'absurd': 'a-form',\n",
       "    'absurda': 'a-form',\n",
       "    'absurdhet': 'a-form',\n",
       "    'absurdism': 'a-form',\n",
       "    'absurdismen': 'a-form',\n",
       "    'absurdist': 'a-form',\n",
       "    'absurdisterna': 'a-form',\n",
       "    'absurdistisk': 'a-form',\n",
       "    'absurdistiska': 'a-form',\n",
       "    'absurditet': 'a-form',\n",
       "    'absurditetens': 'a-form',\n",
       "    'absurditeter': 'a-form',\n",
       "    'absurdum': 'a-form',\n",
       "    'absurt': 'a-form',\n",
       "    'abtin': 'a-form',\n",
       "    'abu': 'a-form',\n",
       "    'abul': 'a-form',\n",
       "    'abundans': 'a-form',\n",
       "    'abundant': 'a-form',\n",
       "    'abus': 'a-form',\n",
       "    'abwin': 'a-form',\n",
       "    'abygatan': 'a-form',\n",
       "    'abyssal': 'a-form',\n",
       "    'abäcksvägen': 'a-form',\n",
       "    'acar': 'a-form',\n",
       "    'accedera': 'a-form',\n",
       "    'acceleration': 'a-form',\n",
       "    'accelerationen': 'a-form',\n",
       "    'accelerationssträcka': 'a-form',\n",
       "    'accelerator': 'a-form',\n",
       "    'acceleratorer': 'a-form',\n",
       "    'acceleratorerna': 'a-form',\n",
       "    'acceleratorernas': 'a-form',\n",
       "    'acceleratorn': 'a-form',\n",
       "    'accelerera': 'a-form',\n",
       "    'accelererade': 'a-form',\n",
       "    'accelererades': 'a-form',\n",
       "    'accelererande': 'a-form',\n",
       "    'accelererar': 'a-form',\n",
       "    'accelereras': 'a-form',\n",
       "    'accelererat': 'a-form',\n",
       "    'accelerering': 'a-form',\n",
       "    'accent': 'a-form',\n",
       "    'accenten': 'a-form',\n",
       "    'accenter': 'a-form',\n",
       "    'accentuera': 'a-form',\n",
       "    'accentuerad': 'a-form',\n",
       "    'accentuerade': 'a-form',\n",
       "    'accentuerades': 'a-form',\n",
       "    'accentuerar': 'a-form',\n",
       "    'accentueras': 'a-form',\n",
       "    'accentuerat': 'a-form',\n",
       "    'accentuerats': 'a-form',\n",
       "    'accentuering': 'a-form',\n",
       "    'accept': 'a-form',\n",
       "    'acceptabel': 'a-form',\n",
       "    'acceptabelt': 'a-form',\n",
       "    'acceptabla': 'a-form',\n",
       "    'acceptans': 'a-form',\n",
       "    'acceptansen': 'a-form',\n",
       "    'accepten': 'a-form',\n",
       "    'acceptera': 'a-form',\n",
       "    'accepterad': 'a-form',\n",
       "    'accepterade': 'a-form',\n",
       "    'accepterades': 'a-form',\n",
       "    'accepterande': 'a-form',\n",
       "    'accepterandet': 'a-form',\n",
       "    'accepterar': 'a-form',\n",
       "    'accepteras': 'a-form',\n",
       "    'accepterat': 'a-form',\n",
       "    'accepterats': 'a-form',\n",
       "    'access': 'a-form',\n",
       "    'accessoar': 'a-form',\n",
       "    'accessoarer': 'a-form',\n",
       "    'accesstjänster': 'a-form',\n",
       "    'accis': 'a-form',\n",
       "    'accisfri': 'a-form',\n",
       "    'accismedel': 'a-form',\n",
       "    'accispliktig': 'a-form',\n",
       "    'acetat': 'a-form',\n",
       "    'acetatsilke': 'a-form',\n",
       "    'aceton': 'a-form',\n",
       "    'acetylen': 'a-form',\n",
       "    'acetylengas': 'a-form',\n",
       "    'acetylenlampa': 'a-form',\n",
       "    'acetylsalicylsyra': 'a-form',\n",
       "    'acevedo': 'a-form',\n",
       "    'achilleas': 'a-form',\n",
       "    'achim': 'a-form',\n",
       "    'achmed': 'a-form',\n",
       "    'achour': 'a-form',\n",
       "    'achrén': 'a-form',\n",
       "    'achteenberg': 'a-form',\n",
       "    'achtenberg': 'a-form',\n",
       "    'achtman': 'a-form',\n",
       "    'aciditet': 'a-form',\n",
       "    'ack': 'a-form',\n",
       "    'ackalin': 'a-form',\n",
       "    'ackberger': 'a-form',\n",
       "    'acke': 'a-form',\n",
       "    'ackeberg': 'a-form',\n",
       "    'ackebjer': 'a-form',\n",
       "    'ackebo': 'a-form',\n",
       "    'ackeborn': 'a-form',\n",
       "    'ackebrink': 'a-form',\n",
       "    'ackeby': 'a-form',\n",
       "    'ackedahl': 'a-form',\n",
       "    'ackefelt': 'a-form',\n",
       "    'ackefjord': 'a-form',\n",
       "    'ackefors': 'a-form',\n",
       "    'ackegård': 'a-form',\n",
       "    'ackehed': 'a-form',\n",
       "    'ackelid': 'a-form',\n",
       "    'ackelin': 'a-form',\n",
       "    'ackelind': 'a-form',\n",
       "    'ackell': 'a-form',\n",
       "    'ackelman': 'a-form',\n",
       "    'ackelöv': 'a-form',\n",
       "    'ackemalm': 'a-form',\n",
       "    'ackemar': 'a-form',\n",
       "    'ackemark': 'a-form',\n",
       "    'ackemo': 'a-form',\n",
       "    'ackenäs': 'a-form',\n",
       "    'ackerberg': 'a-form',\n",
       "    'ackerblad': 'a-form',\n",
       "    'ackerborg': 'a-form',\n",
       "    'ackerby': 'a-form',\n",
       "    'ackerdahl': 'a-form',\n",
       "    'ackerdal': 'a-form',\n",
       "    'ackered': 'a-form',\n",
       "    'ackerfeldt': 'a-form',\n",
       "    'ackerfors': 'a-form',\n",
       "    'ackerhans': 'a-form',\n",
       "    'ackerholm': 'a-form',\n",
       "    'ackerholt': 'a-form',\n",
       "    'ackerhus': 'a-form',\n",
       "    'ackerman': 'a-form',\n",
       "    'ackermann': 'a-form',\n",
       "    'ackermark': 'a-form',\n",
       "    'ackerot': 'a-form',\n",
       "    'ackers': 'a-form',\n",
       "    'ackerstedt': 'a-form',\n",
       "    'ackerstierna': 'a-form',\n",
       "    'ackerstig': 'a-form',\n",
       "    'ackerstrand': 'a-form',\n",
       "    'ackerud': 'a-form',\n",
       "    'ackerup': 'a-form',\n",
       "    'ackeryd': 'a-form',\n",
       "    'ackesjö': 'a-form',\n",
       "    'ackeskog': 'a-form',\n",
       "    'ackesten': 'a-form',\n",
       "    'ackestig': 'a-form',\n",
       "    'ackeström': 'a-form',\n",
       "    'ackeståhl': 'a-form',\n",
       "    'ackestål': 'a-form',\n",
       "    'acketoft': 'a-form',\n",
       "    'ackevall': 'a-form',\n",
       "    'ackevik': 'a-form',\n",
       "    'ackewald': 'a-form',\n",
       "    'ackfeldt': 'a-form',\n",
       "    'ackfjäll': 'a-form',\n",
       "    'ackfjärd': 'a-form',\n",
       "    'ackhammar': 'a-form',\n",
       "    'ackheden': 'a-form',\n",
       "    'acki': 'a-form',\n",
       "    'acking': 'a-form',\n",
       "    'ackinger': 'a-form',\n",
       "    'ackja': 'a-form',\n",
       "    'ackjan': 'a-form',\n",
       "    'ackjefärd': 'a-form',\n",
       "    'acklamation': 'a-form',\n",
       "    'acklamationsval': 'a-form',\n",
       "    'ackland': 'a-form',\n",
       "    'acklid': 'a-form',\n",
       "    'acklimatisera': 'a-form',\n",
       "    'acklimatiserat': 'a-form',\n",
       "    'acklimatisering': 'a-form',\n",
       "    'acklin': 'a-form',\n",
       "    'ackling': 'a-form',\n",
       "    'acklingavägen': 'a-form',\n",
       "    'acklund': 'a-form',\n",
       "    'acklén': 'a-form',\n",
       "    'ackman': 'a-form',\n",
       "    'ackmark': 'a-form',\n",
       "    'ackommodation': 'a-form',\n",
       "    'ackommodationsförmåga': 'a-form',\n",
       "    'ackommodera': 'a-form',\n",
       "    'ackommodering': 'a-form',\n",
       "    'ackompanjatris': 'a-form',\n",
       "    'ackompanjatör': 'a-form',\n",
       "    'ackompanjemang': 'a-form',\n",
       "    'ackompanjemanget': 'a-form',\n",
       "    'ackompanjemangsinstrument': 'a-form',\n",
       "    'ackompanjera': 'a-form',\n",
       "    'ackompanjerad': 'a-form',\n",
       "    'ackompanjerade': 'a-form',\n",
       "    'ackompanjerades': 'a-form',\n",
       "    'ackompanjerande': 'a-form',\n",
       "    'ackompanjerar': 'a-form',\n",
       "    'ackompanjeras': 'a-form',\n",
       "    'ackompanjerat': 'a-form',\n",
       "    'ackompanjering': 'a-form',\n",
       "    'ackonius': 'a-form',\n",
       "    'ackord': 'a-form',\n",
       "    'ackordcentralen': 'a-form',\n",
       "    'ackorden': 'a-form',\n",
       "    'ackordet': 'a-form',\n",
       "    'ackordföljd': 'a-form',\n",
       "    'ackordisk': 'a-form',\n",
       "    'ackordsarbete': 'a-form',\n",
       "    'ackordsberäkn.': 'a-form',\n",
       "    'ackordsberäknare': 'a-form',\n",
       "    'ackordscentralen': 'a-form',\n",
       "    'ackordscentralens': 'a-form',\n",
       "    'ackordsförhandling': 'a-form',\n",
       "    'ackordshets': 'a-form',\n",
       "    'ackordsjobb': 'a-form',\n",
       "    'ackordsuppgörelse': 'a-form',\n",
       "    'ackreditera': 'a-form',\n",
       "    'ackrediterad': 'a-form',\n",
       "    'ackrediterade': 'a-form',\n",
       "    'ackreditering': 'a-form',\n",
       "    'ackrell': 'a-form',\n",
       "    'ackring': 'a-form',\n",
       "    'acktjärnsgatan': 'a-form',\n",
       "    'ackumulation': 'a-form',\n",
       "    'ackumulativ': 'a-form',\n",
       "    'ackumulatorer': 'a-form',\n",
       "    'ackumulera': 'a-form',\n",
       "    'ackumulerad': 'a-form',\n",
       "    'ackumulerade': 'a-form',\n",
       "    'ackumuleras': 'a-form',\n",
       "    'ackumulerat': 'a-form',\n",
       "    'ackurat': 'a-form',\n",
       "    'ackuratess': 'a-form',\n",
       "    'ackusativisk': 'a-form',\n",
       "    'ackuschörska': 'a-form',\n",
       "    'ackvirera': 'a-form',\n",
       "    'ackvirering': 'a-form',\n",
       "    'ackvis:r': 'a-form',\n",
       "    'ackvisition': 'a-form',\n",
       "    'ackvisitör': 'a-form',\n",
       "    'ackzell': 'a-form',\n",
       "    'ackzén': 'a-form',\n",
       "    'ackås': 'a-form',\n",
       "    'ackér': 'a-form',\n",
       "    'acne': 'a-form',\n",
       "    'aco': 'a-form',\n",
       "    'acosta': 'a-form',\n",
       "    'acryl': 'a-form',\n",
       "    'acs': 'a-form',\n",
       "    'action': 'a-form',\n",
       "    'actionfilm': 'a-form',\n",
       "    'actionfilmen': 'a-form',\n",
       "    'actionfilmer': 'a-form',\n",
       "    'actionhistoria': 'a-form',\n",
       "    'actionhjälten': 'a-form',\n",
       "    'actionkomedi': 'a-form',\n",
       "    'actionkomedier': 'a-form',\n",
       "    'actionscener': 'a-form',\n",
       "    'actionserie': 'a-form',\n",
       "    'actionsurf': 'a-form',\n",
       "    'acuna': 'a-form',\n",
       "    'ada': 'a-form',\n",
       "    'adagio': 'a-form',\n",
       "    'adak': 'a-form',\n",
       "    'adaktusson': 'a-form',\n",
       "    'adakvägen': 'a-form',\n",
       "    'adalbert': 'a-form',\n",
       "    'adalberth': 'a-form',\n",
       "    'adam': 'a-form',\n",
       "    'adama': 'a-form',\n",
       "    'adamczyk': 'a-form',\n",
       "    'adamek': 'a-form',\n",
       "    'adami': 'a-form',\n",
       "    'adamovic': 'a-form',\n",
       "    'adams': 'a-form',\n",
       "    'adams_väg': 'a-form',\n",
       "    'adamsdräkt': 'a-form',\n",
       "    'adamsen': 'a-form',\n",
       "    'adamsgatan': 'a-form',\n",
       "    'adamson': 'a-form',\n",
       "    'adamsson': 'a-form',\n",
       "    'adamstorpsvägen': 'a-form',\n",
       "    'adamsvägen': 'a-form',\n",
       "    'adamsäpple': 'a-form',\n",
       "    'adamsäpplet': 'a-form',\n",
       "    'adamzon': 'a-form',\n",
       "    'adan': 'a-form',\n",
       "    'adaptation': 'a-form',\n",
       "    'adapter': 'a-form',\n",
       "    'adaptera': 'a-form',\n",
       "    'adaptering': 'a-form',\n",
       "    'adaption': 'a-form',\n",
       "    'adaptiv': 'a-form',\n",
       "    'adaptiva': 'a-form',\n",
       "    'adar': 'a-form',\n",
       "    'adare': 'a-form',\n",
       "    'adauktusson': 'a-form',\n",
       "    'adawi': 'a-form',\n",
       "    'adb': 'a-form',\n",
       "    'adb-avtal': 'a-form',\n",
       "    'adb-chef': 'a-form',\n",
       "    'adb-enhet': 'a-form',\n",
       "    'adb-enheten': 'a-form',\n",
       "    'adb-enhetens': 'a-form',\n",
       "    'adb-funktionen': 'a-form',\n",
       "    'adb-funktionens': 'a-form',\n",
       "    'adb-gruppen': 'a-form',\n",
       "    'adb-kons.': 'a-form',\n",
       "    'adb-konsult': 'a-form',\n",
       "    'adb-kontoret': 'a-form',\n",
       "    'adb-kontorets': 'a-form',\n",
       "    'adb-man': 'a-form',\n",
       "    'adb-samordnarutbildning': 'a-form',\n",
       "    'adb-samordnarutbildningen': 'a-form',\n",
       "    'adb-system': 'a-form',\n",
       "    'adb-tekn.': 'a-form',\n",
       "    'adb-tekniker': 'a-form',\n",
       "    'adb-upptagningar': 'a-form',\n",
       "    'adberg': 'a-form',\n",
       "    'adbo': 'a-form',\n",
       "    'adborn': 'a-form',\n",
       "    'adbring': 'a-form',\n",
       "    'adbro': 'a-form',\n",
       "    'adbåge': 'a-form',\n",
       "    'addberger': 'a-form',\n",
       "    'addby': 'a-form',\n",
       "    'adde': 'a-form',\n",
       "    'addemark': 'a-form',\n",
       "    'addera': 'a-form',\n",
       "    'adderar': 'a-form',\n",
       "    'adderas': 'a-form',\n",
       "    'adderat': 'a-form',\n",
       "    'addering': 'a-form',\n",
       "    'addi': 'a-form',\n",
       "    'addie': 'a-form',\n",
       "    'addiktion': 'a-form',\n",
       "    'addin': 'a-form',\n",
       "    'adding': 'a-form',\n",
       "    'addison': 'a-form',\n",
       "    'addition': 'a-form',\n",
       "    'addukt': 'a-form',\n",
       "    'adduktion': 'a-form',\n",
       "    'addy': 'a-form',\n",
       "    'addén': 'a-form',\n",
       "    'ade': 'a-form',\n",
       "    'adebahr': 'a-form',\n",
       "    'adeberg': 'a-form',\n",
       "    'adebjörk': 'a-form',\n",
       "    'adebo': 'a-form',\n",
       "    'adeborg': 'a-form',\n",
       "    'adeborn': 'a-form',\n",
       "    'adebrant': 'a-form',\n",
       "    'adebratt': 'a-form',\n",
       "    'adebring': 'a-form',\n",
       "    'adebrink': 'a-form',\n",
       "    'adebro': 'a-form',\n",
       "    'adeby': 'a-form',\n",
       "    'adebäck': 'a-form',\n",
       "    'adebåge': 'a-form',\n",
       "    'adeen': 'a-form',\n",
       "    'adefalk': 'a-form',\n",
       "    'adefelt': 'a-form',\n",
       "    'adefjord': 'a-form',\n",
       "    'adefjärd': 'a-form',\n",
       "    'adefors': 'a-form',\n",
       "    'adegren': 'a-form',\n",
       "    'adegård': 'a-form',\n",
       "    'adehed': 'a-form',\n",
       "    'adeheimer': 'a-form',\n",
       "    'adeholm': 'a-form',\n",
       "    'adehorn': 'a-form',\n",
       "    'adehög': 'a-form',\n",
       "    'adeklint': 'a-form',\n",
       "    'adekvans': 'a-form',\n",
       "    'adekvat': 'a-form',\n",
       "    'adekvata': 'a-form',\n",
       "    'adel': 'a-form',\n",
       "    'adela': 'a-form',\n",
       "    'adelaide': 'a-form',\n",
       "    'adeland': 'a-form',\n",
       "    'adelavägen': 'a-form',\n",
       "    'adelback': 'a-form',\n",
       "    'adelbjer': 'a-form',\n",
       "    'adelborg': 'a-form',\n",
       "    'adelborgsvägen': 'a-form',\n",
       "    'adelbrand': 'a-form',\n",
       "    'adelbrant': 'a-form',\n",
       "    'adelbratt': 'a-form',\n",
       "    'adelby': 'a-form',\n",
       "    'adelbäck': 'a-form',\n",
       "    'adeldal': 'a-form',\n",
       "    'adele': 'a-form',\n",
       "    'adelfalk': 'a-form',\n",
       "    'adelgatan': 'a-form',\n",
       "    'adelgren': 'a-form',\n",
       "    'adelgård': 'a-form',\n",
       "    'adelhag': 'a-form',\n",
       "    'adelhammar': 'a-form',\n",
       "    'adelhed': 'a-form',\n",
       "    'adelheid': 'a-form',\n",
       "    'adelia': 'a-form',\n",
       "    'adelin': 'a-form',\n",
       "    'adelina': 'a-form',\n",
       "    'adelind': 'a-form',\n",
       "    'adeline': 'a-form',\n",
       "    'adelius': 'a-form',\n",
       "    'adeljung': 'a-form',\n",
       "    'adell': 'a-form',\n",
       "    'adelman': 'a-form',\n",
       "    'adelmar': 'a-form',\n",
       "    'adelmyr': 'a-form',\n",
       "    'adeln': 'a-form',\n",
       "    'adelns': 'a-form',\n",
       "    'adelros': 'a-form',\n",
       "    'adelrydh': 'a-form',\n",
       "    'adelsberg': 'a-form',\n",
       "    'adelsberger': 'a-form',\n",
       "    'adelsbergsvägen': 'a-form',\n",
       "    'adelsdam': 'a-form',\n",
       "    'adelsdottern': 'a-form',\n",
       "    'adelsfamilj': 'a-form',\n",
       "    'adelsgatan': 'a-form',\n",
       "    'adelsgård': 'a-form',\n",
       "    'adelsjö': 'a-form',\n",
       "    'adelskalendern': 'a-form',\n",
       "    'adelskap': 'a-form',\n",
       "    'adelskapet': 'a-form',\n",
       "    'adelskogh': 'a-form',\n",
       "    'adelsköld': 'a-form',\n",
       "    'adelsköldsgatan': 'a-form',\n",
       "    'adelsman': 'a-form',\n",
       "    'adelsmannen': 'a-form',\n",
       "    'adelsmannens': 'a-form',\n",
       "    'adelsmans': 'a-form',\n",
       "    'adelsmark': 'a-form',\n",
       "    'adelsmän': 'a-form',\n",
       "    'adelsmännen': 'a-form',\n",
       "    'adelsmärke': 'a-form',\n",
       "    'adelsnäs': 'a-form',\n",
       "    'adelsnäsvägen': 'a-form',\n",
       "    'adelsohn': 'a-form',\n",
       "    'adelson': 'a-form',\n",
       "    'adelsson': 'a-form',\n",
       "    'adelstam': 'a-form',\n",
       "    'adelsten': 'a-form',\n",
       "    'adelstitel': 'a-form',\n",
       "    'adelstokige': 'a-form',\n",
       "    'adelstorpsvägen': 'a-form',\n",
       "    'adelstrand': 'a-form',\n",
       "    'adelståhl': 'a-form',\n",
       "    'adelstål': 'a-form',\n",
       "    'adelsund': 'a-form',\n",
       "    'adelsvälde': 'a-form',\n",
       "    'adelsvärd': 'a-form',\n",
       "    'adelswärd': 'a-form',\n",
       "    'adelswärdsgatan': 'a-form',\n",
       "    'adelswärdsvägen': 'a-form',\n",
       "    'adelsö': 'a-form',\n",
       "    'adelsögatan': 'a-form',\n",
       "    'adelé': 'a-form',\n",
       "    'adelöf': 'a-form',\n",
       "    'adelöv': 'a-form',\n",
       "    'adelövägen': 'a-form',\n",
       "    'adelöw': 'a-form',\n",
       "    'adem': 'a-form',\n",
       "    'ademaj': 'a-form',\n",
       "    'ademan': 'a-form',\n",
       "    'ademar': 'a-form',\n",
       "    'ademark': 'a-form',\n",
       "    'ademi': 'a-form',\n",
       "    'ademyr': 'a-form',\n",
       "    'aden': 'a-form',\n",
       "    'adenauer': 'a-form',\n",
       "    'adenberg': 'a-form',\n",
       "    'adenborg': 'a-form',\n",
       "    'adenbrandt': 'a-form',\n",
       "    'adenbrant': 'a-form',\n",
       "    'adenbring': 'a-form',\n",
       "    'adenby': 'a-form',\n",
       "    'adenbäck': 'a-form',\n",
       "    'adenfalk': 'a-form',\n",
       "    'adenfelt': 'a-form',\n",
       "    'adenfors': 'a-form',\n",
       "    'adengård': 'a-form',\n",
       "    'adenholm': 'a-form',\n",
       "    'adenius': 'a-form',\n",
       "    'adenkrans': 'a-form',\n",
       "    'adenkrantz': 'a-form',\n",
       "    'adenling': 'a-form',\n",
       "    'adenlöf': 'a-form',\n",
       "    'adenmark': 'a-form',\n",
       "    'adensjö': 'a-form',\n",
       "    'adenskog': 'a-form',\n",
       "    'adenstam': 'a-form',\n",
       "    'adenstedt': 'a-form',\n",
       "    'adenvall': 'a-form',\n",
       "    'adenwall': 'a-form',\n",
       "    'adenäs': 'a-form',\n",
       "    'adenås': 'a-form',\n",
       "    'adept': 'a-form',\n",
       "    'adepter': 'a-form',\n",
       "    'ader': 'a-form',\n",
       "    'aderby': 'a-form',\n",
       "    'aderfelt': 'a-form',\n",
       "    'aderfors': 'a-form',\n",
       "    'aderheim': 'a-form',\n",
       "    'aderklint': 'a-form',\n",
       "    'aderlind': 'a-form',\n",
       "    'aderling': 'a-form',\n",
       "    'aderlund': 'a-form',\n",
       "    'adermalm': 'a-form',\n",
       "    'aderman': 'a-form',\n",
       "    'adermark': 'a-form',\n",
       "    'aderot': 'a-form',\n",
       "    'aderoth': 'a-form',\n",
       "    'adersjö': 'a-form',\n",
       "    'aderskog': 'a-form',\n",
       "    'aderstedt': 'a-form',\n",
       "    'adersten': 'a-form',\n",
       "    'aderstål': 'a-form',\n",
       "    'aderth': 'a-form',\n",
       "    'aderton': 'a-form',\n",
       "    ...}})]"
      ]
     },
     "execution_count": 11,
     "metadata": {},
     "output_type": "execute_result"
    }
   ],
   "source": [
    "model_paths = [\n",
    "            'models/deep-phonemizer-se.pt',\n",
    "            'models/DeepPhon/winhome/Downloads/DeepPhon_to_send/best_model.pt',\n",
    "            'models/DeepPhon/winhome/Downloads/DeepPhon_to_send/model_step_40k.pt',\n",
    "            \n",
    "]\n",
    "kwargs= {\n",
    "    \"device\" : \"cuda\",\n",
    "    \"stub\" : True\n",
    "}\n",
    "res = grid(phonemizer_eval, [model_paths], kwargs, stub=False)\n",
    "res"
   ]
  },
  {
   "cell_type": "code",
   "execution_count": 14,
   "id": "e34327e2-e929-4924-8e08-5b73f74e0ae1",
   "metadata": {},
   "outputs": [
    {
     "data": {
      "text/plain": [
       "[('models/deep-phonemizer-se.pt',),\n",
       " ('models/DeepPhon/winhome/Downloads/DeepPhon_to_send/best_model.pt',),\n",
       " ('models/DeepPhon/winhome/Downloads/DeepPhon_to_send/model_step_40k.pt',)]"
      ]
     },
     "execution_count": 14,
     "metadata": {},
     "output_type": "execute_result"
    }
   ],
   "source": [
    "[x[0] for x in res]"
   ]
  },
  {
   "cell_type": "code",
   "execution_count": 12,
   "id": "c434cb68-b62e-4405-8c9b-41a1a559a21b",
   "metadata": {},
   "outputs": [
    {
     "data": {
      "application/vnd.jupyter.widget-view+json": {
       "model_id": "cdb6cc1397944a77afb5c3ecb34b07fc",
       "version_major": 2,
       "version_minor": 0
      },
      "text/plain": [
       "  0%|          | 0/3 [00:00<?, ?it/s]"
      ]
     },
     "metadata": {},
     "output_type": "display_data"
    },
    {
     "ename": "KeyError",
     "evalue": "'accuracy'",
     "output_type": "error",
     "traceback": [
      "\u001b[0;31m---------------------------------------------------------------------------\u001b[0m",
      "\u001b[0;31mKeyError\u001b[0m                                  Traceback (most recent call last)",
      "Input \u001b[0;32mIn [12]\u001b[0m, in \u001b[0;36m<cell line: 12>\u001b[0;34m()\u001b[0m\n\u001b[1;32m      7\u001b[0m kwargs\u001b[38;5;241m=\u001b[39m {\n\u001b[1;32m      8\u001b[0m     \u001b[38;5;124m\"\u001b[39m\u001b[38;5;124mdevice\u001b[39m\u001b[38;5;124m\"\u001b[39m : \u001b[38;5;124m\"\u001b[39m\u001b[38;5;124mcuda\u001b[39m\u001b[38;5;124m\"\u001b[39m,\n\u001b[1;32m      9\u001b[0m     \u001b[38;5;124m\"\u001b[39m\u001b[38;5;124mstub\u001b[39m\u001b[38;5;124m\"\u001b[39m : \u001b[38;5;28;01mTrue\u001b[39;00m\n\u001b[1;32m     10\u001b[0m }\n\u001b[1;32m     11\u001b[0m res \u001b[38;5;241m=\u001b[39m grid(phonemizer_eval, model_paths, stub\u001b[38;5;241m=\u001b[39m\u001b[38;5;28;01mTrue\u001b[39;00m)\n\u001b[0;32m---> 12\u001b[0m \u001b[38;5;28mprint\u001b[39m([(x[\u001b[38;5;241m0\u001b[39m],x[\u001b[38;5;241m1\u001b[39m][\u001b[38;5;124m\"\u001b[39m\u001b[38;5;124maccuracy\u001b[39m\u001b[38;5;124m\"\u001b[39m]) \u001b[38;5;28;01mfor\u001b[39;00m x \u001b[38;5;129;01min\u001b[39;00m res])\n\u001b[1;32m     13\u001b[0m \u001b[38;5;28;01mwith\u001b[39;00m \u001b[38;5;28mopen\u001b[39m(\u001b[38;5;124m\"\u001b[39m\u001b[38;5;124moutput/phonemizer_eval_res\u001b[39m\u001b[38;5;124m\"\u001b[39m, \u001b[38;5;124m\"\u001b[39m\u001b[38;5;124mwb\u001b[39m\u001b[38;5;124m\"\u001b[39m) \u001b[38;5;28;01mas\u001b[39;00m f:\n\u001b[1;32m     14\u001b[0m     pickle\u001b[38;5;241m.\u001b[39mdump(res,f)\n",
      "Input \u001b[0;32mIn [12]\u001b[0m, in \u001b[0;36m<listcomp>\u001b[0;34m(.0)\u001b[0m\n\u001b[1;32m      7\u001b[0m kwargs\u001b[38;5;241m=\u001b[39m {\n\u001b[1;32m      8\u001b[0m     \u001b[38;5;124m\"\u001b[39m\u001b[38;5;124mdevice\u001b[39m\u001b[38;5;124m\"\u001b[39m : \u001b[38;5;124m\"\u001b[39m\u001b[38;5;124mcuda\u001b[39m\u001b[38;5;124m\"\u001b[39m,\n\u001b[1;32m      9\u001b[0m     \u001b[38;5;124m\"\u001b[39m\u001b[38;5;124mstub\u001b[39m\u001b[38;5;124m\"\u001b[39m : \u001b[38;5;28;01mTrue\u001b[39;00m\n\u001b[1;32m     10\u001b[0m }\n\u001b[1;32m     11\u001b[0m res \u001b[38;5;241m=\u001b[39m grid(phonemizer_eval, model_paths, stub\u001b[38;5;241m=\u001b[39m\u001b[38;5;28;01mTrue\u001b[39;00m)\n\u001b[0;32m---> 12\u001b[0m \u001b[38;5;28mprint\u001b[39m([(x[\u001b[38;5;241m0\u001b[39m],\u001b[43mx\u001b[49m\u001b[43m[\u001b[49m\u001b[38;5;241;43m1\u001b[39;49m\u001b[43m]\u001b[49m\u001b[43m[\u001b[49m\u001b[38;5;124;43m\"\u001b[39;49m\u001b[38;5;124;43maccuracy\u001b[39;49m\u001b[38;5;124;43m\"\u001b[39;49m\u001b[43m]\u001b[49m) \u001b[38;5;28;01mfor\u001b[39;00m x \u001b[38;5;129;01min\u001b[39;00m res])\n\u001b[1;32m     13\u001b[0m \u001b[38;5;28;01mwith\u001b[39;00m \u001b[38;5;28mopen\u001b[39m(\u001b[38;5;124m\"\u001b[39m\u001b[38;5;124moutput/phonemizer_eval_res\u001b[39m\u001b[38;5;124m\"\u001b[39m, \u001b[38;5;124m\"\u001b[39m\u001b[38;5;124mwb\u001b[39m\u001b[38;5;124m\"\u001b[39m) \u001b[38;5;28;01mas\u001b[39;00m f:\n\u001b[1;32m     14\u001b[0m     pickle\u001b[38;5;241m.\u001b[39mdump(res,f)\n",
      "\u001b[0;31mKeyError\u001b[0m: 'accuracy'"
     ]
    }
   ],
   "source": [
    "print([(x[0],x[1][\"accuracy\"]) for x in res])\n",
    "with open(\"output/phonemizer_eval_res\", \"wb\") as f:\n",
    "    pickle.dump(res,f)"
   ]
  },
  {
   "cell_type": "markdown",
   "id": "33004a62-5bd9-4742-9c16-2ecd7700eef5",
   "metadata": {},
   "source": [
    "### Analysis of data"
   ]
  },
  {
   "cell_type": "code",
   "execution_count": 91,
   "id": "ee307619-b68b-4126-b497-22d5a671d8eb",
   "metadata": {},
   "outputs": [],
   "source": [
    "with open(\"output/phonemizer_eval_res\", \"rb\") as f:\n",
    "    res = pickle.load(f)\n",
    "\n",
    "model2word2pred = {x[0][0]: x[1][\"output_dict\"] for x in res} #DD\n",
    "\n",
    "models = [\"deepphon\", \"bestmodel\", \"model40k\"]\n",
    "ids = [\"deep-p\", \"best_model\" , \"model_step_40k\"]\n",
    "def key_translator(x):\n",
    "    mask = [id_i in x for id_i in ids]\n",
    "    return models[mask.index(True)]\n",
    "\n",
    "model2word2pred = { key_translator(k) : v for k,v in model2word2pred.items()}\n",
    "\n",
    "true_dict = read_phoneme_dict(\"models/stress_lex_mtm.txt\")\n",
    "\n",
    "model2word2pred[\"correct\"] = {k : \"\".join(v) for k,v in true_dict.items()}\n",
    "\n",
    "\n",
    "word2model2pred = { word : {model : model2word2pred[model][word] for model in model2word2pred} for word in model2word2pred[\"correct\"]}\n",
    "\n",
    "def filter_phonemizer_predictions(word2model2pred, deepphoncorrect, bestmodelcorrect, model40kcorrect):\n",
    "    result = {}\n",
    "    mask = [deepphoncorrect, bestmodelcorrect, model40kcorrect]\n",
    "    for word, model2pred in word2model2pred.items():\n",
    "        mask_value= [model2pred[\"deepphon\"] == model2pred[\"correct\"],\n",
    "                     model2pred[\"bestmodel\"] == model2pred[\"correct\"],\n",
    "                     model2pred[\"model40k\"] == model2pred[\"correct\"]\n",
    "                    ]\n",
    "        if mask_value == mask:\n",
    "            result[word] = model2pred\n",
    "    return {\"result\" : result}\n"
   ]
  },
  {
   "cell_type": "code",
   "execution_count": 92,
   "id": "96beb991-cfe7-4216-9ebf-1f80b67b9c43",
   "metadata": {},
   "outputs": [
    {
     "data": {
      "application/vnd.jupyter.widget-view+json": {
       "model_id": "3d935c79753e42d3a21ef5e12410c6cb",
       "version_major": 2,
       "version_minor": 0
      },
      "text/plain": [
       "  0%|          | 0/8 [00:00<?, ?it/s]"
      ]
     },
     "metadata": {},
     "output_type": "display_data"
    }
   ],
   "source": [
    "args = [\n",
    "    [word2model2pred],\n",
    "    [True,False],\n",
    "    [True,False],\n",
    "    [True,False]\n",
    "]\n",
    "res = grid(filter_phonemizer_predictions, args, {}, stub=False)"
   ]
  },
  {
   "cell_type": "code",
   "execution_count": 117,
   "id": "f46b514e-6f0d-476d-af20-316984058265",
   "metadata": {},
   "outputs": [
    {
     "name": "stdout",
     "output_type": "stream",
     "text": [
      "=========================\n",
      "deephon correct, bestmodel orrect, 40k correct\n",
      "(True, True, True)\n",
      "Count of filter:  169341\n",
      "Percentage:  0.4840540934544176\n",
      "nordebrand | n\"o2:rdebr`and | n\"o2:rdebr`and | n\"o2:rdebr`and | n\"o2:rdebr`and\n",
      "priskänslig | pr\"i2:stj'enslig | pr\"i2:stj'enslig | pr\"i2:stj'enslig | pr\"i2:stj'enslig\n",
      "beboelig | beb'o2:elig | beb'o2:elig | beb'o2:elig | beb'o2:elig\n",
      "jangberg | j\"angb`ä3rj | j\"angb`ä3rj | j\"angb`ä3rj | j\"angb`ä3rj\n",
      "staller | st'alër | st'alër | st'alër | st'alër\n",
      "words sample:  ['nordebrand', 'priskänslig', 'beboelig', 'jangberg', 'staller']\n",
      "=========================\n",
      "deephon correct, bestmodel orrect, 40k correct\n",
      "(True, True, False)\n",
      "Count of filter:  27224\n",
      "Percentage:  0.07781865372356998\n",
      "milutinovic | milutin'å2:vittj | milutin'å2:vittj | milutin'å2:vittj | milut'i2:nåvittj\n",
      "krönlind | kr\"ö2:nl`ind | kr\"ö2:nl`ind | kr\"ö2:nl`ind | kr\"ö2:nl'ind\n",
      "vimlet | v'imlët | v'imlët | v'imlët | v\"imlët\n",
      "översköterska | \"ö2:vërsj`ö2:terska | \"ö2:vërsj`ö2:terska | \"ö2:vërsj`ö2:terska | \"ö2:versj`ö2:terska\n",
      "hovegård | h\"å2:veg`å2:rd | h\"å2:veg`å2:rd | h\"å2:veg`å2:rd | h\"o2:veg`å2:rd\n",
      "words sample:  ['milutinovic', 'krönlind', 'vimlet', 'översköterska', 'hovegård']\n",
      "=========================\n",
      "deephon correct, bestmodel orrect, 40k correct\n",
      "(True, False, True)\n",
      "Count of filter:  11138\n",
      "Percentage:  0.03183750239395836\n",
      "riken | r\"i2:kën | r\"i2:kën | r'i2:kën | r\"i2:kën\n",
      "luftbombardemang | l\"uftbåmbardem'ang | l\"uftbåmbardem'ang | l\"uftbombardem'ang | l\"uftbåmbardem'ang\n",
      "terek | t\"e2:r`e2:k | t\"e2:r`e2:k | t'e2:rëk | t\"e2:r`e2:k\n",
      "hallbe | h\"albë | h\"albë | h\"alb`e2: | h\"albë\n",
      "sebahat | sebah'at | sebah'at | sebah'a2:t | sebah'at\n",
      "words sample:  ['riken', 'luftbombardemang', 'terek', 'hallbe', 'sebahat']\n",
      "=========================\n",
      "deephon correct, bestmodel orrect, 40k correct\n",
      "(True, False, False)\n",
      "Count of filter:  57569\n",
      "Percentage:  0.1645585540777329\n",
      "dröjsmålet | dr\"öjsm`å2:lët | dr\"öjsm`å2:lët | dr\"öjsm'å2:lët | dr\"öjsm'å2:lët\n",
      "hinderson | h'indërsån | h'indërsån | h\"indërsån | h\"indërsån\n",
      "dubbelexponering | d\"ubëlekspån`e2:ring | d\"ubëlekspån`e2:ring | d\"ubëlekspån'e2:ring | d\"ubëlekspån'e2:ring\n",
      "tjänstebilen | tj\"ensteb`i2:lën | tj\"ensteb`i2:lën | tj\"ensteb'i2:lën | tj\"ensteb'i2:lën\n",
      "brishagen | br\"i2:sh`a2:gën | br\"i2:sh`a2:gën | br\"i2:sh'a2:gën | br\"i2:sh`agën\n",
      "words sample:  ['dröjsmålet', 'hinderson', 'dubbelexponering', 'tjänstebilen', 'brishagen']\n",
      "=========================\n",
      "deephon correct, bestmodel orrect, 40k correct\n",
      "(False, True, True)\n",
      "Count of filter:  10892\n",
      "Percentage:  0.03113432178802249\n",
      "varukännedom | v\"a2:rutjened'om | v\"a2:rutj\"ened'om | v\"a2:rutjened'om | v\"a2:rutjened'om\n",
      "infiltratörer | infiltrat'ö3rër | \"infiltrat'ö3rër | infiltrat'ö3rër | infiltrat'ö3rër\n",
      "solidariteten | solidarit'e2:tën | so2lidarit'e2:tën | solidarit'e2:tën | solidarit'e2:tën\n",
      "törnestorpsvägen | t\"ö3rnëstårpsv`ä2:gën | t\"ö3rnestårpsv`ä2:gën | t\"ö3rnëstårpsv`ä2:gën | t\"ö3rnëstårpsv`ä2:gën\n",
      "fetmar | f\"etmar | f'e2:tmar | f\"etmar | f\"etmar\n",
      "words sample:  ['varukännedom', 'infiltratörer', 'solidariteten', 'törnestorpsvägen', 'fetmar']\n",
      "=========================\n",
      "deephon correct, bestmodel orrect, 40k correct\n",
      "(False, True, False)\n",
      "Count of filter:  8352\n",
      "Percentage:  0.023873839108847213\n",
      "nöter | n'ö2:tër | n\"ö2:tër | n'ö2:tër | n\"ö2:tër\n",
      "entusiasmerats | angtusiasm'e2:rats | antusiasm'e2:rats | angtusiasm'e2:rats | \"e2:ntu2:siasmer'ats\n",
      "dalarve | d\"a2:l`arvë | d\"a2:l'arvë | d\"a2:l`arvë | d\"a2:l'arvë\n",
      "pjäsbacken | pj\"ä2:sb`akën | pj\"ä2:sb'akën | pj\"ä2:sb`akën | pj\"ä2:sb'akën\n",
      "vangstad | v\"angst`a2:d | v\"angst'a2:d | v\"angst`a2:d | v\"a2:ngst`a2:d\n",
      "words sample:  ['nöter', 'entusiasmerats', 'dalarve', 'pjäsbacken', 'vangstad']\n",
      "=========================\n",
      "deephon correct, bestmodel orrect, 40k correct\n",
      "(False, False, True)\n",
      "Count of filter:  4099\n",
      "Percentage:  0.011716818307850183\n",
      "feminin | femin'i2:n | f\"e2:m'i2:nin | f\"e2:m'i2:nin | femin'i2:n\n",
      "rundviksvägen | r\"undvi2:ksv'ä2:gën | r\"undvi2:ksv`ä2:gën | r\"undvi2:ksv`ä2:gën | r\"undvi2:ksv'ä2:gën\n",
      "tidsbegrepp | t\"i2:dsbegr`ep | t\"i2:dsbegr'ep | t\"i2:dsbegr'ep | t\"i2:dsbegr`ep\n",
      "persborgstorget | p\"ä3:rsbårjst`årjët | p\"ä3:rsbårjst'årjët | p\"ä3:rsbårjst'årjët | p\"ä3:rsbårjst`årjët\n",
      "keita | k'ejta | k\"ejta | k'ajta | k'ejta\n",
      "words sample:  ['feminin', 'rundviksvägen', 'tidsbegrepp', 'persborgstorget', 'keita']\n",
      "=========================\n",
      "deephon correct, bestmodel orrect, 40k correct\n",
      "(False, False, False)\n",
      "Count of filter:  61224\n",
      "Percentage:  0.17500621714560127\n",
      "oknytt | åk\"ejn'yt | \"o2:kn`yt | \"o2:kn'yt | \"o2:kn'yt\n",
      "marknära | m\"arkn`ä3:ra | m\"arkn'ä3:ra | m\"arkn'ä3:ra | m\"arkn'ä3:ra\n",
      "linjeförm. | l\"injefö3rm`an | l\"injef'ö3rm. | l\"injef'ö3rm. | l\"injefö3rm.\n",
      "vapenmekaniker | v\"a2:pënmek`a2:nikër | v\"a2:pënmek'a2:nikër | v\"a2:pënmek'a2:nikër | v\"a2:pënmek'a2:nikër\n",
      "naturbarn | nat\"u2:rb`a2:rn | nat\"u2:rb'a2:rn | nat\"u2:rb'a2:rn | nat\"u2:rb'a2:rn\n",
      "words sample:  ['oknytt', 'marknära', 'linjeförm.', 'vapenmekaniker', 'naturbarn']\n",
      "Sum of counts : 349839\n",
      "Length of dict:  349839\n"
     ]
    }
   ],
   "source": [
    "# deepphon correct bestmodel correct \n",
    "import random\n",
    "random.seed(0)\n",
    "for x in res:\n",
    "    print(\"=========================\")\n",
    "    print(\"deephon correct, bestmodel orrect, 40k correct\")\n",
    "    print(x[0][1:])\n",
    "    print(\"Count of filter: \", len(x[1][\"result\"]))\n",
    "    print(\"Percentage: \", len(x[1][\"result\"])/ sum([ len(x[1][\"result\"]) for x in res]))\n",
    "    # Draw 5 samples from each category\n",
    "    words_sample = random.sample(x[1][\"result\"].keys(), k=5)\n",
    "    for word in words_sample:\n",
    "        print(word, x[1][\"result\"][word][\"correct\"] ,x[1][\"result\"][word][\"deepphon\"],x[1][\"result\"][word][\"bestmodel\"], x[1][\"result\"][word][\"model40k\"], sep=\" | \")\n",
    "    print(\"words sample: \", words_sample)\n",
    "print(\"Sum of counts :\", sum([ len(x[1][\"result\"]) for x in res]))\n",
    "print(\"Length of dict: \", len(word2model2pred))"
   ]
  },
  {
   "cell_type": "code",
   "execution_count": 92,
   "id": "a59503ed-a9cc-40fb-856b-efbfba23a462",
   "metadata": {},
   "outputs": [],
   "source": [
    "res = [(x[0][1:], x[1]) for x in res]"
   ]
  },
  {
   "cell_type": "code",
   "execution_count": 93,
   "id": "cb2307ba-51ea-41cb-a338-a8a0f7e23d2e",
   "metadata": {},
   "outputs": [
    {
     "data": {
      "text/plain": [
       "[((True, True, True), {'dummy': 0}),\n",
       " ((True, True, False), {'dummy': 0}),\n",
       " ((True, False, True), {'dummy': 0}),\n",
       " ((True, False, False), {'dummy': 0}),\n",
       " ((False, True, True), {'dummy': 0}),\n",
       " ((False, True, False), {'dummy': 0}),\n",
       " ((False, False, True), {'dummy': 0}),\n",
       " ((False, False, False), {'dummy': 0})]"
      ]
     },
     "execution_count": 93,
     "metadata": {},
     "output_type": "execute_result"
    }
   ],
   "source": [
    "res"
   ]
  },
  {
   "cell_type": "markdown",
   "id": "31e6cc81-2864-4012-9fb6-88655c6f34c0",
   "metadata": {
    "tags": []
   },
   "source": [
    "## Parameterized agreement\n",
    "\n",
    "We relax the notion of agreement and we consider that KB and Google agree only when their lcs is over a percentage of their maximum length. We then consider that in cases of agreement we keep only the largest common subsequence (LCS) of the two as the prediction.\n",
    "\n",
    "In the following cells we test this for different threshhold levels, we produce first the WERs per threshold level and also the percentage of utterances where there is agreement"
   ]
  },
  {
   "cell_type": "code",
   "execution_count": 13,
   "id": "24301a54-7534-4b2c-8db5-a66dca8b2824",
   "metadata": {
    "tags": []
   },
   "outputs": [],
   "source": [
    "experiment = parameterized_agreement\n",
    "kwargs = {\n",
    "    \"_filter\": None, \n",
    "    \"phoneme_words\" : False,\n",
    "    \"singular_phonemes\" : False,\n",
    "    \"preprocess_hook\" : None,\n",
    "    \"stress_marks\" : True,\n",
    "    \"trusted_model\" : \"kb\",\n",
    "    \"threshold_range\" : (0,1)\n",
    "}\n",
    "res = experiment(bunches, \"models/deep-phonemizer-se.pt\", **kwargs)"
   ]
  },
  {
   "cell_type": "code",
   "execution_count": 15,
   "id": "6740d954-2c31-449e-837f-989ec965ac4d",
   "metadata": {
    "tags": []
   },
   "outputs": [
    {
     "data": {
      "text/plain": [
       "[<matplotlib.lines.Line2D at 0x7f7745190b20>]"
      ]
     },
     "execution_count": 15,
     "metadata": {},
     "output_type": "execute_result"
    },
    {
     "data": {
      "image/png": "[encoded data removed]",
      "text/plain": [
       "<Figure size 800x480 with 1 Axes>"
      ]
     },
     "metadata": {
      "needs_background": "light"
     },
     "output_type": "display_data"
    }
   ],
   "source": [
    "x = res[\"threshold_levels\"]\n",
    "y = res[\"agreement_wers\"]\n",
    "\n",
    "plt.figure(figsize=(10, 6), dpi=80)\n",
    "\n",
    "plt.xticks(np.arange(min(x), max(x)+1, 0.1))\n",
    "plt.plot(x, [yi * 100 for yi in y ])"
   ]
  },
  {
   "cell_type": "code",
   "execution_count": 16,
   "id": "0b734761-cf10-41d2-a396-9d58c2aee32f",
   "metadata": {},
   "outputs": [
    {
     "data": {
      "text/plain": [
       "[<matplotlib.lines.Line2D at 0x7f7745049eb0>]"
      ]
     },
     "execution_count": 16,
     "metadata": {},
     "output_type": "execute_result"
    },
    {
     "data": {
      "image/png": "[encoded data removed]",
      "text/plain": [
       "<Figure size 800x480 with 1 Axes>"
      ]
     },
     "metadata": {
      "needs_background": "light"
     },
     "output_type": "display_data"
    }
   ],
   "source": [
    "#fig, ax1 = plt.subplots()\n",
    "\n",
    "#ax2 = ax1.twinx()\n",
    "#ax2.set_ylim(0,100)\n",
    "x = res[\"threshold_levels\"]\n",
    "y = res[\"agreement_ratios\"]\n",
    "\n",
    "plt.figure(figsize=(10, 6), dpi=80)\n",
    "\n",
    "plt.xticks(np.arange(min(x), max(x)+1, 0.1))\n",
    "plt.plot(x, [yi * 100 for yi in y ], \"r\")\n",
    "#ax2.plot(res[\"threshold_levels\"], [x * 100 for x in res[\"agreement_ratios\"]], \"r\")\n",
    "#plt.plot(res[\"threshold_levels\"], [x * 10 for x in res[\"ensemble_wers\"]])"
   ]
  },
  {
   "cell_type": "markdown",
   "id": "90fe20c1-34e6-475b-b981-2934963aa8b5",
   "metadata": {
    "tags": []
   },
   "source": [
    "## Pairwise evaluation\n",
    "\n",
    "Here we test KB and Google, calculating their WERs under different scenarios (words, phoneme_words, singular phonemes) and also statistics percentages about \n",
    "agreement, overlap and mean-lcs"
   ]
  },
  {
   "cell_type": "code",
   "execution_count": 20,
   "id": "0542fef7-6bf4-440c-898d-7ec329e32aab",
   "metadata": {},
   "outputs": [
    {
     "data": {
      "application/vnd.jupyter.widget-view+json": {
       "model_id": "bfa4c000f4b7497e8dbc0ac72aab280d",
       "version_major": 2,
       "version_minor": 0
      },
      "text/plain": [
       "  0%|          | 0/5 [00:00<?, ?it/s]"
      ]
     },
     "metadata": {},
     "output_type": "display_data"
    },
    {
     "name": "stdout",
     "output_type": "stream",
     "text": [
      "agreement: 0.36553238199780463±0.0\n",
      "g_correct_kb_not : 0.2768166089965398±0.0\n",
      "kb_correct_g_not : 0.15051903114186851±0.0\n",
      "agreement_not_correct: 0.0990990990990991±0.0\n",
      "both_incorrect_disagreement: 0.5726643598615917±0.0\n",
      "google_wer: 0.1983669548511047±0.0\n",
      "kb_wer: 0.19164265129682997±0.0\n",
      "google-avg-length: 6.300768386388584±0.0\n",
      "correct-avg-length: 6.856201975850714±0.0\n",
      "kb-avg-length: 6.711306256860593±0.0\n",
      "lcs-mean: 0.7239754234570818±0.0\n",
      "error_index_overlap: 0.3029810298102981±0.0\n"
     ]
    }
   ],
   "source": [
    "experiment = meval\n",
    "_filter = {\n",
    "    \"agreement\" : False,\n",
    "    \"g_correct\" : False,\n",
    "    \"kb_correct\" : False,\n",
    "}\n",
    "kwargs = {\n",
    "    \"_filter\": None, \n",
    "    \"phoneme_words\" : False,\n",
    "    \"singular_phonemes\" : False,\n",
    "    \"preprocess_hook\" : None,\n",
    "    \"stress_marks\" : True\n",
    "}\n",
    "res = experiment_repeats(experiment, 5, bunches, \"./models/deep-phonemizer-se.pt\", **kwargs)\n",
    "print_experiment_report(res)"
   ]
  },
  {
   "cell_type": "markdown",
   "id": "8d92d2c1-bee3-4009-9f34-5e4c6c7e1f68",
   "metadata": {},
   "source": [
    "## Randomness in phonemizer\n",
    "\n",
    "Here we explore the phenomenon that the phonemizer can output multiple pronounciations of some words, but refrains to do it when it is called with an argument that is List[str]"
   ]
  },
  {
   "cell_type": "code",
   "execution_count": null,
   "id": "2a29615c-181b-4402-80df-c22f14c03844",
   "metadata": {},
   "outputs": [],
   "source": [
    "phonemizer = phonemizer(\"Hello my name is nick\", lang=\"se\")"
   ]
  },
  {
   "cell_type": "code",
   "execution_count": null,
   "id": "ada31814-5bca-4d02-aba8-e059a1b4798e",
   "metadata": {},
   "outputs": [],
   "source": [
    "set([phonemizer(\"ja\", \"se\") for x in range(100)])"
   ]
  },
  {
   "cell_type": "code",
   "execution_count": null,
   "id": "b2775333-69fe-407c-89d0-975917a2fa37",
   "metadata": {},
   "outputs": [],
   "source": [
    "set(phonemizer([\"ja\" for x in range(10000)], \"se\"))"
   ]
  },
  {
   "cell_type": "markdown",
   "id": "9e1c9f42-1d45-47c9-86b4-4aca7e7fc302",
   "metadata": {
    "tags": []
   },
   "source": [
    "# Error analysis"
   ]
  },
  {
   "cell_type": "code",
   "execution_count": null,
   "id": "2e6ab3ba-6d70-45b4-b103-96fd98bb3a8b",
   "metadata": {},
   "outputs": [],
   "source": [
    "bunch_list = [{k: bunches[k][i] for k in bunches} for i in range(len([x for x in bunches.values()][0]))]"
   ]
  },
  {
   "cell_type": "code",
   "execution_count": null,
   "id": "e7d6342b-beb0-4fb8-8ed5-b7a4b010f90b",
   "metadata": {},
   "outputs": [],
   "source": [
    "sorted_bunch_list = sorted(bunch_list, key=lambda x : wer(x[\"correct\"], x[\"kb\"]))"
   ]
  },
  {
   "cell_type": "code",
   "execution_count": null,
   "id": "b93e272c-880d-4800-9e9c-a0b27421f738",
   "metadata": {},
   "outputs": [],
   "source": [
    "sorted_bunch_list.reverse()"
   ]
  },
  {
   "cell_type": "code",
   "execution_count": null,
   "id": "bbbd086a-7d8d-442c-9e16-9d0868c9b79c",
   "metadata": {
    "tags": []
   },
   "outputs": [],
   "source": [
    "sorted_bunch_list"
   ]
  },
  {
   "cell_type": "code",
   "execution_count": null,
   "id": "c441229e-6671-46f0-a2e3-d0ba0db5be00",
   "metadata": {},
   "outputs": [],
   "source": [
    "str_a"
   ]
  },
  {
   "cell_type": "code",
   "execution_count": null,
   "id": "9674509f-37ad-47d0-963b-0ffb230fbc78",
   "metadata": {},
   "outputs": [],
   "source": [
    "s.get_matching_blocks()"
   ]
  },
  {
   "cell_type": "code",
   "execution_count": null,
   "id": "365b66a4-891a-459c-91c4-555413a254a3",
   "metadata": {},
   "outputs": [],
   "source": [
    "google_lines.index(\"30\")"
   ]
  },
  {
   "cell_type": "code",
   "execution_count": null,
   "id": "98e0c3e5-312d-4bae-80f1-75f07c342a02",
   "metadata": {},
   "outputs": [],
   "source": [
    "set(phonemizer([\"jag\" for x in range(10000)], \"se\"))"
   ]
  },
  {
   "cell_type": "code",
   "execution_count": null,
   "id": "3227d897-599e-40a2-8365-d8aadef188c5",
   "metadata": {},
   "outputs": [],
   "source": [
    "set(get_swedish_phonemes([\"ja\" for x in range(10000)], phonemizer))"
   ]
  },
  {
   "cell_type": "code",
   "execution_count": null,
   "id": "9731e9a5-809f-426a-a311-66203ab85f1d",
   "metadata": {},
   "outputs": [],
   "source": [
    "s = []\n",
    "for x in tqdm(range(1000)):\n",
    "    torch.manual_seed(0)\n",
    "    s.append(phonemizer('30', \"se\"))\n",
    "set(s)"
   ]
  },
  {
   "cell_type": "code",
   "execution_count": null,
   "id": "53cc1c5d-5c48-442b-9a09-0e2f8778863b",
   "metadata": {},
   "outputs": [],
   "source": [
    "s = []\n",
    "for x in tqdm(range(15)):\n",
    "    #torch.manual_seed(0)\n",
    "    s.append(get_swedish_phonemes('ja', phonemizer))\n",
    "set(s)"
   ]
  },
  {
   "cell_type": "markdown",
   "id": "c43f26a9-ef10-4913-b3e3-c7cfa125708a",
   "metadata": {
    "tags": []
   },
   "source": [
    "# Visualization"
   ]
  },
  {
   "cell_type": "code",
   "execution_count": null,
   "id": "cc4b62eb-b0c5-432c-96f0-41ba1b3077e7",
   "metadata": {},
   "outputs": [],
   "source": [
    "idx = 43\n",
    "size = 10\n",
    "def get_triad(idx, bunch):\n",
    "    #### Google, correct, Kb\n",
    "    return bunch[0][idx], bunch[1][idx], bunch[2][idx]\n",
    "\n",
    "def plot_triad(triad,ax):\n",
    "    ax.text(0.0, 0.0, triad[0], size=size, rotation=0,\n",
    "             ha=\"center\", va=\"center\",\n",
    "             bbox=dict(boxstyle=\"round\",\n",
    "                       ec=(1., 0.5, 0.5),\n",
    "                       fc=(1., 0.8, 0.8),\n",
    "                       )\n",
    "             )\n",
    "\n",
    "    ax.text(0, -2.5,  triad[2], size=size, rotation=0,\n",
    "             ha=\"center\", va=\"center\",\n",
    "             bbox=dict(boxstyle=\"round\",\n",
    "                       ec=(153/255, 51/255, 0/255),\n",
    "                       fc=(255/255, 153/255, 102/255),\n",
    "                       )\n",
    "             )\n",
    "    ax.text(0, -5,  triad[1], size=size, rotation=0,\n",
    "             ha=\"center\", va=\"center\",\n",
    "             bbox=dict(boxstyle=\"round\",\n",
    "                       ec=(42 / 255, 162 / 255, 42 / 255),\n",
    "                       fc=(133 / 255, 224 / 255, 133 / 255),\n",
    "                       )\n",
    "             )\n",
    "    \n",
    "    ax.set_ylim(-10, 10)\n",
    "    ax.set_xlim(-10, 10)"
   ]
  },
  {
   "cell_type": "code",
   "execution_count": null,
   "id": "90647867-c260-4671-b7d0-b1bebda24381",
   "metadata": {},
   "outputs": [],
   "source": [
    "fig, axs = plt.subplots(1,2, figsize=(15, 5))\n",
    "idx = 0\n",
    "plot_triad(get_triad(idx, text_data_bunch) ,axs[0])\n",
    "plot_triad(get_triad(idx, phoneme_data_bunch) ,axs[1])"
   ]
  },
  {
   "cell_type": "code",
   "execution_count": null,
   "id": "1fd64d48-f7c6-422f-bc1e-21f8924c3cd3",
   "metadata": {},
   "outputs": [],
   "source": [
    "\n",
    "def print_triad_correctness(triad):\n",
    "    #### Google, correct, Kb\n",
    "    print(\"Google correct \", triad[1] == triad[0])\n",
    "    print(\"KB correct \", triad[1] == triad[2])\n",
    "    print(\"Agreement \", triad[0] == triad[2])\n",
    "    \n",
    "    print(\"Google WER \", wer(triad[1], triad[0]))\n",
    "    print(\"KB WER \", wer(triad[1], triad[2]))"
   ]
  }
 ],
 "metadata": {
  "kernelspec": {
   "display_name": "Python 3 (ipykernel)",
   "language": "python",
   "name": "python3"
  },
  "language_info": {
   "codemirror_mode": {
    "name": "ipython",
    "version": 3
   },
   "file_extension": ".py",
   "mimetype": "text/x-python",
   "name": "python",
   "nbconvert_exporter": "python",
   "pygments_lexer": "ipython3",
   "version": "3.8.12"
  }
 },
 "nbformat": 4,
 "nbformat_minor": 5
}
